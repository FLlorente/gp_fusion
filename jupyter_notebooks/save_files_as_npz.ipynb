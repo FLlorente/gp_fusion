{
 "cells": [
  {
   "cell_type": "code",
   "execution_count": 1,
   "metadata": {},
   "outputs": [],
   "source": [
    "import os\n",
    "import pickle\n",
    "import numpy as np"
   ]
  },
  {
   "cell_type": "code",
   "execution_count": 2,
   "metadata": {},
   "outputs": [],
   "source": [
    "def load_results(filename):\n",
    "    with open(filename, 'rb') as f:\n",
    "        return pickle.load(f)"
   ]
  },
  {
   "cell_type": "code",
   "execution_count": 5,
   "metadata": {},
   "outputs": [],
   "source": [
    "\n",
    "dataset_name = \"housing\"\n",
    "save_path = '../results/'\n",
    "\n",
    "for num_projs in [20]:\n",
    "    nlpd = []\n",
    "    for proj_dim in [3,8]:\n",
    "        dataset_path = os.path.join(save_path, f\"{dataset_name}_num_projs_{num_projs}_proj_dim_{proj_dim}.pkl\")\n",
    "        results_joint = load_results(dataset_path)\n",
    "\n",
    "        np.savez(\n",
    "            f\"../results/{dataset_name}_num_projs_{num_projs}_proj_dim_{proj_dim}\",\n",
    "            nlpd = results_joint[\"nlpd\"],\n",
    "            rmse = results_joint[\"rmse\"],\n",
    "        )"
   ]
  },
  {
   "cell_type": "code",
   "execution_count": null,
   "metadata": {},
   "outputs": [],
   "source": []
  }
 ],
 "metadata": {
  "kernelspec": {
   "display_name": "Python 3",
   "language": "python",
   "name": "python3"
  },
  "language_info": {
   "codemirror_mode": {
    "name": "ipython",
    "version": 3
   },
   "file_extension": ".py",
   "mimetype": "text/x-python",
   "name": "python",
   "nbconvert_exporter": "python",
   "pygments_lexer": "ipython3",
   "version": "3.10.10"
  }
 },
 "nbformat": 4,
 "nbformat_minor": 2
}
