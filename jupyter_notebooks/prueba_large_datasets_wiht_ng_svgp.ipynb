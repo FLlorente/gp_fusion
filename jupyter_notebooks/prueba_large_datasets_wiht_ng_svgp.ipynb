{
 "cells": [
  {
   "cell_type": "code",
   "execution_count": 52,
   "metadata": {},
   "outputs": [],
   "source": [
    "import torch\n",
    "torch.set_default_dtype(torch.float64)\n",
    "from torch.utils.data import TensorDataset, DataLoader\n",
    "\n",
    "import math\n",
    "import gpytorch\n",
    "from gpytorch.metrics import negative_log_predictive_density, mean_squared_error, mean_standardized_log_loss,mean_absolute_error\n",
    "\n",
    "import matplotlib\n",
    "from matplotlib import pyplot as plt\n",
    "\n",
    "from tqdm.notebook import tqdm\n",
    "import numpy as np\n",
    "from uci_datasets import Dataset\n",
    "from sklearn.model_selection import train_test_split\n",
    "from scipy.io import loadmat"
   ]
  },
  {
   "cell_type": "markdown",
   "metadata": {},
   "source": [
    "# Elevators"
   ]
  },
  {
   "cell_type": "code",
   "execution_count": 53,
   "metadata": {},
   "outputs": [
    {
     "name": "stdout",
     "output_type": "stream",
     "text": [
      "elevators dataset, N=16599, d=18\n"
     ]
    },
    {
     "data": {
      "text/plain": [
       "(13279, 3320)"
      ]
     },
     "execution_count": 53,
     "metadata": {},
     "output_type": "execute_result"
    }
   ],
   "source": [
    "dataset_name = \"elevators\"\n",
    "full_dataset = Dataset(dataset_name)\n",
    "N,DIM = full_dataset.x.shape\n",
    "\n",
    "# X,y = full_dataset.x, full_dataset.y\n",
    "\n",
    "if dataset_name==\"autos\":  \n",
    "    X = np.delete(X,[8],axis=1)\n",
    "\n",
    "if dataset_name == \"sml\":\n",
    "    X = np.delete(X,[2, 20, 21, 22],axis=1)\n",
    "\n",
    "\n",
    "# X = X / np.std(X, axis=0)[None, :]    # standardize\n",
    "# X = X - X.min(0)[0]                   # normalize\n",
    "# X = 2 * (X / X.max(0)[0]) - 1\n",
    "# y = y / np.std(y, axis=0)\n",
    "\n",
    "# data preprocessing like in gpytorch tutorial\n",
    "data = torch.Tensor(loadmat('../../elevators.mat')['data'])\n",
    "X = data[:, :-1]\n",
    "X = X - X.min(0)[0]\n",
    "X = 2 * (X / X.max(0)[0]) - 1\n",
    "y = data[:, -1]    # y is not scaled\n",
    "\n",
    "# y_std = y.std()\n",
    "# y = y / y_std\n",
    "\n",
    "\n",
    "X_train, X_test, y_train, y_test = train_test_split(X, y, test_size=0.2, random_state=42, shuffle=True)\n",
    "# data split like in gpytorch tutorial\n",
    "# train_n = int(math.floor(0.8 * len(X)))  \n",
    "# X_train = X[:train_n]   # dataset is not shuffled\n",
    "# y_train = y[:train_n]\n",
    "# X_test = X[train_n:]\n",
    "# y_test = y[train_n:]\n",
    "\n",
    "y_train = y_train.squeeze()\n",
    "y_test = y_test.squeeze()\n",
    "\n",
    "len(X_train), len(X_test)"
   ]
  },
  {
   "cell_type": "code",
   "execution_count": 54,
   "metadata": {},
   "outputs": [
    {
     "data": {
      "text/plain": [
       "tensor([-2.9420e+02, -2.7201e+01, -2.5992e-01, -3.4449e-01,  3.5311e-01,\n",
       "         7.8963e-01,  2.3570e+01, -9.5096e-04,  2.7340e+00,  1.5048e-04,\n",
       "         5.4154e-05,  5.4172e-05,  5.6540e-05,  2.0924e-04, -1.8073e-08,\n",
       "         3.4038e-06, -3.0122e-08,  5.6576e-05, -4.1959e-02])"
      ]
     },
     "execution_count": 54,
     "metadata": {},
     "output_type": "execute_result"
    }
   ],
   "source": [
    "data[0]"
   ]
  },
  {
   "cell_type": "code",
   "execution_count": 55,
   "metadata": {},
   "outputs": [
    {
     "data": {
      "text/plain": [
       "(array([-2.9420e+02, -2.7201e+01, -2.5992e-01, -3.4449e-01,  3.5311e-01,\n",
       "         7.8963e-01,  2.3570e+01, -9.5096e-04,  2.7340e+00,  1.5048e-04,\n",
       "         5.4154e-05,  5.4172e-05,  5.6540e-05,  2.0924e-04, -1.8073e-08,\n",
       "         3.4038e-06, -3.0122e-08,  5.6576e-05]),\n",
       " array([-0.041959]))"
      ]
     },
     "execution_count": 55,
     "metadata": {},
     "output_type": "execute_result"
    }
   ],
   "source": [
    "full_dataset.x[0],full_dataset.y[0]"
   ]
  },
  {
   "cell_type": "code",
   "execution_count": 56,
   "metadata": {},
   "outputs": [
    {
     "data": {
      "text/plain": [
       "(tensor(-1.8030e-13),\n",
       " -1.2524248448869578e-07,\n",
       " tensor(0.2526),\n",
       " 0.25257465259839207)"
      ]
     },
     "execution_count": 56,
     "metadata": {},
     "output_type": "execute_result"
    }
   ],
   "source": [
    "# elevators in uci_datasets has been made zero-mean\n",
    "data[:,-1].mean(), full_dataset.y.mean(),data[:,-1].std(), full_dataset.y.std()"
   ]
  },
  {
   "cell_type": "code",
   "execution_count": 57,
   "metadata": {},
   "outputs": [
    {
     "data": {
      "text/plain": [
       "(tensor(-9.2345e-16),\n",
       " 0.00018713735331389703,\n",
       " tensor(65.7569),\n",
       " 65.75677876865674)"
      ]
     },
     "execution_count": 57,
     "metadata": {},
     "output_type": "execute_result"
    }
   ],
   "source": [
    "data[:,:-1].mean(), full_dataset.x.mean(),data[:,:-1].std(), full_dataset.x.std()"
   ]
  },
  {
   "cell_type": "code",
   "execution_count": 58,
   "metadata": {},
   "outputs": [],
   "source": [
    "# X_train,y_train= torch.from_numpy(X_train),torch.from_numpy(y_train)\n",
    "# X_test,y_test = torch.from_numpy(X_test),torch.from_numpy(y_test)"
   ]
  },
  {
   "cell_type": "markdown",
   "metadata": {},
   "source": [
    "## natural gradient-based"
   ]
  },
  {
   "cell_type": "code",
   "execution_count": 73,
   "metadata": {},
   "outputs": [],
   "source": [
    "# we define the svgp with natural gradient\n",
    "\n",
    "class SVGPWithNG(gpytorch.models.ApproximateGP):\n",
    "    def __init__(self, inducing_points):\n",
    "        variational_distribution = gpytorch.variational.NaturalVariationalDistribution(inducing_points.size(0))\n",
    "        variational_strategy = gpytorch.variational.VariationalStrategy(\n",
    "            self, inducing_points, variational_distribution, learn_inducing_locations=True\n",
    "        )\n",
    "        super(SVGPWithNG, self).__init__(variational_strategy)\n",
    "        self.mean_module = gpytorch.means.ConstantMean()\n",
    "        self.covar_module = gpytorch.kernels.ScaleKernel(gpytorch.kernels.RBFKernel())\n",
    "        \n",
    "    def forward(self, x):\n",
    "        mean_x = self.mean_module(x)\n",
    "        covar_x = self.covar_module(x)\n",
    "        return gpytorch.distributions.MultivariateNormal(mean_x, covar_x)\n",
    "    "
   ]
  },
  {
   "cell_type": "code",
   "execution_count": 74,
   "metadata": {},
   "outputs": [],
   "source": [
    "# Create the model\n",
    "inducing_points = X_train[:500]\n",
    "model = SVGPWithNG(inducing_points)\n",
    "likelihood = gpytorch.likelihoods.GaussianLikelihood()"
   ]
  },
  {
   "cell_type": "code",
   "execution_count": 75,
   "metadata": {},
   "outputs": [],
   "source": [
    "# we define to optimizers: one for the kernel hyperparameters and one for the natural variables\n",
    "# notice the num_data argument\n",
    "variational_ngd_optimizer = gpytorch.optim.NGD(model.variational_parameters(), num_data=y_train.size(0), lr=0.1)\n",
    "\n",
    "hyperparameter_optimizer = torch.optim.Adam([\n",
    "    {'params': model.hyperparameters()},\n",
    "    {'params': likelihood.parameters()},\n",
    "], lr=0.01)"
   ]
  },
  {
   "cell_type": "code",
   "execution_count": 76,
   "metadata": {},
   "outputs": [
    {
     "data": {
      "application/vnd.jupyter.widget-view+json": {
       "model_id": "e2139456370f42afa8d03d231ad31784",
       "version_major": 2,
       "version_minor": 0
      },
      "text/plain": [
       "Epoch:   0%|          | 0/30 [00:00<?, ?it/s]"
      ]
     },
     "metadata": {},
     "output_type": "display_data"
    },
    {
     "data": {
      "application/vnd.jupyter.widget-view+json": {
       "model_id": "a5ed82c2fdfa4e71874f189c6b76b24d",
       "version_major": 2,
       "version_minor": 0
      },
      "text/plain": [
       "Minibatch:   0%|          | 0/13 [00:00<?, ?it/s]"
      ]
     },
     "metadata": {},
     "output_type": "display_data"
    },
    {
     "data": {
      "application/vnd.jupyter.widget-view+json": {
       "model_id": "7e94e1102b644f59aa9e023238bddd27",
       "version_major": 2,
       "version_minor": 0
      },
      "text/plain": [
       "Minibatch:   0%|          | 0/13 [00:00<?, ?it/s]"
      ]
     },
     "metadata": {},
     "output_type": "display_data"
    },
    {
     "data": {
      "application/vnd.jupyter.widget-view+json": {
       "model_id": "519a37bb2d5649798f56b9d7af6413da",
       "version_major": 2,
       "version_minor": 0
      },
      "text/plain": [
       "Minibatch:   0%|          | 0/13 [00:00<?, ?it/s]"
      ]
     },
     "metadata": {},
     "output_type": "display_data"
    },
    {
     "data": {
      "application/vnd.jupyter.widget-view+json": {
       "model_id": "949161babd344317b5415175cd776559",
       "version_major": 2,
       "version_minor": 0
      },
      "text/plain": [
       "Minibatch:   0%|          | 0/13 [00:00<?, ?it/s]"
      ]
     },
     "metadata": {},
     "output_type": "display_data"
    },
    {
     "data": {
      "application/vnd.jupyter.widget-view+json": {
       "model_id": "ca1d3defbc644d8e928a4903c4e43823",
       "version_major": 2,
       "version_minor": 0
      },
      "text/plain": [
       "Minibatch:   0%|          | 0/13 [00:00<?, ?it/s]"
      ]
     },
     "metadata": {},
     "output_type": "display_data"
    },
    {
     "data": {
      "application/vnd.jupyter.widget-view+json": {
       "model_id": "fc93bafccb27410698e4665186b76180",
       "version_major": 2,
       "version_minor": 0
      },
      "text/plain": [
       "Minibatch:   0%|          | 0/13 [00:00<?, ?it/s]"
      ]
     },
     "metadata": {},
     "output_type": "display_data"
    },
    {
     "data": {
      "application/vnd.jupyter.widget-view+json": {
       "model_id": "e36bad71698347d5bf4abaf1cfe1d8d1",
       "version_major": 2,
       "version_minor": 0
      },
      "text/plain": [
       "Minibatch:   0%|          | 0/13 [00:00<?, ?it/s]"
      ]
     },
     "metadata": {},
     "output_type": "display_data"
    },
    {
     "data": {
      "application/vnd.jupyter.widget-view+json": {
       "model_id": "6597fef61e74455795df1f08465cb367",
       "version_major": 2,
       "version_minor": 0
      },
      "text/plain": [
       "Minibatch:   0%|          | 0/13 [00:00<?, ?it/s]"
      ]
     },
     "metadata": {},
     "output_type": "display_data"
    },
    {
     "data": {
      "application/vnd.jupyter.widget-view+json": {
       "model_id": "f92b56d7aba24a94b22223ba881b3318",
       "version_major": 2,
       "version_minor": 0
      },
      "text/plain": [
       "Minibatch:   0%|          | 0/13 [00:00<?, ?it/s]"
      ]
     },
     "metadata": {},
     "output_type": "display_data"
    },
    {
     "data": {
      "application/vnd.jupyter.widget-view+json": {
       "model_id": "f26abeda1d6341ae8a7201089ebaf1d5",
       "version_major": 2,
       "version_minor": 0
      },
      "text/plain": [
       "Minibatch:   0%|          | 0/13 [00:00<?, ?it/s]"
      ]
     },
     "metadata": {},
     "output_type": "display_data"
    },
    {
     "data": {
      "application/vnd.jupyter.widget-view+json": {
       "model_id": "def9543eb37e40d8bea0250ce6eee2a4",
       "version_major": 2,
       "version_minor": 0
      },
      "text/plain": [
       "Minibatch:   0%|          | 0/13 [00:00<?, ?it/s]"
      ]
     },
     "metadata": {},
     "output_type": "display_data"
    },
    {
     "data": {
      "application/vnd.jupyter.widget-view+json": {
       "model_id": "da2df316517b47c0adb3339bebaa2a40",
       "version_major": 2,
       "version_minor": 0
      },
      "text/plain": [
       "Minibatch:   0%|          | 0/13 [00:00<?, ?it/s]"
      ]
     },
     "metadata": {},
     "output_type": "display_data"
    },
    {
     "data": {
      "application/vnd.jupyter.widget-view+json": {
       "model_id": "6648efe7528a4f928375f4a0662bd959",
       "version_major": 2,
       "version_minor": 0
      },
      "text/plain": [
       "Minibatch:   0%|          | 0/13 [00:00<?, ?it/s]"
      ]
     },
     "metadata": {},
     "output_type": "display_data"
    },
    {
     "data": {
      "application/vnd.jupyter.widget-view+json": {
       "model_id": "3d25b4e5bc704c94a47580eff305ab4f",
       "version_major": 2,
       "version_minor": 0
      },
      "text/plain": [
       "Minibatch:   0%|          | 0/13 [00:00<?, ?it/s]"
      ]
     },
     "metadata": {},
     "output_type": "display_data"
    },
    {
     "data": {
      "application/vnd.jupyter.widget-view+json": {
       "model_id": "5f33f0ac8a274febab12fee90e381318",
       "version_major": 2,
       "version_minor": 0
      },
      "text/plain": [
       "Minibatch:   0%|          | 0/13 [00:00<?, ?it/s]"
      ]
     },
     "metadata": {},
     "output_type": "display_data"
    },
    {
     "data": {
      "application/vnd.jupyter.widget-view+json": {
       "model_id": "31e8a870bdd54273aba283a0c583db9f",
       "version_major": 2,
       "version_minor": 0
      },
      "text/plain": [
       "Minibatch:   0%|          | 0/13 [00:00<?, ?it/s]"
      ]
     },
     "metadata": {},
     "output_type": "display_data"
    },
    {
     "data": {
      "application/vnd.jupyter.widget-view+json": {
       "model_id": "598b0bba41d94b34b1fb3997144a2b29",
       "version_major": 2,
       "version_minor": 0
      },
      "text/plain": [
       "Minibatch:   0%|          | 0/13 [00:00<?, ?it/s]"
      ]
     },
     "metadata": {},
     "output_type": "display_data"
    },
    {
     "data": {
      "application/vnd.jupyter.widget-view+json": {
       "model_id": "37b0d4e7335a463fab9468aec676c03d",
       "version_major": 2,
       "version_minor": 0
      },
      "text/plain": [
       "Minibatch:   0%|          | 0/13 [00:00<?, ?it/s]"
      ]
     },
     "metadata": {},
     "output_type": "display_data"
    },
    {
     "data": {
      "application/vnd.jupyter.widget-view+json": {
       "model_id": "bdfe06b213044f69931997931142dc66",
       "version_major": 2,
       "version_minor": 0
      },
      "text/plain": [
       "Minibatch:   0%|          | 0/13 [00:00<?, ?it/s]"
      ]
     },
     "metadata": {},
     "output_type": "display_data"
    },
    {
     "data": {
      "application/vnd.jupyter.widget-view+json": {
       "model_id": "efdd2fe3e8f241c38e0b52f550a14809",
       "version_major": 2,
       "version_minor": 0
      },
      "text/plain": [
       "Minibatch:   0%|          | 0/13 [00:00<?, ?it/s]"
      ]
     },
     "metadata": {},
     "output_type": "display_data"
    },
    {
     "data": {
      "application/vnd.jupyter.widget-view+json": {
       "model_id": "7e4eebdaaca24659946a607c9de8cecf",
       "version_major": 2,
       "version_minor": 0
      },
      "text/plain": [
       "Minibatch:   0%|          | 0/13 [00:00<?, ?it/s]"
      ]
     },
     "metadata": {},
     "output_type": "display_data"
    },
    {
     "data": {
      "application/vnd.jupyter.widget-view+json": {
       "model_id": "d23bd83d5aa9421b853f5459c41b1fd8",
       "version_major": 2,
       "version_minor": 0
      },
      "text/plain": [
       "Minibatch:   0%|          | 0/13 [00:00<?, ?it/s]"
      ]
     },
     "metadata": {},
     "output_type": "display_data"
    },
    {
     "data": {
      "application/vnd.jupyter.widget-view+json": {
       "model_id": "edbec3596c214b42aa65dcf1518c7786",
       "version_major": 2,
       "version_minor": 0
      },
      "text/plain": [
       "Minibatch:   0%|          | 0/13 [00:00<?, ?it/s]"
      ]
     },
     "metadata": {},
     "output_type": "display_data"
    },
    {
     "data": {
      "application/vnd.jupyter.widget-view+json": {
       "model_id": "9ec49bc400124be385c836c815e7fe26",
       "version_major": 2,
       "version_minor": 0
      },
      "text/plain": [
       "Minibatch:   0%|          | 0/13 [00:00<?, ?it/s]"
      ]
     },
     "metadata": {},
     "output_type": "display_data"
    },
    {
     "data": {
      "application/vnd.jupyter.widget-view+json": {
       "model_id": "7ccbc8c408b5499a8e2d4fc3f6b82821",
       "version_major": 2,
       "version_minor": 0
      },
      "text/plain": [
       "Minibatch:   0%|          | 0/13 [00:00<?, ?it/s]"
      ]
     },
     "metadata": {},
     "output_type": "display_data"
    },
    {
     "data": {
      "application/vnd.jupyter.widget-view+json": {
       "model_id": "7fdbb64ac1b44a03937bff0f87a14dee",
       "version_major": 2,
       "version_minor": 0
      },
      "text/plain": [
       "Minibatch:   0%|          | 0/13 [00:00<?, ?it/s]"
      ]
     },
     "metadata": {},
     "output_type": "display_data"
    },
    {
     "data": {
      "application/vnd.jupyter.widget-view+json": {
       "model_id": "6a19d765f62645afa1170ce057531ed2",
       "version_major": 2,
       "version_minor": 0
      },
      "text/plain": [
       "Minibatch:   0%|          | 0/13 [00:00<?, ?it/s]"
      ]
     },
     "metadata": {},
     "output_type": "display_data"
    },
    {
     "data": {
      "application/vnd.jupyter.widget-view+json": {
       "model_id": "c389a4d8573d46a1b4072c39201f8c0d",
       "version_major": 2,
       "version_minor": 0
      },
      "text/plain": [
       "Minibatch:   0%|          | 0/13 [00:00<?, ?it/s]"
      ]
     },
     "metadata": {},
     "output_type": "display_data"
    },
    {
     "data": {
      "application/vnd.jupyter.widget-view+json": {
       "model_id": "76cb7f8e14fd416fa62b8d7b22a0a2c1",
       "version_major": 2,
       "version_minor": 0
      },
      "text/plain": [
       "Minibatch:   0%|          | 0/13 [00:00<?, ?it/s]"
      ]
     },
     "metadata": {},
     "output_type": "display_data"
    },
    {
     "data": {
      "application/vnd.jupyter.widget-view+json": {
       "model_id": "62bd80f64ee74501be7f49ecf00a9ea3",
       "version_major": 2,
       "version_minor": 0
      },
      "text/plain": [
       "Minibatch:   0%|          | 0/13 [00:00<?, ?it/s]"
      ]
     },
     "metadata": {},
     "output_type": "display_data"
    }
   ],
   "source": [
    "train_dataset = TensorDataset(X_train,y_train)\n",
    "train_loader = DataLoader(train_dataset,batch_size=1024,shuffle=True)\n",
    "\n",
    "model.train()\n",
    "likelihood.train()\n",
    "mll = gpytorch.mlls.VariationalELBO(likelihood, model, num_data=y_train.size(0)) # notice the num_data argument\n",
    "\n",
    "loss_vals = []\n",
    "num_epochs = 30\n",
    "epochs_iter = tqdm(range(num_epochs), desc=\"Epoch\")\n",
    "for i in epochs_iter:\n",
    "    minibatch_iter = tqdm(train_loader, desc=\"Minibatch\", leave=False)\n",
    "    \n",
    "    for x_batch, y_batch in minibatch_iter:\n",
    "        ### Perform NGD step to optimize variational parameters\n",
    "        variational_ngd_optimizer.zero_grad()\n",
    "        hyperparameter_optimizer.zero_grad()\n",
    "        output = model(x_batch)\n",
    "        loss = -mll(output, y_batch)\n",
    "        minibatch_iter.set_postfix(loss=loss.item())\n",
    "        loss.backward()\n",
    "        variational_ngd_optimizer.step()\n",
    "        hyperparameter_optimizer.step()\n",
    "        loss_vals.append(loss.item())"
   ]
  },
  {
   "cell_type": "code",
   "execution_count": 77,
   "metadata": {},
   "outputs": [
    {
     "data": {
      "text/plain": [
       "[<matplotlib.lines.Line2D at 0x34cafe7d0>]"
      ]
     },
     "execution_count": 77,
     "metadata": {},
     "output_type": "execute_result"
    },
    {
     "data": {
      "image/png": "[encoded data removed]",
      "text/plain": [
       "<Figure size 640x480 with 1 Axes>"
      ]
     },
     "metadata": {},
     "output_type": "display_data"
    }
   ],
   "source": [
    "plt.plot(loss_vals)"
   ]
  },
  {
   "cell_type": "code",
   "execution_count": 78,
   "metadata": {},
   "outputs": [],
   "source": [
    "test_dataset = TensorDataset(X_test, y_test)\n",
    "test_loader = DataLoader(test_dataset, batch_size=1024, shuffle=False)"
   ]
  },
  {
   "cell_type": "code",
   "execution_count": 79,
   "metadata": {},
   "outputs": [],
   "source": [
    "%%script true\n",
    "model.eval()\n",
    "likelihood.eval()\n",
    "means = torch.tensor([0.])\n",
    "with torch.no_grad():\n",
    "    for x_batch, y_batch in test_loader:\n",
    "        preds = model(x_batch)\n",
    "        means = torch.cat([means, preds.mean.cpu()])\n",
    "means = means[1:]\n",
    "print('Test MAE: {}'.format(torch.mean(torch.abs(means - y_test.cpu()))))\n",
    "print('Test RMSE: {}'.format(torch.sqrt(torch.mean((means - y_test.cpu())**2))))"
   ]
  },
  {
   "cell_type": "code",
   "execution_count": 80,
   "metadata": {},
   "outputs": [
    {
     "name": "stdout",
     "output_type": "stream",
     "text": [
      "MAE:  tensor(0.0764, grad_fn=<MeanBackward1>)\n",
      "RMSE:  tensor(0.0991, grad_fn=<SqrtBackward0>)\n",
      "avg NLPD:  tensor(-0.7769, grad_fn=<MeanBackward1>)\n"
     ]
    }
   ],
   "source": [
    "preds = likelihood(model(X_test))\n",
    "print(\"MAE: \", mean_absolute_error(preds,y_test))\n",
    "print(\"RMSE: \", torch.sqrt(mean_squared_error(preds,y_test)))\n",
    "print(\"avg NLPD: \", mean_standardized_log_loss(preds,y_test))"
   ]
  },
  {
   "cell_type": "code",
   "execution_count": 81,
   "metadata": {},
   "outputs": [],
   "source": [
    "# y_std*mean_absolute_error(preds,y_test)"
   ]
  },
  {
   "cell_type": "markdown",
   "metadata": {},
   "source": [
    "## without ng"
   ]
  },
  {
   "cell_type": "code",
   "execution_count": 82,
   "metadata": {},
   "outputs": [
    {
     "data": {
      "application/vnd.jupyter.widget-view+json": {
       "model_id": "923ad06549f84810ae8d6ddea25659a3",
       "version_major": 2,
       "version_minor": 0
      },
      "text/plain": [
       "Epoch:   0%|          | 0/30 [00:00<?, ?it/s]"
      ]
     },
     "metadata": {},
     "output_type": "display_data"
    },
    {
     "data": {
      "application/vnd.jupyter.widget-view+json": {
       "model_id": "590988639dc3411883bdfe7cd2d6e339",
       "version_major": 2,
       "version_minor": 0
      },
      "text/plain": [
       "Minibatch:   0%|          | 0/13 [00:00<?, ?it/s]"
      ]
     },
     "metadata": {},
     "output_type": "display_data"
    },
    {
     "data": {
      "application/vnd.jupyter.widget-view+json": {
       "model_id": "8c2b3ba03312440bb2e9badb00efcb78",
       "version_major": 2,
       "version_minor": 0
      },
      "text/plain": [
       "Minibatch:   0%|          | 0/13 [00:00<?, ?it/s]"
      ]
     },
     "metadata": {},
     "output_type": "display_data"
    },
    {
     "data": {
      "application/vnd.jupyter.widget-view+json": {
       "model_id": "3a98299345064a7884e37d59a854afb9",
       "version_major": 2,
       "version_minor": 0
      },
      "text/plain": [
       "Minibatch:   0%|          | 0/13 [00:00<?, ?it/s]"
      ]
     },
     "metadata": {},
     "output_type": "display_data"
    },
    {
     "data": {
      "application/vnd.jupyter.widget-view+json": {
       "model_id": "ce167909b273450c9047bed6d91a39c5",
       "version_major": 2,
       "version_minor": 0
      },
      "text/plain": [
       "Minibatch:   0%|          | 0/13 [00:00<?, ?it/s]"
      ]
     },
     "metadata": {},
     "output_type": "display_data"
    },
    {
     "data": {
      "application/vnd.jupyter.widget-view+json": {
       "model_id": "ac6d66ae540d4ec1a724db02da41e1f0",
       "version_major": 2,
       "version_minor": 0
      },
      "text/plain": [
       "Minibatch:   0%|          | 0/13 [00:00<?, ?it/s]"
      ]
     },
     "metadata": {},
     "output_type": "display_data"
    },
    {
     "data": {
      "application/vnd.jupyter.widget-view+json": {
       "model_id": "5b810478cd094df8a05c3329fc38ed67",
       "version_major": 2,
       "version_minor": 0
      },
      "text/plain": [
       "Minibatch:   0%|          | 0/13 [00:00<?, ?it/s]"
      ]
     },
     "metadata": {},
     "output_type": "display_data"
    },
    {
     "data": {
      "application/vnd.jupyter.widget-view+json": {
       "model_id": "8193f379295f4b0b86ba66966187ba7b",
       "version_major": 2,
       "version_minor": 0
      },
      "text/plain": [
       "Minibatch:   0%|          | 0/13 [00:00<?, ?it/s]"
      ]
     },
     "metadata": {},
     "output_type": "display_data"
    },
    {
     "data": {
      "application/vnd.jupyter.widget-view+json": {
       "model_id": "cf6309162d5640f6ad5d3e3024228b79",
       "version_major": 2,
       "version_minor": 0
      },
      "text/plain": [
       "Minibatch:   0%|          | 0/13 [00:00<?, ?it/s]"
      ]
     },
     "metadata": {},
     "output_type": "display_data"
    },
    {
     "data": {
      "application/vnd.jupyter.widget-view+json": {
       "model_id": "f9d96508553f42c48ebec7c3d3a257d8",
       "version_major": 2,
       "version_minor": 0
      },
      "text/plain": [
       "Minibatch:   0%|          | 0/13 [00:00<?, ?it/s]"
      ]
     },
     "metadata": {},
     "output_type": "display_data"
    },
    {
     "data": {
      "application/vnd.jupyter.widget-view+json": {
       "model_id": "f88ae05a1037448ebaa42e28cedf9f8b",
       "version_major": 2,
       "version_minor": 0
      },
      "text/plain": [
       "Minibatch:   0%|          | 0/13 [00:00<?, ?it/s]"
      ]
     },
     "metadata": {},
     "output_type": "display_data"
    },
    {
     "data": {
      "application/vnd.jupyter.widget-view+json": {
       "model_id": "90e3d39723fc4469925cbbe50f85da4a",
       "version_major": 2,
       "version_minor": 0
      },
      "text/plain": [
       "Minibatch:   0%|          | 0/13 [00:00<?, ?it/s]"
      ]
     },
     "metadata": {},
     "output_type": "display_data"
    },
    {
     "data": {
      "application/vnd.jupyter.widget-view+json": {
       "model_id": "46f83c5cad7042ac87d7db0926d84012",
       "version_major": 2,
       "version_minor": 0
      },
      "text/plain": [
       "Minibatch:   0%|          | 0/13 [00:00<?, ?it/s]"
      ]
     },
     "metadata": {},
     "output_type": "display_data"
    },
    {
     "data": {
      "application/vnd.jupyter.widget-view+json": {
       "model_id": "0fb1132bb90946cf94abeb11a1ac5426",
       "version_major": 2,
       "version_minor": 0
      },
      "text/plain": [
       "Minibatch:   0%|          | 0/13 [00:00<?, ?it/s]"
      ]
     },
     "metadata": {},
     "output_type": "display_data"
    },
    {
     "data": {
      "application/vnd.jupyter.widget-view+json": {
       "model_id": "0025ba4eec71446f8bcbacc0cb39b736",
       "version_major": 2,
       "version_minor": 0
      },
      "text/plain": [
       "Minibatch:   0%|          | 0/13 [00:00<?, ?it/s]"
      ]
     },
     "metadata": {},
     "output_type": "display_data"
    },
    {
     "data": {
      "application/vnd.jupyter.widget-view+json": {
       "model_id": "1f38c40ceb6b421b80a6c71e4f26d56a",
       "version_major": 2,
       "version_minor": 0
      },
      "text/plain": [
       "Minibatch:   0%|          | 0/13 [00:00<?, ?it/s]"
      ]
     },
     "metadata": {},
     "output_type": "display_data"
    },
    {
     "data": {
      "application/vnd.jupyter.widget-view+json": {
       "model_id": "38812f3f94764f288de08c66346154e1",
       "version_major": 2,
       "version_minor": 0
      },
      "text/plain": [
       "Minibatch:   0%|          | 0/13 [00:00<?, ?it/s]"
      ]
     },
     "metadata": {},
     "output_type": "display_data"
    },
    {
     "data": {
      "application/vnd.jupyter.widget-view+json": {
       "model_id": "2e02601612904aa49f61c19a6ceea7e1",
       "version_major": 2,
       "version_minor": 0
      },
      "text/plain": [
       "Minibatch:   0%|          | 0/13 [00:00<?, ?it/s]"
      ]
     },
     "metadata": {},
     "output_type": "display_data"
    },
    {
     "data": {
      "application/vnd.jupyter.widget-view+json": {
       "model_id": "7b98c7e34d4e415d9922928c15626bd6",
       "version_major": 2,
       "version_minor": 0
      },
      "text/plain": [
       "Minibatch:   0%|          | 0/13 [00:00<?, ?it/s]"
      ]
     },
     "metadata": {},
     "output_type": "display_data"
    },
    {
     "data": {
      "application/vnd.jupyter.widget-view+json": {
       "model_id": "e5a8dad0fc7c41959955b3c929c3c6a4",
       "version_major": 2,
       "version_minor": 0
      },
      "text/plain": [
       "Minibatch:   0%|          | 0/13 [00:00<?, ?it/s]"
      ]
     },
     "metadata": {},
     "output_type": "display_data"
    },
    {
     "data": {
      "application/vnd.jupyter.widget-view+json": {
       "model_id": "b52215e54e0e414eb5dc179cef6df8fb",
       "version_major": 2,
       "version_minor": 0
      },
      "text/plain": [
       "Minibatch:   0%|          | 0/13 [00:00<?, ?it/s]"
      ]
     },
     "metadata": {},
     "output_type": "display_data"
    },
    {
     "data": {
      "application/vnd.jupyter.widget-view+json": {
       "model_id": "96595adf0d114fe697f4ca1033228723",
       "version_major": 2,
       "version_minor": 0
      },
      "text/plain": [
       "Minibatch:   0%|          | 0/13 [00:00<?, ?it/s]"
      ]
     },
     "metadata": {},
     "output_type": "display_data"
    },
    {
     "data": {
      "application/vnd.jupyter.widget-view+json": {
       "model_id": "3798d2bb29d04cc3a017c77c7b224952",
       "version_major": 2,
       "version_minor": 0
      },
      "text/plain": [
       "Minibatch:   0%|          | 0/13 [00:00<?, ?it/s]"
      ]
     },
     "metadata": {},
     "output_type": "display_data"
    },
    {
     "data": {
      "application/vnd.jupyter.widget-view+json": {
       "model_id": "3e80aea26e0b47f6a0a7c4a73aa62374",
       "version_major": 2,
       "version_minor": 0
      },
      "text/plain": [
       "Minibatch:   0%|          | 0/13 [00:00<?, ?it/s]"
      ]
     },
     "metadata": {},
     "output_type": "display_data"
    },
    {
     "data": {
      "application/vnd.jupyter.widget-view+json": {
       "model_id": "40a5039e56c745f194cdbea8fe88df5f",
       "version_major": 2,
       "version_minor": 0
      },
      "text/plain": [
       "Minibatch:   0%|          | 0/13 [00:00<?, ?it/s]"
      ]
     },
     "metadata": {},
     "output_type": "display_data"
    },
    {
     "data": {
      "application/vnd.jupyter.widget-view+json": {
       "model_id": "d3879fee380a45658f51360a987a07a2",
       "version_major": 2,
       "version_minor": 0
      },
      "text/plain": [
       "Minibatch:   0%|          | 0/13 [00:00<?, ?it/s]"
      ]
     },
     "metadata": {},
     "output_type": "display_data"
    },
    {
     "data": {
      "application/vnd.jupyter.widget-view+json": {
       "model_id": "7c915d18842c4751b7cb57f5188bb260",
       "version_major": 2,
       "version_minor": 0
      },
      "text/plain": [
       "Minibatch:   0%|          | 0/13 [00:00<?, ?it/s]"
      ]
     },
     "metadata": {},
     "output_type": "display_data"
    },
    {
     "data": {
      "application/vnd.jupyter.widget-view+json": {
       "model_id": "d253f9c563b1415bbba871e1223cd415",
       "version_major": 2,
       "version_minor": 0
      },
      "text/plain": [
       "Minibatch:   0%|          | 0/13 [00:00<?, ?it/s]"
      ]
     },
     "metadata": {},
     "output_type": "display_data"
    },
    {
     "data": {
      "application/vnd.jupyter.widget-view+json": {
       "model_id": "75037db19f36479e90e08fc1fc27e30d",
       "version_major": 2,
       "version_minor": 0
      },
      "text/plain": [
       "Minibatch:   0%|          | 0/13 [00:00<?, ?it/s]"
      ]
     },
     "metadata": {},
     "output_type": "display_data"
    },
    {
     "data": {
      "application/vnd.jupyter.widget-view+json": {
       "model_id": "1c384ac0231946b1843f11d33884a320",
       "version_major": 2,
       "version_minor": 0
      },
      "text/plain": [
       "Minibatch:   0%|          | 0/13 [00:00<?, ?it/s]"
      ]
     },
     "metadata": {},
     "output_type": "display_data"
    },
    {
     "data": {
      "application/vnd.jupyter.widget-view+json": {
       "model_id": "43969acfc2824cd5904df5398f45f8e2",
       "version_major": 2,
       "version_minor": 0
      },
      "text/plain": [
       "Minibatch:   0%|          | 0/13 [00:00<?, ?it/s]"
      ]
     },
     "metadata": {},
     "output_type": "display_data"
    }
   ],
   "source": [
    "class SVGP(gpytorch.models.ApproximateGP):\n",
    "    def __init__(self, inducing_points):\n",
    "        variational_distribution = gpytorch.variational.CholeskyVariationalDistribution(inducing_points.size(0))\n",
    "        variational_strategy = gpytorch.variational.VariationalStrategy(\n",
    "            self, inducing_points, variational_distribution, learn_inducing_locations=True\n",
    "        )\n",
    "        super(SVGP, self).__init__(variational_strategy)\n",
    "        self.mean_module = gpytorch.means.ConstantMean()\n",
    "        self.covar_module = gpytorch.kernels.ScaleKernel(gpytorch.kernels.RBFKernel())\n",
    "        \n",
    "    def forward(self, x):\n",
    "        mean_x = self.mean_module(x)\n",
    "        covar_x = self.covar_module(x)\n",
    "        return gpytorch.distributions.MultivariateNormal(mean_x, covar_x)\n",
    "    \n",
    "inducing_points = X_train[:500]    \n",
    "model = SVGP(inducing_points)\n",
    "likelihood = gpytorch.likelihoods.GaussianLikelihood()\n",
    "\n",
    "train_dataset = TensorDataset(X_train,y_train)\n",
    "train_loader = DataLoader(train_dataset,batch_size=1024,shuffle=True)\n",
    "\n",
    "model.train()\n",
    "likelihood.train()\n",
    "mll = gpytorch.mlls.VariationalELBO(likelihood, model, num_data=y_train.size(0)) # notice the num_data argument\n",
    "\n",
    "optimizer = torch.optim.Adam(list(model.parameters()) + list(likelihood.parameters()),lr = 0.01)\n",
    "\n",
    "loss_vals = []\n",
    "num_epochs = 30\n",
    "epochs_iter = tqdm(range(num_epochs), desc=\"Epoch\")\n",
    "for i in epochs_iter:\n",
    "    minibatch_iter = tqdm(train_loader, desc=\"Minibatch\", leave=False)\n",
    "    \n",
    "    for x_batch, y_batch in minibatch_iter:\n",
    "        ### Perform NGD step to optimize variational parameters\n",
    "        optimizer.zero_grad()\n",
    "        output = model(x_batch)\n",
    "        loss = -mll(output, y_batch)\n",
    "        minibatch_iter.set_postfix(loss=loss.item())\n",
    "        loss.backward()\n",
    "        optimizer.step()\n",
    "        loss_vals.append(loss.item())"
   ]
  },
  {
   "cell_type": "code",
   "execution_count": 83,
   "metadata": {},
   "outputs": [
    {
     "name": "stdout",
     "output_type": "stream",
     "text": [
      "MAE:  tensor(0.0754, grad_fn=<MeanBackward1>)\n",
      "RMSE:  tensor(0.0986, grad_fn=<SqrtBackward0>)\n",
      "avg NLPD:  tensor(-0.7938, grad_fn=<MeanBackward1>)\n"
     ]
    }
   ],
   "source": [
    "preds = likelihood(model(X_test))\n",
    "print(\"MAE: \", mean_absolute_error(preds,y_test))\n",
    "print(\"RMSE: \", torch.sqrt(mean_squared_error(preds,y_test)))\n",
    "print(\"avg NLPD: \", mean_standardized_log_loss(preds,y_test))"
   ]
  },
  {
   "cell_type": "code",
   "execution_count": 84,
   "metadata": {},
   "outputs": [
    {
     "data": {
      "text/plain": [
       "[<matplotlib.lines.Line2D at 0x34f762050>]"
      ]
     },
     "execution_count": 84,
     "metadata": {},
     "output_type": "execute_result"
    },
    {
     "data": {
      "image/png": "[encoded data removed]",
      "text/plain": [
       "<Figure size 640x480 with 1 Axes>"
      ]
     },
     "metadata": {},
     "output_type": "display_data"
    }
   ],
   "source": [
    "plt.plot(loss_vals)"
   ]
  },
  {
   "cell_type": "markdown",
   "metadata": {},
   "source": [
    "## Pogpe"
   ]
  },
  {
   "cell_type": "code",
   "execution_count": 85,
   "metadata": {},
   "outputs": [],
   "source": [
    "import numpyro\n",
    "from numpyro.infer import NUTS, MCMC, SVI, Trace_ELBO, Predictive\n",
    "from numpyro.infer.autoguide import AutoDelta, AutoNormal\n",
    "from optax import adam, chain, clip\n",
    "\n",
    "from numpyro import distributions as dist\n",
    "\n",
    "import jax\n",
    "import jax.numpy as jnp\n",
    "import jax.random as random\n",
    "from jax.scipy import linalg\n",
    "\n",
    "\n",
    "numpyro.set_host_device_count(4)\n",
    "numpyro.set_platform(\"cpu\")\n",
    "numpyro.enable_x64()"
   ]
  },
  {
   "cell_type": "code",
   "execution_count": 86,
   "metadata": {},
   "outputs": [],
   "source": [
    "X_train,y_train= X_train.numpy(),y_train.numpy()\n",
    "X_test,y_test = X_test.numpy(),y_test.numpy()"
   ]
  },
  {
   "cell_type": "code",
   "execution_count": 87,
   "metadata": {},
   "outputs": [],
   "source": [
    "def og_pogpe(X, M=None, S = 50, Y=None, y_test=None):              # M is the number of experts\n",
    "    N = X.shape[0]\n",
    "    DIM = X.shape[1]\n",
    "    \n",
    "    Omega_fixed = jax.random.normal(jax.random.PRNGKey(30), (S, DIM)) # S is the number of spectral freqs\n",
    "\n",
    "    #########################\n",
    "    # RF-GP for the experts #\n",
    "    #########################\n",
    "    with numpyro.plate(\"M\", M, dim=-2):\n",
    "        var_mu_ex = numpyro.sample(\"kernel_var_exp_mean\", dist.HalfNormal(1.0))\n",
    "        # noise_mu_ex = numpyro.sample(\"kernel_noise_exp_mean\", dist.InverseGamma(5.0, 5.0))\n",
    "        std_ex_un = numpyro.sample('std_ex_un', dist.InverseGamma(5.0, 5.0))\n",
    "        std_ex = numpyro.deterministic('std_ex', jnp.tile(jnp.reshape(std_ex_un, (-1, 1)), N))\n",
    "\n",
    "        with numpyro.plate('2S', 2*S):\n",
    "            theta_mu_ex = numpyro.sample(\"theta_mu_ex\", dist.Normal(loc=0.0, \n",
    "                                                        scale=1.0)) # I'm not considering signal power here!\n",
    "            \n",
    "        with  numpyro.plate('DIM', DIM):\n",
    "            lengthscale_ex = numpyro.sample('ell_ex', dist.HalfNormal(scale = 10.0))\n",
    "\n",
    "            \n",
    "    assert lengthscale_ex.shape == (M,DIM)\n",
    "    assert Omega_fixed.shape == (S,DIM)\n",
    "\n",
    "    #### OMEGA FIXED\n",
    "    vdivide =  jax.vmap(lambda x, y: jnp.divide(x, y), (None, 0))      \n",
    "    matmul_vmapped = jax.vmap(lambda A,B: (A @ B).squeeze(), in_axes=(0, 0))                                                                                                                      \n",
    "    Omega_ex = vdivide( Omega_fixed, lengthscale_ex)     # shape = (M,S,DIM)\n",
    "    ########\n",
    "    assert Omega_ex.shape == (M,S,DIM)\n",
    "    ola = X @ jnp.transpose(Omega_ex, axes=(0,2,1))     # this is batch matmul: (Ndata,DIM) x (M,DIM,S) = (M,Ndata,S)\n",
    "    #assert ola.shape == (M,N,S)\n",
    "    Phi_ex = jnp.concatenate([jnp.sin(ola), jnp.cos(ola)], axis=2)  # tiene shape = (M, Ndata, 2*S)\n",
    "    Phi_ex = 1/jnp.sqrt(S)*Phi_ex  # se me habia olvidado dividir entre jnp.sqrt(S)\n",
    "    assert Phi_ex.shape == (M, N, 2*S)\n",
    "    assert std_ex.shape == (M,N)\n",
    "    assert theta_mu_ex.shape == (M,2*S)\n",
    "\n",
    "    # theta_mu_ex = jnp.tile(jnp.sqrt(var_mu_ex+ noise_mu_ex),2*S) * theta_mu_ex\n",
    "    theta_mu_ex = jnp.tile(jnp.sqrt(var_mu_ex),2*S) * theta_mu_ex\n",
    "    mu_ex = numpyro.deterministic(\"mu_ex\", matmul_vmapped(Phi_ex,theta_mu_ex) )                 # shape = (M,Ndata)\n",
    "    assert mu_ex.shape == (M,N)\n",
    "\n",
    "\n",
    "\n",
    "    #########################\n",
    "    # RF-GP for log weights #\n",
    "    #########################\n",
    "    with numpyro.plate(\"M\", M, dim=-2):\n",
    "        # set uninformative log-normal priors on our three kernel hyperparameters\n",
    "        var_logw = numpyro.sample(\"kernel_var_logw\", dist.HalfNormal(1.0))\n",
    "        # noise_logw = numpyro.sample(\"kernel_noise_logw\", dist.InverseGamma(5.0, 5.0))\n",
    "\n",
    "        with numpyro.plate('2S', 2*S):\n",
    "            theta_logw = numpyro.sample(\"theta_logw\", dist.Normal(loc=0.0, \n",
    "                                                        scale=1.0)) # I'm not considering signal power here!\n",
    "            \n",
    "        with numpyro.plate(\"DIM\", DIM):\n",
    "            lengthscale_logw = numpyro.sample('ell_logw', dist.HalfNormal(scale = 10.0))\n",
    "\n",
    "    assert lengthscale_logw.shape == (M,DIM)\n",
    "\n",
    "    # theta_logw = jnp.tile(jnp.sqrt(var_logw+ noise_logw),2*S) * theta_logw\n",
    "    theta_logw = jnp.tile(jnp.sqrt(var_logw),2*S) * theta_logw\n",
    "    assert theta_logw.shape == (M,2*S)\n",
    "\n",
    "\n",
    "    Omega_logw = vdivide( Omega_fixed, lengthscale_logw)     # shape = (M,S,DIM)\n",
    "    ola = X @ jnp.transpose(Omega_logw, axes=(0,2,1))     # this is batch matmul: (Ndata,DIM) x (M,DIM,S) = (M,Ndata,S)\n",
    "\n",
    "    Phi_logw = jnp.concatenate([jnp.sin(ola), jnp.cos(ola)], axis=2)  # tiene shape = (M, Ndata, 2*S)\n",
    "    Phi_logw = 1/jnp.sqrt(S)*Phi_logw  # se me habia olvidado dividir entre jnp.sqrt(S)\n",
    "\n",
    "    logw = numpyro.deterministic(\"logw\", matmul_vmapped(Phi_logw, theta_logw) - jnp.log(M))   # PRIOR MEAN FUNCTION!\n",
    "    assert logw.shape == (M,N)\n",
    "\n",
    "\n",
    "    ################################################\n",
    "    # Fuse with generalized multiplicative pooling #\n",
    "    ################################################\n",
    "    w = numpyro.deterministic(\"w\", jnp.exp(logw) )                 # shape = (M,Ndata)\n",
    "    # w = numpyro.deterministic(\"w\", jnp.ones((M,N)))  # All weights are one (not trained)\n",
    "    # w  = w.T\n",
    "    tau_ex = 1. / std_ex\n",
    "\n",
    "    assert w.shape == (M,N)\n",
    "    tau_fused = numpyro.deterministic(\n",
    "        \"tau_fused\", \n",
    "        # jnp.einsum(\"nm,mn->m\", tau_ex, w),\n",
    "        jnp.sum(tau_ex*w,axis=0).squeeze()\n",
    "    )  # N,\n",
    "    assert tau_fused.shape == (N,)\n",
    "\n",
    "    mu_fused = numpyro.deterministic(\n",
    "        \"mean_fused\", \n",
    "        # jnp.einsum(\"nm,nm,mn->m\", tau_ex, mu_ex, w) / tau_fused,\n",
    "        jnp.sum(tau_ex*mu_ex*w,axis=0).squeeze()/tau_fused\n",
    "    )  # N,\n",
    "    assert mu_fused.shape == (N,)\n",
    "    \n",
    "    std_fused = numpyro.deterministic(\"std_fused\", 1 / jnp.sqrt(tau_fused))\n",
    "    assert std_fused.shape == (N,)\n",
    "\n",
    "    # noise = numpyro.sample(\"noise\", dist.HalfNormal(scale = 1))\n",
    "\n",
    "    Y = jnp.squeeze(Y)\n",
    "    numpyro.sample(\n",
    "        \"y_val\",\n",
    "        dist.Normal(loc=mu_fused, \n",
    "                    scale=std_fused,\n",
    "                    # scale=jnp.sqrt(jnp.squeeze(std_fused)**2 + noise),\n",
    "                    ),\n",
    "        obs=Y,\n",
    "    )\n",
    "\n",
    "    if y_test is not None:\n",
    "        # compute the lpd of the observations\n",
    "        numpyro.deterministic(\"lpd_point\", jax.scipy.stats.norm.logpdf(\n",
    "                jnp.squeeze(y_test), loc=jnp.squeeze(mu_fused), scale=jnp.squeeze(std_fused),\n",
    "                )\n",
    "            )"
   ]
  },
  {
   "cell_type": "code",
   "execution_count": 88,
   "metadata": {},
   "outputs": [],
   "source": [
    "def train_and_predict_joint(model, num_experts, num_spectral_freqs, data_dict, \n",
    "                            guide_svi = None,\n",
    "                            training_iter = 500, lr = 0.1,\n",
    "                            **kwargs):\n",
    "    guide = guide_svi or AutoDelta(model, \n",
    "                    init_loc_fn = numpyro.infer.initialization.init_to_median,\n",
    "                    # init_loc_fn = numpyro.infer.initialization.init_to_uniform,\n",
    "                    # init_loc_fn = numpyro.infer.init_to_sample,\n",
    "                    )\n",
    "    svi= SVI(model,\n",
    "            guide,\n",
    "            # optim = numpyro.optim.Minimize(),  # Using lbfgs instead of adam\n",
    "            # optim=chain(clip(10.0), adam(0.005)),\n",
    "            optim = numpyro.optim.Adam(lr),\n",
    "            loss=Trace_ELBO(num_particles=1),   # default is 1\n",
    "        )\n",
    "\n",
    "\n",
    "    res = svi.run(\n",
    "        jax.random.PRNGKey(30),\n",
    "        training_iter,  \n",
    "        X=data_dict[\"X_train\"],\n",
    "        Y=data_dict[\"y_train\"],\n",
    "        M=num_experts,\n",
    "        S=num_spectral_freqs,\n",
    "        **kwargs,\n",
    "    )\n",
    "\n",
    "    params = res.params\n",
    "\n",
    "    predictive = Predictive(guide, params=params, num_samples=100)\n",
    "    posterior_samples = predictive(random.PRNGKey(3),\n",
    "                                   X=data_dict[\"X_train\"], \n",
    "                                   Y=data_dict[\"y_train\"], \n",
    "                                   M=num_experts,\n",
    "                                   S=num_spectral_freqs,\n",
    "                                    y_test=data_dict[\"y_train\"],\n",
    "                                    **kwargs,)  # these are samples from the guide! See https://github.com/pyro-ppl/numpyro/issues/1309\n",
    "    \n",
    "    '''\n",
    "    BEST option: (we bypass sampling posterior_samples from the guide)\n",
    "    dist_posterior_predictive = Predictive(model=model,guide=guide, params=params, num_samples=100)\n",
    "    '''\n",
    "    dist_posterior_predictive = Predictive(model,posterior_samples)\n",
    "    samples_tr = dist_posterior_predictive(jax.random.PRNGKey(3), \n",
    "                                        X=data_dict[\"X_train\"], \n",
    "                                        Y=data_dict[\"y_train\"], \n",
    "                                        M=num_experts,\n",
    "                                        S=num_spectral_freqs,\n",
    "                                        y_test=data_dict[\"y_train\"],\n",
    "                                        **kwargs,\n",
    "                                        )\n",
    "\n",
    "    ymu_tr = samples_tr[\"mean_fused\"].mean(0)\n",
    "    ys_tr = samples_tr[\"std_fused\"].mean(0)\n",
    "    w_tr = samples_tr[\"w\"].mean(0)\n",
    "\n",
    "    nlpd_train = - jnp.mean(\n",
    "        jax.nn.logsumexp(samples_tr[\"lpd_point\"], axis=0) - jnp.log(samples_tr[\"lpd_point\"].shape[0])\n",
    "    )\n",
    "    rmse_train = np.sqrt(np.mean((ymu_tr.squeeze()-data_dict[\"y_train\"].squeeze())**2))\n",
    "\n",
    "    # TEST DATA\n",
    "    samples_tst = dist_posterior_predictive(jax.random.PRNGKey(3), \n",
    "                                        X=data_dict[\"X_test\"], \n",
    "                                        Y=data_dict[\"y_test\"], \n",
    "                                        M=num_experts,\n",
    "                                        S=num_spectral_freqs,\n",
    "                                        y_test=data_dict[\"y_test\"],\n",
    "                                        **kwargs,\n",
    "                                        )\n",
    "\n",
    "    ymu_tst = samples_tst[\"mean_fused\"].mean(0)\n",
    "    ys_tst = samples_tst[\"std_fused\"].mean(0)\n",
    "    w_tst = samples_tst[\"w\"].mean(0)\n",
    "\n",
    "    nlpd_test = - jnp.mean(\n",
    "        jax.nn.logsumexp(samples_tst[\"lpd_point\"], axis=0) - jnp.log(samples_tst[\"lpd_point\"].shape[0])\n",
    "    )\n",
    "    rmse_test = np.sqrt(np.mean((ymu_tst.squeeze()-data_dict[\"y_test\"].squeeze())**2))\n",
    "\n",
    "\n",
    "    return nlpd_test, rmse_test, nlpd_train, rmse_train, samples_tst, samples_tr, res"
   ]
  },
  {
   "cell_type": "code",
   "execution_count": 89,
   "metadata": {},
   "outputs": [
    {
     "name": "stderr",
     "output_type": "stream",
     "text": [
      "100%|██████████| 1000/1000 [01:23<00:00, 11.94it/s, init loss: 18315.0774, avg. loss [951-1000]: -12008.0613]\n"
     ]
    },
    {
     "name": "stdout",
     "output_type": "stream",
     "text": [
      "nlpd train:  -1.0873478592353973\n",
      "nlpd test:  -1.0813156621801923\n",
      "rmse train:  0.08727766753365232\n",
      "rmse test:  0.08841893719817635\n",
      "mae train:  0.06657753697381684\n",
      "mae test:  0.06704402366928036\n"
     ]
    }
   ],
   "source": [
    "num_experts = 4\n",
    "num_spectral_freqs = 100\n",
    "model = og_pogpe\n",
    "\n",
    "# map estimates\n",
    "nlpd_test, rmse_test, nlpd_train, rmse_train, samples_tst, samples_tr,_ = train_and_predict_joint(\n",
    "    model=model, num_experts=num_experts, num_spectral_freqs=num_spectral_freqs, \n",
    "    data_dict={\"X_train\": X_train, \"y_train\": y_train, \"X_test\": X_test, \"y_test\": y_test},\n",
    "    training_iter=1000, lr= 0.1,\n",
    ")\n",
    "\n",
    "\n",
    "print(\"nlpd train: \", nlpd_train)\n",
    "print(\"nlpd test: \", nlpd_test)\n",
    "\n",
    "print(\"rmse train: \", rmse_train)\n",
    "print(\"rmse test: \", rmse_test)\n",
    "\n",
    "print(\"mae train: \", np.mean(np.abs(samples_tr[\"mean_fused\"].mean(0).squeeze() - y_train.squeeze())))\n",
    "print(\"mae test: \", np.mean(np.abs(samples_tst[\"mean_fused\"].mean(0).squeeze() - y_test.squeeze())))"
   ]
  },
  {
   "cell_type": "code",
   "execution_count": 90,
   "metadata": {},
   "outputs": [
    {
     "data": {
      "text/plain": [
       "(50.0, 100.0)"
      ]
     },
     "execution_count": 90,
     "metadata": {},
     "output_type": "execute_result"
    },
    {
     "data": {
      "image/png": "[encoded data removed]",
      "text/plain": [
       "<Figure size 640x480 with 1 Axes>"
      ]
     },
     "metadata": {},
     "output_type": "display_data"
    }
   ],
   "source": [
    "for i in range(num_experts):\n",
    "    plt.plot(samples_tst[\"w\"].mean(0)[i,:])\n",
    "plt.xlim(50,100)    "
   ]
  },
  {
   "cell_type": "code",
   "execution_count": 92,
   "metadata": {},
   "outputs": [
    {
     "data": {
      "text/plain": [
       "<matplotlib.legend.Legend at 0x34f787af0>"
      ]
     },
     "execution_count": 92,
     "metadata": {},
     "output_type": "execute_result"
    },
    {
     "data": {
      "image/png": "[encoded data removed]",
      "text/plain": [
       "<Figure size 640x480 with 1 Axes>"
      ]
     },
     "metadata": {},
     "output_type": "display_data"
    }
   ],
   "source": [
    "plt.plot(preds.mean.detach().numpy(),label = \"svgp\")\n",
    "plt.plot(y_test, label = \"data\")\n",
    "plt.plot(samples_tst[\"mean_fused\"].mean(0),label = \"pogpe\")\n",
    "plt.xlim((50,150))\n",
    "plt.legend()"
   ]
  },
  {
   "cell_type": "code",
   "execution_count": null,
   "metadata": {},
   "outputs": [],
   "source": []
  }
 ],
 "metadata": {
  "kernelspec": {
   "display_name": "Python 3",
   "language": "python",
   "name": "python3"
  },
  "language_info": {
   "codemirror_mode": {
    "name": "ipython",
    "version": 3
   },
   "file_extension": ".py",
   "mimetype": "text/x-python",
   "name": "python",
   "nbconvert_exporter": "python",
   "pygments_lexer": "ipython3",
   "version": "3.10.10"
  }
 },
 "nbformat": 4,
 "nbformat_minor": 2
}
