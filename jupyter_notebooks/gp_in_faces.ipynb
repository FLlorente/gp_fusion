{
 "cells": [
  {
   "cell_type": "code",
   "execution_count": 1,
   "metadata": {},
   "outputs": [],
   "source": [
    "import numpy as np\n",
    "import os\n",
    "import sys\n",
    "import matplotlib.pyplot as plt"
   ]
  },
  {
   "cell_type": "code",
   "execution_count": 2,
   "metadata": {},
   "outputs": [],
   "source": [
    "sys.path.append('/Users/fllorente/Dropbox/con_Petar/PYTHON/gp_fusion')\n"
   ]
  },
  {
   "cell_type": "code",
   "execution_count": 78,
   "metadata": {},
   "outputs": [],
   "source": [
    "from modules.model_training import train_and_predict_single_gp\n",
    "from modules.fusion_methods import compute_neg_log_like\n",
    "from modules.model_training import GPModel, to_torch, train_variational_gp, predict_variational_gp\n",
    "\n",
    "import torch\n",
    "from tqdm import tqdm\n",
    "\n",
    "from gpytorch.means import ZeroMean\n",
    "from gpytorch.kernels import AdditiveStructureKernel, RBFKernel, ScaleKernel\n",
    "from gpytorch.likelihoods import GaussianLikelihood\n",
    "from gpytorch.metrics import mean_standardized_log_loss"
   ]
  },
  {
   "cell_type": "code",
   "execution_count": 12,
   "metadata": {},
   "outputs": [
    {
     "name": "stderr",
     "output_type": "stream",
     "text": [
      "/var/folders/b6/z4591_kn5dz7xy81wtgqr67c0000gp/T/ipykernel_44864/4241675017.py:7: DeprecationWarning: Starting with ImageIO v3 the behavior of this function will switch to that of iio.v3.imread. To keep the current behavior (and make this warning disappear) use `import imageio.v2 as imageio` or call `imageio.v2.imread` directly.\n",
      "  img = iio.imread(f\"/Users/fllorente/Downloads/datasets_without_preprocessing/face_images/face_images_train/{i}.jpg\")\n"
     ]
    },
    {
     "data": {
      "text/plain": [
       "(12000, 784)"
      ]
     },
     "execution_count": 12,
     "metadata": {},
     "output_type": "execute_result"
    }
   ],
   "source": [
    "import imageio.v2 as imageio\n",
    "import imageio as iio\n",
    " \n",
    "X_train = []\n",
    "# read an image \n",
    "for i in 1+np.arange(12000):\n",
    "    img = iio.imread(f\"/Users/fllorente/Downloads/datasets_without_preprocessing/face_images/face_images_train/{i}.jpg\")\n",
    "    X_train.append(img)\n",
    "\n",
    "X_train = np.array(X_train)    \n",
    "X_train = X_train.reshape(12000,28*28)\n",
    "X_train.shape"
   ]
  },
  {
   "cell_type": "code",
   "execution_count": 13,
   "metadata": {},
   "outputs": [
    {
     "name": "stderr",
     "output_type": "stream",
     "text": [
      "/var/folders/b6/z4591_kn5dz7xy81wtgqr67c0000gp/T/ipykernel_44864/236637803.py:4: DeprecationWarning: Starting with ImageIO v3 the behavior of this function will switch to that of iio.v3.imread. To keep the current behavior (and make this warning disappear) use `import imageio.v2 as imageio` or call `imageio.v2.imread` directly.\n",
      "  img = iio.imread(f\"/Users/fllorente/Downloads/datasets_without_preprocessing/face_images/face_images_test/{i}.jpg\")\n"
     ]
    },
    {
     "data": {
      "text/plain": [
       "(800, 784)"
      ]
     },
     "execution_count": 13,
     "metadata": {},
     "output_type": "execute_result"
    }
   ],
   "source": [
    "X_test = []\n",
    "# read an image \n",
    "for i in 1+np.arange(800):\n",
    "    img = iio.imread(f\"/Users/fllorente/Downloads/datasets_without_preprocessing/face_images/face_images_test/{i}.jpg\")\n",
    "    X_test.append(img)\n",
    "\n",
    "X_test = np.array(X_test)    \n",
    "X_test = X_test.reshape(800,28*28)\n",
    "X_test.shape"
   ]
  },
  {
   "cell_type": "code",
   "execution_count": null,
   "metadata": {},
   "outputs": [],
   "source": [
    "# Normalize data\n",
    "X_train = X_train/255.0\n",
    "X_test = X_test/255.0"
   ]
  },
  {
   "cell_type": "code",
   "execution_count": 68,
   "metadata": {},
   "outputs": [],
   "source": [
    "import pandas as pd\n",
    "\n",
    "file = \"/Users/fllorente/Downloads/datasets_without_preprocessing/face_images/face_images_train/train_list.txt\"\n",
    "df = pd.read_csv(file, header=None, delimiter=' ') # or quotechar = \"'\"\n",
    "y_train = np.array(df[1])\n",
    "\n",
    "file = \"/Users/fllorente/Downloads/datasets_without_preprocessing/face_images/face_images_test/test_list.txt\"\n",
    "df = pd.read_csv(file, header=None, delimiter=' ') # or quotechar = \"'\"\n",
    "y_test = np.array(df[1])"
   ]
  },
  {
   "cell_type": "code",
   "execution_count": 73,
   "metadata": {},
   "outputs": [],
   "source": [
    "y_train.shape, y_test.shape\n",
    "meanY = np.mean(y_train)\n",
    "stdY = np.std(y_train)"
   ]
  },
  {
   "cell_type": "code",
   "execution_count": 74,
   "metadata": {},
   "outputs": [],
   "source": [
    "# Normalize data\n",
    "y_train = (y_train - meanY)/stdY\n",
    "y_test = (y_test - meanY)/stdY"
   ]
  },
  {
   "cell_type": "code",
   "execution_count": 75,
   "metadata": {},
   "outputs": [
    {
     "name": "stdout",
     "output_type": "stream",
     "text": [
      "1.0 1.0\n",
      "-7.105427357601002e-18 -0.011693234372475953\n",
      "0.9999999999999999 1.0026059874361415\n"
     ]
    }
   ],
   "source": [
    "print(X_train.max(),X_test.max())\n",
    "print(y_train.mean(), y_test.mean())\n",
    "print(y_train.std(), y_test.std())"
   ]
  },
  {
   "cell_type": "code",
   "execution_count": 92,
   "metadata": {},
   "outputs": [
    {
     "name": "stdout",
     "output_type": "stream",
     "text": [
      "NLPD train:  [1.41928289]\n",
      "NLPD test:  [1.42177007]\n",
      "rmse train:  1.0002988047560017\n",
      "rmse test:  1.0028173966668537\n"
     ]
    }
   ],
   "source": [
    "# Fit a GP with ARD-RBF kernel as the baseline\n",
    "inducing_points = X_train[:5000]\n",
    "model,likelihood = train_variational_gp(X_train, y_train, inducing_points, \n",
    "                                        learning_rate = 0.1, batch_size=128, num_epochs=10, \n",
    "                                        kappa=10, lambdaa = 10)\n",
    "\n",
    "mean_tr,std_tr = predict_variational_gp(model, likelihood, X_train)\n",
    "mean_tst,std_tst = predict_variational_gp(model, likelihood, X_test)\n",
    "\n",
    "\n",
    "print(\"NLPD train: \", compute_neg_log_like(mean_tr,std_tr,y_train))\n",
    "print(\"NLPD test: \", compute_neg_log_like(mean_tst,std_tst,y_test))\n",
    "\n",
    "print(\"rmse train: \", np.sqrt(np.mean((y_train.squeeze() - mean_tr.squeeze())**2)))\n",
    "print(\"rmse test: \", np.sqrt(np.mean((y_test.squeeze() - mean_tst.squeeze())**2)))"
   ]
  },
  {
   "cell_type": "code",
   "execution_count": 90,
   "metadata": {},
   "outputs": [
    {
     "data": {
      "text/plain": [
       "array([-0.02671797, -0.02671797, -0.02671797, -0.02671797, -0.02671797],\n",
       "      dtype=float32)"
      ]
     },
     "execution_count": 90,
     "metadata": {},
     "output_type": "execute_result"
    }
   ],
   "source": [
    "mean_tst[:5]"
   ]
  },
  {
   "cell_type": "code",
   "execution_count": null,
   "metadata": {},
   "outputs": [],
   "source": []
  }
 ],
 "metadata": {
  "kernelspec": {
   "display_name": "Python 3",
   "language": "python",
   "name": "python3"
  },
  "language_info": {
   "codemirror_mode": {
    "name": "ipython",
    "version": 3
   },
   "file_extension": ".py",
   "mimetype": "text/x-python",
   "name": "python",
   "nbconvert_exporter": "python",
   "pygments_lexer": "ipython3",
   "version": "3.10.10"
  }
 },
 "nbformat": 4,
 "nbformat_minor": 2
}
