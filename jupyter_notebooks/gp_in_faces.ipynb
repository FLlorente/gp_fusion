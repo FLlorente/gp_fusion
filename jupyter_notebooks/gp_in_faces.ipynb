{
 "cells": [
  {
   "cell_type": "code",
   "execution_count": 23,
   "metadata": {},
   "outputs": [],
   "source": [
    "import numpy as np\n",
    "import os\n",
    "import sys\n",
    "import matplotlib.pyplot as plt"
   ]
  },
  {
   "cell_type": "code",
   "execution_count": 24,
   "metadata": {},
   "outputs": [],
   "source": [
    "sys.path.append('/Users/fllorente/Dropbox/con_Petar/PYTHON/gp_fusion')\n"
   ]
  },
  {
   "cell_type": "code",
   "execution_count": 25,
   "metadata": {},
   "outputs": [],
   "source": [
    "from modules.model_training import train_and_predict_single_gp\n",
    "from modules.fusion_methods import compute_neg_log_like\n",
    "from modules.model_training import GPModel, to_torch, train_variational_gp, predict_variational_gp\n",
    "\n",
    "import torch\n",
    "from tqdm import tqdm\n",
    "\n",
    "from gpytorch.means import ZeroMean\n",
    "from gpytorch.kernels import AdditiveStructureKernel, RBFKernel, ScaleKernel\n",
    "from gpytorch.likelihoods import GaussianLikelihood\n",
    "from gpytorch.metrics import mean_standardized_log_loss"
   ]
  },
  {
   "cell_type": "code",
   "execution_count": 26,
   "metadata": {},
   "outputs": [
    {
     "name": "stderr",
     "output_type": "stream",
     "text": [
      "/var/folders/b6/z4591_kn5dz7xy81wtgqr67c0000gp/T/ipykernel_66141/4241675017.py:7: DeprecationWarning: Starting with ImageIO v3 the behavior of this function will switch to that of iio.v3.imread. To keep the current behavior (and make this warning disappear) use `import imageio.v2 as imageio` or call `imageio.v2.imread` directly.\n",
      "  img = iio.imread(f\"/Users/fllorente/Downloads/datasets_without_preprocessing/face_images/face_images_train/{i}.jpg\")\n"
     ]
    },
    {
     "data": {
      "text/plain": [
       "(12000, 784)"
      ]
     },
     "execution_count": 26,
     "metadata": {},
     "output_type": "execute_result"
    }
   ],
   "source": [
    "import imageio.v2 as imageio\n",
    "import imageio as iio\n",
    " \n",
    "X_train = []\n",
    "# read an image \n",
    "for i in 1+np.arange(12000):\n",
    "    img = iio.imread(f\"/Users/fllorente/Downloads/datasets_without_preprocessing/face_images/face_images_train/{i}.jpg\")\n",
    "    X_train.append(img)\n",
    "\n",
    "X_train = np.array(X_train)    \n",
    "X_train = X_train.reshape(12000,28*28)\n",
    "X_train.shape"
   ]
  },
  {
   "cell_type": "code",
   "execution_count": 27,
   "metadata": {},
   "outputs": [
    {
     "name": "stderr",
     "output_type": "stream",
     "text": [
      "/var/folders/b6/z4591_kn5dz7xy81wtgqr67c0000gp/T/ipykernel_66141/236637803.py:4: DeprecationWarning: Starting with ImageIO v3 the behavior of this function will switch to that of iio.v3.imread. To keep the current behavior (and make this warning disappear) use `import imageio.v2 as imageio` or call `imageio.v2.imread` directly.\n",
      "  img = iio.imread(f\"/Users/fllorente/Downloads/datasets_without_preprocessing/face_images/face_images_test/{i}.jpg\")\n"
     ]
    },
    {
     "data": {
      "text/plain": [
       "(800, 784)"
      ]
     },
     "execution_count": 27,
     "metadata": {},
     "output_type": "execute_result"
    }
   ],
   "source": [
    "X_test = []\n",
    "# read an image \n",
    "for i in 1+np.arange(800):\n",
    "    img = iio.imread(f\"/Users/fllorente/Downloads/datasets_without_preprocessing/face_images/face_images_test/{i}.jpg\")\n",
    "    X_test.append(img)\n",
    "\n",
    "X_test = np.array(X_test)    \n",
    "X_test = X_test.reshape(800,28*28)\n",
    "X_test.shape"
   ]
  },
  {
   "cell_type": "code",
   "execution_count": 28,
   "metadata": {},
   "outputs": [],
   "source": [
    "# Normalize data\n",
    "# X_train = X_train/255.0\n",
    "# X_test = X_test/255.0\n",
    "\n",
    "mean_x = np.mean(X_train,axis=0,keepdims=True)\n",
    "std_x = np.std(X_train,axis=0,keepdims=True)\n",
    "\n",
    "# X_train = X_train/255.0\n",
    "# X_test = X_test/255.0\n",
    "\n",
    "X_train = (X_train - mean_x)/std_x\n",
    "X_test = (X_test - mean_x)/std_x"
   ]
  },
  {
   "cell_type": "code",
   "execution_count": 29,
   "metadata": {},
   "outputs": [],
   "source": [
    "import pandas as pd\n",
    "\n",
    "file = \"/Users/fllorente/Downloads/datasets_without_preprocessing/face_images/face_images_train/train_list.txt\"\n",
    "df = pd.read_csv(file, header=None, delimiter=' ') # or quotechar = \"'\"\n",
    "y_train = np.array(df[1])\n",
    "\n",
    "file = \"/Users/fllorente/Downloads/datasets_without_preprocessing/face_images/face_images_test/test_list.txt\"\n",
    "df = pd.read_csv(file, header=None, delimiter=' ') # or quotechar = \"'\"\n",
    "y_test = np.array(df[1])"
   ]
  },
  {
   "cell_type": "code",
   "execution_count": 30,
   "metadata": {},
   "outputs": [],
   "source": [
    "y_train.shape, y_test.shape\n",
    "meanY = np.mean(y_train)\n",
    "stdY = np.std(y_train)"
   ]
  },
  {
   "cell_type": "code",
   "execution_count": 31,
   "metadata": {},
   "outputs": [],
   "source": [
    "# Normalize data\n",
    "y_train = (y_train - meanY)/stdY\n",
    "y_test = (y_test - meanY)/stdY"
   ]
  },
  {
   "cell_type": "code",
   "execution_count": 32,
   "metadata": {},
   "outputs": [
    {
     "name": "stdout",
     "output_type": "stream",
     "text": [
      "2.124092332765408 2.124092332765408\n",
      "-7.105427357601002e-18 -0.011693234372475953\n",
      "0.9999999999999999 1.0026059874361415\n"
     ]
    }
   ],
   "source": [
    "print(X_train.max(),X_test.max())\n",
    "print(y_train.mean(), y_test.mean())\n",
    "print(y_train.std(), y_test.std())"
   ]
  },
  {
   "cell_type": "code",
   "execution_count": 34,
   "metadata": {},
   "outputs": [
    {
     "data": {
      "text/plain": [
       "(100, 100)"
      ]
     },
     "execution_count": 34,
     "metadata": {},
     "output_type": "execute_result"
    }
   ],
   "source": [
    "indices = np.random.choice(len(X_train),100)\n",
    "X_train = X_train[indices]\n",
    "y_train = y_train[indices]\n",
    "len(X_train), len(y_train)"
   ]
  },
  {
   "cell_type": "code",
   "execution_count": 35,
   "metadata": {},
   "outputs": [
    {
     "name": "stdout",
     "output_type": "stream",
     "text": [
      "NLPD train:  [3.07428991]\n",
      "NLPD test:  [3.37478452]\n",
      "rmse train:  1.5301421645637554\n",
      "rmse test:  1.4574307394878552\n"
     ]
    }
   ],
   "source": [
    "from gpytorch.kernels import AdditiveStructureKernel, RBFKernel, ScaleKernel\n",
    "\n",
    "# Fit a GP with ARD-RBF kernel as the baseline\n",
    "inducing_points = X_train[:500]\n",
    "kernel = AdditiveStructureKernel(base_kernel=ScaleKernel(RBFKernel()), \n",
    "                                             num_dims=X_train.shape[1])\n",
    "model,likelihood = train_variational_gp(X_train, y_train, inducing_points, \n",
    "                                        learning_rate = 0.1, batch_size=128, num_epochs=5, \n",
    "                                        kappa=10, lambdaa = 5, kernel=kernel)\n",
    "\n",
    "mean_tr,std_tr = predict_variational_gp(model, likelihood, X_train)\n",
    "mean_tst,std_tst = predict_variational_gp(model, likelihood, X_test)\n",
    "\n",
    "\n",
    "print(\"NLPD train: \", compute_neg_log_like(mean_tr,std_tr,y_train))\n",
    "print(\"NLPD test: \", compute_neg_log_like(mean_tst,std_tst,y_test))\n",
    "\n",
    "print(\"rmse train: \", np.sqrt(np.mean((y_train.squeeze() - mean_tr.squeeze())**2)))\n",
    "print(\"rmse test: \", np.sqrt(np.mean((y_test.squeeze() - mean_tst.squeeze())**2)))"
   ]
  },
  {
   "cell_type": "code",
   "execution_count": 36,
   "metadata": {},
   "outputs": [
    {
     "data": {
      "text/plain": [
       "((100, 784), (800, 784))"
      ]
     },
     "execution_count": 36,
     "metadata": {},
     "output_type": "execute_result"
    }
   ],
   "source": [
    "X_train.shape, X_test.shape"
   ]
  },
  {
   "cell_type": "code",
   "execution_count": 37,
   "metadata": {},
   "outputs": [
    {
     "name": "stdout",
     "output_type": "stream",
     "text": [
      "NLPD train:  [2.16604262]\n",
      "NLPD test:  [1.80311713]\n",
      "rmse train:  0.970176300791015\n",
      "rmse test:  1.0069888183440694\n"
     ]
    },
    {
     "name": "stderr",
     "output_type": "stream",
     "text": [
      "/Library/Frameworks/Python.framework/Versions/3.10/lib/python3.10/site-packages/gpytorch/models/exact_gp.py:284: GPInputWarning: The input matches the stored training data. Did you forget to call model.train()?\n",
      "  warnings.warn(\n"
     ]
    }
   ],
   "source": [
    "test_preds,train_preds = train_and_predict_single_gp(X_train,y_train,X_test,X_train,training_iter=1000,lr=0.1, initialiaze_hyper=False)\n",
    "\n",
    "mean_tr, std_tr = train_preds.mean.numpy(),np.sqrt(train_preds.variance.numpy())\n",
    "mean_tst, std_tst = test_preds.mean.numpy(),np.sqrt(test_preds.variance.numpy())\n",
    "\n",
    "\n",
    "print(\"NLPD train: \", compute_neg_log_like(mean_tr,std_tr,y_train))\n",
    "print(\"NLPD test: \", compute_neg_log_like(mean_tst,std_tst,y_test))\n",
    "\n",
    "print(\"rmse train: \", np.sqrt(np.mean((y_train.squeeze() - mean_tr.squeeze())**2)))\n",
    "print(\"rmse test: \", np.sqrt(np.mean((y_test.squeeze() - mean_tst.squeeze())**2)))"
   ]
  },
  {
   "cell_type": "markdown",
   "metadata": {},
   "source": [
    "# JAX"
   ]
  },
  {
   "cell_type": "code",
   "execution_count": 38,
   "metadata": {},
   "outputs": [],
   "source": [
    "import jax\n",
    "jax.config.update(\"jax_enable_x64\", True)\n",
    "\n",
    "import os\n",
    "import sys\n",
    "\n",
    "sys.path.append('/Users/fllorente/Dropbox/con_Petar/PYTHON/gp_fusion')\n",
    "\n",
    "import jax.numpy as jnp\n",
    "from jax import grad, jit, vmap, value_and_grad, lax\n",
    "from jax.scipy.linalg import cho_factor, cho_solve\n",
    "import optax\n",
    "from functools import partial\n",
    "\n",
    "from modules.data_handling import load_data  # Same as using Dataset but X and Y have std dv = 1 column-wise\n",
    "from modules.fusion_methods import compute_neg_log_like\n",
    "\n",
    "from tqdm import tqdm\n",
    "import pickle\n",
    "from uci_datasets import Dataset\n",
    "import argparse\n",
    "import numpy as np\n",
    "\n",
    "\n",
    "\n",
    "\n",
    "\n",
    "\n",
    "#%% Auxiliary functions\n",
    "vmatmul = jax.vmap(lambda A,B: (A @ B), in_axes=(0, 0))\n",
    "\n",
    "def transform(raw_param, fun = \"softplus\"):               # raw_param lives in (-inf,inf)\n",
    "    if fun == \"exp\":\n",
    "        param = jnp.exp(raw_param)                      # exponential\n",
    "    elif fun == \"softplus\":\n",
    "        param = jnp.log(1 + jnp.exp(raw_param))         # softplus\n",
    "    else:\n",
    "        raise ValueError(\"Transform function not implemented.\")\n",
    "    return param        # param lives in (0,inf)  \n",
    "\n",
    "def inv_transform(cons_param, fun = \"invsoftplus\"):          # cons_param lives in (0,inf)\n",
    "    if fun == \"log\":\n",
    "        param = jnp.log(cons_param)                          #  log   \n",
    "    elif fun == \"invsoftplus\":\n",
    "        param = jnp.log(jnp.exp(cons_param) - 1)             # inverse softplus\n",
    "    else:\n",
    "        raise ValueError(\"Inverse transform function not implemented.\")\n",
    "    return param       # param lives in (-inf,inf) \n",
    "\n",
    "\n",
    "\n",
    "# Efficient kernel matrix computation using vmap\n",
    "def kernel_matrix(X1, X2, length_scale, variance, noise, include_noise = True):\n",
    "    pairwise_sqdists = jnp.sum(\n",
    "        ((X1[:, None, :] - X2[None, :, :]) / jnp.broadcast_to(length_scale, X1[:, None, :].shape)) ** 2, \n",
    "        axis=-1)\n",
    "    K = variance * jnp.exp(-0.5 * pairwise_sqdists)\n",
    "    if include_noise:\n",
    "        K += noise * jnp.eye(X1.shape[0])\n",
    "    return K\n",
    "\n",
    "# Compute alpha and diagonal elements of the inverse of K using Cholesky\n",
    "def compute_alpha_and_diag_inv_K(K_chol, y):\n",
    "    alpha = cho_solve((K_chol, True), y)\n",
    "    \n",
    "    compute_diag = jax.vmap(lambda A, b, i: cho_solve((A, True), b)[i], in_axes=(None, 0, 0))\n",
    "    diag_inv_K = compute_diag(K_chol, jnp.eye(K_chol.shape[0]), jnp.arange(K_chol.shape[0])) \n",
    "    \n",
    "    return alpha, diag_inv_K\n",
    "\n",
    "\n",
    "# Function to make predictions with the optimized GPs and projections\n",
    "def predict_fused_gp_with_projs(X_train, y_train, X_test, length_scales, variances, noises, weights):\n",
    "    def gp_predict(X_train,X_test,length_scale, variance, noise):\n",
    "        K = kernel_matrix(X_train, X_train, length_scale, variance, noise)\n",
    "        K_s = kernel_matrix(X_test, X_train, length_scale, variance, noise, include_noise=False)\n",
    "        K_ss = kernel_matrix(X_test, X_test, length_scale, variance, noise)\n",
    "        \n",
    "        K_chol = cho_factor(K, lower=True)[0]\n",
    "        \n",
    "        alpha = cho_solve((K_chol, True), y_train)\n",
    "        v = cho_solve((K_chol, True), K_s.T)\n",
    "        \n",
    "        mu_s = K_s @ alpha\n",
    "        cov_s = K_ss - K_s @ v\n",
    "        \n",
    "        return mu_s, jnp.diag(cov_s)\n",
    "    \n",
    "    mus, covs = vmap(gp_predict)(X_train,X_test,length_scales, variances, noises)  # we also vmap training and test datasets\n",
    "    \n",
    "    weighted_vars_inv = weights[:, None] / covs\n",
    "    fused_vars = 1 / jnp.sum(weighted_vars_inv, axis=0)\n",
    "    fused_means = fused_vars * jnp.sum(weighted_vars_inv * mus, axis=0)\n",
    "    \n",
    "    return fused_means, fused_vars\n",
    "\n",
    "\n",
    "\n",
    "def save_results(results, filename):\n",
    "    with open(filename, 'wb') as f:\n",
    "        pickle.dump(results, f)\n",
    "\n",
    "\n",
    "# %% # ======== (3) WITH projections AND PRE-projections ========== #\n",
    "\n",
    "def loo_cv_objective_3(params, X, y, M,proj_dim, dim, normalize_weights=False, proj_seed = 42):\n",
    "    N,_ = X.shape\n",
    "\n",
    "    length_scales_raw = lax.dynamic_slice(params, (0,), (dim,)).reshape((dim))  # these are lengthscales for PRE-projection; experts have no lengthscales\n",
    "    variances_raw = lax.dynamic_slice(params, (dim,), (M,))\n",
    "    noises_raw = lax.dynamic_slice(params, (M + dim,), (M,))\n",
    "    weights_raw = lax.dynamic_slice(params, (M * 2 + dim,), (M,))\n",
    "  \n",
    "    length_scales, variances, noises = transform(length_scales_raw), transform(variances_raw), transform(noises_raw)\n",
    "    weights = transform(weights_raw)\n",
    "    if normalize_weights:\n",
    "        weights = weights / jnp.sum(weights)\n",
    "\n",
    "    X_reps = jnp.tile(jnp.expand_dims(X,0), (M,1,1))\n",
    "    P_projs = jax.random.normal(jax.random.PRNGKey(proj_seed), (M,dim, proj_dim))/jnp.sqrt(proj_dim)   \n",
    "\n",
    "    X_projs = vmatmul(X_reps, P_projs/ length_scales[None, :, None])\n",
    "    assert (length_scales[None, :, None] * P_projs).shape == P_projs.shape\n",
    "    assert X_projs.shape == (M,N,proj_dim)\n",
    "\n",
    "    \n",
    "    def gp_loops(X,length_scale, variance, noise):\n",
    "        K = kernel_matrix(X, X, length_scale, variance, noise)\n",
    "        K_chol = cho_factor(K, lower=True)[0]\n",
    "        alpha, diag_inv_K = compute_alpha_and_diag_inv_K(K_chol, y)\n",
    "        \n",
    "        loo_means = y - alpha / diag_inv_K\n",
    "        loo_vars = 1 / diag_inv_K\n",
    "        \n",
    "        return loo_means, loo_vars\n",
    "    \n",
    "    loo_means, loo_vars = vmap(gp_loops)(X_projs, jnp.ones_like(variances), variances, noises) # We set experts' lengthscales to 1\n",
    "    \n",
    "    # Fuse the means and variances using the product rule with weights\n",
    "    weighted_vars_inv = weights[:, None] / loo_vars\n",
    "    fused_vars = 1 / jnp.sum(weighted_vars_inv, axis=0)\n",
    "    fused_means = fused_vars * jnp.sum(weighted_vars_inv * loo_means, axis=0)\n",
    "    \n",
    "    # LOO predictive log-probability\n",
    "    loo_cv_log_score = -0.5 * jnp.sum(jnp.log(fused_vars.squeeze()) + \\\n",
    "                                      (y.squeeze() - fused_means.squeeze())**2 / fused_vars.squeeze())\n",
    "    \n",
    "    return -loo_cv_log_score  # Negative for minimization\n",
    "\n",
    "\n",
    "# JIT compile the objective function for faster optimization\n",
    "loo_cv_objective_3_jit = jit(loo_cv_objective_3, static_argnames=['M','proj_dim',\"dim\",\"normalize_weights\"])\n",
    "\n",
    "\n",
    "def optimize_objective(obj_fun_jit,init_params,static_argnames,lr = 0.1, num_steps=100, **kwargs):\n",
    "    # **kwargs should contain all parameters needed by the objective that are not being optimized, namely, contained in params\n",
    "\n",
    "    # Define the optimizer\n",
    "    optimizer = optax.adam(learning_rate=lr)\n",
    "    opt_state = optimizer.init(init_params)\n",
    "\n",
    "    # Define the update step\n",
    "    @partial(jax.jit, static_argnames=static_argnames)\n",
    "    def update(params, opt_state,**kwargs):\n",
    "        loss, grads = value_and_grad(obj_fun_jit)(params, **kwargs)\n",
    "        updates, opt_state = optimizer.update(grads, opt_state, params)\n",
    "        params = optax.apply_updates(params, updates)\n",
    "        return loss, params, opt_state\n",
    "\n",
    "    # Training loop\n",
    "    params = init_params\n",
    "    losses = []\n",
    "    for step in tqdm(range(num_steps)):\n",
    "        loss, params, opt_state = update(params, opt_state, **kwargs)\n",
    "        losses.append(loss)\n",
    "        # if step % 100 == 0 or step == num_steps-1:\n",
    "        #     print(f\"Step {step}, Loss: {loss}\")\n",
    "\n",
    "    # Get the optimized parameters\n",
    "    return params, losses"
   ]
  },
  {
   "cell_type": "code",
   "execution_count": 39,
   "metadata": {},
   "outputs": [
    {
     "name": "stderr",
     "output_type": "stream",
     "text": [
      "100%|██████████| 500/500 [01:28<00:00,  5.66it/s]\n"
     ]
    }
   ],
   "source": [
    "\n",
    "\n",
    "DIM = X_train.shape[1]\n",
    "\n",
    "M = 20\n",
    "proj_dim = 2\n",
    "proj_seed = 20  # seed of the random projection\n",
    "init_params = jnp.concatenate(\n",
    "    (\n",
    "        0.1 * jnp.ones((DIM,)),  # lengthscales\n",
    "        1.0 * jnp.ones((M,)),  # variances\n",
    "        0.2 * jnp.ones((M,)),  # noises\n",
    "        jnp.ones((M,)),  # weights\n",
    "    ),\n",
    ")\n",
    "init_params = inv_transform(init_params)\n",
    "\n",
    "other_params = {'X': X_train,\n",
    "                'y': y_train,\n",
    "                'M': M,\n",
    "                'proj_dim': proj_dim,\n",
    "                'dim': DIM,\n",
    "                'normalize_weights': True,\n",
    "                'proj_seed': proj_seed,\n",
    "                }\n",
    "static_argnames = ['M', 'proj_dim', 'dim', 'normalize_weights']\n",
    "\n",
    "params, losses = optimize_objective(loo_cv_objective_3_jit, \n",
    "                                                init_params, \n",
    "                                                static_argnames,\n",
    "                                                lr=0.1, \n",
    "                                                num_steps=500,\n",
    "                                                **other_params)\n",
    "\n",
    "# Get the optimized parameters\n",
    "optimized_params = transform(params)\n",
    "length_scales = optimized_params[:DIM]  # not the experts' lengthscales but pre-projection lengthscales!\n",
    "variances = optimized_params[DIM:DIM + M]\n",
    "noises = optimized_params[DIM + M:DIM + 2 * M]\n",
    "weights = optimized_params[-M:]\n",
    "if other_params[\"normalize_weights\"]:\n",
    "    weights = weights / jnp.sum(weights)\n",
    "\n",
    "X_reps = jnp.tile(jnp.expand_dims(X_train, 0), (M, 1, 1))\n",
    "X_reps_test = jnp.tile(jnp.expand_dims(X_test, 0), (M, 1, 1))\n",
    "P_projs = jax.random.normal(jax.random.PRNGKey(proj_seed), (M, DIM, proj_dim)) / jnp.sqrt(proj_dim)\n",
    "\n",
    "X_projs = vmatmul(X_reps, P_projs / length_scales[None, :, None])\n",
    "X_projs_test = vmatmul(X_reps_test, P_projs / length_scales[None, :, None])\n",
    "\n",
    "# Make predictions\n",
    "mu_tst, var_tst = predict_fused_gp_with_projs(X_projs, y_train, X_projs_test, jnp.ones_like(variances), variances, noises, weights)\n",
    "\n",
    "nlpd = compute_neg_log_like(mus=mu_tst, stds=jnp.sqrt(var_tst), y_test=y_test)\n",
    "rmse = jnp.sqrt(jnp.mean((mu_tst.squeeze() - y_test.squeeze())**2))"
   ]
  },
  {
   "cell_type": "code",
   "execution_count": 40,
   "metadata": {},
   "outputs": [
    {
     "data": {
      "text/plain": [
       "(array([nan]), Array(nan, dtype=float64))"
      ]
     },
     "execution_count": 40,
     "metadata": {},
     "output_type": "execute_result"
    }
   ],
   "source": [
    "nlpd, rmse"
   ]
  },
  {
   "cell_type": "code",
   "execution_count": 41,
   "metadata": {},
   "outputs": [
    {
     "data": {
      "text/plain": [
       "[<matplotlib.lines.Line2D at 0x3e34728c0>]"
      ]
     },
     "execution_count": 41,
     "metadata": {},
     "output_type": "execute_result"
    },
    {
     "data": {
      "image/png": "[encoded data removed]",
      "text/plain": [
       "<Figure size 640x480 with 1 Axes>"
      ]
     },
     "metadata": {},
     "output_type": "display_data"
    }
   ],
   "source": [
    "plt.plot(losses)"
   ]
  },
  {
   "cell_type": "code",
   "execution_count": null,
   "metadata": {},
   "outputs": [],
   "source": []
  }
 ],
 "metadata": {
  "kernelspec": {
   "display_name": "Python 3",
   "language": "python",
   "name": "python3"
  },
  "language_info": {
   "codemirror_mode": {
    "name": "ipython",
    "version": 3
   },
   "file_extension": ".py",
   "mimetype": "text/x-python",
   "name": "python",
   "nbconvert_exporter": "python",
   "pygments_lexer": "ipython3",
   "version": "3.10.10"
  }
 },
 "nbformat": 4,
 "nbformat_minor": 2
}
