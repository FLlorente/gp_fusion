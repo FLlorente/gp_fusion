{
 "cells": [
  {
   "cell_type": "code",
   "execution_count": 38,
   "metadata": {},
   "outputs": [],
   "source": [
    "import jax\n",
    "jax.config.update(\"jax_enable_x64\", True)\n",
    "\n",
    "import os\n",
    "import sys\n",
    "\n",
    "sys.path.append('/Users/fllorente/Dropbox/con_Petar/PYTHON/gp_fusion')\n",
    "\n",
    "import jax.numpy as jnp\n",
    "from jax import grad, jit, vmap, value_and_grad, lax\n",
    "from jax.scipy.linalg import cho_factor, cho_solve\n",
    "import optax\n",
    "from functools import partial\n",
    "\n",
    "from modules.data_handling import load_data  # Same as using Dataset but X and Y have std dv = 1 column-wise\n",
    "from modules.fusion_methods import compute_neg_log_like\n",
    "\n",
    "import numpy as np\n",
    "import matplotlib.pyplot as plt\n",
    "from tqdm import tqdm"
   ]
  },
  {
   "cell_type": "code",
   "execution_count": 464,
   "metadata": {},
   "outputs": [
    {
     "name": "stdout",
     "output_type": "stream",
     "text": [
      "[2 3 4]\n",
      "[2 3 4]\n"
     ]
    }
   ],
   "source": [
    "# Example function with a dynamic slice\n",
    "def example_function(x, start, length):\n",
    "    # This will fail because `start` and `length` are dynamic\n",
    "    slice_result = lax.dynamic_slice(x, (start,), (length,))\n",
    "    # slice_result = x[start:length]\n",
    "    return slice_result\n",
    "\n",
    "# Create a sample array\n",
    "x = jnp.array([1, 2, 3, 4, 5])\n",
    "\n",
    "# Call the function with dynamic slicing\n",
    "print(example_function(x, 1, 3))  # Output: [2, 3, 4]\n",
    "\n",
    "# JIT compilation will fail with dynamic sizes\n",
    "try:\n",
    "    jit_example_function = jit(example_function, \n",
    "                               static_argnames=[\"start\",\"length\"],\n",
    "                               )\n",
    "    print(jit_example_function(x, 1, 3))\n",
    "except Exception as e:\n",
    "    print(\"Error during JIT compilation:\", e)"
   ]
  },
  {
   "cell_type": "markdown",
   "metadata": {},
   "source": [
    "## Joint learning without projections"
   ]
  },
  {
   "cell_type": "code",
   "execution_count": 504,
   "metadata": {},
   "outputs": [],
   "source": [
    "def transform(raw_param, fun = \"softplus\"):               # raw_param lives in (-inf,inf)\n",
    "    if fun == \"exp\":\n",
    "        param = jnp.exp(raw_param)                      # exponential\n",
    "    elif fun == \"softplus\":\n",
    "        param = jnp.log(1 + jnp.exp(raw_param))         # softplus\n",
    "    else:\n",
    "        raise ValueError(\"Transform function not implemented.\")\n",
    "    return param        # param lives in (0,inf)  \n",
    "\n",
    "\n",
    "def inv_transform(cons_param, fun = \"invsoftplus\"):          # cons_param lives in (0,inf)\n",
    "    if fun == \"log\":\n",
    "        param = jnp.log(cons_param)                          #  log   \n",
    "    elif fun == \"invsoftplus\":\n",
    "        param = jnp.log(jnp.exp(cons_param) - 1)             # inverse softplus\n",
    "    else:\n",
    "        raise ValueError(\"Inverse transform function not implemented.\")\n",
    "    return param       # param lives in (-inf,inf) \n",
    "\n",
    "\n",
    "# RBF Kernel function with length_scale as a vector\n",
    "def rbf_kernel(x1, x2, length_scale, variance):\n",
    "    sqdist = jnp.sum(((x1 - x2) / length_scale) ** 2)\n",
    "    return variance * jnp.exp(-0.5 * sqdist)\n",
    "\n",
    "# Efficient kernel matrix computation using vmap\n",
    "def kernel_matrix(X1, X2, length_scale, variance, noise, include_noise = True):\n",
    "    pairwise_sqdists = jnp.sum(\n",
    "        ((X1[:, None, :] - X2[None, :, :]) / jnp.broadcast_to(length_scale, X1[:, None, :].shape)) ** 2, \n",
    "        axis=-1)\n",
    "    K = variance * jnp.exp(-0.5 * pairwise_sqdists)\n",
    "    if include_noise:\n",
    "        K += noise * jnp.eye(X1.shape[0])\n",
    "    return K\n",
    "\n",
    "# Compute alpha and diagonal elements of the inverse of K using Cholesky\n",
    "def compute_alpha_and_diag_inv_K(K_chol, y):\n",
    "    alpha = cho_solve((K_chol, True), y)\n",
    "    \n",
    "    compute_diag = jax.vmap(lambda A, b, i: cho_solve((A, True), b)[i], in_axes=(None, 0, 0))\n",
    "    diag_inv_K = compute_diag(K_chol, jnp.eye(K_chol.shape[0]), jnp.arange(K_chol.shape[0])) \n",
    "    \n",
    "    return alpha, diag_inv_K\n",
    "\n",
    "# LOO-CV objective function (negative log-score for minimization)\n",
    "def loo_cv_objective(params, X, y, M,D, normalize_weights=False):\n",
    "    \n",
    "    length_scales_raw = lax.dynamic_slice(params, (0,), (M * D,)).reshape((M,D))\n",
    "    variances_raw = lax.dynamic_slice(params, (M * D,), (M,))\n",
    "    noises_raw = lax.dynamic_slice(params, (M * (D + 1),), (M,))\n",
    "    weights_raw = lax.dynamic_slice(params, (M * (D + 2),), (M,))\n",
    "\n",
    "    \n",
    "    length_scales, variances, noises = transform(length_scales_raw), transform(variances_raw), transform(noises_raw)\n",
    "    weights = transform(weights_raw)\n",
    "    \n",
    "    if normalize_weights:\n",
    "        weights = weights / jnp.sum(weights)\n",
    "    \n",
    "    def gp_loops(length_scale, variance, noise):\n",
    "        K = kernel_matrix(X, X, length_scale, variance, noise)\n",
    "        K_chol = cho_factor(K, lower=True)[0]\n",
    "        alpha, diag_inv_K = compute_alpha_and_diag_inv_K(K_chol, y)  # MAKE SURE y has one dimension => squeeze cabronazo!\n",
    "        \n",
    "        loo_means = y - alpha / diag_inv_K\n",
    "        loo_vars = 1 / diag_inv_K\n",
    "        \n",
    "        return loo_means, loo_vars\n",
    "    \n",
    "    loo_means, loo_vars = vmap(gp_loops)(length_scales, variances, noises)\n",
    "    \n",
    "    # Fuse the means and variances using the product rule with weights\n",
    "    weighted_vars_inv = weights[:, None] / loo_vars\n",
    "    # print(weighted_vars_inv.shape)\n",
    "    fused_vars = 1 / jnp.sum(weighted_vars_inv, axis=0)\n",
    "    # print(fused_vars.shape)\n",
    "    # print(loo_means.shape)\n",
    "    fused_means = fused_vars * jnp.sum(weighted_vars_inv * loo_means, axis=0)\n",
    "\n",
    "    # print(fused_means.shape, fused_vars.shape)\n",
    "    \n",
    "    # LOO predictive log-probability\n",
    "    loo_cv_log_score = -0.5 * jnp.sum(jnp.log(fused_vars.squeeze()) + (y.squeeze() - fused_means.squeeze())**2 / fused_vars.squeeze())\n",
    "    \n",
    "    return -loo_cv_log_score  # Negative for minimization\n",
    "\n",
    "# JIT compile the objective function for faster optimization\n",
    "loo_cv_objective_jit = jit(loo_cv_objective, static_argnames=['M','D',\"normalize_weights\"])\n"
   ]
  },
  {
   "cell_type": "code",
   "execution_count": 485,
   "metadata": {},
   "outputs": [
    {
     "data": {
      "text/plain": [
       "<matplotlib.collections.PathCollection at 0x3f73989d0>"
      ]
     },
     "execution_count": 485,
     "metadata": {},
     "output_type": "execute_result"
    },
    {
     "data": {
      "image/png": "[encoded data removed]",
      "text/plain": [
       "<Figure size 640x480 with 1 Axes>"
      ]
     },
     "metadata": {},
     "output_type": "display_data"
    }
   ],
   "source": [
    "X_train = np.linspace(0,1,15).reshape(-1,1)\n",
    "y_train = np.sin(2*np.pi*X_train).squeeze()\n",
    "y_train = y_train + 0.3*np.random.randn(len(y_train))\n",
    "\n",
    "X_test = jnp.linspace(0,1,300).reshape(-1,1)\n",
    "y_test = jnp.sin(2*jnp.pi*X_test).squeeze()\n",
    "y_test = y_test + 0.3*np.random.randn(len(y_test))\n",
    "\n",
    "plt.scatter(X_train,y_train)"
   ]
  },
  {
   "cell_type": "code",
   "execution_count": 498,
   "metadata": {},
   "outputs": [
    {
     "name": "stdout",
     "output_type": "stream",
     "text": [
      "[2.04137604 3.8977985  4.1582978  4.15859286 4.16980767 4.17145696\n",
      " 4.17148121 4.17158321 4.17148121 4.17145696 4.16980767 4.15859286\n",
      " 4.1582978  3.8977985  2.04137604]\n",
      "[2.04137604 3.8977985  4.1582978  4.15859286 4.16980767 4.17145696\n",
      " 4.17148121 4.17158321 4.17148121 4.17145696 4.16980767 4.15859286\n",
      " 4.1582978  3.8977985  2.04137604]\n"
     ]
    },
    {
     "data": {
      "text/plain": [
       "[<matplotlib.lines.Line2D at 0x3ff1a5780>]"
      ]
     },
     "execution_count": 498,
     "metadata": {},
     "output_type": "execute_result"
    },
    {
     "data": {
      "image/png": "[encoded data removed]",
      "text/plain": [
       "<Figure size 1000x500 with 2 Axes>"
      ]
     },
     "metadata": {},
     "output_type": "display_data"
    }
   ],
   "source": [
    "# Testing that the computation of the alpha and diagonal elements of K_inv are correct:\n",
    "K = kernel_matrix(X_train,X_train,0.1,1,0.1)\n",
    "print(jnp.diag(jax.scipy.linalg.inv(K)))\n",
    "\n",
    "K_cho_factor,_ = cho_factor(K,True)   # True for lower triangular Cholesky decomposition\n",
    "alpha, aqui = compute_alpha_and_diag_inv_K(K_cho_factor,y_train)\n",
    "print(aqui)\n",
    "\n",
    "# If alpha is correct, we should get the same posterior mean\n",
    "def gp_predict(X_train, X_test, length_scale, variance, noise):\n",
    "    K = kernel_matrix(X_train, X_train, length_scale, variance, noise)\n",
    "    K_s = kernel_matrix(X_test, X_train, length_scale, variance, noise, include_noise=False)\n",
    "    K_ss = kernel_matrix(X_test, X_test, length_scale, variance, noise)\n",
    "    \n",
    "    K_chol = cho_factor(K, lower=True)[0]\n",
    "    \n",
    "    alpha = cho_solve((K_chol, True), y_train)\n",
    "    v = cho_solve((K_chol, True), K_s.T)\n",
    "    \n",
    "    mu_s = K_s @ alpha\n",
    "    cov_s = K_ss - K_s @ v\n",
    "    \n",
    "    return mu_s, jnp.diag(cov_s)\n",
    "\n",
    "mu_post, var_post = gp_predict(X_train,X_test,0.1, 1, 0.1)\n",
    "# plt.plot(X_test,mu_post,lw = 3)\n",
    "# plt.fill_between(X_test.squeeze(), mu_post + 2*jnp.sqrt(var_post),\n",
    "#                  mu_post - 2*jnp.sqrt(var_post), alpha = 0.3)\n",
    "\n",
    "my_mu = kernel_matrix(X_test,X_train,0.1,1,0.1,include_noise=False) @ alpha\n",
    "my_var = jnp.diag( kernel_matrix(X_test,X_test,0.1, 1, 0.1) - \\\n",
    "                           kernel_matrix(X_test,X_train,0.1,1,0.1,include_noise=False) @ \\\n",
    "                            cho_solve((K_cho_factor,True), \n",
    "                                      kernel_matrix(X_train,X_test,0.1,1,0.1,include_noise=False))\n",
    "                                      )\n",
    "\n",
    "fig,ax = plt.subplots(figsize = (10,5),ncols=2,nrows=1)\n",
    "ax[0].plot(mu_post,my_mu)\n",
    "ax[0].scatter((-1,1),(-1,1))\n",
    "ax[1].plot(var_post,my_var)\n",
    "# ax[1].scatter((-0.1,0.1),(-0.1,0.1))\n",
    "\n",
    "# plt.plot(X_test,my_mu)\n",
    "# plt.fill_between(X_test.squeeze(), my_mu + 2*jnp.sqrt(my_var),\n",
    "#                  my_mu - 2*jnp.sqrt(my_var), alpha = 0.1)"
   ]
  },
  {
   "cell_type": "code",
   "execution_count": 471,
   "metadata": {},
   "outputs": [
    {
     "name": "stdout",
     "output_type": "stream",
     "text": [
      "Step 0, Loss: 1.0026941113346663\n",
      "Step 100, Loss: -0.892211374000228\n",
      "Step 199, Loss: -1.6567970456021053\n",
      "Optimized Length Scales: [[0.45817712]\n",
      " [0.04652367]\n",
      " [0.04589485]]\n",
      "Optimized Variances: [1.45134565 0.5405079  0.54047033]\n",
      "Optimized Noises: [0.00064372 0.00455322 0.00455295]\n",
      "Optimized Weights: [0.07915235 0.46037968 0.46046797]\n"
     ]
    }
   ],
   "source": [
    "M = 3  # Number of GPs\n",
    "D = X_train.shape[1]\n",
    "\n",
    "\n",
    "# Initial parameters in natura scale (namely, they are constrained to be positive)\n",
    "init_params = jnp.concatenate(\n",
    "(\n",
    "    # 0.1*jnp.ones((D,)),   # lengthscales of the first expert\n",
    "    # 0.5*jnp.ones((D,)),   # lengthscales of the second expert\n",
    "    0.5 - 0.5*jax.random.uniform(jax.random.PRNGKey(42), (M*D,)) ,\n",
    "    1*jnp.ones((M,)),   # variances of the two experts\n",
    "    0.01*jnp.ones((M,)),  # noises of the two experts\n",
    "    jnp.ones((M,))        # weights\n",
    " )\n",
    ")\n",
    "\n",
    "# Inverse transform = inverse softplut\n",
    "init_params = inv_transform(init_params)  \n",
    "\n",
    "# Define the optimizer\n",
    "optimizer = optax.adam(learning_rate=0.01)\n",
    "opt_state = optimizer.init(init_params)\n",
    "\n",
    "# Define the update step\n",
    "@partial(jax.jit, static_argnames=['M', 'D', 'normalize_weights'])\n",
    "def update(params, opt_state, X, y, M, D,normalize_weights):\n",
    "    loss, grads = value_and_grad(loo_cv_objective_jit)(params, X, y, M, D,normalize_weights)\n",
    "    updates, opt_state = optimizer.update(grads, opt_state, params)\n",
    "    params = optax.apply_updates(params, updates)\n",
    "    return loss, params, opt_state\n",
    "\n",
    "# Training loop\n",
    "params = init_params\n",
    "num_steps = 200\n",
    "normalize_weights = True  # Set this flag to True if weights should sum to 1\n",
    "for step in range(num_steps):\n",
    "    loss, params, opt_state = update(params, opt_state, X_train, y_train, M, D,normalize_weights)\n",
    "    if step % 100 == 0 or step == num_steps-1:\n",
    "        print(f\"Step {step}, Loss: {loss}\")\n",
    "\n",
    "# Get the optimized parameters\n",
    "# optimized_params = jnp.exp(params)  # Transform function = exponential\n",
    "# optimized_params = jnp.log(1 + jnp.exp(params))  # Transform function = softplus\n",
    "optimized_params = transform(params)\n",
    "\n",
    "length_scales = optimized_params[:M * X_train.shape[1]].reshape((M, X_train.shape[1]))\n",
    "variances = optimized_params[M * X_train.shape[1]:M * (X_train.shape[1] + 1)]\n",
    "noises = optimized_params[M * (X_train.shape[1] + 1):M * (X_train.shape[1] + 2)]\n",
    "weights = optimized_params[-M:]  # Get the weights as they are (log transformation has already been applied)\n",
    "if normalize_weights:\n",
    "    weights = weights / jnp.sum(weights)\n",
    "\n",
    "print(\"Optimized Length Scales:\", length_scales)\n",
    "print(\"Optimized Variances:\", variances)\n",
    "print(\"Optimized Noises:\", noises)\n",
    "print(\"Optimized Weights:\", weights)"
   ]
  },
  {
   "cell_type": "code",
   "execution_count": 316,
   "metadata": {},
   "outputs": [
    {
     "data": {
      "text/plain": [
       "(3, 3, 3)"
      ]
     },
     "execution_count": 316,
     "metadata": {},
     "output_type": "execute_result"
    }
   ],
   "source": [
    "length_scales.shape[0], variances.shape[0], noises.shape[0]"
   ]
  },
  {
   "cell_type": "code",
   "execution_count": 317,
   "metadata": {},
   "outputs": [
    {
     "name": "stdout",
     "output_type": "stream",
     "text": [
      "(3, 300) (3, 300)\n",
      "(3, 25) (3, 25)\n"
     ]
    }
   ],
   "source": [
    "# Function to make predictions with the optimized GPs\n",
    "def predict_fused_gp(X_train, y_train, X_test, length_scales, variances, noises, weights):\n",
    "    def gp_predict(length_scale, variance, noise):\n",
    "        K = kernel_matrix(X_train, X_train, length_scale, variance, noise)\n",
    "        K_s = kernel_matrix(X_test, X_train, length_scale, variance, noise, include_noise=False)\n",
    "        K_ss = kernel_matrix(X_test, X_test, length_scale, variance, noise)\n",
    "        \n",
    "        K_chol = cho_factor(K, lower=True)[0]\n",
    "        \n",
    "        alpha = cho_solve((K_chol, True), y_train)\n",
    "        v = cho_solve((K_chol, True), K_s.T)\n",
    "        \n",
    "        mu_s = K_s @ alpha\n",
    "        cov_s = K_ss - K_s @ v\n",
    "        \n",
    "        return mu_s, jnp.diag(cov_s)\n",
    "    \n",
    "    mus, covs = vmap(gp_predict)(length_scales, variances, noises) \n",
    "\n",
    "    print(mus.shape, covs.shape)\n",
    "\n",
    "    # if normalize_weights:  # I forgot this here.... pero no hacia falta....\n",
    "    #     weights = weights / jnp.sum(weights)\n",
    "    \n",
    "    weighted_vars_inv = weights[:, None] / covs\n",
    "    fused_vars = 1 / jnp.sum(weighted_vars_inv, axis=0)\n",
    "    fused_means = fused_vars * jnp.sum(weighted_vars_inv * mus, axis=0)\n",
    "    \n",
    "    return fused_means, fused_vars, mus, covs\n",
    "\n",
    "\n",
    "# Make predictions\n",
    "mu_tst, var_tst, mus, covs = predict_fused_gp(X_train, y_train, X_test, length_scales, variances, noises, weights)\n",
    "mu_tr, var_tr, _ , _ = predict_fused_gp(X_train, y_train, X_train, length_scales, variances, noises, weights)\n"
   ]
  },
  {
   "cell_type": "code",
   "execution_count": 318,
   "metadata": {},
   "outputs": [
    {
     "data": {
      "image/png": "[encoded data removed]",
      "text/plain": [
       "<Figure size 640x480 with 1 Axes>"
      ]
     },
     "metadata": {},
     "output_type": "display_data"
    }
   ],
   "source": [
    "import matplotlib as mpl\n",
    "cmap = mpl.colormaps['plasma']\n",
    "colors = cmap(np.linspace(0, 1,M))\n",
    "\n",
    "plt.scatter(X_train, y_train)\n",
    "plt.plot(X_test,mu_tst, label = \"fused\", lw=10)\n",
    "plt.fill_between(X_test.squeeze(),mu_tst + 2*jnp.sqrt(var_tst),\n",
    "                 mu_tst - 2*jnp.sqrt(var_tst), alpha=0.3)\n",
    "for m in range(M):\n",
    "    plt.plot(X_test, mus[m,:], label = f\"{m}-th expert\", color = colors[m])\n",
    "\n",
    "plt.legend() ;"
   ]
  },
  {
   "cell_type": "code",
   "execution_count": 319,
   "metadata": {},
   "outputs": [
    {
     "name": "stdout",
     "output_type": "stream",
     "text": [
      "NLPD Train:  [-1.00694228]\n",
      "NLPD Test:  [2.88472895]\n",
      "RMSE Train:  0.04346605470811169\n",
      "RMSE Test:  0.397776970357993\n"
     ]
    }
   ],
   "source": [
    "print(\"NLPD Train: \", compute_neg_log_like(mus=mu_tr,stds=jnp.sqrt(var_tr),y_test=y_train))\n",
    "print(\"NLPD Test: \",  compute_neg_log_like(mus=mu_tst,stds=jnp.sqrt(var_tst),y_test=y_test))\n",
    "\n",
    "print(\"RMSE Train: \", jnp.sqrt( jnp.mean( (mu_tr.squeeze() - y_train.squeeze())**2 ) ))\n",
    "print(\"RMSE Test: \", jnp.sqrt( jnp.mean( (mu_tst.squeeze() - y_test.squeeze())**2 ) ))"
   ]
  },
  {
   "cell_type": "code",
   "execution_count": 320,
   "metadata": {},
   "outputs": [
    {
     "data": {
      "text/plain": [
       "(Array([[0.13509055],\n",
       "        [0.06540309],\n",
       "        [0.06384987]], dtype=float64),\n",
       " Array([1., 1., 1.], dtype=float64))"
      ]
     },
     "execution_count": 320,
     "metadata": {},
     "output_type": "execute_result"
    }
   ],
   "source": [
    "transform(init_params[:M * D].reshape(M,D)), transform(init_params[M * D : M * (D + 1)].reshape((M,)))"
   ]
  },
  {
   "cell_type": "code",
   "execution_count": 321,
   "metadata": {},
   "outputs": [
    {
     "name": "stdout",
     "output_type": "stream",
     "text": [
      "(3, 300) (3, 300)\n",
      "(3, 25) (3, 25)\n",
      "NLPD Train:  [1.26413315]\n",
      "NLPD Test:  [9.36923912]\n",
      "RMSE Train:  0.17609229857700476\n",
      "RMSE Test:  0.3418717739842596\n"
     ]
    }
   ],
   "source": [
    "# Make predictions\n",
    "mu_tst, var_tst,mus,covs = predict_fused_gp(X_train, y_train, X_test, \n",
    "                             transform(init_params[:M * D].reshape(M,D)), \n",
    "                             transform(init_params[M * D : M * (D + 1)].reshape((M,))), \n",
    "                             transform(init_params[M * (D + 1):M * (D + 2)].reshape((M,))), \n",
    "                             transform(init_params[M * (D + 2):].reshape((M,))),\n",
    "                             )\n",
    "mu_tr, var_tr,_,_ = predict_fused_gp(X_train, y_train, X_train, jnp.exp(init_params[:M * D].reshape(M,D)), \n",
    "                             transform(init_params[M * D : M * (D + 1)].reshape((M,))), \n",
    "                             transform(init_params[M * (D + 1):M * (D + 2)].reshape((M,))), \n",
    "                             transform(init_params[M * (D + 2):].reshape((M,))),\n",
    "                             )\n",
    "\n",
    "print(\"NLPD Train: \", compute_neg_log_like(mus=mu_tr,stds=jnp.sqrt(var_tr),y_test=y_train))\n",
    "print(\"NLPD Test: \",  compute_neg_log_like(mus=mu_tst,stds=jnp.sqrt(var_tst),y_test=y_test))\n",
    "\n",
    "print(\"RMSE Train: \", jnp.sqrt( jnp.mean( (mu_tr.squeeze() - y_train.squeeze())**2 ) ))\n",
    "print(\"RMSE Test: \", jnp.sqrt( jnp.mean( (mu_tst.squeeze() - y_test.squeeze())**2 ) ))"
   ]
  },
  {
   "cell_type": "code",
   "execution_count": 322,
   "metadata": {},
   "outputs": [
    {
     "data": {
      "image/png": "[encoded data removed]",
      "text/plain": [
       "<Figure size 640x480 with 1 Axes>"
      ]
     },
     "metadata": {},
     "output_type": "display_data"
    }
   ],
   "source": [
    "plt.scatter(X_train, y_train)\n",
    "plt.plot(X_test,mu_tst, label = \"fused\", lw = 10)\n",
    "plt.fill_between(X_test.squeeze(),mu_tst + 2*jnp.sqrt(var_tst),\n",
    "                 mu_tst - 2*jnp.sqrt(var_tst), alpha=0.3)\n",
    "for m in range(M):\n",
    "    plt.plot(X_test, mus[m,:], label = f\"{m}-th expert\", color = colors[m])\n",
    "\n",
    "plt.legend()  \n",
    "plt.title(\"Using initial values\");"
   ]
  },
  {
   "cell_type": "code",
   "execution_count": 501,
   "metadata": {},
   "outputs": [
    {
     "name": "stdout",
     "output_type": "stream",
     "text": [
      "tensor([[0.6931]], grad_fn=<SoftplusBackward0>) tensor(0.6931, grad_fn=<SoftplusBackward0>) ZeroMean() tensor([0.6932], grad_fn=<AddBackward0>)\n",
      "Parameter name: likelihood.noise_covar.raw_noise           value = 0.0\n",
      "Parameter name: covar_module.raw_outputscale               value = 0.0\n",
      "Parameter name: covar_module.base_kernel.raw_lengthscale   value = 0.0\n"
     ]
    }
   ],
   "source": [
    "import gpytorch\n",
    "from modules.model_training import GPModel, to_torch\n",
    "\n",
    "likelihood = gpytorch.likelihoods.GaussianLikelihood(\n",
    "        noise_constraint=gpytorch.constraints.GreaterThan(1e-4)\n",
    "        )\n",
    "\n",
    "model = GPModel(to_torch(X_train), to_torch(y_train).squeeze(-1), \n",
    "                likelihood,\n",
    "                kernel = None,\n",
    "                mean = gpytorch.means.ZeroMean(),\n",
    "                 )\n",
    "print(\n",
    "model.covar_module.base_kernel.lengthscale,\n",
    "model.covar_module.outputscale,\n",
    "model.mean_module,\n",
    "model.likelihood.noise_covar.noise,\n",
    ")\n",
    "\n",
    "for param_name, param in model.named_parameters():\n",
    "    print(f'Parameter name: {param_name:42} value = {param.item()}')"
   ]
  },
  {
   "cell_type": "code",
   "execution_count": 503,
   "metadata": {},
   "outputs": [
    {
     "data": {
      "text/plain": [
       "Array([0.6931472], dtype=float32)"
      ]
     },
     "execution_count": 503,
     "metadata": {},
     "output_type": "execute_result"
    }
   ],
   "source": [
    "transform(likelihood.noise_covar.raw_noise.detach().numpy())"
   ]
  },
  {
   "cell_type": "markdown",
   "metadata": {},
   "source": [
    "## UCI dataset"
   ]
  },
  {
   "cell_type": "code",
   "execution_count": 417,
   "metadata": {},
   "outputs": [
    {
     "name": "stdout",
     "output_type": "stream",
     "text": [
      "housing dataset, N=506, d=13\n"
     ]
    }
   ],
   "source": [
    "from uci_datasets import Dataset\n",
    "dataset_names = [\"autos\", 'housing','stock','sml',\n",
    "                 'elevators','breastcancer','forest','gas',\n",
    "                 ]\n",
    "\n",
    "\n",
    "dataset_name = dataset_names[1]\n",
    "full_dataset = Dataset(dataset_name)\n",
    "N,DIM = full_dataset.x.shape\n",
    "\n",
    "from sklearn.model_selection import train_test_split\n",
    "\n",
    "# X = full_dataset.x / np.std(full_dataset.x, axis=0)[None, :]\n",
    "# y = full_dataset.y / np.std(full_dataset.y, axis=0)\n",
    "# X_train, X_test, y_train, y_test = train_test_split(X, y, test_size=0.1)\n",
    "# y_train = y_train.squeeze()\n",
    "# y_test = y_test.squeeze()\n",
    "# load_data uses the normalized dataset, i.e., full_dataset.x and full_dataset.y have unit variance\n",
    "split = 0\n",
    "X_train,y_train,X_test,y_test,_ = load_data(dataset_name,split)"
   ]
  },
  {
   "cell_type": "code",
   "execution_count": 418,
   "metadata": {},
   "outputs": [
    {
     "data": {
      "text/plain": [
       "array([0.92630203, 1.0072248 , 0.9873066 , 1.00669779, 0.98479635,\n",
       "       1.00126162, 1.00985089, 0.98640581, 1.00239999, 0.99995377,\n",
       "       0.98726737, 0.96230384, 0.9794359 ])"
      ]
     },
     "execution_count": 418,
     "metadata": {},
     "output_type": "execute_result"
    }
   ],
   "source": [
    "np.std(X_train, axis=0)"
   ]
  },
  {
   "cell_type": "code",
   "execution_count": 419,
   "metadata": {},
   "outputs": [],
   "source": [
    "%%script true\n",
    "X_train = X_train[::3]\n",
    "y_train = y_train[::3].squeeze()\n",
    "y_test = y_test.squeeze()"
   ]
  },
  {
   "cell_type": "code",
   "execution_count": 420,
   "metadata": {},
   "outputs": [
    {
     "data": {
      "text/plain": [
       "((456, 13), (456,))"
      ]
     },
     "execution_count": 420,
     "metadata": {},
     "output_type": "execute_result"
    }
   ],
   "source": [
    "X_train.shape, y_train.shape"
   ]
  },
  {
   "cell_type": "code",
   "execution_count": 433,
   "metadata": {},
   "outputs": [
    {
     "name": "stderr",
     "output_type": "stream",
     "text": [
      "  1%|          | 1/100 [00:01<03:16,  1.98s/it]"
     ]
    },
    {
     "name": "stdout",
     "output_type": "stream",
     "text": [
      "Step 0, Loss: 234.1910863700006\n"
     ]
    },
    {
     "name": "stderr",
     "output_type": "stream",
     "text": [
      "100%|██████████| 100/100 [00:25<00:00,  3.88it/s]"
     ]
    },
    {
     "name": "stdout",
     "output_type": "stream",
     "text": [
      "Step 99, Loss: -374.06872570737596\n",
      "Optimized Length Scales: [[3.43434855 4.77465814 4.23042901 0.1        0.95203179 2.91919884\n",
      "  2.83342696 0.83343712 1.95228718 0.66036642 4.05125349 2.01302312\n",
      "  1.12583726]\n",
      " [3.43434855 4.77465814 4.23042901 0.1        0.95203179 2.91919884\n",
      "  2.83342696 0.83343712 1.95228718 0.66036642 4.05125349 2.01302312\n",
      "  1.12583726]]\n",
      "Optimized Variances: [0.78821616 0.78821616]\n",
      "Optimized Noises: [0.02877524 0.02877524]\n",
      "Optimized Weights: [0.5 0.5]\n"
     ]
    },
    {
     "name": "stderr",
     "output_type": "stream",
     "text": [
      "\n"
     ]
    }
   ],
   "source": [
    "M = 2  # Number of GPs\n",
    "D = X_train.shape[1]\n",
    "\n",
    "\n",
    "# Initial parameters: length_scale, variance, noise, weights (they have to be positive!)\n",
    "init_params = jnp.concatenate(\n",
    "(\n",
    "    # 0.1*jnp.ones((D,)), 0.5*jnp.ones((D,)), 1*jnp.ones((D,)),\n",
    "    # 0.5 - 0.5*jax.random.uniform(jax.random.PRNGKey(42), (M*D,)) ,\n",
    "    0.1*jnp.ones((M*D,)),\n",
    "    jnp.ones((M,)),\n",
    "    0.2*jnp.ones((M,)),\n",
    "    jnp.ones((M,))\n",
    "    )\n",
    ")\n",
    "\n",
    "init_params = inv_transform(init_params)\n",
    "\n",
    "# Define the optimizer\n",
    "optimizer = optax.adam(learning_rate=0.1)\n",
    "opt_state = optimizer.init(init_params)\n",
    "\n",
    "# Define the update step\n",
    "@partial(jax.jit, static_argnames=['M', 'D', 'normalize_weights'])\n",
    "def update(params, opt_state, X, y, M, D,normalize_weights):\n",
    "    loss, grads = value_and_grad(loo_cv_objective_jit)(params, X, y, M, D,normalize_weights)\n",
    "    updates, opt_state = optimizer.update(grads, opt_state, params)\n",
    "    params = optax.apply_updates(params, updates)\n",
    "    return loss, params, opt_state\n",
    "\n",
    "# Training loop\n",
    "params = init_params\n",
    "num_steps = 100\n",
    "normalize_weights = True  # Set this flag to True if weights should sum to 1\n",
    "losses = []\n",
    "for step in tqdm.tqdm(range(num_steps)):\n",
    "    loss, params, opt_state = update(params, opt_state, X_train, y_train, M, D,normalize_weights)\n",
    "    losses.append(loss)\n",
    "    if step % 100 == 0 or step == num_steps-1:\n",
    "        print(f\"Step {step}, Loss: {loss}\")\n",
    "\n",
    "# Get the optimized parameters\n",
    "optimized_params = transform(params)\n",
    "\n",
    "length_scales = optimized_params[:M * D].reshape((M, D))\n",
    "variances = optimized_params[M * D:M * (D + 1)]\n",
    "noises = optimized_params[M * (D + 1):M * (D + 2)]\n",
    "weights = optimized_params[-M:]  # Get the weights as they are (log transformation has already been applied)\n",
    "if normalize_weights:\n",
    "    weights = weights / jnp.sum(weights)\n",
    "\n",
    "print(\"Optimized Length Scales:\", length_scales)\n",
    "print(\"Optimized Variances:\", variances)\n",
    "print(\"Optimized Noises:\", noises)\n",
    "print(\"Optimized Weights:\", weights)"
   ]
  },
  {
   "cell_type": "code",
   "execution_count": 434,
   "metadata": {},
   "outputs": [
    {
     "data": {
      "text/plain": [
       "[<matplotlib.lines.Line2D at 0x3ef89ddb0>]"
      ]
     },
     "execution_count": 434,
     "metadata": {},
     "output_type": "execute_result"
    },
    {
     "data": {
      "image/png": "[encoded data removed]",
      "text/plain": [
       "<Figure size 640x480 with 1 Axes>"
      ]
     },
     "metadata": {},
     "output_type": "display_data"
    }
   ],
   "source": [
    "plt.plot(losses)"
   ]
  },
  {
   "cell_type": "code",
   "execution_count": 435,
   "metadata": {},
   "outputs": [
    {
     "name": "stdout",
     "output_type": "stream",
     "text": [
      "(2, 50) (2, 50)\n",
      "(2, 456) (2, 456)\n",
      "NLPD Train:  [-0.48878633]\n",
      "NLPD Test:  [0.08352257]\n",
      "RMSE Train:  0.11388113514564684\n",
      "RMSE Test:  0.3340788383102606\n",
      "--------  Below, using initial parameter values -------\n",
      "(2, 50) (2, 50)\n",
      "(2, 456) (2, 456)\n",
      "NLPD Train:  [0.14751433]\n",
      "NLPD Test:  [1.32756268]\n",
      "RMSE Train:  0.16795845110822266\n",
      "RMSE Test:  0.8924902681255349\n"
     ]
    }
   ],
   "source": [
    "# Make predictions\n",
    "mu_tst, var_tst,_,_ = predict_fused_gp(X_train, y_train, X_test, length_scales, variances, noises, weights)\n",
    "mu_tr, var_tr,_,_ = predict_fused_gp(X_train, y_train, X_train, length_scales, variances, noises, weights)\n",
    "\n",
    "print(\"NLPD Train: \", compute_neg_log_like(mus=mu_tr,stds=jnp.sqrt(var_tr),y_test=y_train))\n",
    "print(\"NLPD Test: \",  compute_neg_log_like(mus=mu_tst,stds=jnp.sqrt(var_tst),y_test=y_test))\n",
    "\n",
    "print(\"RMSE Train: \", jnp.sqrt( jnp.mean( (mu_tr.squeeze() - y_train.squeeze())**2 ) ))\n",
    "print(\"RMSE Test: \", jnp.sqrt( jnp.mean( (mu_tst.squeeze() - y_test.squeeze())**2 ) ))\n",
    "\n",
    "\n",
    "print(\"--------  Below, using initial parameter values -------\")\n",
    "# Make predictions\n",
    "mu_tst, var_tst,_,_ = predict_fused_gp(X_train, y_train, X_test, \n",
    "                             transform(init_params[:M * D].reshape(M,D)), \n",
    "                             transform(init_params[M * D : M * (D + 1)].reshape((M,))), \n",
    "                             transform(init_params[M * (D + 1):M * (D + 2)].reshape((M,))), \n",
    "                             transform(init_params[M * (D + 2):].reshape((M,))),\n",
    "                             )\n",
    "mu_tr, var_tr,_,_ = predict_fused_gp(X_train, y_train, X_train, jnp.exp(init_params[:M * D].reshape(M,D)), \n",
    "                             transform(init_params[M * D : M * (D + 1)].reshape((M,))), \n",
    "                             transform(init_params[M * (D + 1):M * (D + 2)].reshape((M,))), \n",
    "                             transform(init_params[M * (D + 2):].reshape((M,))),\n",
    "                             )\n",
    "\n",
    "print(\"NLPD Train: \", compute_neg_log_like(mus=mu_tr,stds=jnp.sqrt(var_tr),y_test=y_train))\n",
    "print(\"NLPD Test: \",  compute_neg_log_like(mus=mu_tst,stds=jnp.sqrt(var_tst),y_test=y_test))\n",
    "print(\"RMSE Train: \", jnp.sqrt( jnp.mean( (mu_tr.squeeze() - y_train.squeeze())**2 ) ))\n",
    "print(\"RMSE Test: \", jnp.sqrt( jnp.mean( (mu_tst.squeeze() - y_test.squeeze())**2 ) ))"
   ]
  },
  {
   "cell_type": "markdown",
   "metadata": {},
   "source": [
    "## With projections"
   ]
  },
  {
   "cell_type": "code",
   "execution_count": 447,
   "metadata": {},
   "outputs": [],
   "source": [
    "# LOO-CV objective function (negative log-score for minimization)\n",
    "def loo_cv_objective(params, X, y, M,proj_dim, normalize_weights=False, proj_seed = 42):\n",
    "\n",
    "    N,DIM = X.shape\n",
    "\n",
    "    length_scales_raw = lax.dynamic_slice(params, (0,), (M * proj_dim,)).reshape((M,proj_dim))\n",
    "    variances_raw = lax.dynamic_slice(params, (M * proj_dim,), (M,))\n",
    "    noises_raw = lax.dynamic_slice(params, (M * (proj_dim + 1),), (M,))\n",
    "    weights_raw = lax.dynamic_slice(params, (M * (proj_dim + 2),), (M,))\n",
    "  \n",
    "    length_scales, variances, noises = transform(length_scales_raw), transform(variances_raw), transform(noises_raw)\n",
    "\n",
    "\n",
    "    weights = transform(weights_raw)\n",
    "\n",
    "\n",
    "    X_reps = jnp.tile(jnp.expand_dims(X,0), (M,1,1))\n",
    "    P_projs = jax.random.normal(jax.random.PRNGKey(proj_seed), (M,DIM, proj_dim))/jnp.sqrt(proj_dim)   \n",
    "    X_projs = jax.vmap(lambda A,B: (A @ B).squeeze(), in_axes=(0, 0))(X_reps, P_projs)\n",
    "    assert X_projs.shape == (M,N,proj_dim)\n",
    "\n",
    "    \n",
    "    if normalize_weights:\n",
    "        weights = weights / jnp.sum(weights)\n",
    "    \n",
    "    def gp_loops(X,length_scale, variance, noise):\n",
    "        K = kernel_matrix(X, X, length_scale, variance, noise)\n",
    "        K_chol = cho_factor(K, lower=True)[0]\n",
    "        alpha, diag_inv_K = compute_alpha_and_diag_inv_K(K_chol, y)\n",
    "        \n",
    "        loo_means = y - alpha / diag_inv_K\n",
    "        loo_vars = 1 / diag_inv_K\n",
    "        \n",
    "        return loo_means, loo_vars\n",
    "    \n",
    "    loo_means, loo_vars = vmap(gp_loops)(X_projs,length_scales, variances, noises)\n",
    "    \n",
    "    # Fuse the means and variances using the product rule with weights\n",
    "    weighted_vars_inv = weights[:, None] / loo_vars\n",
    "    fused_vars = 1 / jnp.sum(weighted_vars_inv, axis=0)\n",
    "    fused_means = fused_vars * jnp.sum(weighted_vars_inv * loo_means, axis=0)\n",
    "    \n",
    "    # LOO predictive log-probability\n",
    "    loo_cv_log_score = -0.5 * jnp.sum(jnp.log(fused_vars.squeeze()) + (y.squeeze() - fused_means.squeeze())**2 / fused_vars.squeeze())\n",
    "    \n",
    "    return -loo_cv_log_score  # Negative for minimization\n",
    "\n",
    "# JIT compile the objective function for faster optimization\n",
    "loo_cv_objective_with_projs_jit = jit(loo_cv_objective, static_argnames=['M','proj_dim',\"normalize_weights\"])\n"
   ]
  },
  {
   "cell_type": "code",
   "execution_count": 448,
   "metadata": {},
   "outputs": [
    {
     "data": {
      "text/plain": [
       "Array(232.46868895, dtype=float64)"
      ]
     },
     "execution_count": 448,
     "metadata": {},
     "output_type": "execute_result"
    }
   ],
   "source": [
    "M=1\n",
    "proj_dim = X_train.shape[1]\n",
    "init_params = jnp.concatenate(\n",
    "    (\n",
    "        0.1*jnp.ones((M * proj_dim,)),      # lengthscales\n",
    "        1.0*jnp.ones((M,)),                 # variances\n",
    "        0.2*jnp.ones((M,)),                 # noises\n",
    "        jnp.ones((M,)),                     # weights\n",
    "        ),                   \n",
    ")\n",
    "init_params = inv_transform(init_params)\n",
    "loo_cv_objective_with_projs_jit(init_params,X_train,y_train,M,proj_dim,True,proj_seed=2)"
   ]
  },
  {
   "cell_type": "code",
   "execution_count": 456,
   "metadata": {},
   "outputs": [
    {
     "name": "stderr",
     "output_type": "stream",
     "text": [
      "  0%|          | 0/100 [00:00<?, ?it/s]"
     ]
    },
    {
     "name": "stderr",
     "output_type": "stream",
     "text": [
      "/Library/Frameworks/Python.framework/Versions/3.10/lib/python3.10/site-packages/jax/_src/core.py:678: FutureWarning: unhashable type: <class 'jax._src.interpreters.partial_eval.DynamicJaxprTracer'>. Attempting to hash a tracer will lead to an error in a future JAX release.\n",
      "  warnings.warn(\n",
      "  0%|          | 0/100 [00:00<?, ?it/s]\n"
     ]
    },
    {
     "ename": "TypeError",
     "evalue": "index arguments to dynamic_slice must be integers of the same type, got: bool",
     "output_type": "error",
     "traceback": [
      "\u001b[0;31m---------------------------------------------------------------------------\u001b[0m",
      "\u001b[0;31mTypeError\u001b[0m                                 Traceback (most recent call last)",
      "Cell \u001b[0;32mIn[456], line 21\u001b[0m\n\u001b[1;32m     18\u001b[0m losses \u001b[38;5;241m=\u001b[39m []\n\u001b[1;32m     20\u001b[0m \u001b[38;5;28;01mfor\u001b[39;00m step \u001b[38;5;129;01min\u001b[39;00m tqdm\u001b[38;5;241m.\u001b[39mtqdm(\u001b[38;5;28mrange\u001b[39m(num_steps)):\n\u001b[0;32m---> 21\u001b[0m     loss, params, opt_state \u001b[38;5;241m=\u001b[39m \u001b[43mupdate\u001b[49m\u001b[43m(\u001b[49m\u001b[43mparams\u001b[49m\u001b[43m,\u001b[49m\u001b[43m \u001b[49m\u001b[43mopt_state\u001b[49m\u001b[43m,\u001b[49m\u001b[43m \u001b[49m\u001b[43mX_train\u001b[49m\u001b[43m,\u001b[49m\u001b[43m \u001b[49m\u001b[43my_train\u001b[49m\u001b[43m,\u001b[49m\u001b[43m \u001b[49m\u001b[43mM\u001b[49m\u001b[43m,\u001b[49m\u001b[43m \u001b[49m\u001b[43mproj_dim\u001b[49m\u001b[43m,\u001b[49m\u001b[43mnormalize_weights\u001b[49m\u001b[43m,\u001b[49m\u001b[43mproj_seed\u001b[49m\u001b[43m)\u001b[49m\n\u001b[1;32m     22\u001b[0m     losses\u001b[38;5;241m.\u001b[39mappend(loss)\n\u001b[1;32m     23\u001b[0m     \u001b[38;5;28;01mif\u001b[39;00m step \u001b[38;5;241m%\u001b[39m \u001b[38;5;241m100\u001b[39m \u001b[38;5;241m==\u001b[39m \u001b[38;5;241m0\u001b[39m \u001b[38;5;129;01mor\u001b[39;00m step \u001b[38;5;241m==\u001b[39m num_steps\u001b[38;5;241m-\u001b[39m\u001b[38;5;241m1\u001b[39m:\n",
      "    \u001b[0;31m[... skipping hidden 11 frame]\u001b[0m\n",
      "Cell \u001b[0;32mIn[456], line 8\u001b[0m, in \u001b[0;36mupdate\u001b[0;34m(params, opt_state, X, y, M, proj_dim, normalize_weights, proj_seed)\u001b[0m\n\u001b[1;32m      6\u001b[0m \u001b[38;5;129m@partial\u001b[39m(jax\u001b[38;5;241m.\u001b[39mjit, static_argnames\u001b[38;5;241m=\u001b[39m[\u001b[38;5;124m'\u001b[39m\u001b[38;5;124mM\u001b[39m\u001b[38;5;124m'\u001b[39m, \u001b[38;5;124m'\u001b[39m\u001b[38;5;124mproj_dim\u001b[39m\u001b[38;5;124m'\u001b[39m, \u001b[38;5;124m'\u001b[39m\u001b[38;5;124mnormalize_weights\u001b[39m\u001b[38;5;124m'\u001b[39m])\n\u001b[1;32m      7\u001b[0m \u001b[38;5;28;01mdef\u001b[39;00m \u001b[38;5;21mupdate\u001b[39m(params, opt_state, X, y, M, proj_dim,normalize_weights,proj_seed):\n\u001b[0;32m----> 8\u001b[0m     loss, grads \u001b[38;5;241m=\u001b[39m \u001b[43mvalue_and_grad\u001b[49m\u001b[43m(\u001b[49m\u001b[43mloo_cv_objective_with_projs_jit\u001b[49m\u001b[43m)\u001b[49m\u001b[43m(\u001b[49m\u001b[43mparams\u001b[49m\u001b[43m,\u001b[49m\u001b[43m \u001b[49m\u001b[43mX\u001b[49m\u001b[43m,\u001b[49m\u001b[43m \u001b[49m\u001b[43my\u001b[49m\u001b[43m,\u001b[49m\u001b[43m \u001b[49m\u001b[43mM\u001b[49m\u001b[43m,\u001b[49m\u001b[43m \u001b[49m\u001b[43mproj_dim\u001b[49m\u001b[43m,\u001b[49m\u001b[43mnormalize_weights\u001b[49m\u001b[43m,\u001b[49m\u001b[43mproj_seed\u001b[49m\u001b[43m)\u001b[49m\n\u001b[1;32m      9\u001b[0m     updates, opt_state \u001b[38;5;241m=\u001b[39m optimizer\u001b[38;5;241m.\u001b[39mupdate(grads, opt_state, params)\n\u001b[1;32m     10\u001b[0m     params \u001b[38;5;241m=\u001b[39m optax\u001b[38;5;241m.\u001b[39mapply_updates(params, updates)\n",
      "    \u001b[0;31m[... skipping hidden 19 frame]\u001b[0m\n",
      "Cell \u001b[0;32mIn[455], line 7\u001b[0m, in \u001b[0;36mloo_cv_objective\u001b[0;34m(params, X, y, M, proj_dim, dim, normalize_weights, proj_seed)\u001b[0m\n\u001b[1;32m      4\u001b[0m N,DIM \u001b[38;5;241m=\u001b[39m X\u001b[38;5;241m.\u001b[39mshape\n\u001b[1;32m      6\u001b[0m length_scales_raw \u001b[38;5;241m=\u001b[39m lax\u001b[38;5;241m.\u001b[39mdynamic_slice(params, (\u001b[38;5;241m0\u001b[39m,), (dim,))\u001b[38;5;241m.\u001b[39mreshape((dim))\n\u001b[0;32m----> 7\u001b[0m variances_raw \u001b[38;5;241m=\u001b[39m \u001b[43mlax\u001b[49m\u001b[38;5;241;43m.\u001b[39;49m\u001b[43mdynamic_slice\u001b[49m\u001b[43m(\u001b[49m\u001b[43mparams\u001b[49m\u001b[43m,\u001b[49m\u001b[43m \u001b[49m\u001b[43m(\u001b[49m\u001b[43mdim\u001b[49m\u001b[43m,\u001b[49m\u001b[43m)\u001b[49m\u001b[43m,\u001b[49m\u001b[43m \u001b[49m\u001b[43m(\u001b[49m\u001b[43mM\u001b[49m\u001b[43m,\u001b[49m\u001b[43m)\u001b[49m\u001b[43m)\u001b[49m\n\u001b[1;32m      8\u001b[0m noises_raw \u001b[38;5;241m=\u001b[39m lax\u001b[38;5;241m.\u001b[39mdynamic_slice(params, (M \u001b[38;5;241m+\u001b[39m dim,), (M,))\n\u001b[1;32m      9\u001b[0m weights_raw \u001b[38;5;241m=\u001b[39m lax\u001b[38;5;241m.\u001b[39mdynamic_slice(params, (M \u001b[38;5;241m*\u001b[39m \u001b[38;5;241m2\u001b[39m \u001b[38;5;241m+\u001b[39m dim,), (M,))\n",
      "    \u001b[0;31m[... skipping hidden 8 frame]\u001b[0m\n",
      "File \u001b[0;32m/Library/Frameworks/Python.framework/Versions/3.10/lib/python3.10/site-packages/jax/_src/lax/slicing.py:1212\u001b[0m, in \u001b[0;36m_dynamic_slice_dtype_rule\u001b[0;34m(operand, slice_sizes, *starts_and_dyn_sizes)\u001b[0m\n\u001b[1;32m   1208\u001b[0m \u001b[38;5;28;01mif\u001b[39;00m \u001b[38;5;28many\u001b[39m(i\u001b[38;5;241m.\u001b[39mdtype \u001b[38;5;241m!=\u001b[39m start_indices[\u001b[38;5;241m0\u001b[39m]\u001b[38;5;241m.\u001b[39mdtype \u001b[38;5;129;01mor\u001b[39;00m\n\u001b[1;32m   1209\u001b[0m        \u001b[38;5;129;01mnot\u001b[39;00m dtypes\u001b[38;5;241m.\u001b[39missubdtype(i\u001b[38;5;241m.\u001b[39mdtype, np\u001b[38;5;241m.\u001b[39minteger) \u001b[38;5;28;01mfor\u001b[39;00m i \u001b[38;5;129;01min\u001b[39;00m start_indices):\n\u001b[1;32m   1210\u001b[0m   msg \u001b[38;5;241m=\u001b[39m (\u001b[38;5;124m\"\u001b[39m\u001b[38;5;124mindex arguments to dynamic_slice must be integers of the same \u001b[39m\u001b[38;5;124m\"\u001b[39m\n\u001b[1;32m   1211\u001b[0m          \u001b[38;5;124m\"\u001b[39m\u001b[38;5;124mtype, got: \u001b[39m\u001b[38;5;132;01m{}\u001b[39;00m\u001b[38;5;124m\"\u001b[39m)\n\u001b[0;32m-> 1212\u001b[0m   \u001b[38;5;28;01mraise\u001b[39;00m \u001b[38;5;167;01mTypeError\u001b[39;00m(msg\u001b[38;5;241m.\u001b[39mformat(\u001b[38;5;124m\"\u001b[39m\u001b[38;5;124m, \u001b[39m\u001b[38;5;124m\"\u001b[39m\u001b[38;5;241m.\u001b[39mjoin(i\u001b[38;5;241m.\u001b[39mdtype\u001b[38;5;241m.\u001b[39mname \u001b[38;5;28;01mfor\u001b[39;00m i \u001b[38;5;129;01min\u001b[39;00m start_indices)))\n\u001b[1;32m   1213\u001b[0m \u001b[38;5;28;01mreturn\u001b[39;00m operand\u001b[38;5;241m.\u001b[39mdtype\n",
      "\u001b[0;31mTypeError\u001b[0m: index arguments to dynamic_slice must be integers of the same type, got: bool"
     ]
    }
   ],
   "source": [
    "# Define the optimizer\n",
    "optimizer = optax.adam(learning_rate=0.1)\n",
    "opt_state = optimizer.init(init_params)\n",
    "\n",
    "# Define the update step\n",
    "@partial(jax.jit, static_argnames=['M', 'proj_dim', 'normalize_weights'])\n",
    "def update(params, opt_state, X, y, M, proj_dim,normalize_weights,proj_seed):\n",
    "    loss, grads = value_and_grad(loo_cv_objective_with_projs_jit)(params, X, y, M, proj_dim,normalize_weights,proj_seed)\n",
    "    updates, opt_state = optimizer.update(grads, opt_state, params)\n",
    "    params = optax.apply_updates(params, updates)\n",
    "    return loss, params, opt_state\n",
    "\n",
    "# Training loop\n",
    "params = init_params\n",
    "num_steps = 100\n",
    "normalize_weights = True  # Set this flag to True if weights should sum to 1\n",
    "proj_seed = 2\n",
    "losses = []\n",
    "\n",
    "for step in tqdm.tqdm(range(num_steps)):\n",
    "    loss, params, opt_state = update(params, opt_state, X_train, y_train, M, proj_dim,normalize_weights,proj_seed)\n",
    "    losses.append(loss)\n",
    "    if step % 100 == 0 or step == num_steps-1:\n",
    "        print(f\"Step {step}, Loss: {loss}\")\n",
    "\n",
    "# Get the optimized parameters\n",
    "optimized_params = transform(params) \n",
    "length_scales = optimized_params[:M * proj_dim].reshape((M, proj_dim))\n",
    "variances = optimized_params[M * proj_dim:M * (proj_dim + 1)]\n",
    "noises = optimized_params[M * (proj_dim + 1):M * (proj_dim + 2)]\n",
    "weights = optimized_params[-M:]  \n",
    "if normalize_weights:\n",
    "    weights = weights / jnp.sum(weights)\n",
    "\n",
    "print(\"Optimized Length Scales:\", length_scales)\n",
    "print(\"Optimized Variances:\", variances)\n",
    "print(\"Optimized Noises:\", noises)\n",
    "print(\"Optimized Weights:\", weights)"
   ]
  },
  {
   "cell_type": "code",
   "execution_count": 450,
   "metadata": {},
   "outputs": [
    {
     "data": {
      "text/plain": [
       "[<matplotlib.lines.Line2D at 0x3f2699180>]"
      ]
     },
     "execution_count": 450,
     "metadata": {},
     "output_type": "execute_result"
    },
    {
     "data": {
      "image/png": "[encoded data removed]",
      "text/plain": [
       "<Figure size 640x480 with 1 Axes>"
      ]
     },
     "metadata": {},
     "output_type": "display_data"
    }
   ],
   "source": [
    "plt.plot(losses)"
   ]
  },
  {
   "cell_type": "code",
   "execution_count": 451,
   "metadata": {},
   "outputs": [],
   "source": [
    "N,DIM = X_train.shape\n",
    "\n",
    "X_reps = jnp.tile(jnp.expand_dims(X_train,0), (M,1,1))\n",
    "X_reps_test = jnp.tile(jnp.expand_dims(X_test,0), (M,1,1))\n",
    "P_projs = jax.random.normal(jax.random.PRNGKey(proj_seed), (M,DIM, proj_dim))/jnp.sqrt(proj_dim)   \n",
    "\n",
    "X_projs = jax.vmap(lambda A,B: (A @ B).squeeze(), in_axes=(0, 0))(X_reps, P_projs)\n",
    "X_projs_test = jax.vmap(lambda A,B: (A @ B).squeeze(), in_axes=(0, 0))(X_reps_test, P_projs)"
   ]
  },
  {
   "cell_type": "code",
   "execution_count": 452,
   "metadata": {},
   "outputs": [
    {
     "data": {
      "text/plain": [
       "((1, 456, 13), (1, 50, 13))"
      ]
     },
     "execution_count": 452,
     "metadata": {},
     "output_type": "execute_result"
    }
   ],
   "source": [
    "X_projs.shape, X_projs_test.shape"
   ]
  },
  {
   "cell_type": "code",
   "execution_count": 453,
   "metadata": {},
   "outputs": [],
   "source": [
    "# Function to make predictions with the optimized GPs\n",
    "def predict_fused_gp_with_projs(X_train, y_train, X_test, length_scales, variances, noises, weights):\n",
    "    def gp_predict(X_train,X_test,length_scale, variance, noise):\n",
    "        K = kernel_matrix(X_train, X_train, length_scale, variance, noise)\n",
    "        K_s = kernel_matrix(X_test, X_train, length_scale, variance, noise, include_noise=False)\n",
    "        K_ss = kernel_matrix(X_test, X_test, length_scale, variance, noise)\n",
    "        \n",
    "        K_chol = cho_factor(K, lower=True)[0]\n",
    "        \n",
    "        alpha = cho_solve((K_chol, True), y_train)\n",
    "        v = cho_solve((K_chol, True), K_s.T)\n",
    "        \n",
    "        mu_s = K_s @ alpha\n",
    "        cov_s = K_ss - K_s @ v\n",
    "        \n",
    "        return mu_s, jnp.diag(cov_s)\n",
    "    \n",
    "    mus, covs = vmap(gp_predict)(X_train,X_test,length_scales, variances, noises)  # we also vmap training and test datasets\n",
    "    \n",
    "    weighted_vars_inv = weights[:, None] / covs\n",
    "    fused_vars = 1 / jnp.sum(weighted_vars_inv, axis=0)\n",
    "    fused_means = fused_vars * jnp.sum(weighted_vars_inv * mus, axis=0)\n",
    "    \n",
    "    return fused_means, fused_vars"
   ]
  },
  {
   "cell_type": "code",
   "execution_count": 454,
   "metadata": {},
   "outputs": [
    {
     "name": "stdout",
     "output_type": "stream",
     "text": [
      "NLPD Train:  [-0.46411303]\n",
      "NLPD Test:  [0.10110296]\n",
      "RMSE Train:  0.11789751340238046\n",
      "RMSE Test:  0.3537610469693852\n",
      "--------  Below, using initial parameter values -------\n",
      "NLPD Train:  [0.45536206]\n",
      "NLPD Test:  [1.34367729]\n",
      "RMSE Train:  0.16749497751522419\n",
      "RMSE Test:  0.8957889661826065\n"
     ]
    }
   ],
   "source": [
    "# Make predictions\n",
    "mu_tst, var_tst = predict_fused_gp_with_projs(X_projs, y_train, X_projs_test, length_scales, variances, noises, weights)\n",
    "mu_tr, var_tr = predict_fused_gp_with_projs(X_projs, y_train, X_projs, length_scales, variances, noises, weights)\n",
    "\n",
    "print(\"NLPD Train: \", compute_neg_log_like(mus=mu_tr,stds=jnp.sqrt(var_tr),y_test=y_train))\n",
    "print(\"NLPD Test: \",  compute_neg_log_like(mus=mu_tst,stds=jnp.sqrt(var_tst),y_test=y_test))\n",
    "\n",
    "print(\"RMSE Train: \", jnp.sqrt( jnp.mean( (mu_tr.squeeze() - y_train.squeeze())**2 ) ))\n",
    "print(\"RMSE Test: \", jnp.sqrt( jnp.mean( (mu_tst.squeeze() - y_test.squeeze())**2 ) ))\n",
    "\n",
    "\n",
    "print(\"--------  Below, using initial parameter values -------\")\n",
    "# Make predictions\n",
    "mu_tst, var_tst = predict_fused_gp_with_projs(X_projs, y_train, X_projs_test, \n",
    "                             transform(init_params[:M * proj_dim].reshape(M,proj_dim)), \n",
    "                             transform(init_params[M * proj_dim : M * (proj_dim + 1)].reshape((M,))), \n",
    "                             transform(init_params[M * (proj_dim + 1):M * (proj_dim + 2)].reshape((M,))), \n",
    "                             transform(init_params[M * (proj_dim + 2):].reshape((M,))),\n",
    "                             )\n",
    "mu_tr, var_tr = predict_fused_gp_with_projs(X_projs, y_train, X_projs, \n",
    "                             transform(init_params[:M * proj_dim].reshape(M,proj_dim)), \n",
    "                             transform(init_params[M * proj_dim : M * (proj_dim + 1)].reshape((M,))), \n",
    "                             transform(init_params[M * (proj_dim + 1):M * (proj_dim + 2)].reshape((M,))), \n",
    "                             transform(init_params[M * (proj_dim + 2):].reshape((M,))),\n",
    "                             )\n",
    "\n",
    "print(\"NLPD Train: \", compute_neg_log_like(mus=mu_tr,stds=jnp.sqrt(var_tr),y_test=y_train))\n",
    "print(\"NLPD Test: \",  compute_neg_log_like(mus=mu_tst,stds=jnp.sqrt(var_tst),y_test=y_test))\n",
    "print(\"RMSE Train: \", jnp.sqrt( jnp.mean( (mu_tr.squeeze() - y_train.squeeze())**2 ) ))\n",
    "print(\"RMSE Test: \", jnp.sqrt( jnp.mean( (mu_tst.squeeze() - y_test.squeeze())**2 ) ))"
   ]
  },
  {
   "cell_type": "markdown",
   "metadata": {},
   "source": [
    "# With Pre-Projection Length scales"
   ]
  },
  {
   "cell_type": "code",
   "execution_count": 457,
   "metadata": {},
   "outputs": [],
   "source": [
    "# LOO-CV objective function (negative log-score for minimization)\n",
    "def loo_cv_objective(params, X, y, M,proj_dim, dim, normalize_weights=False, proj_seed = 42):\n",
    "\n",
    "    N,DIM = X.shape\n",
    "\n",
    "    length_scales_raw = lax.dynamic_slice(params, (0,), (dim,)).reshape((dim))\n",
    "    variances_raw = lax.dynamic_slice(params, (dim,), (M,))\n",
    "    noises_raw = lax.dynamic_slice(params, (M + dim,), (M,))\n",
    "    weights_raw = lax.dynamic_slice(params, (M * 2 + dim,), (M,))\n",
    "  \n",
    "    length_scales, variances, noises = transform(length_scales_raw), transform(variances_raw), transform(noises_raw)\n",
    "    weights = transform(weights_raw)\n",
    "\n",
    "    X_reps = jnp.tile(jnp.expand_dims(X,0), (M,1,1))\n",
    "    P_projs = jax.random.normal(jax.random.PRNGKey(proj_seed), (M,DIM, proj_dim))/jnp.sqrt(proj_dim)   \n",
    "\n",
    "    X_projs = jax.vmap(lambda A,B: (A @ B).squeeze(), in_axes=(0, 0))(X_reps, P_projs/ length_scales[None, :, None])\n",
    "    assert (length_scales[None, :, None] * P_projs).shape == P_projs.shape\n",
    "    assert X_projs.shape == (M,N,proj_dim)\n",
    "\n",
    "    \n",
    "    if normalize_weights:\n",
    "        weights = weights / jnp.sum(weights)\n",
    "    \n",
    "    def gp_loops(X,length_scale, variance, noise):\n",
    "        K = kernel_matrix(X, X, length_scale, variance, noise)\n",
    "        K_chol = cho_factor(K, lower=True)[0]\n",
    "        alpha, diag_inv_K = compute_alpha_and_diag_inv_K(K_chol, y)\n",
    "        \n",
    "        loo_means = y - alpha / diag_inv_K\n",
    "        loo_vars = 1 / diag_inv_K\n",
    "        \n",
    "        return loo_means, loo_vars\n",
    "    \n",
    "    loo_means, loo_vars = vmap(gp_loops)(X_projs, jnp.ones_like(variances), variances, noises)\n",
    "    \n",
    "    # Fuse the means and variances using the product rule with weights\n",
    "    weighted_vars_inv = weights[:, None] / loo_vars\n",
    "    fused_vars = 1 / jnp.sum(weighted_vars_inv, axis=0)\n",
    "    fused_means = fused_vars * jnp.sum(weighted_vars_inv * loo_means, axis=0)\n",
    "\n",
    "    # print(fused_means.shape, fused_vars.shape)\n",
    "    \n",
    "    # LOO predictive log-probability\n",
    "    loo_cv_log_score = -0.5 * jnp.sum(jnp.log(fused_vars.squeeze()) + (y.squeeze() - fused_means.squeeze())**2 / fused_vars.squeeze())\n",
    "    \n",
    "    return -loo_cv_log_score  # Negative for minimization\n",
    "\n",
    "# JIT compile the objective function for faster optimization\n",
    "loo_cv_objective_with_projs_jit = jit(loo_cv_objective, static_argnames=['M','proj_dim',\"dim\",\"normalize_weights\"])\n"
   ]
  },
  {
   "cell_type": "code",
   "execution_count": 458,
   "metadata": {},
   "outputs": [
    {
     "data": {
      "text/plain": [
       "Array(233.06916657, dtype=float64)"
      ]
     },
     "execution_count": 458,
     "metadata": {},
     "output_type": "execute_result"
    }
   ],
   "source": [
    "M=1\n",
    "proj_dim = X_train.shape[1]\n",
    "init_params = jnp.concatenate(\n",
    "    (\n",
    "        0.1*jnp.ones((X_train.shape[1],)),      # lengthscales\n",
    "        1.0*jnp.ones((M,)),                     # variances\n",
    "        0.2*jnp.ones((M,)),                     # noises\n",
    "        jnp.ones((M,)),                         # weights\n",
    "        ),                   \n",
    ")\n",
    "init_params = inv_transform(init_params)\n",
    " \n",
    "loo_cv_objective_with_projs_jit(init_params,X_train,y_train,M,proj_dim,X_train.shape[1], False)"
   ]
  },
  {
   "cell_type": "code",
   "execution_count": 459,
   "metadata": {},
   "outputs": [
    {
     "name": "stdout",
     "output_type": "stream",
     "text": [
      "Step 0, Loss: 232.46868895219814\n",
      "Step 100, Loss: -364.46716221627554\n",
      "Step 200, Loss: -367.1897511814093\n",
      "Step 249, Loss: -367.87622684504606\n",
      "Optimized Length Scales: [1.24731145 7.02237229 3.89691448 0.10000117 1.07493514 2.43553445\n",
      " 1.86106268 0.6994196  1.19724519 0.62852037 3.23692313 4.36776422\n",
      " 1.96378341]\n",
      "Optimized Variances: [1.82085339]\n",
      "Optimized Noises: [0.03829376]\n",
      "Optimized Weights: [1.2362451]\n"
     ]
    }
   ],
   "source": [
    "# Define the optimizer\n",
    "optimizer = optax.adam(learning_rate=0.1)\n",
    "opt_state = optimizer.init(init_params)\n",
    "\n",
    "# Define the update step\n",
    "@partial(jax.jit, static_argnames=['M', 'proj_dim', 'dim', 'normalize_weights'])\n",
    "def update(params, opt_state, X, y, M, proj_dim, dim, normalize_weights,proj_seed):\n",
    "    loss, grads = value_and_grad(loo_cv_objective_with_projs_jit)(params, X, y, M, proj_dim,dim,normalize_weights,proj_seed)\n",
    "    updates, opt_state = optimizer.update(grads, opt_state, params)\n",
    "    params = optax.apply_updates(params, updates)\n",
    "    return loss, params, opt_state\n",
    "\n",
    "# Training loop\n",
    "params = init_params\n",
    "num_steps = 250\n",
    "normalize_weights = False  # Set this flag to True if weights should sum to 1\n",
    "proj_seed = 2\n",
    "dim = X_train.shape[1]\n",
    "losses = []\n",
    "\n",
    "for step in tqdm.tqdm(range(num_steps)):\n",
    "    loss, params, opt_state = update(params, opt_state, X_train, y_train, M, proj_dim,dim,normalize_weights,proj_seed)\n",
    "    losses.append(loss)\n",
    "    if step % 100 == 0 or step == num_steps-1:\n",
    "        print(f\"Step {step}, Loss: {loss}\")\n",
    "\n",
    "# Get the optimized parameters\n",
    "optimized_params = transform(params)  # Exclude weights from exponentiation\n",
    "length_scales = optimized_params[:dim]\n",
    "variances = optimized_params[dim:dim+M]\n",
    "noises = optimized_params[dim+M:dim+2*M]\n",
    "weights = optimized_params[-M:]  # Get the weights as they are (log transformation has already been applied)\n",
    "if normalize_weights:\n",
    "    weights = weights / jnp.sum(weights)\n",
    "\n",
    "print(\"Optimized Length Scales:\", length_scales)\n",
    "print(\"Optimized Variances:\", variances)\n",
    "print(\"Optimized Noises:\", noises)\n",
    "print(\"Optimized Weights:\", weights)"
   ]
  },
  {
   "cell_type": "code",
   "execution_count": 460,
   "metadata": {},
   "outputs": [
    {
     "data": {
      "text/plain": [
       "[<matplotlib.lines.Line2D at 0x3f27b8c40>]"
      ]
     },
     "execution_count": 460,
     "metadata": {},
     "output_type": "execute_result"
    },
    {
     "data": {
      "image/png": "[encoded data removed]",
      "text/plain": [
       "<Figure size 640x480 with 1 Axes>"
      ]
     },
     "metadata": {},
     "output_type": "display_data"
    }
   ],
   "source": [
    "plt.plot(losses)"
   ]
  },
  {
   "cell_type": "code",
   "execution_count": 461,
   "metadata": {},
   "outputs": [],
   "source": [
    "N,DIM = X_train.shape\n",
    "\n",
    "X_reps = jnp.tile(jnp.expand_dims(X_train,0), (M,1,1))\n",
    "X_reps_test = jnp.tile(jnp.expand_dims(X_test,0), (M,1,1))\n",
    "P_projs = jax.random.normal(jax.random.PRNGKey(proj_seed), (M,DIM, proj_dim))/jnp.sqrt(proj_dim)   \n",
    "\n",
    "X_projs = jax.vmap(lambda A,B: (A @ B).squeeze(), in_axes=(0, 0))(X_reps, P_projs/ length_scales[None, :, None])\n",
    "X_projs_test = jax.vmap(lambda A,B: (A @ B).squeeze(), in_axes=(0, 0))(X_reps_test, P_projs/ length_scales[None, :, None])"
   ]
  },
  {
   "cell_type": "code",
   "execution_count": 462,
   "metadata": {},
   "outputs": [
    {
     "name": "stdout",
     "output_type": "stream",
     "text": [
      "NLPD Train:  [-0.44541207]\n",
      "NLPD Test:  [0.09072795]\n",
      "RMSE Train:  0.12325527230464586\n",
      "RMSE Test:  0.32291205735758893\n",
      "--------  Below, using initial parameter values -------\n",
      "NLPD Train:  [0.32149792]\n",
      "NLPD Test:  [0.47628798]\n",
      "RMSE Train:  0.21297715286065833\n",
      "RMSE Test:  0.3409082451314772\n"
     ]
    }
   ],
   "source": [
    "# Make predictions\n",
    "mu_tst, var_tst = predict_fused_gp_with_projs(X_projs, y_train, X_projs_test, jnp.ones_like(variances), variances, noises, weights)\n",
    "mu_tr, var_tr = predict_fused_gp_with_projs(X_projs, y_train, X_projs, jnp.ones_like(variances), variances, noises, weights)\n",
    "\n",
    "print(\"NLPD Train: \", compute_neg_log_like(mus=mu_tr,stds=jnp.sqrt(var_tr),y_test=y_train))\n",
    "print(\"NLPD Test: \",  compute_neg_log_like(mus=mu_tst,stds=jnp.sqrt(var_tst),y_test=y_test))\n",
    "\n",
    "print(\"RMSE Train: \", jnp.sqrt( jnp.mean( (mu_tr.squeeze() - y_train.squeeze())**2 ) ))\n",
    "print(\"RMSE Test: \", jnp.sqrt( jnp.mean( (mu_tst.squeeze() - y_test.squeeze())**2 ) ))\n",
    "\n",
    "\n",
    "print(\"--------  Below, using initial parameter values -------\")\n",
    "# Make predictions\n",
    "mu_tst, var_tst = predict_fused_gp_with_projs(X_projs, y_train, X_projs_test, \n",
    "                             jnp.ones_like(variances),#jnp.ones((M, proj_dim)), \n",
    "                             transform(init_params[dim:dim+M].reshape((M,))), \n",
    "                             transform(init_params[dim+M:dim+2*M].reshape((M,))), \n",
    "                             transform(init_params[dim+2*M:].reshape((M,))),\n",
    "                             )\n",
    "mu_tr, var_tr = predict_fused_gp_with_projs(X_projs, y_train, X_projs, \n",
    "                             jnp.ones_like(variances),#jnp.ones((M, proj_dim)), \n",
    "                             transform(init_params[dim:dim+M].reshape((M,))), \n",
    "                             transform(init_params[dim+M:dim+2*M].reshape((M,))), \n",
    "                             transform(init_params[dim+2*M:].reshape((M,))),\n",
    "                             )\n",
    "\n",
    "print(\"NLPD Train: \", compute_neg_log_like(mus=mu_tr,stds=jnp.sqrt(var_tr),y_test=y_train))\n",
    "print(\"NLPD Test: \",  compute_neg_log_like(mus=mu_tst,stds=jnp.sqrt(var_tst),y_test=y_test))\n",
    "print(\"RMSE Train: \", jnp.sqrt( jnp.mean( (mu_tr.squeeze() - y_train.squeeze())**2 ) ))\n",
    "print(\"RMSE Test: \", jnp.sqrt( jnp.mean( (mu_tst.squeeze() - y_test.squeeze())**2 ) ))"
   ]
  },
  {
   "cell_type": "markdown",
   "metadata": {},
   "source": [
    "# Organizando todo un poco\n"
   ]
  },
  {
   "cell_type": "code",
   "execution_count": 71,
   "metadata": {},
   "outputs": [],
   "source": [
    "vmatmul = jax.vmap(lambda A,B: (A @ B), in_axes=(0, 0))\n",
    "\n",
    "# Auxiliary functions\n",
    "def transform(raw_param, fun = \"softplus\"):               # raw_param lives in (-inf,inf)\n",
    "    if fun == \"exp\":\n",
    "        param = jnp.exp(raw_param)                      # exponential\n",
    "    elif fun == \"softplus\":\n",
    "        param = jnp.log(1 + jnp.exp(raw_param))         # softplus\n",
    "    else:\n",
    "        raise ValueError(\"Transform function not implemented.\")\n",
    "    return param        # param lives in (0,inf)  \n",
    "\n",
    "def inv_transform(cons_param, fun = \"invsoftplus\"):          # cons_param lives in (0,inf)\n",
    "    if fun == \"log\":\n",
    "        param = jnp.log(cons_param)                          #  log   \n",
    "    elif fun == \"invsoftplus\":\n",
    "        param = jnp.log(jnp.exp(cons_param) - 1)             # inverse softplus\n",
    "    else:\n",
    "        raise ValueError(\"Inverse transform function not implemented.\")\n",
    "    return param       # param lives in (-inf,inf) \n",
    "\n",
    "\n",
    "# RBF Kernel function with length_scale as a vector\n",
    "def rbf_kernel(x1, x2, length_scale, variance):\n",
    "    sqdist = jnp.sum(((x1 - x2) / length_scale) ** 2)\n",
    "    return variance * jnp.exp(-0.5 * sqdist)\n",
    "\n",
    "# Efficient kernel matrix computation using vmap\n",
    "def kernel_matrix(X1, X2, length_scale, variance, noise, include_noise = True):\n",
    "    pairwise_sqdists = jnp.sum(\n",
    "        ((X1[:, None, :] - X2[None, :, :]) / jnp.broadcast_to(length_scale, X1[:, None, :].shape)) ** 2, \n",
    "        axis=-1)\n",
    "    K = variance * jnp.exp(-0.5 * pairwise_sqdists)\n",
    "    if include_noise:\n",
    "        K += noise * jnp.eye(X1.shape[0])\n",
    "    return K\n",
    "\n",
    "# Compute alpha and diagonal elements of the inverse of K using Cholesky\n",
    "def compute_alpha_and_diag_inv_K(K_chol, y):\n",
    "    alpha = cho_solve((K_chol, True), y)\n",
    "    \n",
    "    compute_diag = jax.vmap(lambda A, b, i: cho_solve((A, True), b)[i], in_axes=(None, 0, 0))\n",
    "    diag_inv_K = compute_diag(K_chol, jnp.eye(K_chol.shape[0]), jnp.arange(K_chol.shape[0])) \n",
    "    \n",
    "    return alpha, diag_inv_K\n",
    "\n",
    "\n",
    "# Function to make predictions with the optimized GPs\n",
    "def predict_fused_gp(X_train, y_train, X_test, length_scales, variances, noises, weights):\n",
    "    def gp_predict(length_scale, variance, noise):\n",
    "        K = kernel_matrix(X_train, X_train, length_scale, variance, noise)\n",
    "        K_s = kernel_matrix(X_test, X_train, length_scale, variance, noise, include_noise=False)\n",
    "        K_ss = kernel_matrix(X_test, X_test, length_scale, variance, noise)\n",
    "        \n",
    "        K_chol = cho_factor(K, lower=True)[0]\n",
    "        \n",
    "        alpha = cho_solve((K_chol, True), y_train)\n",
    "        v = cho_solve((K_chol, True), K_s.T)\n",
    "        \n",
    "        mu_s = K_s @ alpha\n",
    "        cov_s = K_ss - K_s @ v\n",
    "        \n",
    "        return mu_s, jnp.diag(cov_s)\n",
    "    \n",
    "    mus, covs = vmap(gp_predict)(length_scales, variances, noises) \n",
    "    \n",
    "    weighted_vars_inv = weights[:, None] / covs\n",
    "    fused_vars = 1 / jnp.sum(weighted_vars_inv, axis=0)\n",
    "    fused_means = fused_vars * jnp.sum(weighted_vars_inv * mus, axis=0)\n",
    "    \n",
    "    return fused_means, fused_vars, mus, covs\n",
    "\n",
    "\n",
    "# Function to make predictions with the optimized GPs and projections\n",
    "def predict_fused_gp_with_projs(X_train, y_train, X_test, length_scales, variances, noises, weights):\n",
    "    def gp_predict(X_train,X_test,length_scale, variance, noise):\n",
    "        K = kernel_matrix(X_train, X_train, length_scale, variance, noise)\n",
    "        K_s = kernel_matrix(X_test, X_train, length_scale, variance, noise, include_noise=False)\n",
    "        K_ss = kernel_matrix(X_test, X_test, length_scale, variance, noise)\n",
    "        \n",
    "        K_chol = cho_factor(K, lower=True)[0]\n",
    "        \n",
    "        alpha = cho_solve((K_chol, True), y_train)\n",
    "        v = cho_solve((K_chol, True), K_s.T)\n",
    "        \n",
    "        mu_s = K_s @ alpha\n",
    "        cov_s = K_ss - K_s @ v\n",
    "        \n",
    "        return mu_s, jnp.diag(cov_s)\n",
    "    \n",
    "    mus, covs = vmap(gp_predict)(X_train,X_test,length_scales, variances, noises)  # we also vmap training and test datasets\n",
    "    \n",
    "    weighted_vars_inv = weights[:, None] / covs\n",
    "    fused_vars = 1 / jnp.sum(weighted_vars_inv, axis=0)\n",
    "    fused_means = fused_vars * jnp.sum(weighted_vars_inv * mus, axis=0)\n",
    "    \n",
    "    return fused_means, fused_vars\n"
   ]
  },
  {
   "cell_type": "code",
   "execution_count": 72,
   "metadata": {},
   "outputs": [
    {
     "data": {
      "text/plain": [
       "(3, 1)"
      ]
     },
     "execution_count": 72,
     "metadata": {},
     "output_type": "execute_result"
    }
   ],
   "source": [
    "import numpy as np\n",
    "jnp.matmul(np.random.randn(3,5),np.random.randn(5,1)).shape"
   ]
  },
  {
   "cell_type": "code",
   "execution_count": 73,
   "metadata": {},
   "outputs": [],
   "source": [
    "# Loss functions \n",
    "\n",
    "# ======================================================= #\n",
    "# ============= (1) WITHOUT projections  ================ #\n",
    "# ======================================================= #\n",
    "def loo_cv_objective_1(params, X, y, M,dim, normalize_weights=False):\n",
    "    \n",
    "    length_scales_raw = lax.dynamic_slice(params, (0,), (M * dim,)).reshape((M,dim))\n",
    "    variances_raw = lax.dynamic_slice(params, (M * dim,), (M,))\n",
    "    noises_raw = lax.dynamic_slice(params, (M * (dim + 1),), (M,))\n",
    "    weights_raw = lax.dynamic_slice(params, (M * (dim + 2),), (M,))\n",
    " \n",
    "    length_scales, variances, noises = transform(length_scales_raw), transform(variances_raw), transform(noises_raw)\n",
    "    weights = transform(weights_raw)\n",
    "    \n",
    "    if normalize_weights:\n",
    "        weights = weights / jnp.sum(weights)\n",
    "    \n",
    "    def gp_loops(length_scale, variance, noise):\n",
    "        K = kernel_matrix(X, X, length_scale, variance, noise)\n",
    "        K_chol = cho_factor(K, lower=True)[0]\n",
    "        alpha, diag_inv_K = compute_alpha_and_diag_inv_K(K_chol, y)  # MAKE SURE y has one dimension => squeeze cabronazo!\n",
    "        \n",
    "        loo_means = y - alpha / diag_inv_K\n",
    "        loo_vars = 1 / diag_inv_K\n",
    "        \n",
    "        return loo_means, loo_vars\n",
    "    \n",
    "    loo_means, loo_vars = vmap(gp_loops)(length_scales, variances, noises)\n",
    "    \n",
    "    # Fuse the means and variances using the product rule with weights\n",
    "    weighted_vars_inv = weights[:, None] / loo_vars\n",
    "    fused_vars = 1 / jnp.sum(weighted_vars_inv, axis=0)\n",
    "    fused_means = fused_vars * jnp.sum(weighted_vars_inv * loo_means, axis=0)\n",
    "    \n",
    "    # LOO predictive log-probability\n",
    "    loo_cv_log_score = -0.5 * jnp.sum(jnp.log(fused_vars.squeeze()) + \\\n",
    "                                      (y.squeeze() - fused_means.squeeze())**2 / fused_vars.squeeze())\n",
    "    \n",
    "    return -loo_cv_log_score  # Negative for minimization\n",
    "\n",
    "# ======================================================= #\n",
    "# ================ (2) WITH projections  ================ #\n",
    "# ======================================================= #\n",
    "def loo_cv_objective_2(params, X, y, M,proj_dim, normalize_weights=False, proj_seed = 42):\n",
    "    N,DIM = X.shape\n",
    "\n",
    "    length_scales_raw = lax.dynamic_slice(params, (0,), (M * proj_dim,)).reshape((M,proj_dim))\n",
    "    variances_raw = lax.dynamic_slice(params, (M * proj_dim,), (M,))\n",
    "    noises_raw = lax.dynamic_slice(params, (M * (proj_dim + 1),), (M,))\n",
    "    weights_raw = lax.dynamic_slice(params, (M * (proj_dim + 2),), (M,))\n",
    "  \n",
    "    length_scales, variances, noises = transform(length_scales_raw), transform(variances_raw), transform(noises_raw)\n",
    "    weights = transform(weights_raw)\n",
    "    if normalize_weights:\n",
    "        weights = weights / jnp.sum(weights)\n",
    "\n",
    "    X_reps = jnp.tile(jnp.expand_dims(X,0), (M,1,1))\n",
    "    P_projs = jax.random.normal(jax.random.PRNGKey(proj_seed), (M,DIM, proj_dim))/jnp.sqrt(proj_dim)   \n",
    "    X_projs = vmatmul(X_reps, P_projs)\n",
    "    assert X_projs.shape == (M,N,proj_dim)  \n",
    "    \n",
    "    def gp_loops(X,length_scale, variance, noise):\n",
    "        K = kernel_matrix(X, X, length_scale, variance, noise)\n",
    "        K_chol = cho_factor(K, lower=True)[0]\n",
    "        alpha, diag_inv_K = compute_alpha_and_diag_inv_K(K_chol, y)\n",
    "        \n",
    "        loo_means = y - alpha / diag_inv_K\n",
    "        loo_vars = 1 / diag_inv_K\n",
    "        \n",
    "        return loo_means, loo_vars\n",
    "    \n",
    "    loo_means, loo_vars = vmap(gp_loops)(X_projs,length_scales, variances, noises)  # We also map over training inputs\n",
    "    \n",
    "    # Fuse the means and variances using the product rule with weights\n",
    "    weighted_vars_inv = weights[:, None] / loo_vars\n",
    "    fused_vars = 1 / jnp.sum(weighted_vars_inv, axis=0)\n",
    "    fused_means = fused_vars * jnp.sum(weighted_vars_inv * loo_means, axis=0)\n",
    "    \n",
    "    # LOO predictive log-probability\n",
    "    loo_cv_log_score = -0.5 * jnp.sum(jnp.log(fused_vars.squeeze()) + \\\n",
    "                                      (y.squeeze() - fused_means.squeeze())**2 / fused_vars.squeeze())\n",
    "    \n",
    "    return -loo_cv_log_score  # Negative for minimization\n",
    "\n",
    "\n",
    "# ============================================================ #\n",
    "# ======== (3) WITH projections AND PRE-projections ========== #\n",
    "# ============================================================ #\n",
    "def loo_cv_objective_3(params, X, y, M,proj_dim, dim, normalize_weights=False, proj_seed = 42):\n",
    "    N,_ = X.shape\n",
    "\n",
    "    length_scales_raw = lax.dynamic_slice(params, (0,), (dim,)).reshape((dim))  # these are lengthscales for PRE-projection; experts have no lengthscales\n",
    "    variances_raw = lax.dynamic_slice(params, (dim,), (M,))\n",
    "    noises_raw = lax.dynamic_slice(params, (M + dim,), (M,))\n",
    "    weights_raw = lax.dynamic_slice(params, (M * 2 + dim,), (M,))\n",
    "  \n",
    "    length_scales, variances, noises = transform(length_scales_raw), transform(variances_raw), transform(noises_raw)\n",
    "    weights = transform(weights_raw)\n",
    "    if normalize_weights:\n",
    "        weights = weights / jnp.sum(weights)\n",
    "\n",
    "    X_reps = jnp.tile(jnp.expand_dims(X,0), (M,1,1))\n",
    "    assert X_reps.shape == (M,N,dim)\n",
    "    P_projs = jax.random.normal(jax.random.PRNGKey(proj_seed), (M,dim, proj_dim))/jnp.sqrt(proj_dim)  \n",
    "    assert P_projs.shape == (M,dim, proj_dim)\n",
    "\n",
    "    X_projs = vmatmul(X_reps, P_projs/ length_scales[None, :, None])\n",
    "    assert (P_projs/length_scales[None, :, None]).shape == P_projs.shape\n",
    "    print(X_projs.shape)\n",
    "    print(P_projs.shape)\n",
    "    print(X_reps.shape)\n",
    "    assert X_projs.shape == (M,N,proj_dim)\n",
    "\n",
    "    \n",
    "    def gp_loops(X,length_scale, variance, noise):\n",
    "        K = kernel_matrix(X, X, length_scale, variance, noise)\n",
    "        K_chol = cho_factor(K, lower=True)[0]\n",
    "        alpha, diag_inv_K = compute_alpha_and_diag_inv_K(K_chol, y)\n",
    "        \n",
    "        loo_means = y - alpha / diag_inv_K\n",
    "        loo_vars = 1 / diag_inv_K\n",
    "        \n",
    "        return loo_means, loo_vars\n",
    "    \n",
    "    loo_means, loo_vars = vmap(gp_loops)(X_projs, jnp.ones_like(variances), variances, noises) # We set experts' lengthscales to 1\n",
    "    \n",
    "    # Fuse the means and variances using the product rule with weights\n",
    "    weighted_vars_inv = weights[:, None] / loo_vars\n",
    "    fused_vars = 1 / jnp.sum(weighted_vars_inv, axis=0)\n",
    "    fused_means = fused_vars * jnp.sum(weighted_vars_inv * loo_means, axis=0)\n",
    "    \n",
    "    # LOO predictive log-probability\n",
    "    loo_cv_log_score = -0.5 * jnp.sum(jnp.log(fused_vars.squeeze()) + \\\n",
    "                                      (y.squeeze() - fused_means.squeeze())**2 / fused_vars.squeeze())\n",
    "    \n",
    "    return -loo_cv_log_score  # Negative for minimization\n",
    "\n",
    "\n",
    "\n",
    "\n",
    "# JIT compile the objective function for faster optimization\n",
    "loo_cv_objective_1_jit = jit(loo_cv_objective_1, static_argnames=['M','dim',\"normalize_weights\"])\n",
    "loo_cv_objective_2_jit = jit(loo_cv_objective_2, static_argnames=['M','proj_dim',\"normalize_weights\"])\n",
    "loo_cv_objective_3_jit = jit(loo_cv_objective_3, static_argnames=['M','proj_dim',\"dim\",\"normalize_weights\"])\n"
   ]
  },
  {
   "cell_type": "code",
   "execution_count": 74,
   "metadata": {},
   "outputs": [],
   "source": [
    "def optimize_objective(obj_fun_jit,init_params,static_argnames,lr = 0.1, num_steps=100, **kwargs):\n",
    "    # **kwargs should contain all parameters needed by the objective that are not being optimized, namely, contained in params\n",
    "\n",
    "    # Define the optimizer\n",
    "    optimizer = optax.adam(learning_rate=lr)\n",
    "    opt_state = optimizer.init(init_params)\n",
    "\n",
    "    # Define the update step\n",
    "    @partial(jax.jit, static_argnames=static_argnames)\n",
    "    def update(params, opt_state,**kwargs):\n",
    "        loss, grads = value_and_grad(obj_fun_jit)(params, **kwargs)\n",
    "        updates, opt_state = optimizer.update(grads, opt_state, params)\n",
    "        params = optax.apply_updates(params, updates)\n",
    "        return loss, params, opt_state\n",
    "\n",
    "    # Training loop\n",
    "    params = init_params\n",
    "    losses = []\n",
    "    for step in tqdm(range(num_steps)):\n",
    "        loss, params, opt_state = update(params, opt_state, **kwargs)\n",
    "        losses.append(loss)\n",
    "        # if step % 100 == 0 or step == num_steps-1:\n",
    "        #     print(f\"Step {step}, Loss: {loss}\")\n",
    "\n",
    "    # Get the optimized parameters\n",
    "    return params, losses"
   ]
  },
  {
   "cell_type": "code",
   "execution_count": 48,
   "metadata": {},
   "outputs": [
    {
     "name": "stdout",
     "output_type": "stream",
     "text": [
      "housing dataset, N=506, d=13\n"
     ]
    }
   ],
   "source": [
    "dataset_name = \"housing\"\n",
    "full_dataset = Dataset(dataset_name)\n",
    "N,DIM = full_dataset.x.shape\n",
    "\n",
    "split = 0\n",
    "X_train,y_train,X_test,y_test,_ = load_data(dataset_name,split)"
   ]
  },
  {
   "cell_type": "markdown",
   "metadata": {},
   "source": [
    "## Objective 1: without projections"
   ]
  },
  {
   "cell_type": "code",
   "execution_count": 49,
   "metadata": {},
   "outputs": [
    {
     "ename": "NameError",
     "evalue": "name 'D' is not defined",
     "output_type": "error",
     "traceback": [
      "\u001b[0;31m---------------------------------------------------------------------------\u001b[0m",
      "\u001b[0;31mNameError\u001b[0m                                 Traceback (most recent call last)",
      "Cell \u001b[0;32mIn[49], line 7\u001b[0m\n\u001b[1;32m      1\u001b[0m M \u001b[38;5;241m=\u001b[39m \u001b[38;5;241m20\u001b[39m  \u001b[38;5;66;03m# Number of GPs\u001b[39;00m\n\u001b[1;32m      3\u001b[0m \u001b[38;5;66;03m# Initial parameters: length_scale, variance, noise, weights (they have to be positive!)\u001b[39;00m\n\u001b[1;32m      4\u001b[0m init_params \u001b[38;5;241m=\u001b[39m jnp\u001b[38;5;241m.\u001b[39mconcatenate(\n\u001b[1;32m      5\u001b[0m (\n\u001b[1;32m      6\u001b[0m     \u001b[38;5;66;03m# 0.1*jnp.ones((D,)), 0.5*jnp.ones((D,)), 1*jnp.ones((D,)),\u001b[39;00m\n\u001b[0;32m----> 7\u001b[0m     \u001b[38;5;241m0.5\u001b[39m \u001b[38;5;241m-\u001b[39m \u001b[38;5;241m0.5\u001b[39m\u001b[38;5;241m*\u001b[39mjax\u001b[38;5;241m.\u001b[39mrandom\u001b[38;5;241m.\u001b[39muniform(jax\u001b[38;5;241m.\u001b[39mrandom\u001b[38;5;241m.\u001b[39mPRNGKey(\u001b[38;5;241m42\u001b[39m), (M\u001b[38;5;241m*\u001b[39m\u001b[43mD\u001b[49m,)) ,\n\u001b[1;32m      8\u001b[0m     \u001b[38;5;66;03m# 0.1*jnp.ones((M*D,)),\u001b[39;00m\n\u001b[1;32m      9\u001b[0m     jnp\u001b[38;5;241m.\u001b[39mones((M,)),\n\u001b[1;32m     10\u001b[0m     \u001b[38;5;241m0.2\u001b[39m\u001b[38;5;241m*\u001b[39mjnp\u001b[38;5;241m.\u001b[39mones((M,)),\n\u001b[1;32m     11\u001b[0m     jnp\u001b[38;5;241m.\u001b[39mones((M,))\n\u001b[1;32m     12\u001b[0m     )\n\u001b[1;32m     13\u001b[0m )\n\u001b[1;32m     14\u001b[0m init_params \u001b[38;5;241m=\u001b[39m inv_transform(init_params)\n\u001b[1;32m     15\u001b[0m static_argnames \u001b[38;5;241m=\u001b[39m [\u001b[38;5;124m'\u001b[39m\u001b[38;5;124mM\u001b[39m\u001b[38;5;124m'\u001b[39m, \u001b[38;5;124m'\u001b[39m\u001b[38;5;124mdim\u001b[39m\u001b[38;5;124m'\u001b[39m, \u001b[38;5;124m'\u001b[39m\u001b[38;5;124mnormalize_weights\u001b[39m\u001b[38;5;124m'\u001b[39m]\n",
      "\u001b[0;31mNameError\u001b[0m: name 'D' is not defined"
     ]
    }
   ],
   "source": [
    "M = 20  # Number of GPs\n",
    "\n",
    "# Initial parameters: length_scale, variance, noise, weights (they have to be positive!)\n",
    "init_params = jnp.concatenate(\n",
    "(\n",
    "    # 0.1*jnp.ones((D,)), 0.5*jnp.ones((D,)), 1*jnp.ones((D,)),\n",
    "    0.5 - 0.5*jax.random.uniform(jax.random.PRNGKey(42), (M*D,)) ,\n",
    "    # 0.1*jnp.ones((M*D,)),\n",
    "    jnp.ones((M,)),\n",
    "    0.2*jnp.ones((M,)),\n",
    "    jnp.ones((M,))\n",
    "    )\n",
    ")\n",
    "init_params = inv_transform(init_params)\n",
    "static_argnames = ['M', 'dim', 'normalize_weights']\n",
    "other_params = {'X': X_train, \n",
    "                'y': y_train, \n",
    "                'M': M, \n",
    "                'dim': DIM, \n",
    "                'normalize_weights': True,\n",
    "                }\n",
    "\n",
    "optimized_params,losses = optimize_objective(loo_cv_objective_1_jit,init_params,static_argnames,**other_params)\n",
    "\n",
    "# get the optimized parameters\n",
    "optimized_params = transform(optimized_params)\n",
    "\n",
    "length_scales = optimized_params[:M * DIM].reshape((M, DIM))\n",
    "variances = optimized_params[M * DIM:M * (DIM + 1)]\n",
    "noises = optimized_params[M * (DIM + 1):M * (DIM + 2)]\n",
    "weights = optimized_params[-M:]  # Get the weights as they are \n",
    "if normalize_weights:\n",
    "    weights = weights / jnp.sum(weights)\n",
    "\n",
    "print(\"Optimized Length Scales:\", length_scales)\n",
    "print(\"Optimized Variances:\", variances)\n",
    "print(\"Optimized Noises:\", noises)\n",
    "print(\"Optimized Weights:\", weights)"
   ]
  },
  {
   "cell_type": "code",
   "execution_count": 667,
   "metadata": {},
   "outputs": [
    {
     "data": {
      "text/plain": [
       "[<matplotlib.lines.Line2D at 0x51f72cd00>]"
      ]
     },
     "execution_count": 667,
     "metadata": {},
     "output_type": "execute_result"
    },
    {
     "data": {
      "image/png": "[encoded data removed]",
      "text/plain": [
       "<Figure size 640x480 with 1 Axes>"
      ]
     },
     "metadata": {},
     "output_type": "display_data"
    }
   ],
   "source": [
    "plt.plot(losses)"
   ]
  },
  {
   "cell_type": "code",
   "execution_count": 668,
   "metadata": {},
   "outputs": [],
   "source": [
    "init_length_scales = transform(init_params[:M * DIM].reshape(M,DIM))\n",
    "init_variances =  transform(init_params[M * DIM : M * (DIM + 1)].reshape((M,)))\n",
    "init_noises =  transform(init_params[M * (DIM + 1):M * (DIM + 2)].reshape((M,)))\n",
    "init_weights = transform(init_params[M * (DIM + 2):].reshape((M,)))\n",
    "if other_params[\"normalize_weights\"]:\n",
    "    init_weights = init_weights/jnp.sum(init_weights)"
   ]
  },
  {
   "cell_type": "code",
   "execution_count": 669,
   "metadata": {},
   "outputs": [
    {
     "name": "stdout",
     "output_type": "stream",
     "text": [
      "NLPD Train:  [-1.07094565]\n",
      "NLPD Test:  [-0.11291733]\n",
      "RMSE Train:  0.04968908303259178\n",
      "RMSE Test:  0.2522581803756413\n",
      "--------  Below, using initial parameter values -------\n",
      "NLPD Train:  [0.45202133]\n",
      "NLPD Test:  [1.3105786]\n",
      "RMSE Train:  0.16288426627506283\n",
      "RMSE Test:  0.861893592502144\n"
     ]
    }
   ],
   "source": [
    "# Make predictions\n",
    "mu_tst, var_tst,_,_ = predict_fused_gp(X_train, y_train, X_test, length_scales, variances, noises, weights)\n",
    "mu_tr, var_tr,_,_ = predict_fused_gp(X_train, y_train, X_train, length_scales, variances, noises, weights)\n",
    "\n",
    "print(\"NLPD Train: \", compute_neg_log_like(mus=mu_tr,stds=jnp.sqrt(var_tr),y_test=y_train))\n",
    "print(\"NLPD Test: \",  compute_neg_log_like(mus=mu_tst,stds=jnp.sqrt(var_tst),y_test=y_test))\n",
    "\n",
    "print(\"RMSE Train: \", jnp.sqrt( jnp.mean( (mu_tr.squeeze() - y_train.squeeze())**2 ) ))\n",
    "print(\"RMSE Test: \", jnp.sqrt( jnp.mean( (mu_tst.squeeze() - y_test.squeeze())**2 ) ))\n",
    "\n",
    "\n",
    "print(\"--------  Below, using initial parameter values -------\")\n",
    "# Make predictions\n",
    "mu_tst, var_tst,_,_ = predict_fused_gp(X_train, y_train, X_test, \n",
    "                             init_length_scales,\n",
    "                             init_variances,\n",
    "                             init_noises,\n",
    "                             init_weights,\n",
    "                             )\n",
    "mu_tr, var_tr,_,_ = predict_fused_gp(X_train, y_train, X_train, \n",
    "                             init_length_scales,\n",
    "                             init_variances,\n",
    "                             init_noises,\n",
    "                             init_weights,\n",
    "                             )\n",
    "\n",
    "print(\"NLPD Train: \", compute_neg_log_like(mus=mu_tr,stds=jnp.sqrt(var_tr),y_test=y_train))\n",
    "print(\"NLPD Test: \",  compute_neg_log_like(mus=mu_tst,stds=jnp.sqrt(var_tst),y_test=y_test))\n",
    "print(\"RMSE Train: \", jnp.sqrt( jnp.mean( (mu_tr.squeeze() - y_train.squeeze())**2 ) ))\n",
    "print(\"RMSE Test: \", jnp.sqrt( jnp.mean( (mu_tst.squeeze() - y_test.squeeze())**2 ) ))"
   ]
  },
  {
   "cell_type": "markdown",
   "metadata": {},
   "source": [
    "## Objective 2: With projections but without pre-projections"
   ]
  },
  {
   "cell_type": "code",
   "execution_count": 612,
   "metadata": {},
   "outputs": [
    {
     "name": "stderr",
     "output_type": "stream",
     "text": [
      "  1%|          | 1/100 [00:01<03:15,  1.98s/it]"
     ]
    },
    {
     "name": "stdout",
     "output_type": "stream",
     "text": [
      "Step 0, Loss: 232.59908206558495\n"
     ]
    },
    {
     "name": "stderr",
     "output_type": "stream",
     "text": [
      "100%|██████████| 100/100 [00:25<00:00,  3.98it/s]"
     ]
    },
    {
     "name": "stdout",
     "output_type": "stream",
     "text": [
      "Step 99, Loss: -383.8814720640657\n",
      "Optimized Length Scales: [[3.19441972 2.45908342 2.55210551 2.80306188 2.59896391 1.30727212\n",
      "  0.35381629 3.15216417 3.30424841 1.2258289  1.6660006  2.53205343\n",
      "  2.90313252]\n",
      " [2.23010387 0.52309542 0.85143972 4.52046885 3.57217517 0.44289719\n",
      "  4.29809989 5.66245716 4.70397655 1.37985412 3.01043918 2.57571795\n",
      "  5.80471558]]\n",
      "Optimized Variances: [1.12146807 2.30558283]\n",
      "Optimized Noises: [0.06521735 0.00129317]\n",
      "Optimized Weights: [0.7813585 0.2186415]\n"
     ]
    },
    {
     "name": "stderr",
     "output_type": "stream",
     "text": [
      "\n"
     ]
    }
   ],
   "source": [
    "M=2\n",
    "proj_dim = X_train.shape[1]\n",
    "proj_seed = 2\n",
    "init_params = jnp.concatenate(\n",
    "    (\n",
    "        0.1*jnp.ones((M * proj_dim,)),      # lengthscales\n",
    "        1.0*jnp.ones((M,)),                 # variances\n",
    "        0.2*jnp.ones((M,)),                 # noises\n",
    "        jnp.ones((M,)),                     # weights\n",
    "        ),                   \n",
    ")\n",
    "init_params = inv_transform(init_params)\n",
    "other_params = {'X': X_train, \n",
    "                'y': y_train, \n",
    "                'M': M, \n",
    "                'proj_dim': proj_dim, \n",
    "                'normalize_weights': True,\n",
    "                'proj_seed': proj_seed,\n",
    "                }\n",
    "static_argnames=['M', 'proj_dim', 'normalize_weights']\n",
    "\n",
    "optimized_params,losses = optimize_objective(loo_cv_objective_2_jit,init_params,static_argnames,**other_params)\n",
    "\n",
    "# Get the optimized parameters\n",
    "optimized_params = transform(optimized_params)\n",
    "\n",
    "length_scales = optimized_params[:M * proj_dim].reshape((M, proj_dim))\n",
    "variances = optimized_params[M * proj_dim:M * (proj_dim + 1)]\n",
    "noises = optimized_params[M * (proj_dim + 1):M * (proj_dim + 2)]\n",
    "weights = optimized_params[-M:]  \n",
    "if normalize_weights:\n",
    "    weights = weights / jnp.sum(weights)\n",
    "\n",
    "print(\"Optimized Length Scales:\", length_scales)\n",
    "print(\"Optimized Variances:\", variances)\n",
    "print(\"Optimized Noises:\", noises)\n",
    "print(\"Optimized Weights:\", weights)"
   ]
  },
  {
   "cell_type": "code",
   "execution_count": 613,
   "metadata": {},
   "outputs": [
    {
     "data": {
      "text/plain": [
       "[<matplotlib.lines.Line2D at 0x51c84e500>]"
      ]
     },
     "execution_count": 613,
     "metadata": {},
     "output_type": "execute_result"
    },
    {
     "data": {
      "image/png": "[encoded data removed]",
      "text/plain": [
       "<Figure size 640x480 with 1 Axes>"
      ]
     },
     "metadata": {},
     "output_type": "display_data"
    }
   ],
   "source": [
    "plt.plot(losses)"
   ]
  },
  {
   "cell_type": "code",
   "execution_count": 614,
   "metadata": {},
   "outputs": [],
   "source": [
    "N,DIM = X_train.shape\n",
    "\n",
    "X_reps = jnp.tile(jnp.expand_dims(X_train,0), (M,1,1))\n",
    "X_reps_test = jnp.tile(jnp.expand_dims(X_test,0), (M,1,1))\n",
    "P_projs = jax.random.normal(jax.random.PRNGKey(proj_seed), (M,DIM, proj_dim))/jnp.sqrt(proj_dim)   \n",
    "\n",
    "X_projs = vmatmul(X_reps, P_projs)\n",
    "X_projs_test = vmatmul(X_reps_test, P_projs)"
   ]
  },
  {
   "cell_type": "code",
   "execution_count": 615,
   "metadata": {},
   "outputs": [],
   "source": [
    "init_length_scales = transform(init_params[:M * proj_dim].reshape(M,proj_dim)) \n",
    "init_variances  =  transform(init_params[M * proj_dim : M * (proj_dim + 1)].reshape((M,)))\n",
    "init_noises = transform(init_params[M * (proj_dim + 1):M * (proj_dim + 2)].reshape((M,))) \n",
    "init_weights = transform(init_params[M * (proj_dim + 2):].reshape((M,)))\n",
    "if other_params[\"normalize_weights\"]:\n",
    "    init_weights = init_weights/jnp.sum(init_weights)"
   ]
  },
  {
   "cell_type": "code",
   "execution_count": 616,
   "metadata": {},
   "outputs": [
    {
     "name": "stdout",
     "output_type": "stream",
     "text": [
      "NLPD Train:  [-1.31934878]\n",
      "NLPD Test:  [0.16276223]\n",
      "RMSE Train:  0.03128687380277726\n",
      "RMSE Test:  0.31884570979603244\n",
      "--------  Below, using initial parameter values -------\n",
      "NLPD Train:  [0.45536149]\n",
      "NLPD Test:  [1.33884756]\n",
      "RMSE Train:  0.16760463311857376\n",
      "RMSE Test:  0.8905438288140636\n"
     ]
    }
   ],
   "source": [
    "# Make predictions\n",
    "mu_tst, var_tst = predict_fused_gp_with_projs(X_projs, y_train, X_projs_test, length_scales, variances, noises, weights)\n",
    "mu_tr, var_tr = predict_fused_gp_with_projs(X_projs, y_train, X_projs, length_scales, variances, noises, weights)\n",
    "\n",
    "print(\"NLPD Train: \", compute_neg_log_like(mus=mu_tr,stds=jnp.sqrt(var_tr),y_test=y_train))\n",
    "print(\"NLPD Test: \",  compute_neg_log_like(mus=mu_tst,stds=jnp.sqrt(var_tst),y_test=y_test))\n",
    "\n",
    "print(\"RMSE Train: \", jnp.sqrt( jnp.mean( (mu_tr.squeeze() - y_train.squeeze())**2 ) ))\n",
    "print(\"RMSE Test: \", jnp.sqrt( jnp.mean( (mu_tst.squeeze() - y_test.squeeze())**2 ) ))\n",
    "\n",
    "\n",
    "print(\"--------  Below, using initial parameter values -------\")\n",
    "# Make predictions\n",
    "mu_tst, var_tst = predict_fused_gp_with_projs(X_projs, y_train, X_projs_test, \n",
    "                             init_length_scales,\n",
    "                             init_variances,\n",
    "                             init_noises,\n",
    "                             init_weights,\n",
    "                             )\n",
    "mu_tr, var_tr = predict_fused_gp_with_projs(X_projs, y_train, X_projs, \n",
    "                             init_length_scales,\n",
    "                             init_variances,\n",
    "                             init_noises,\n",
    "                             init_weights,\n",
    "                             )\n",
    "\n",
    "print(\"NLPD Train: \", compute_neg_log_like(mus=mu_tr,stds=jnp.sqrt(var_tr),y_test=y_train))\n",
    "print(\"NLPD Test: \",  compute_neg_log_like(mus=mu_tst,stds=jnp.sqrt(var_tst),y_test=y_test))\n",
    "print(\"RMSE Train: \", jnp.sqrt( jnp.mean( (mu_tr.squeeze() - y_train.squeeze())**2 ) ))\n",
    "print(\"RMSE Test: \", jnp.sqrt( jnp.mean( (mu_tst.squeeze() - y_test.squeeze())**2 ) ))"
   ]
  },
  {
   "cell_type": "markdown",
   "metadata": {},
   "source": [
    "## Objective 3: with projections and pre-projections"
   ]
  },
  {
   "cell_type": "code",
   "execution_count": 659,
   "metadata": {},
   "outputs": [
    {
     "name": "stderr",
     "output_type": "stream",
     "text": [
      "  0%|          | 1/250 [00:02<09:19,  2.25s/it]"
     ]
    },
    {
     "name": "stdout",
     "output_type": "stream",
     "text": [
      "Step 0, Loss: 232.74912129777127\n"
     ]
    },
    {
     "name": "stderr",
     "output_type": "stream",
     "text": [
      " 40%|████      | 101/250 [00:50<01:15,  1.97it/s]"
     ]
    },
    {
     "name": "stdout",
     "output_type": "stream",
     "text": [
      "Step 100, Loss: -382.71591991346827\n"
     ]
    },
    {
     "name": "stderr",
     "output_type": "stream",
     "text": [
      " 80%|████████  | 201/250 [01:39<00:24,  2.04it/s]"
     ]
    },
    {
     "name": "stdout",
     "output_type": "stream",
     "text": [
      "Step 200, Loss: -385.96616627062474\n"
     ]
    },
    {
     "name": "stderr",
     "output_type": "stream",
     "text": [
      "100%|██████████| 250/250 [02:02<00:00,  2.04it/s]"
     ]
    },
    {
     "name": "stdout",
     "output_type": "stream",
     "text": [
      "Step 249, Loss: -386.4410280134898\n",
      "Optimized Length Scales: [4.95861509 4.2276547  4.0700142  0.10000041 1.40607638 1.89557898\n",
      " 3.91905883 0.56371393 1.89586469 1.89036711 4.8165331  2.78611724\n",
      " 1.17439457]\n",
      "Optimized Variances: [1.4805593  2.15445464 2.28772661 0.47096266 1.28603935 1.92466702\n",
      " 2.07593118 1.63875967 2.84196256 1.86005449]\n",
      "Optimized Noises: [0.04210601 0.05587733 0.00310941 0.07441252 0.15213897 0.16041084\n",
      " 0.3467047  0.00640183 0.04388851 0.09833832]\n",
      "Optimized Weights: [0.30229639 0.00378289 0.10461192 0.12225895 0.01550845 0.01325345\n",
      " 0.00191459 0.03521016 0.39664303 0.00452016]\n"
     ]
    },
    {
     "name": "stderr",
     "output_type": "stream",
     "text": [
      "\n"
     ]
    }
   ],
   "source": [
    "M=10\n",
    "proj_dim = X_train.shape[1]\n",
    "proj_seed = 2\n",
    "init_params = jnp.concatenate(\n",
    "    (\n",
    "        0.1*jnp.ones((X_train.shape[1],)),      # lengthscales\n",
    "        1.0*jnp.ones((M,)),                     # variances\n",
    "        0.2*jnp.ones((M,)),                     # noises\n",
    "        jnp.ones((M,)),                         # weights\n",
    "        ),                   \n",
    ")\n",
    "init_params = inv_transform(init_params)\n",
    "\n",
    "other_params = {'X': X_train, \n",
    "                'y': y_train, \n",
    "                'M': M, \n",
    "                'proj_dim': proj_dim, \n",
    "                'dim': DIM,\n",
    "                'normalize_weights': True,\n",
    "                'proj_seed': proj_seed,\n",
    "                }\n",
    "static_argnames=['M', 'proj_dim', 'dim', 'normalize_weights']\n",
    "\n",
    "optimized_params,losses = optimize_objective(loo_cv_objective_3_jit,init_params,static_argnames,\n",
    "                                             lr = 0.1, num_steps = 250,\n",
    "                                             **other_params)\n",
    "\n",
    "# Get the optimized parameters\n",
    "optimized_params = transform(optimized_params)  \n",
    "length_scales = optimized_params[:DIM]  # not the experts' lengthscales but pre-projection lengthscales!\n",
    "variances = optimized_params[DIM:DIM+M]\n",
    "noises = optimized_params[DIM+M:DIM+2*M]\n",
    "weights = optimized_params[-M:]  \n",
    "if other_params[\"normalize_weights\"]:\n",
    "    weights = weights / jnp.sum(weights)\n",
    "\n",
    "print(\"Optimized Length Scales:\", length_scales)\n",
    "print(\"Optimized Variances:\", variances)\n",
    "print(\"Optimized Noises:\", noises)\n",
    "print(\"Optimized Weights:\", weights)"
   ]
  },
  {
   "cell_type": "code",
   "execution_count": 660,
   "metadata": {},
   "outputs": [
    {
     "data": {
      "text/plain": [
       "[<matplotlib.lines.Line2D at 0x51e702e90>]"
      ]
     },
     "execution_count": 660,
     "metadata": {},
     "output_type": "execute_result"
    },
    {
     "data": {
      "image/png": "[encoded data removed]",
      "text/plain": [
       "<Figure size 640x480 with 1 Axes>"
      ]
     },
     "metadata": {},
     "output_type": "display_data"
    }
   ],
   "source": [
    "plt.plot(losses)"
   ]
  },
  {
   "cell_type": "code",
   "execution_count": 663,
   "metadata": {},
   "outputs": [],
   "source": [
    "N,DIM = X_train.shape\n",
    "\n",
    "X_reps = jnp.tile(jnp.expand_dims(X_train,0), (M,1,1))\n",
    "X_reps_test = jnp.tile(jnp.expand_dims(X_test,0), (M,1,1))\n",
    "P_projs = jax.random.normal(jax.random.PRNGKey(proj_seed), (M,DIM, proj_dim))/jnp.sqrt(proj_dim)   \n",
    "\n",
    "X_projs = vmatmul(X_reps, P_projs/ length_scales[None, :, None])\n",
    "X_projs_test = vmatmul(X_reps_test, P_projs/ length_scales[None, :, None])"
   ]
  },
  {
   "cell_type": "code",
   "execution_count": 664,
   "metadata": {},
   "outputs": [],
   "source": [
    "init_length_scales = transform(init_params[:DIM].reshape((DIM,)))\n",
    "init_variances = transform(init_params[DIM:DIM+M].reshape((M,)))\n",
    "init_noises = transform(init_params[DIM+M:DIM+2*M].reshape((M,)))\n",
    "init_weights = transform(init_params[DIM+2*M:].reshape((M,)))\n",
    "if other_params[\"normalize_weights\"]:\n",
    "    init_weights = init_weights/jnp.sum(init_weights)"
   ]
  },
  {
   "cell_type": "code",
   "execution_count": 665,
   "metadata": {},
   "outputs": [
    {
     "name": "stdout",
     "output_type": "stream",
     "text": [
      "NLPD Train:  [-0.73347703]\n",
      "NLPD Test:  [0.03081633]\n",
      "RMSE Train:  0.08113234355325465\n",
      "RMSE Test:  0.27625654766393554\n",
      "--------  Below, using initial parameter values -------\n",
      "NLPD Train:  [0.45542594]\n",
      "NLPD Test:  [1.33812329]\n",
      "RMSE Train:  0.16761582498532573\n",
      "RMSE Test:  0.8891845851991627\n"
     ]
    }
   ],
   "source": [
    "# Make predictions\n",
    "mu_tst, var_tst = predict_fused_gp_with_projs(X_projs, y_train, X_projs_test, jnp.ones_like(variances), variances, noises, weights)\n",
    "mu_tr, var_tr = predict_fused_gp_with_projs(X_projs, y_train, X_projs, jnp.ones_like(variances), variances, noises, weights)\n",
    "\n",
    "print(\"NLPD Train: \", compute_neg_log_like(mus=mu_tr,stds=jnp.sqrt(var_tr),y_test=y_train))\n",
    "print(\"NLPD Test: \",  compute_neg_log_like(mus=mu_tst,stds=jnp.sqrt(var_tst),y_test=y_test))\n",
    "\n",
    "print(\"RMSE Train: \", jnp.sqrt( jnp.mean( (mu_tr.squeeze() - y_train.squeeze())**2 ) ))\n",
    "print(\"RMSE Test: \", jnp.sqrt( jnp.mean( (mu_tst.squeeze() - y_test.squeeze())**2 ) ))\n",
    "\n",
    "\n",
    "print(\"--------  Below, using initial parameter values -------\")\n",
    "X_projs = vmatmul(X_reps, P_projs/ init_length_scales[None, :, None])  # using initial length_scales\n",
    "X_projs_test = vmatmul(X_reps_test, P_projs/ init_length_scales[None, :, None]) # using initial length_scales\n",
    "# Make predictions\n",
    "mu_tst, var_tst = predict_fused_gp_with_projs(X_projs, y_train, X_projs_test, \n",
    "                             jnp.ones_like(variances), \n",
    "                             init_variances, \n",
    "                             init_noises, \n",
    "                             init_weights,\n",
    "                             )\n",
    "mu_tr, var_tr = predict_fused_gp_with_projs(X_projs, y_train, X_projs, \n",
    "                             jnp.ones_like(variances),\n",
    "                             init_variances, \n",
    "                             init_noises, \n",
    "                             init_weights,\n",
    "                             )\n",
    "\n",
    "print(\"NLPD Train: \", compute_neg_log_like(mus=mu_tr,stds=jnp.sqrt(var_tr),y_test=y_train))\n",
    "print(\"NLPD Test: \",  compute_neg_log_like(mus=mu_tst,stds=jnp.sqrt(var_tst),y_test=y_test))\n",
    "print(\"RMSE Train: \", jnp.sqrt( jnp.mean( (mu_tr.squeeze() - y_train.squeeze())**2 ) ))\n",
    "print(\"RMSE Test: \", jnp.sqrt( jnp.mean( (mu_tst.squeeze() - y_test.squeeze())**2 ) ))"
   ]
  },
  {
   "cell_type": "markdown",
   "metadata": {},
   "source": [
    "# Running all splits "
   ]
  },
  {
   "cell_type": "code",
   "execution_count": 90,
   "metadata": {},
   "outputs": [
    {
     "name": "stdout",
     "output_type": "stream",
     "text": [
      "housing dataset, N=506, d=13\n"
     ]
    },
    {
     "name": "stderr",
     "output_type": "stream",
     "text": [
      "100%|██████████| 60/60 [00:35<00:00,  1.71it/s]\n",
      "100%|██████████| 60/60 [00:32<00:00,  1.85it/s]\n",
      "100%|██████████| 60/60 [00:34<00:00,  1.73it/s]\n",
      "100%|██████████| 60/60 [00:33<00:00,  1.78it/s]\n",
      "100%|██████████| 60/60 [00:34<00:00,  1.75it/s]\n",
      "100%|██████████| 60/60 [00:32<00:00,  1.84it/s]\n",
      "100%|██████████| 60/60 [00:36<00:00,  1.64it/s]\n",
      "100%|██████████| 60/60 [00:31<00:00,  1.91it/s]\n",
      "100%|██████████| 60/60 [00:33<00:00,  1.81it/s]\n",
      "100%|██████████| 60/60 [00:31<00:00,  1.88it/s]\n"
     ]
    }
   ],
   "source": [
    "nlpd = []\n",
    "rmse = []\n",
    "all_losses = []\n",
    "dataset_name = 'housing'\n",
    "\n",
    "from uci_datasets import Dataset\n",
    "DIM = Dataset(dataset_name).x.shape[1]\n",
    "\n",
    "for split in range(10):\n",
    "\n",
    "    X_train,y_train,X_test,y_test,_ = load_data(dataset_name,split)\n",
    "\n",
    "    DIM = X_train.shape[1]\n",
    "\n",
    "    M = 10                                   # number of experts/random projections\n",
    "    proj_dim =  DIM                         # dimension of the random projection\n",
    "    proj_seed = 200                          # seed of the random projection\n",
    "    init_params = jnp.concatenate(\n",
    "        (\n",
    "            0.1*jnp.ones((DIM,)),                   # lengthscales\n",
    "            1.0*jnp.ones((M,)),                     # variances\n",
    "            0.2*jnp.ones((M,)),                     # noises\n",
    "            jnp.ones((M,)),                         # weights\n",
    "            ),                   \n",
    "    )\n",
    "    init_params = inv_transform(init_params)\n",
    "\n",
    "    other_params = {'X': X_train, \n",
    "                    'y': y_train, \n",
    "                    'M': M, \n",
    "                    'proj_dim': proj_dim, \n",
    "                    'dim': DIM,\n",
    "                    'normalize_weights': True,\n",
    "                    'proj_seed': proj_seed,\n",
    "                    }\n",
    "    static_argnames=['M', 'proj_dim', 'dim', 'normalize_weights']\n",
    "\n",
    "    optimized_params,losses = optimize_objective(loo_cv_objective_3_jit,init_params,static_argnames,\n",
    "                                                lr = 0.1, num_steps = 60,\n",
    "                                                **other_params)\n",
    "    all_losses.append(losses)\n",
    "\n",
    "    # Get the optimized parameters\n",
    "    optimized_params = transform(optimized_params)  \n",
    "    length_scales = optimized_params[:DIM]  # not the experts' lengthscales but pre-projection lengthscales!\n",
    "    variances = optimized_params[DIM:DIM+M]\n",
    "    noises = optimized_params[DIM+M:DIM+2*M]\n",
    "    weights = optimized_params[-M:]  \n",
    "    if other_params[\"normalize_weights\"]:\n",
    "        weights = weights / jnp.sum(weights)\n",
    "\n",
    "\n",
    "    X_reps = jnp.tile(jnp.expand_dims(X_train,0), (M,1,1))\n",
    "    X_reps_test = jnp.tile(jnp.expand_dims(X_test,0), (M,1,1))\n",
    "    P_projs = jax.random.normal(jax.random.PRNGKey(proj_seed), (M,DIM, proj_dim))/jnp.sqrt(proj_dim)   \n",
    "\n",
    "    X_projs = vmatmul(X_reps, P_projs/ length_scales[None, :, None])\n",
    "    X_projs_test = vmatmul(X_reps_test, P_projs/ length_scales[None, :, None])\n",
    "\n",
    "    # Make predictions\n",
    "    mu_tst, var_tst = predict_fused_gp_with_projs(X_projs, y_train, X_projs_test, jnp.ones_like(variances), variances, noises, weights)\n",
    "    mu_tr, var_tr = predict_fused_gp_with_projs(X_projs, y_train, X_projs, jnp.ones_like(variances), variances, noises, weights)\n",
    "\n",
    "\n",
    "    nlpd.append( compute_neg_log_like(mus=mu_tst,stds=jnp.sqrt(var_tst),y_test=y_test)) \n",
    "    rmse.append(jnp.sqrt( jnp.mean( (mu_tst.squeeze() - y_test.squeeze())**2 ) ))"
   ]
  },
  {
   "cell_type": "code",
   "execution_count": 91,
   "metadata": {},
   "outputs": [],
   "source": [
    "nlpd = jnp.array(nlpd)\n",
    "rmse = jnp.array(rmse)"
   ]
  },
  {
   "cell_type": "code",
   "execution_count": 92,
   "metadata": {},
   "outputs": [
    {
     "name": "stdout",
     "output_type": "stream",
     "text": [
      "0.16920797017778616 0.06319463221600018\n",
      "0.31909030783138476 0.024193434314790572\n"
     ]
    }
   ],
   "source": [
    "print(nlpd.mean(), nlpd.std()/jnp.sqrt(10))\n",
    "print(rmse.mean(), rmse.std()/jnp.sqrt(10))"
   ]
  },
  {
   "cell_type": "markdown",
   "metadata": {},
   "source": [
    "0.15610013653830077 0.05042650749183645\n",
    "0.3169543912463495 0.019505156452521946\n"
   ]
  },
  {
   "cell_type": "markdown",
   "metadata": {},
   "source": [
    "0.22001476896610198 0.07632731765469455\n",
    "0.34331520633754886 0.029183297764586443\n"
   ]
  },
  {
   "cell_type": "code",
   "execution_count": 93,
   "metadata": {},
   "outputs": [
    {
     "data": {
      "image/png": "[encoded data removed]",
      "text/plain": [
       "<Figure size 640x480 with 1 Axes>"
      ]
     },
     "metadata": {},
     "output_type": "display_data"
    }
   ],
   "source": [
    "for i in range(10):\n",
    "    plt.plot(jnp.array(all_losses)[i,:])"
   ]
  },
  {
   "cell_type": "code",
   "execution_count": null,
   "metadata": {},
   "outputs": [],
   "source": []
  }
 ],
 "metadata": {
  "kernelspec": {
   "display_name": "Python 3",
   "language": "python",
   "name": "python3"
  },
  "language_info": {
   "codemirror_mode": {
    "name": "ipython",
    "version": 3
   },
   "file_extension": ".py",
   "mimetype": "text/x-python",
   "name": "python",
   "nbconvert_exporter": "python",
   "pygments_lexer": "ipython3",
   "version": "3.10.10"
  }
 },
 "nbformat": 4,
 "nbformat_minor": 2
}
