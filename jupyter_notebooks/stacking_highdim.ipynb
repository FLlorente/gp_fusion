{
 "cells": [
  {
   "cell_type": "code",
   "execution_count": 249,
   "metadata": {},
   "outputs": [],
   "source": [
    "import numpy as np\n",
    "import os\n",
    "import sys\n",
    "import matplotlib.pyplot as plt"
   ]
  },
  {
   "cell_type": "code",
   "execution_count": 250,
   "metadata": {},
   "outputs": [],
   "source": [
    "sys.path.append('/Users/fllorente/Dropbox/con_Petar/PYTHON/gp_fusion')\n"
   ]
  },
  {
   "cell_type": "code",
   "execution_count": 251,
   "metadata": {},
   "outputs": [],
   "source": [
    "from modules.data_handling import load_data, load_and_normalize_data\n",
    "from modules.model_training import train_and_predict_single_gp\n",
    "from modules.model_training import GPModel, to_torch\n",
    "from modules.fusion_methods import product_fusion\n",
    "from modules.fusion_methods import compute_neg_log_like\n",
    "\n",
    "\n",
    "import torch\n",
    "from tqdm import tqdm\n",
    "\n",
    "from gpytorch.means import ZeroMean\n",
    "from gpytorch.kernels import AdditiveStructureKernel, RBFKernel, ScaleKernel\n",
    "from gpytorch.likelihoods import GaussianLikelihood\n",
    "from gpytorch.metrics import mean_standardized_log_loss\n",
    "\n",
    "\n"
   ]
  },
  {
   "cell_type": "code",
   "execution_count": 267,
   "metadata": {},
   "outputs": [
    {
     "name": "stdout",
     "output_type": "stream",
     "text": [
      "input dim:  24\n",
      "training size:  144\n",
      "test size:  15\n"
     ]
    }
   ],
   "source": [
    "# ------------ Load and normalize data --------- #\n",
    "dataset_name = \"autos\"\n",
    "# dataset_name = \"breastcancer\"\n",
    "\n",
    "split=0\n",
    "X_train, y_train, X_test, y_test, y_std = load_data(dataset_name,split,)\n",
    "\n",
    "print('input dim: ', X_train.shape[1])\n",
    "print(\"training size: \", len(y_train))\n",
    "print(\"test size: \", len(y_test))"
   ]
  },
  {
   "cell_type": "code",
   "execution_count": 268,
   "metadata": {},
   "outputs": [
    {
     "name": "stdout",
     "output_type": "stream",
     "text": [
      "[ 1.63930854e-05  2.37138165e-06  1.15270825e-05  1.29099445e-06\n",
      "  3.51763235e-06 -8.72081599e-06  6.12994837e-06  6.03475016e-06\n",
      " -5.31113006e-06 -4.72182186e-06  1.41440516e-05 -8.71014121e-06\n",
      "  4.29387139e-07  1.30303597e-06  6.78165922e-06  8.92713126e-06\n",
      " -1.77088659e-05 -1.33294018e-05  3.28627486e-06  7.92884062e-06\n",
      "  1.14154070e-05 -5.14751347e-06  1.80051111e-06 -8.41591323e-06]\n",
      "1.0397028718051562e-07\n",
      "[1. 1. 1. 1. 1. 1. 1. 1. 1. 1. 1. 1. 1. 1. 1. 1. 1. 1. 1. 1. 1. 1. 1. 1.]\n",
      "1.0\n"
     ]
    }
   ],
   "source": [
    "# check that the entire dataset has zero mean (I didn't do this, but Trevor :-))\n",
    "print(np.mean(np.vstack([X_train,X_test]),axis=0))\n",
    "print(np.mean(np.concatenate([y_train,y_test]),axis=0))\n",
    "\n",
    "# I did normalize the intputs and outputs to have unit variance\n",
    "print(np.std(np.vstack([X_train,X_test]),axis=0))\n",
    "print(np.std(np.concatenate([y_train,y_test]),axis=0))"
   ]
  },
  {
   "cell_type": "code",
   "execution_count": 269,
   "metadata": {},
   "outputs": [
    {
     "name": "stdout",
     "output_type": "stream",
     "text": [
      "nlpd train: -0.3112354044171718\n",
      "nlpd test: 0.36357568615948566\n",
      "[-0.31123542]\n",
      "[0.36357566]\n",
      "rmse train:  0.15660076574032322\n",
      "rmse test:  0.3248683028385435\n"
     ]
    }
   ],
   "source": [
    "# Fit a GP with ARD-RBF kernel as the baseline\n",
    "\n",
    "test_preds, train_preds = train_and_predict_single_gp(X_train,y_train,X_test,X_train,\n",
    "                            kappa=2,lambdaa=2,\n",
    "                            mean=ZeroMean(),  # we don't want to use the mean of y_train as prior mean (using ConstantMean())\n",
    "                            lr=0.1,\n",
    "                            training_iter=1000,\n",
    "                            initialiaze_hyper=False,  # if false, kappa and lambdaa are not used for initializing the hyperparameter\n",
    "                            )\n",
    "\n",
    "# compute the negative log-likelihood (log-loss) on test data:\n",
    "print(\"nlpd train:\", mean_standardized_log_loss(train_preds, torch.from_numpy(y_train)).numpy())\n",
    "print(\"nlpd test:\", mean_standardized_log_loss(test_preds, torch.from_numpy(y_test)).numpy())\n",
    "\n",
    "# equivalently:\n",
    "print(compute_neg_log_like(train_preds.mean.numpy(),\n",
    "                           np.sqrt(train_preds.variance).numpy(),\n",
    "                           y_train))\n",
    "print(compute_neg_log_like(test_preds.mean.numpy(),\n",
    "                           np.sqrt(test_preds.variance).numpy(),\n",
    "                           y_test))\n",
    "\n",
    "print(\"rmse train: \", np.sqrt(np.mean((y_train - train_preds.mean.numpy())**2)))\n",
    "print(\"rmse test: \", np.sqrt(np.mean((y_test - test_preds.mean.numpy())**2)))"
   ]
  },
  {
   "cell_type": "code",
   "execution_count": 270,
   "metadata": {},
   "outputs": [
    {
     "name": "stdout",
     "output_type": "stream",
     "text": [
      "[0.36357566]\n"
     ]
    }
   ],
   "source": [
    "# Let us do the check that we get the same results when we train and predict using the functions:\n",
    "# train_expert and predict_with_expert\n",
    "from modules.model_training import train_expert, predict_with_expert\n",
    "\n",
    "\n",
    "model,likelihood = train_expert(X_train,y_train,\n",
    "                                kappa=2,lambdaa=2,\n",
    "                                mean=ZeroMean(),\n",
    "                                lr=0.1,\n",
    "                                training_iter=1000,\n",
    "                                initialize_hyper=False,\n",
    "                                )\n",
    "\n",
    "mean_preds,std_preds,_ = predict_with_expert(model,likelihood,X_test)\n",
    "\n",
    "print(compute_neg_log_like(mean_preds,std_preds,y_test))"
   ]
  },
  {
   "cell_type": "markdown",
   "metadata": {},
   "source": [
    "Let's average results"
   ]
  },
  {
   "cell_type": "code",
   "execution_count": 20,
   "metadata": {},
   "outputs": [
    {
     "name": "stderr",
     "output_type": "stream",
     "text": [
      "100%|██████████| 10/10 [00:07<00:00,  1.34it/s]\n"
     ]
    }
   ],
   "source": [
    "\n",
    "nlpd = []\n",
    "rmse = []\n",
    "for i in tqdm(range(10)):\n",
    "    try:\n",
    "        X_train, y_train, X_test, y_test, y_std = load_data(dataset_name,i)\n",
    "\n",
    "        # # With load_and_normalize_data fun the data is normalized using the training data only\n",
    "        # X_train, y_train, X_test, y_test = load_and_normalize_data(dataset_name,i,\n",
    "        #                                                         normalize_y=True,  \n",
    "        #                                                         normalize_x_method=\"max-min\")\n",
    "\n",
    "        test_preds, _ = train_and_predict_single_gp(X_train,y_train,X_test,X_test,\n",
    "                                kappa=2,lambdaa=2,\n",
    "                                mean=ZeroMean(),  # we don't want to use the mean of y_train as prior mean\n",
    "                                lr=0.1,\n",
    "                                training_iter=500,\n",
    "                                initialiaze_hyper=False, # if false, kappa and lambdaa don't matter!\n",
    "                                )\n",
    "        nlpd_now = compute_neg_log_like(test_preds.mean,np.sqrt(test_preds.variance),y_test)\n",
    "\n",
    "        rmse_now = np.sqrt(np.mean((test_preds.mean.numpy() - y_test)**2))\n",
    "\n",
    "        nlpd.append(nlpd_now.squeeze())\n",
    "        rmse.append(rmse_now)\n",
    "    except:\n",
    "        print(\"There was an error during hyperparameter learning.\")\n",
    "\n",
    "\n",
    "nlpd = np.array(nlpd)\n",
    "rmse = np.array(rmse)"
   ]
  },
  {
   "cell_type": "code",
   "execution_count": 21,
   "metadata": {},
   "outputs": [
    {
     "data": {
      "text/plain": [
       "array([ 0.39663261,  0.62069608, -0.03275486,  0.37309431,  0.07089072,\n",
       "       -0.0375203 ,  0.16635601,  0.05886923,  0.07811722,  0.44992557])"
      ]
     },
     "execution_count": 21,
     "metadata": {},
     "output_type": "execute_result"
    }
   ],
   "source": [
    "nlpd"
   ]
  },
  {
   "cell_type": "code",
   "execution_count": 19,
   "metadata": {},
   "outputs": [
    {
     "data": {
      "text/plain": [
       "array([ 0.50446794,  0.72029356,  0.05992493,  0.32965062,  0.11765238,\n",
       "       -0.02974258,  0.13023134,  0.1442318 ,  0.1408854 ,  0.37034965])"
      ]
     },
     "execution_count": 19,
     "metadata": {},
     "output_type": "execute_result"
    }
   ],
   "source": [
    "nlpd"
   ]
  },
  {
   "cell_type": "code",
   "execution_count": 22,
   "metadata": {},
   "outputs": [
    {
     "data": {
      "text/plain": [
       "(0.21443065877592962, 0.21660025837568553)"
      ]
     },
     "execution_count": 22,
     "metadata": {},
     "output_type": "execute_result"
    }
   ],
   "source": [
    "nlpd.mean(),nlpd.std()"
   ]
  },
  {
   "cell_type": "code",
   "execution_count": 23,
   "metadata": {},
   "outputs": [
    {
     "data": {
      "text/plain": [
       "(0.3399892426555571, 0.1665370674345152)"
      ]
     },
     "execution_count": 23,
     "metadata": {},
     "output_type": "execute_result"
    }
   ],
   "source": [
    "rmse.mean(), rmse.std()"
   ]
  },
  {
   "cell_type": "markdown",
   "metadata": {},
   "source": [
    "## Let's try using an additive kernel"
   ]
  },
  {
   "cell_type": "code",
   "execution_count": 24,
   "metadata": {},
   "outputs": [
    {
     "name": "stderr",
     "output_type": "stream",
     "text": [
      "100%|██████████| 10/10 [00:04<00:00,  2.48it/s]\n"
     ]
    }
   ],
   "source": [
    "'''\n",
    "AdditiveStructureKernel computes d one-dimensional kernels (using the supplied base_kernel), \n",
    "and then adds the component kernels together.\n",
    "\"AdditiveStructureKernel is deprecated, and will be removed in GPyTorch 2.0. \"\n",
    "'Please refer to the \"Kernels with Additive or Product Structure\" tutorial '\n",
    "\"in the GPyTorch docs for how to implement GPs with additive structure.\"\n",
    "'''\n",
    "kernel = AdditiveStructureKernel(base_kernel=ScaleKernel(RBFKernel()), num_dims=X_train.shape[1])\n",
    "\n",
    "nlpd = []\n",
    "rmse = []\n",
    "for i in tqdm(range(10)):\n",
    "    # try:\n",
    "        X_train, y_train, X_test, y_test, y_std = load_data(dataset_name,i)\n",
    "\n",
    "        # # With load_and_normalize_data fun the data is normalized using the training data only\n",
    "        # X_train, y_train, X_test, y_test = load_and_normalize_data(dataset_name,i,\n",
    "        #                                                         normalize_y=True,  \n",
    "        #                                                         normalize_x_method=\"max-min\")\n",
    "\n",
    "        test_preds, _ = train_and_predict_single_gp(X_train,y_train,X_test,X_test,\n",
    "                                kappa=2,lambdaa=2,\n",
    "                                mean=ZeroMean(),  # we don't want to use the mean of y_train as prior mean\n",
    "                                kernel=kernel,\n",
    "                                lr=0.1,\n",
    "                                training_iter=100,\n",
    "                                initialiaze_hyper=False, # if False, kappa and lambdaa are not used for initializing the hyperparameters; we just use the default values.\n",
    "                                )\n",
    "        nlpd_now = compute_neg_log_like(test_preds.mean,np.sqrt(test_preds.variance),y_test)\n",
    "\n",
    "        rmse_now = np.sqrt(np.mean((test_preds.mean.detach().numpy() - y_test)**2))\n",
    "\n",
    "        nlpd.append(nlpd_now.squeeze())\n",
    "        rmse.append(rmse_now)\n",
    "    # except:\n",
    "    #     print(\"There was an error during hyperparameter learning.\")\n",
    "\n",
    "\n",
    "nlpd = np.array(nlpd)\n",
    "rmse = np.array(rmse)"
   ]
  },
  {
   "cell_type": "code",
   "execution_count": 25,
   "metadata": {},
   "outputs": [
    {
     "data": {
      "text/plain": [
       "array([0.34137439, 0.6400602 , 0.37289921, 0.16129038, 0.13417607,\n",
       "       0.04016093, 0.02746184, 0.02168028, 0.0959663 , 0.19244998])"
      ]
     },
     "execution_count": 25,
     "metadata": {},
     "output_type": "execute_result"
    }
   ],
   "source": [
    "nlpd"
   ]
  },
  {
   "cell_type": "code",
   "execution_count": 26,
   "metadata": {},
   "outputs": [
    {
     "data": {
      "text/plain": [
       "(0.20275195698146095, 0.18635589889484833)"
      ]
     },
     "execution_count": 26,
     "metadata": {},
     "output_type": "execute_result"
    }
   ],
   "source": [
    "nlpd.mean(),nlpd.std()"
   ]
  },
  {
   "cell_type": "code",
   "execution_count": 27,
   "metadata": {},
   "outputs": [
    {
     "data": {
      "text/plain": [
       "(0.3100164964961764, 0.08046684862617143)"
      ]
     },
     "execution_count": 27,
     "metadata": {},
     "output_type": "execute_result"
    }
   ],
   "source": [
    "rmse.mean(), rmse.std()"
   ]
  },
  {
   "cell_type": "code",
   "execution_count": 28,
   "metadata": {},
   "outputs": [],
   "source": [
    "%%script true\n",
    "kernel = ScaleKernel(AdditiveStructureKernel(base_kernel=RBFKernel(), num_dims=X_train.shape[1]))\n",
    "model = GPModel(to_torch(X_train),\n",
    "                to_torch(y_train),\n",
    "                GaussianLikelihood(),\n",
    "                kernel=kernel,mean=ZeroMean())\n",
    "for name, param in model.named_parameters():\n",
    "    print(f'Parameter name: {name:42} value = {param.item():1.2f}')"
   ]
  },
  {
   "cell_type": "markdown",
   "metadata": {},
   "source": [
    "## Stack GPs built on 1d projections:\n",
    "\n",
    "We'll use the axis-aligned 1d projections for the moment, since I think it's the one\n",
    "\"closer\" to using the additive kernel of one-dimensional kernels"
   ]
  },
  {
   "cell_type": "code",
   "execution_count": 62,
   "metadata": {},
   "outputs": [
    {
     "name": "stderr",
     "output_type": "stream",
     "text": [
      "100%|██████████| 10/10 [00:32<00:00,  3.21s/it]\n"
     ]
    }
   ],
   "source": [
    "nlpd = []\n",
    "rmse = []\n",
    "\n",
    "# proj = \"axis\"\n",
    "proj = \"random\"\n",
    "\n",
    "for split in tqdm(range(10)):\n",
    "        X_train, y_train, X_test, y_test, y_std = load_data(dataset_name,split)\n",
    "\n",
    "        mean_experts = []\n",
    "        std_experts = []\n",
    "        std_experts_prior = []\n",
    "        for d in range(X_train.shape[1]):  # as many projections as dimension of X\n",
    "            if proj == \"random\":\n",
    "                  np.random.seed(d)\n",
    "                  P_proj = np.random.randn(X_train.shape[1],1)\n",
    "            elif proj == \"axis\":\n",
    "                  index = d\n",
    "                  P_proj = np.array([1.0 if i == index else 0.0 for i in range(X_train.shape[1])])\n",
    "                  P_proj = P_proj.reshape(-1,1)\n",
    "\n",
    "            # test_preds, _ = train_and_predict_single_gp(\n",
    "            #                         np.matmul(X_train,P_proj),\n",
    "            #                         y_train,\n",
    "            #                         np.matmul(X_test,P_proj),\n",
    "            #                         np.matmul(X_test,P_proj),\n",
    "            #                         mean=ZeroMean(),  # we don't want to use the mean of y_train as prior mean\n",
    "            #                         lr=0.1,\n",
    "            #                         training_iter=100,\n",
    "            #                         initialiaze_hyper=False, # if False, kappa and lambdaa are not used for initializing the hyperparameters; we just use the default values.\n",
    "            #                         )\n",
    "\n",
    "            # mean_experts.append(test_preds.mean.numpy())\n",
    "            # std_experts.append(np.sqrt(test_preds.variance.numpy()))\n",
    "      \n",
    "            model,likelihood = train_expert(np.matmul(X_train,P_proj),\n",
    "                                            y_train,\n",
    "                                            kappa=2,lambdaa=2,\n",
    "                                            mean=ZeroMean(),\n",
    "                                            lr=0.1,\n",
    "                                            training_iter=100,\n",
    "                                            initialize_hyper=False,\n",
    "                                          )\n",
    "\n",
    "            mean_preds,std_preds,std_preds_prior = predict_with_expert(model,\n",
    "                                                                       likelihood,\n",
    "                                                                       np.matmul(X_test,P_proj))\n",
    "\n",
    "            mean_experts.append(mean_preds)\n",
    "            std_experts.append(std_preds)\n",
    "            std_experts_prior.append(std_preds_prior)\n",
    "\n",
    "\n",
    "        mean_experts = np.stack(mean_experts,axis=-1)\n",
    "        std_experts = np.stack(std_experts,axis=-1)\n",
    "        std_experts_prior = np.stack(std_experts_prior,axis=-1)\n",
    "\n",
    "        # Fuse one-dimensional experts' predictions\n",
    "        mean_fused, std_fused, _ = product_fusion(mean_experts,\n",
    "                                                  std_experts,\n",
    "                                                  std_experts_prior,\n",
    "                                                  weighting=\"entropy\",\n",
    "                                                #   weighting=\"uniform\",\n",
    "                                                #   weighting=\"no-weights\",\n",
    "                                                  normalize=True,\n",
    "                                                #   method = \"PoE\",\n",
    "                                                  method = \"gPoE\",\n",
    "                                                  )\n",
    "        \n",
    "        nlpd_now = compute_neg_log_like(mean_fused,std_fused,y_test)\n",
    "        nlpd.append(nlpd_now.squeeze())\n",
    "\n",
    "        rmse_now = np.sqrt(np.mean( (mean_fused-y_test)**2 ))\n",
    "        rmse.append(rmse_now)\n",
    "        \n",
    "nlpd = np.array(nlpd)\n",
    "rmse = np.array(rmse)\n"
   ]
  },
  {
   "cell_type": "code",
   "execution_count": 63,
   "metadata": {},
   "outputs": [
    {
     "data": {
      "text/plain": [
       "(1.0256066997598272, 0.18867332271951584)"
      ]
     },
     "execution_count": 63,
     "metadata": {},
     "output_type": "execute_result"
    }
   ],
   "source": [
    "nlpd.mean(), nlpd.std()"
   ]
  },
  {
   "cell_type": "code",
   "execution_count": 64,
   "metadata": {},
   "outputs": [
    {
     "data": {
      "text/plain": [
       "(1.0401042721707483, 0.24550736643944826)"
      ]
     },
     "execution_count": 64,
     "metadata": {},
     "output_type": "execute_result"
    }
   ],
   "source": [
    "rmse.mean(), rmse.std()"
   ]
  },
  {
   "cell_type": "markdown",
   "metadata": {},
   "source": [
    "## Delbridge's repository"
   ]
  },
  {
   "cell_type": "code",
   "execution_count": 65,
   "metadata": {},
   "outputs": [],
   "source": [
    "sys.path.append('/Users/fllorente/Dropbox/con_Petar/PYTHON/Randomly-Projected-Additive-GPs')\n"
   ]
  },
  {
   "cell_type": "code",
   "execution_count": null,
   "metadata": {},
   "outputs": [],
   "source": [
    "from fitting.optimizing import train_to_convergence"
   ]
  },
  {
   "cell_type": "code",
   "execution_count": null,
   "metadata": {},
   "outputs": [],
   "source": [
    "from gpytorch.mlls import ExactMarginalLogLikelihood\n",
    "\n",
    "likelihood = GaussianLikelihood()\n",
    "model = GPModel(to_torch(X_train),to_torch(y_train),likelihood)\n",
    "\n",
    "print(model.covar_module.base_kernel.lengthscale)\n",
    "print(likelihood.noise_covar.noise)\n",
    "\n",
    "\n",
    "mll = ExactMarginalLogLikelihood(model.likelihood, model)\n",
    "max_iter = train_to_convergence(model, \n",
    "                     to_torch(X_train), \n",
    "                     to_torch(y_train),\n",
    "                     optimizer=torch.optim.Adam, objective=mll, \n",
    "                     max_iter=100, print_freq=1, verbose=0,lr = 0.1)\n",
    "max_iter"
   ]
  },
  {
   "cell_type": "code",
   "execution_count": null,
   "metadata": {},
   "outputs": [],
   "source": [
    "print(model.covar_module.base_kernel.lengthscale)\n",
    "print(likelihood.noise_covar.noise)"
   ]
  },
  {
   "cell_type": "code",
   "execution_count": null,
   "metadata": {},
   "outputs": [],
   "source": [
    "model.eval()\n",
    "test_preds = likelihood(model(to_torch(X_test)))\n",
    "\n",
    "print(mean_standardized_log_loss(test_preds,to_torch(y_test)))"
   ]
  },
  {
   "cell_type": "markdown",
   "metadata": {},
   "source": [
    "I want to try now the function create_exact_gp"
   ]
  },
  {
   "cell_type": "code",
   "execution_count": 66,
   "metadata": {},
   "outputs": [],
   "source": [
    "from training_routines import train_exact_gp"
   ]
  },
  {
   "cell_type": "code",
   "execution_count": 67,
   "metadata": {},
   "outputs": [
    {
     "name": "stderr",
     "output_type": "stream",
     "text": [
      "/Users/fllorente/Dropbox/con_Petar/PYTHON/Randomly-Projected-Additive-GPs/fitting/optimizing.py:81: RuntimeWarning: Mean of empty slice.\n",
      "  ma[i] = losses[i-patience+1:i+1].mean()\n",
      "/Library/Frameworks/Python.framework/Versions/3.10/lib/python3.10/site-packages/numpy/core/_methods.py:192: RuntimeWarning: invalid value encountered in scalar divide\n",
      "  ret = ret.dtype.type(ret / rcount)\n",
      "/Library/Frameworks/Python.framework/Versions/3.10/lib/python3.10/site-packages/gpytorch/models/exact_gp.py:284: GPInputWarning: The input matches the stored training data. Did you forget to call model.train()?\n",
      "  warnings.warn(\n"
     ]
    }
   ],
   "source": [
    "model_args = {'ard': True, 'ski': False, 'grid_size': None, 'kernel_type': 'RBF', \n",
    "              'init_lengthscale_range': (0.1, 1.0), 'keops': False,\n",
    "              'noise_prior': False, 'init_noise_range': (0.1,1),\n",
    "              }\n",
    "train_args = {'lr': 0.1, 'max_iter': 100, 'verbose': 0, 'patience': 20,\n",
    "              'conv_tol': 1e-4, 'check_conv': True, 'smooth': True,\n",
    "              'batch_size': None, 'checkpoint': False, 'print_freq': 1,\n",
    "              'random_restarts': 5, 'optimizer': 'adam',\n",
    "              }\n",
    "\n",
    "model_metrics, pred_mean, model = train_exact_gp(trainX = to_torch(X_train), \n",
    "                                                 trainY = to_torch(y_train), \n",
    "                                                 testX = to_torch(X_test), \n",
    "                                                 testY = to_torch(y_test), \n",
    "                                                 kind = 'full', \n",
    "                                                 model_kwargs = model_args, \n",
    "                                                 train_kwargs = train_args,\n",
    "                                                 )"
   ]
  },
  {
   "cell_type": "code",
   "execution_count": 68,
   "metadata": {},
   "outputs": [
    {
     "data": {
      "text/plain": [
       "(0.31298235058784485, -0.26062139868736267)"
      ]
     },
     "execution_count": 68,
     "metadata": {},
     "output_type": "execute_result"
    }
   ],
   "source": [
    "model_metrics[\"prior_train_nmll\"], model_metrics[\"train_nll\"]"
   ]
  },
  {
   "cell_type": "code",
   "execution_count": 69,
   "metadata": {},
   "outputs": [
    {
     "name": "stderr",
     "output_type": "stream",
     "text": [
      "/Library/Frameworks/Python.framework/Versions/3.10/lib/python3.10/site-packages/gpytorch/models/exact_gp.py:284: GPInputWarning: The input matches the stored training data. Did you forget to call model.train()?\n",
      "  warnings.warn(\n"
     ]
    },
    {
     "data": {
      "text/plain": [
       "tensor(-0.2856, grad_fn=<MeanBackward1>)"
      ]
     },
     "execution_count": 69,
     "metadata": {},
     "output_type": "execute_result"
    }
   ],
   "source": [
    "mean_standardized_log_loss(model.likelihood(model(to_torch(X_train))),\n",
    "                           to_torch(y_train))"
   ]
  },
  {
   "cell_type": "code",
   "execution_count": 71,
   "metadata": {},
   "outputs": [
    {
     "name": "stdout",
     "output_type": "stream",
     "text": [
      "0.40473681688308716\n",
      "0.40473878\n",
      "6.4758219587159775\n",
      "6.4758205\n"
     ]
    }
   ],
   "source": [
    "from gpytorch.mlls import ExactMarginalLogLikelihood\n",
    "print(model_metrics[\"test_nll\"]) # creo que esta mal calculado...\n",
    "'''\n",
    "esta usando mll = GaussianLogMarginalLikelihood para calcular este valor...\n",
    "por lo que estaria calculando la log-pdf de la Gaussian multivariate, en lugar de la\n",
    "media de las log-pdf de las Gaussianas univariantes.\n",
    "'''\n",
    "\n",
    "mll = ExactMarginalLogLikelihood(model.likelihood, model)\n",
    "mll.eval()\n",
    "aux =model(to_torch(X_test))\n",
    "print(-mll(aux,to_torch(y_test)).detach().numpy())\n",
    "\n",
    "\n",
    "# deberia ser igual a esto pero no...\n",
    "aux = model.likelihood(model(to_torch(X_test)))\n",
    "\n",
    "from scipy.stats import multivariate_normal\n",
    "\n",
    "print(\n",
    "    -multivariate_normal.logpdf(y_test, \n",
    "                           aux.mean.detach().numpy(),\n",
    "                           aux.covariance_matrix.detach().numpy(),\n",
    "                           )\n",
    ")\n",
    "\n",
    "# este valor coincide con\n",
    "print(-aux.log_prob(to_torch(y_test)).detach().numpy())"
   ]
  },
  {
   "cell_type": "code",
   "execution_count": 72,
   "metadata": {},
   "outputs": [
    {
     "name": "stdout",
     "output_type": "stream",
     "text": [
      "tensor(0.4342)\n"
     ]
    }
   ],
   "source": [
    "# este es el que me interesa\n",
    "with torch.no_grad():\n",
    "    print(mean_standardized_log_loss(model.likelihood(model(to_torch(X_test))),\n",
    "                           to_torch(y_test)))"
   ]
  },
  {
   "cell_type": "code",
   "execution_count": 73,
   "metadata": {},
   "outputs": [
    {
     "data": {
      "text/plain": [
       "tensor([-0.3860, -0.5637, -1.0533,  0.7636,  0.1275, -1.1920, -1.1596,  1.1078,\n",
       "        -0.9683, -1.0333, -0.0197, -0.4215, -0.3481,  0.4283, -1.2783, -0.4357])"
      ]
     },
     "execution_count": 73,
     "metadata": {},
     "output_type": "execute_result"
    }
   ],
   "source": [
    "pred_mean"
   ]
  },
  {
   "cell_type": "code",
   "execution_count": 74,
   "metadata": {},
   "outputs": [
    {
     "data": {
      "text/plain": [
       "tensor([-0.3860, -0.5637, -1.0533,  0.7636,  0.1275, -1.1920, -1.1596,  1.1078,\n",
       "        -0.9683, -1.0333, -0.0197, -0.4215, -0.3481,  0.4283, -1.2783, -0.4357],\n",
       "       grad_fn=<ViewBackward0>)"
      ]
     },
     "execution_count": 74,
     "metadata": {},
     "output_type": "execute_result"
    }
   ],
   "source": [
    "model.likelihood(model(to_torch(X_test))).mean"
   ]
  },
  {
   "cell_type": "markdown",
   "metadata": {},
   "source": [
    "## rff-based pogpe without weights \n"
   ]
  },
  {
   "cell_type": "code",
   "execution_count": 271,
   "metadata": {},
   "outputs": [],
   "source": [
    "import numpyro\n",
    "from numpyro.infer import NUTS, MCMC, SVI, Trace_ELBO, Predictive\n",
    "from numpyro.infer.autoguide import AutoDelta, AutoNormal\n",
    "\n",
    "from optax import adam, chain, clip\n",
    "\n",
    "from numpyro import distributions as dist\n",
    "import jax\n",
    "import jax.numpy as jnp\n",
    "import jax.random as random\n",
    "\n",
    "\n",
    "\n",
    "matmul_vmapped = jax.vmap(lambda A,B: (A @ B).squeeze(), in_axes=(0, 0))\n",
    "\n",
    "def pogpe_with_RFGP_fixed_Omega(X, M=None, S = 50, Y=None, y_test=None):              # M is the number of experts\n",
    "    N = X.shape[0]\n",
    "    DIM = X.shape[1]\n",
    "    \n",
    "    Omega_fixed = jax.random.normal(jax.random.PRNGKey(30), (S, DIM))\n",
    "\n",
    "    #########################\n",
    "    # RF-GP for the experts #\n",
    "    #########################\n",
    "    with numpyro.plate(\"M\", M, dim=-2):\n",
    "        var_mu_ex = numpyro.sample(\"kernel_var_exp_mean\", dist.HalfNormal(1.0))\n",
    "        # noise_mu_ex = numpyro.sample(\"kernel_noise_exp_mean\", dist.InverseGamma(5.0, 5.0))\n",
    "        std_ex_un = numpyro.sample('std_ex_un', dist.InverseGamma(5.0, 5.0))\n",
    "        std_ex = numpyro.deterministic('std_ex', jnp.tile(jnp.reshape(std_ex_un, (-1, 1)), N))\n",
    "\n",
    "        with numpyro.plate('2S', 2*S):\n",
    "            theta_mu_ex = numpyro.sample(\"theta_mu_ex\", dist.Normal(loc=0.0, \n",
    "                                                        scale=1.0)) # I'm not considering signal power here!\n",
    "            \n",
    "        with  numpyro.plate('DIM', DIM):\n",
    "            lengthscale_ex = numpyro.sample('ell_ex', dist.HalfNormal(scale = 1))\n",
    "\n",
    "            \n",
    "    assert lengthscale_ex.shape == (M,DIM)\n",
    "    assert Omega_fixed.shape == (S,DIM)\n",
    "\n",
    "    #### OMEGA FIXED\n",
    "    vdivide =  jax.vmap(lambda x, y: jnp.divide(x, y), (None, 0))                                                                                                                            \n",
    "    Omega_ex = vdivide( Omega_fixed, lengthscale_ex)     # shape = (M,S,DIM)\n",
    "    ########\n",
    "    assert Omega_ex.shape == (M,S,DIM)\n",
    "    ola = X @ jnp.transpose(Omega_ex, axes=(0,2,1))     # this is batch matmul: (Ndata,DIM) x (M,DIM,S) = (M,Ndata,S)\n",
    "    #assert ola.shape == (M,N,S)\n",
    "    Phi_ex = jnp.concatenate([jnp.sin(ola), jnp.cos(ola)], axis=2)  # tiene shape = (M, Ndata, 2*S)\n",
    "    Phi_ex = 1/jnp.sqrt(S)*Phi_ex  # se me habia olvidado dividir entre jnp.sqrt(S)\n",
    "    assert Phi_ex.shape == (M, N, 2*S)\n",
    "    assert std_ex.shape == (M,N)\n",
    "    assert theta_mu_ex.shape == (M,2*S)\n",
    "\n",
    "    # theta_mu_ex = jnp.tile(jnp.sqrt(var_mu_ex+ noise_mu_ex),2*S) * theta_mu_ex\n",
    "    theta_mu_ex = jnp.tile(jnp.sqrt(var_mu_ex),2*S) * theta_mu_ex\n",
    "    mu_ex = numpyro.deterministic(\"mu_ex\", matmul_vmapped(Phi_ex,theta_mu_ex) )                 # shape = (M,Ndata)\n",
    "    assert mu_ex.shape == (M,N)\n",
    "\n",
    "\n",
    "\n",
    "    # #########################\n",
    "    # # RF-GP for log weights #\n",
    "    # #########################\n",
    "    # with numpyro.plate(\"M\", M, dim=-2):\n",
    "    #     # set uninformative log-normal priors on our three kernel hyperparameters\n",
    "    #     var_logw = numpyro.sample(\"kernel_var_logw\", dist.HalfNormal(1.0))\n",
    "    #     # noise_logw = numpyro.sample(\"kernel_noise_logw\", dist.InverseGamma(5.0, 5.0))\n",
    "\n",
    "    #     with numpyro.plate('2S', 2*S):\n",
    "    #         theta_logw = numpyro.sample(\"theta_logw\", dist.Normal(loc=0.0, \n",
    "    #                                                     scale=1.0)) # I'm not considering signal power here!\n",
    "            \n",
    "    #     with numpyro.plate(\"DIM\", DIM):\n",
    "    #         lengthscale_logw = numpyro.sample('ell_logw', dist.HalfNormal(scale = 1.0))\n",
    "\n",
    "    # assert lengthscale_logw.shape == (M,DIM)\n",
    "\n",
    "    # # theta_logw = jnp.tile(jnp.sqrt(var_logw+ noise_logw),2*S) * theta_logw\n",
    "    # theta_logw = jnp.tile(jnp.sqrt(var_logw),2*S) * theta_logw\n",
    "    # assert theta_logw.shape == (M,2*S)\n",
    "\n",
    "\n",
    "    # Omega_logw = vdivide( Omega_fixed, lengthscale_logw)     # shape = (M,S,DIM)\n",
    "    # ola = X @ jnp.transpose(Omega_logw, axes=(0,2,1))     # this is batch matmul: (Ndata,DIM) x (M,DIM,S) = (M,Ndata,S)\n",
    "\n",
    "    # Phi_logw = jnp.concatenate([jnp.sin(ola), jnp.cos(ola)], axis=2)  # tiene shape = (M, Ndata, 2*S)\n",
    "    # Phi_logw = 1/jnp.sqrt(S)*Phi_logw  # se me habia olvidado dividir entre jnp.sqrt(S)\n",
    "\n",
    "    # logw = numpyro.deterministic(\"logw\", matmul_vmapped(Phi_logw, theta_logw) - jnp.log(M))   # PRIOR MEAN FUNCTION!\n",
    "    # assert logw.shape == (M,N)\n",
    "\n",
    "\n",
    "    ################################################\n",
    "    # Fuse with generalized multiplicative pooling #\n",
    "    ################################################\n",
    "    # w = numpyro.deterministic(\"w\", jnp.exp(logw) )                 # shape = (M,Ndata)\n",
    "    w = numpyro.deterministic(\"w\", jnp.ones((M,N)))  # All weights are one (not trained)\n",
    "    w  = w.T\n",
    "    tau_ex = 1. / std_ex\n",
    "\n",
    "\n",
    "    tau_fused = numpyro.deterministic(\n",
    "        \"tau_fused\", jnp.einsum(\"nm,mn->m\", tau_ex, w)\n",
    "    )  # N,\n",
    "    assert tau_fused.shape == (N,)\n",
    "\n",
    "    mu_fused = numpyro.deterministic(\n",
    "        \"mean_fused\", jnp.einsum(\"nm,nm,mn->m\", tau_ex, mu_ex, w) / tau_fused\n",
    "    )  # N,\n",
    "    assert mu_fused.shape == (N,)\n",
    "    \n",
    "    std_fused = numpyro.deterministic(\"std_fused\", 1 / jnp.sqrt(tau_fused))\n",
    "    assert std_fused.shape == (N,)\n",
    "\n",
    "    # noise = numpyro.sample(\"noise\", dist.HalfNormal(scale = 1))\n",
    "\n",
    "    numpyro.sample(\n",
    "        \"y_val\",\n",
    "        dist.Normal(loc=jnp.squeeze(mu_fused), \n",
    "                    scale=jnp.squeeze(std_fused),\n",
    "                    # scale=jnp.sqrt(jnp.squeeze(std_fused)**2 + noise),\n",
    "                    ),\n",
    "        obs=Y,\n",
    "    )\n",
    "\n",
    "    if y_test is not None:\n",
    "        # compute the lpd of the observations\n",
    "        numpyro.deterministic(\"lpd_point\", jax.scipy.stats.norm.logpdf(\n",
    "                jnp.squeeze(y_test), loc=jnp.squeeze(mu_fused), scale=jnp.squeeze(std_fused),\n",
    "                )\n",
    "            )"
   ]
  },
  {
   "cell_type": "code",
   "execution_count": 280,
   "metadata": {},
   "outputs": [
    {
     "name": "stdout",
     "output_type": "stream",
     "text": [
      "===== Pogpe =====\n",
      "starting svi...\n"
     ]
    },
    {
     "name": "stderr",
     "output_type": "stream",
     "text": [
      "100%|██████████| 300/300 [00:00<00:00, 430.82it/s, init loss: 855.1451, avg. loss [286-300]: 481.1580]\n"
     ]
    },
    {
     "name": "stdout",
     "output_type": "stream",
     "text": [
      "done!\n",
      "nlpd train:  0.17651628259390514\n",
      "nlpd test:  3.189712249770881\n",
      "rmse train:  0.14329776078904655\n",
      "rmse test:  1.1205262502374091\n"
     ]
    }
   ],
   "source": [
    "M_models = 2\n",
    "num_spectral_freqs = 100\n",
    "\n",
    "\n",
    "svi= SVI(\n",
    "        pogpe_with_RFGP_fixed_Omega,\n",
    "        AutoDelta(pogpe_with_RFGP_fixed_Omega, \n",
    "                  # init_loc_fn = numpyro.infer.initialization.init_to_median,\n",
    "                  init_loc_fn = numpyro.infer.init_to_sample,\n",
    "                  ),\n",
    "        # optim = numpyro.optim.Minimize(),  # Using lbfgs instead of adam\n",
    "        optim=chain(clip(10.0), adam(0.005)),\n",
    "        # optim = numpyro.optim.Adam(0.1),\n",
    "        loss=Trace_ELBO(),\n",
    "    )\n",
    "\n",
    "print(\"===== Pogpe =====\")\n",
    "print(\"starting svi...\")\n",
    "res = svi.run(\n",
    "    jax.random.PRNGKey(3),\n",
    "    # 5,\n",
    "    300,  # these many iterations when using adam optimizer\n",
    "    X=X_train,\n",
    "    Y=y_train,\n",
    "    M=M_models,\n",
    "    S=num_spectral_freqs,\n",
    ")\n",
    "\n",
    "print('done!')\n",
    "\n",
    "\n",
    "params = res.params\n",
    "guide = AutoDelta(pogpe_with_RFGP_fixed_Omega)\n",
    "# use guide to make predictive\n",
    "dist_posterior_predictive = Predictive(model=pogpe_with_RFGP_fixed_Omega, \n",
    "                                       guide=guide, params=params, num_samples=1)\n",
    "\n",
    "# these are not actual samples but just the MAP estimates (since we are using AutoDelta)\n",
    "samples_posterior_predictive = dist_posterior_predictive(jax.random.PRNGKey(3), \n",
    "                                                         X=X_train, \n",
    "                                                         Y=None, \n",
    "                                                         M=M_models,\n",
    "                                                         S=num_spectral_freqs,\n",
    "                                                         y_test=y_train)\n",
    "ymu_tr_svi = samples_posterior_predictive[\"mean_fused\"].mean(0)\n",
    "w_tr = samples_posterior_predictive[\"w\"].mean(0)\n",
    "\n",
    "lpd_pogpe_svi_train = samples_posterior_predictive[\"lpd_point\"].mean()\n",
    "rmse_pogpe_svi_train = np.sqrt(np.mean((ymu_tr_svi-y_train)**2))\n",
    "\n",
    "samples_posterior_predictive = dist_posterior_predictive(jax.random.PRNGKey(3), \n",
    "                                                         X=X_test, \n",
    "                                                         Y=None, \n",
    "                                                         M=M_models,\n",
    "                                                         S=num_spectral_freqs,\n",
    "                                                         y_test=y_test)\n",
    "ymu_tst_svi = samples_posterior_predictive[\"mean_fused\"].mean(0)\n",
    "w_tst = samples_posterior_predictive[\"w\"].mean(0)\n",
    "\n",
    "lpd_pogpe_svi_test = samples_posterior_predictive[\"lpd_point\"].mean()\n",
    "rmse_pogpe_svi_test = np.sqrt(np.mean((ymu_tst_svi-y_test)**2))\n",
    "\n",
    "\n",
    "\n",
    "print(\"nlpd train: \", -lpd_pogpe_svi_train)\n",
    "print(\"nlpd test: \", -lpd_pogpe_svi_test)\n",
    "\n",
    "print(\"rmse train: \", rmse_pogpe_svi_train)\n",
    "print(\"rmse test: \", rmse_pogpe_svi_test)\n"
   ]
  },
  {
   "cell_type": "code",
   "execution_count": 281,
   "metadata": {},
   "outputs": [
    {
     "data": {
      "text/plain": [
       "Array([[[0.30626809, 0.30626809, 0.30626809, 0.30626809, 0.30626809,\n",
       "         0.30626809, 0.30626809, 0.30626809, 0.30626809, 0.30626809,\n",
       "         0.30626809, 0.30626809, 0.30626809, 0.30626809, 0.30626809],\n",
       "        [0.61943315, 0.61943315, 0.61943315, 0.61943315, 0.61943315,\n",
       "         0.61943315, 0.61943315, 0.61943315, 0.61943315, 0.61943315,\n",
       "         0.61943315, 0.61943315, 0.61943315, 0.61943315, 0.61943315]]],      dtype=float64)"
      ]
     },
     "execution_count": 281,
     "metadata": {},
     "output_type": "execute_result"
    }
   ],
   "source": [
    "samples_posterior_predictive[\"std_ex\"]"
   ]
  },
  {
   "cell_type": "code",
   "execution_count": 282,
   "metadata": {},
   "outputs": [
    {
     "data": {
      "text/plain": [
       "Array([[0.45270227, 0.45270227, 0.45270227, 0.45270227, 0.45270227,\n",
       "        0.45270227, 0.45270227, 0.45270227, 0.45270227, 0.45270227,\n",
       "        0.45270227, 0.45270227, 0.45270227, 0.45270227, 0.45270227]],      dtype=float64)"
      ]
     },
     "execution_count": 282,
     "metadata": {},
     "output_type": "execute_result"
    }
   ],
   "source": [
    "# without weights, the fused model has constant variance...\n",
    "samples_posterior_predictive[\"std_fused\"]"
   ]
  },
  {
   "cell_type": "code",
   "execution_count": 283,
   "metadata": {},
   "outputs": [],
   "source": [
    "%%script true\n",
    "plt.plot(res[2])"
   ]
  },
  {
   "cell_type": "code",
   "execution_count": 284,
   "metadata": {},
   "outputs": [
    {
     "data": {
      "image/png": "[encoded data removed]",
      "text/plain": [
       "<Figure size 640x480 with 1 Axes>"
      ]
     },
     "metadata": {},
     "output_type": "display_data"
    }
   ],
   "source": [
    "plt.scatter(range(len(X_test)),y_test, label = \"test data\")\n",
    "plt.plot(ymu_tst_svi,label = \"pogpe map\",color=\"red\")\n",
    "plt.fill_between(range(len(X_test)),ymu_tst_svi+2*samples_posterior_predictive[\"std_fused\"].mean(0),\n",
    "                 ymu_tst_svi-2*samples_posterior_predictive[\"std_fused\"].mean(0),alpha=0.3,color=\"red\")\n",
    "plt.plot(test_preds.mean.numpy(), label = \"my single gp\",color=\"green\")\n",
    "plt.fill_between(range(len(X_test)),test_preds.mean.numpy()+2*np.sqrt(test_preds.variance.numpy()),\n",
    "                 test_preds.mean.numpy()-2*np.sqrt(test_preds.variance.numpy()),alpha=0.3,color=\"green\")\n",
    "\n",
    "plt.legend();"
   ]
  },
  {
   "cell_type": "code",
   "execution_count": 238,
   "metadata": {},
   "outputs": [],
   "source": [
    "%%script true\n",
    "for i in range(M_models):\n",
    "    plt.plot(samples_posterior_predictive[\"w\"].mean(0)[i,:])"
   ]
  },
  {
   "cell_type": "code",
   "execution_count": 239,
   "metadata": {},
   "outputs": [],
   "source": [
    "%%script true\n",
    "numpyro.set_host_device_count(4)\n",
    "numpyro.set_platform(\"cpu\")\n",
    "# numpyro.enable_x64()\n",
    "\n",
    "\n",
    "# %% POGPEEEEE (MCMC)\n",
    "\n",
    "new_dict = {}\n",
    "for key, value in params.items():\n",
    "    # print(key)\n",
    "    new_key = key.replace(\"_auto_loc\",\"\")\n",
    "    new_dict[f\"{new_key}\"] = value\n",
    "\n",
    "\n",
    "miMCMC = NUTS(\n",
    "    pogpe_with_RFGP_fixed_Omega,\n",
    "    # max_tree_depth=2,\n",
    "    # max_tree_depth=(10, 5),\n",
    "    max_tree_depth=(5, 5),\n",
    "    # find_heuristic_step_size=True,\n",
    "    # init_strategy=numpyro.infer.initialization.init_to_median,\n",
    "    init_strategy = numpyro.infer.initialization.init_to_value(values=new_dict),\n",
    ")\n",
    "\n",
    "fer = MCMC(\n",
    "    miMCMC,\n",
    "    num_chains=4,\n",
    "    num_samples=500,\n",
    "    num_warmup=500,\n",
    "    thinning=1,\n",
    "    progress_bar=True,\n",
    "    chain_method=\"parallel\",\n",
    ")\n",
    "\n",
    "print(\"starting MCMC...\")\n",
    "fer.run(\n",
    "    jax.random.PRNGKey(3),\n",
    "    X_train,\n",
    "    Y=y_train,\n",
    "    y_test=y_train,  # this is line is for computing the lpd of y_train\n",
    "    M=M_models,\n",
    "    S=num_spectral_freqs,\n",
    ")\n",
    "\n",
    "print('MCMC done!')\n",
    "\n",
    "miSamples = fer.get_samples()\n",
    "\n",
    "\n",
    "predict = numpyro.infer.Predictive(pogpe_with_RFGP_fixed_Omega, miSamples)\n",
    "preds = predict(\n",
    "    jax.random.PRNGKey(3),\n",
    "    X_test,\n",
    "    Y=None,\n",
    "    M=M_models,\n",
    "    y_test=y_test,  # this line is for computing the lpd of y_test\n",
    "    S = num_spectral_freqs,\n",
    ")\n",
    "\n",
    "\n"
   ]
  },
  {
   "cell_type": "code",
   "execution_count": 240,
   "metadata": {},
   "outputs": [],
   "source": [
    "%%script true\n",
    "\n",
    "lpd_pogpe_mcmc_train = np.mean(\n",
    "    jax.nn.logsumexp(miSamples[\"lpd_point\"], axis=0) - np.log(\n",
    "    miSamples[\"lpd_point\"].shape[0]\n",
    ")\n",
    ")\n",
    "\n",
    "lpd_pogpe_mcmc_test = np.mean(\n",
    "    jax.nn.logsumexp(preds[\"lpd_point\"], axis=0) - np.log(\n",
    "    preds[\"lpd_point\"].shape[0]\n",
    ")\n",
    ")\n",
    "\n",
    "ymu_tr_pogpe = miSamples[\"mean_fused\"].mean(0)\n",
    "ymu_tst_pogpe = preds[\"mean_fused\"].mean(0)\n",
    "\n",
    "rmse_pogpe_mcmc_train = np.sqrt(np.mean((ymu_tr_pogpe-y_train)**2))\n",
    "rmse_pogpe_mcmc_test = np.sqrt(np.mean((ymu_tst_pogpe-y_test)**2))\n",
    "\n",
    "\n",
    "print(\"nlpd train: \", -lpd_pogpe_mcmc_train)\n",
    "print(\"nlpd test: \", -lpd_pogpe_mcmc_test)\n",
    "\n",
    "\n",
    "print(\"rmse train: \", rmse_pogpe_mcmc_train)\n",
    "print(\"rmse test: \", rmse_pogpe_mcmc_test)"
   ]
  },
  {
   "cell_type": "code",
   "execution_count": 241,
   "metadata": {},
   "outputs": [],
   "source": [
    "%%script true\n",
    "miSamples[\"std_fused\"].mean(0)"
   ]
  },
  {
   "cell_type": "markdown",
   "metadata": {},
   "source": [
    "## alternative rff-based pogpe without weights"
   ]
  },
  {
   "cell_type": "code",
   "execution_count": 242,
   "metadata": {},
   "outputs": [],
   "source": [
    "import numpyro\n",
    "from numpyro.infer import NUTS, MCMC, SVI, Trace_ELBO, Predictive\n",
    "from numpyro.infer.autoguide import AutoDelta, AutoNormal\n",
    "\n",
    "from optax import adam, chain, clip\n",
    "\n",
    "from numpyro import distributions as dist\n",
    "import jax\n",
    "import jax.numpy as jnp\n",
    "import jax.random as random\n",
    "\n",
    "\n",
    "\n",
    "matmul_vmapped = jax.vmap(lambda A,B: (A @ B).squeeze(), in_axes=(0, 0))\n",
    "\n",
    "def my_pogpe(X, M=None, S = 50, Y=None, y_test=None):              # M is the number of experts\n",
    "    N = X.shape[0]\n",
    "    DIM = X.shape[1]\n",
    "    \n",
    "    Omega_fixed = jax.random.normal(jax.random.PRNGKey(30), (S, DIM))\n",
    "\n",
    "    assert Omega_fixed.shape == (S,DIM)\n",
    "\n",
    "    #########################\n",
    "    # RF-GP for the experts #\n",
    "    #########################\n",
    "    with numpyro.plate(\"M\", M, dim=-2):\n",
    "        var_mu_ex = numpyro.sample(\"kernel_var_exp_mean\", dist.HalfNormal(1.0))\n",
    "        var_logstd_ex = numpyro.sample(\"kernel_var_exp_logstd\", dist.HalfNormal(1.0))\n",
    "\n",
    "        with numpyro.plate('2S', 2*S):\n",
    "            theta_mu_ex = numpyro.sample(\"theta_mu_ex\", dist.Normal(loc=0.0, \n",
    "                                                        scale=1.0)) # I'm not considering signal power here!\n",
    "            theta_logstd_ex = numpyro.sample(\"theta_logstd_ex\", dist.Normal(loc=0.0, \n",
    "                                                        scale=1.0)) # I'm not considering signal power here!\n",
    "            \n",
    "        with  numpyro.plate('DIM', DIM):\n",
    "            lengthscale_mu_ex = numpyro.sample('ell_ex', dist.HalfNormal(scale = 1))\n",
    "            lengthscale_logstd_ex = numpyro.sample('ell_logstd_ex', dist.HalfNormal(scale = 1))\n",
    "\n",
    "            \n",
    "    assert lengthscale_mu_ex.shape == (M,DIM)\n",
    "    assert lengthscale_logstd_ex.shape == (M,DIM)\n",
    "    assert theta_mu_ex.shape == (M,2*S)\n",
    "    assert theta_logstd_ex.shape == (M,2*S)\n",
    "\n",
    "    #### OMEGA FIXED\n",
    "    vdivide =  jax.vmap(lambda x, y: jnp.divide(x, y), (None, 0))       \n",
    "    #\n",
    "    # =============== EXPERTS' MEANS  =============== #                                                                                                                   \n",
    "    Omega_mu_ex = vdivide( Omega_fixed, lengthscale_mu_ex)     # shape = (M,S,DIM)\n",
    "    assert Omega_mu_ex.shape == (M,S,DIM)\n",
    "    ola = X @ jnp.transpose(Omega_mu_ex, axes=(0,2,1))     # this is batch matmul: (Ndata,DIM) x (M,DIM,S) = (M,Ndata,S)\n",
    "    #assert ola.shape == (M,N,S)\n",
    "    Phi_mu_ex = jnp.concatenate([jnp.sin(ola), jnp.cos(ola)], axis=2)  # tiene shape = (M, Ndata, 2*S)\n",
    "    Phi_mu_ex = 1/jnp.sqrt(S)*Phi_mu_ex  # se me habia olvidado dividir entre jnp.sqrt(S)\n",
    "    assert Phi_mu_ex.shape == (M, N, 2*S)\n",
    "    #\n",
    "    theta_mu_ex = jnp.tile(jnp.sqrt(var_mu_ex),2*S) * theta_mu_ex\n",
    "    mu_ex = numpyro.deterministic(\"mu_ex\", matmul_vmapped(Phi_mu_ex,theta_mu_ex) )    \n",
    "    assert mu_ex.shape == (M,N)\n",
    "    # ========================================== #\n",
    "\n",
    "    # =============== EXPERTS' LOGSTDS  =============== #                                                                                                                   \n",
    "    Omega_logstd_ex = vdivide( Omega_fixed, lengthscale_logstd_ex)     # shape = (M,S,DIM)\n",
    "    assert Omega_logstd_ex.shape == (M,S,DIM)\n",
    "    ola = X @ jnp.transpose(Omega_logstd_ex, axes=(0,2,1))     # this is batch matmul: (Ndata,DIM) x (M,DIM,S) = (M,Ndata,S)\n",
    "    #assert ola.shape == (M,N,S)\n",
    "    Phi_logstd_ex = jnp.concatenate([jnp.sin(ola), jnp.cos(ola)], axis=2)  # tiene shape = (M, Ndata, 2*S)\n",
    "    Phi_logstd_ex = 1/jnp.sqrt(S)*Phi_logstd_ex  # se me habia olvidado dividir entre jnp.sqrt(S)\n",
    "    assert Phi_logstd_ex.shape == (M, N, 2*S)\n",
    "    #\n",
    "    theta_logstd_ex = jnp.tile(jnp.sqrt(var_logstd_ex),2*S) * theta_logstd_ex\n",
    "    logstd_ex = numpyro.deterministic(\"logstd_ex\", matmul_vmapped(Phi_logstd_ex,theta_logstd_ex) )   \n",
    "    std_ex =  numpyro.deterministic(\"std_ex\", jnp.exp(logstd_ex) )\n",
    "    assert logstd_ex.shape == (M,N)\n",
    "    assert std_ex.shape == (M,N)\n",
    "    # ========================================== #\n",
    "\n",
    "\n",
    "\n",
    "    # #########################\n",
    "    # # RF-GP for log weights #\n",
    "    # #########################\n",
    "    # with numpyro.plate(\"M\", M, dim=-2):\n",
    "    #     # set uninformative log-normal priors on our three kernel hyperparameters\n",
    "    #     var_logw = numpyro.sample(\"kernel_var_logw\", dist.HalfNormal(1.0))\n",
    "    #     # noise_logw = numpyro.sample(\"kernel_noise_logw\", dist.InverseGamma(5.0, 5.0))\n",
    "\n",
    "    #     with numpyro.plate('2S', 2*S):\n",
    "    #         theta_logw = numpyro.sample(\"theta_logw\", dist.Normal(loc=0.0, \n",
    "    #                                                     scale=1.0)) # I'm not considering signal power here!\n",
    "            \n",
    "    #     with numpyro.plate(\"DIM\", DIM):\n",
    "    #         lengthscale_logw = numpyro.sample('ell_logw', dist.HalfNormal(scale = 1.0))\n",
    "\n",
    "    # assert lengthscale_logw.shape == (M,DIM)\n",
    "\n",
    "    # # theta_logw = jnp.tile(jnp.sqrt(var_logw+ noise_logw),2*S) * theta_logw\n",
    "    # theta_logw = jnp.tile(jnp.sqrt(var_logw),2*S) * theta_logw\n",
    "    # assert theta_logw.shape == (M,2*S)\n",
    "\n",
    "\n",
    "    # Omega_logw = vdivide( Omega_fixed, lengthscale_logw)     # shape = (M,S,DIM)\n",
    "    # ola = X @ jnp.transpose(Omega_logw, axes=(0,2,1))     # this is batch matmul: (Ndata,DIM) x (M,DIM,S) = (M,Ndata,S)\n",
    "\n",
    "    # Phi_logw = jnp.concatenate([jnp.sin(ola), jnp.cos(ola)], axis=2)  # tiene shape = (M, Ndata, 2*S)\n",
    "    # Phi_logw = 1/jnp.sqrt(S)*Phi_logw  # se me habia olvidado dividir entre jnp.sqrt(S)\n",
    "\n",
    "    # logw = numpyro.deterministic(\"logw\", matmul_vmapped(Phi_logw, theta_logw) - jnp.log(M))   # PRIOR MEAN FUNCTION!\n",
    "    # assert logw.shape == (M,N)\n",
    "\n",
    "\n",
    "    ################################################\n",
    "    # Fuse with generalized multiplicative pooling #\n",
    "    ################################################\n",
    "    # w = numpyro.deterministic(\"w\", jnp.exp(logw) )                 # shape = (M,Ndata)\n",
    "    w = numpyro.deterministic(\"w\", jnp.ones((M,N)))  # All weights are one (not trained)\n",
    "    w  = w.T\n",
    "    tau_ex = 1. / std_ex\n",
    "\n",
    "\n",
    "    tau_fused = numpyro.deterministic(\n",
    "        \"tau_fused\", jnp.einsum(\"nm,mn->m\", tau_ex, w)\n",
    "    )  # N,\n",
    "    assert tau_fused.shape == (N,)\n",
    "\n",
    "    mu_fused = numpyro.deterministic(\n",
    "        \"mean_fused\", jnp.einsum(\"nm,nm,mn->m\", tau_ex, mu_ex, w) / tau_fused\n",
    "    )  # N,\n",
    "    assert mu_fused.shape == (N,)\n",
    "    \n",
    "    std_fused = numpyro.deterministic(\"std_fused\", 1 / jnp.sqrt(tau_fused))\n",
    "    assert std_fused.shape == (N,)\n",
    "\n",
    "    # noise = numpyro.sample(\"noise\", dist.HalfNormal(scale = 1))\n",
    "\n",
    "    numpyro.sample(\n",
    "        \"y_val\",\n",
    "        dist.Normal(loc=jnp.squeeze(mu_fused), \n",
    "                    scale=jnp.squeeze(std_fused),\n",
    "                    # scale=jnp.sqrt(jnp.squeeze(std_fused)**2 + noise),\n",
    "                    ),\n",
    "        obs=Y,\n",
    "    )\n",
    "\n",
    "    if y_test is not None:\n",
    "        # compute the lpd of the observations\n",
    "        numpyro.deterministic(\"lpd_point\", jax.scipy.stats.norm.logpdf(\n",
    "                jnp.squeeze(y_test), loc=jnp.squeeze(mu_fused), scale=jnp.squeeze(std_fused),\n",
    "                )\n",
    "            )"
   ]
  },
  {
   "cell_type": "code",
   "execution_count": 243,
   "metadata": {},
   "outputs": [
    {
     "name": "stdout",
     "output_type": "stream",
     "text": [
      "===== Pogpe =====\n",
      "starting svi...\n"
     ]
    },
    {
     "name": "stderr",
     "output_type": "stream",
     "text": [
      "100%|██████████| 2000/2000 [00:04<00:00, 439.64it/s, init loss: 1686.3365, avg. loss [1901-2000]: 771.1301]\n"
     ]
    },
    {
     "name": "stdout",
     "output_type": "stream",
     "text": [
      "done!\n",
      "nlpd train:  -2.0021757416442045\n",
      "nlpd test:  53.448421453066416\n",
      "rmse train:  0.0633530304744235\n",
      "rmse test:  0.6764900280039318\n"
     ]
    }
   ],
   "source": [
    "M_models = 2\n",
    "num_spectral_freqs = 100\n",
    "\n",
    "\n",
    "svi= SVI(\n",
    "        my_pogpe,\n",
    "        AutoDelta(my_pogpe, \n",
    "                  # init_loc_fn = numpyro.infer.initialization.init_to_median,\n",
    "                  init_loc_fn = numpyro.infer.init_to_sample,\n",
    "                  ),\n",
    "        # optim = numpyro.optim.Minimize(),  # Using lbfgs instead of adam\n",
    "        optim=chain(clip(10.0), adam(0.005)),\n",
    "        # optim = numpyro.optim.Adam(0.1),\n",
    "        loss=Trace_ELBO(),\n",
    "    )\n",
    "\n",
    "print(\"===== Pogpe =====\")\n",
    "print(\"starting svi...\")\n",
    "res = svi.run(\n",
    "    jax.random.PRNGKey(3),\n",
    "    # 5,\n",
    "    2000,  # these many iterations when using adam optimizer\n",
    "    X=X_train,\n",
    "    Y=y_train,\n",
    "    M=M_models,\n",
    "    S=num_spectral_freqs,\n",
    ")\n",
    "\n",
    "print('done!')\n",
    "\n",
    "\n",
    "params = res.params\n",
    "guide = AutoDelta(my_pogpe)\n",
    "# use guide to make predictive\n",
    "dist_posterior_predictive = Predictive(model=my_pogpe, \n",
    "                                       guide=guide, params=params, num_samples=1)\n",
    "\n",
    "# these are not actual samples but just the MAP estimates (since we are using AutoDelta)\n",
    "samples_posterior_predictive = dist_posterior_predictive(jax.random.PRNGKey(3), \n",
    "                                                         X=X_train, \n",
    "                                                         Y=None, \n",
    "                                                         M=M_models,\n",
    "                                                         S=num_spectral_freqs,\n",
    "                                                         y_test=y_train)\n",
    "\n",
    "# ## == Creo que tambien puede hacer en dos pasos: == ##\n",
    "# # Paso 1: obtengo samples de la guide\n",
    "# predictive = Predictive(guide, params=params, num_samples=1)\n",
    "# samples_guide = predictive(jax.random.PRNGKey(3), \n",
    "#                              X=X_train, \n",
    "#                              Y=None, \n",
    "#                              M=M_models,\n",
    "#                              S=num_spectral_freqs,\n",
    "#                              y_test=y_train)\n",
    "# # Paso 2: obtengo samples de la predictive usando las samples de la guide\n",
    "# predictive = Predictive(my_pogpe, samples_guide)\n",
    "# samples_posterior_predictive = predictive(jax.random.PRNGKey(3), \n",
    "#                              X=X_train, \n",
    "#                              Y=None, \n",
    "#                              M=M_models,\n",
    "#                              S=num_spectral_freqs,\n",
    "#                              y_test=y_train)\n",
    "\n",
    "\n",
    "ymu_tr_svi = samples_posterior_predictive[\"mean_fused\"].mean(0)\n",
    "w_tr = samples_posterior_predictive[\"w\"].mean(0)\n",
    "\n",
    "lpd_pogpe_svi_train = samples_posterior_predictive[\"lpd_point\"].mean()\n",
    "rmse_pogpe_svi_train = np.sqrt(np.mean((ymu_tr_svi-y_train)**2))\n",
    "\n",
    "samples_posterior_predictive = dist_posterior_predictive(jax.random.PRNGKey(3), \n",
    "                                                         X=X_test, \n",
    "                                                         Y=None, \n",
    "                                                         M=M_models,\n",
    "                                                         S=num_spectral_freqs,\n",
    "                                                         y_test=y_test)\n",
    "ymu_tst_svi = samples_posterior_predictive[\"mean_fused\"].mean(0)\n",
    "w_tst = samples_posterior_predictive[\"w\"].mean(0)\n",
    "\n",
    "lpd_pogpe_svi_test = samples_posterior_predictive[\"lpd_point\"].mean()\n",
    "rmse_pogpe_svi_test = np.sqrt(np.mean((ymu_tst_svi-y_test)**2))\n",
    "\n",
    "\n",
    "\n",
    "print(\"nlpd train: \", -lpd_pogpe_svi_train)\n",
    "print(\"nlpd test: \", -lpd_pogpe_svi_test)\n",
    "\n",
    "print(\"rmse train: \", rmse_pogpe_svi_train)\n",
    "print(\"rmse test: \", rmse_pogpe_svi_test)\n"
   ]
  },
  {
   "cell_type": "code",
   "execution_count": 244,
   "metadata": {},
   "outputs": [
    {
     "data": {
      "text/plain": [
       "Array([[[4.08579284e-02, 1.52772368e+00, 1.23040436e+01, 5.00961386e-01,\n",
       "         2.32121836e-01, 1.59801875e+01, 9.43424947e+01, 1.14300847e+00,\n",
       "         2.50553245e-03, 3.07510840e+00, 1.81298021e-02, 2.68645729e+00,\n",
       "         8.03050494e-01, 1.49331083e+01, 1.85530212e+00, 5.45461065e-01],\n",
       "        [1.70743753e+00, 6.15494663e+00, 3.15489848e-01, 3.45898243e+00,\n",
       "         2.36314654e+01, 2.19843401e-03, 7.46326191e-01, 2.02870718e-03,\n",
       "         1.82844675e-03, 2.13773640e-03, 6.69145882e-03, 1.42006515e+00,\n",
       "         8.32073594e+01, 2.89986787e-04, 2.99390981e-01, 5.53276740e-01]]],      dtype=float64)"
      ]
     },
     "execution_count": 244,
     "metadata": {},
     "output_type": "execute_result"
    }
   ],
   "source": [
    "samples_posterior_predictive[\"std_ex\"]"
   ]
  },
  {
   "cell_type": "code",
   "execution_count": 245,
   "metadata": {},
   "outputs": [
    {
     "data": {
      "text/plain": [
       "Array([[0.19975753, 1.10631411, 0.5546193 , 0.66150296, 0.47944132,\n",
       "        0.04688424, 0.86050478, 0.04500125, 0.03251231, 0.0462196 ,\n",
       "        0.06991092, 0.96384457, 0.89183753, 0.01702883, 0.50773133,\n",
       "        0.52409021]], dtype=float64)"
      ]
     },
     "execution_count": 245,
     "metadata": {},
     "output_type": "execute_result"
    }
   ],
   "source": [
    "samples_posterior_predictive[\"std_fused\"]"
   ]
  },
  {
   "cell_type": "code",
   "execution_count": 248,
   "metadata": {},
   "outputs": [
    {
     "data": {
      "image/png": "[encoded data removed]",
      "text/plain": [
       "<Figure size 640x480 with 1 Axes>"
      ]
     },
     "metadata": {},
     "output_type": "display_data"
    }
   ],
   "source": [
    "plt.scatter(range(len(X_test)),y_test, label = \"test data\")\n",
    "plt.plot(ymu_tst_svi,label = \"my pogpe\",color=\"red\")\n",
    "plt.fill_between(range(len(X_test)),ymu_tst_svi+2*samples_posterior_predictive[\"std_fused\"].mean(0),\n",
    "                 ymu_tst_svi-2*samples_posterior_predictive[\"std_fused\"].mean(0),alpha=0.3,color=\"red\")\n",
    "plt.plot(test_preds.mean.numpy(), label = \"my single gp\",color=\"green\")\n",
    "plt.fill_between(range(len(X_test)),test_preds.mean.numpy()+2*np.sqrt(test_preds.variance.numpy()),\n",
    "                 test_preds.mean.numpy()-2*np.sqrt(test_preds.variance.numpy()),alpha=0.3,color=\"green\")\n",
    "\n",
    "plt.legend();"
   ]
  },
  {
   "cell_type": "code",
   "execution_count": null,
   "metadata": {},
   "outputs": [],
   "source": [
    "_"
   ]
  }
 ],
 "metadata": {
  "kernelspec": {
   "display_name": "Python 3",
   "language": "python",
   "name": "python3"
  },
  "language_info": {
   "codemirror_mode": {
    "name": "ipython",
    "version": 3
   },
   "file_extension": ".py",
   "mimetype": "text/x-python",
   "name": "python",
   "nbconvert_exporter": "python",
   "pygments_lexer": "ipython3",
   "version": "3.10.10"
  }
 },
 "nbformat": 4,
 "nbformat_minor": 2
}
