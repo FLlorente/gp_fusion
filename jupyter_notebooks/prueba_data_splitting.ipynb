{
 "cells": [
  {
   "cell_type": "code",
   "execution_count": 1,
   "metadata": {},
   "outputs": [],
   "source": [
    "import numpy as np\n",
    "\n",
    "def split_dataset(X, Y, n_splits, split_size, with_replacement=True):\n",
    "    np.random.seed(0)\n",
    "    n_samples = X.shape[0]\n",
    "\n",
    "    if with_replacement:\n",
    "        splits = [(X[indices], Y[indices]) for indices in [np.random.choice(n_samples, split_size, replace=True) for _ in range(n_splits)]]\n",
    "    else:\n",
    "        indices = np.random.permutation(n_samples)\n",
    "        splits = []\n",
    "        for i in range(n_splits):\n",
    "            start_idx = i * split_size\n",
    "            end_idx = (i + 1) * split_size if (i + 1) * split_size < n_samples else n_samples\n",
    "            splits.append((X[indices[start_idx:end_idx]], Y[indices[start_idx:end_idx]]))\n",
    "        # Ensure all remaining samples are included in the final split\n",
    "        if n_splits * split_size < n_samples:\n",
    "            splits[-1] = (np.concatenate((splits[-1][0], X[indices[n_splits * split_size:]]), axis=0),\n",
    "                          np.concatenate((splits[-1][1], Y[indices[n_splits * split_size:]]), axis=0))\n",
    "\n",
    "    return splits\n"
   ]
  },
  {
   "cell_type": "code",
   "execution_count": 19,
   "metadata": {},
   "outputs": [
    {
     "data": {
      "text/plain": [
       "(array([[0.43758721, 0.891773  , 0.96366276],\n",
       "        [0.38344152, 0.79172504, 0.52889492],\n",
       "        [0.56804456, 0.92559664, 0.07103606],\n",
       "        [0.0871293 , 0.0202184 , 0.83261985],\n",
       "        [0.77815675, 0.87001215, 0.97861834],\n",
       "        [0.79915856, 0.46147936, 0.78052918],\n",
       "        [0.11827443, 0.63992102, 0.14335329],\n",
       "        [0.94466892, 0.52184832, 0.41466194]]),\n",
       " array([0.26455561, 0.77423369, 0.45615033, 0.56843395, 0.0187898 ,\n",
       "        0.6176355 , 0.61209572, 0.616934  ]))"
      ]
     },
     "execution_count": 19,
     "metadata": {},
     "output_type": "execute_result"
    }
   ],
   "source": [
    "X = np.random.rand(8,3)\n",
    "Y = np.random.rand(8)\n",
    "X,Y"
   ]
  },
  {
   "cell_type": "code",
   "execution_count": 20,
   "metadata": {},
   "outputs": [
    {
     "name": "stdout",
     "output_type": "stream",
     "text": [
      "3\n",
      "3\n",
      "2\n"
     ]
    }
   ],
   "source": [
    "n_splits = 3\n",
    "splits = split_dataset(X,Y,n_splits,np.ceil(len(X)/n_splits).astype(int),with_replacement=False)\n",
    "\n",
    "for split in splits:\n",
    "    print(len(split[0]))"
   ]
  },
  {
   "cell_type": "code",
   "execution_count": 21,
   "metadata": {},
   "outputs": [
    {
     "name": "stdout",
     "output_type": "stream",
     "text": [
      "3\n",
      "3\n",
      "2\n"
     ]
    }
   ],
   "source": [
    "points_per_split = 3\n",
    "splits = split_dataset(X,Y,np.ceil(len(X)/points_per_split).astype(int),points_per_split,with_replacement=False)\n",
    "\n",
    "for split in splits:\n",
    "    print(len(split[0]))"
   ]
  },
  {
   "cell_type": "code",
   "execution_count": null,
   "metadata": {},
   "outputs": [],
   "source": []
  }
 ],
 "metadata": {
  "kernelspec": {
   "display_name": "Python 3",
   "language": "python",
   "name": "python3"
  },
  "language_info": {
   "codemirror_mode": {
    "name": "ipython",
    "version": 3
   },
   "file_extension": ".py",
   "mimetype": "text/x-python",
   "name": "python",
   "nbconvert_exporter": "python",
   "pygments_lexer": "ipython3",
   "version": "3.10.10"
  }
 },
 "nbformat": 4,
 "nbformat_minor": 2
}
