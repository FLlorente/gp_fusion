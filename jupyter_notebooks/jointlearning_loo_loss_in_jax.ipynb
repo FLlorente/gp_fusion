{
 "cells": [
  {
   "cell_type": "code",
   "execution_count": 1,
   "metadata": {},
   "outputs": [],
   "source": [
    "import jax\n",
    "jax.config.update(\"jax_enable_x64\", True)\n",
    "\n",
    "import os\n",
    "import sys\n",
    "\n",
    "sys.path.append('/Users/fllorente/Dropbox/con_Petar/PYTHON/gp_fusion')\n",
    "\n",
    "\n",
    "import jax.numpy as jnp\n",
    "from jax import grad, jit, vmap, value_and_grad, lax\n",
    "from jax.scipy.linalg import cho_factor, cho_solve\n",
    "import optax\n",
    "\n",
    "from modules.data_handling import load_data  # Same as using Dataset but X and Y have std dv = 1 column-wise\n",
    "from modules.fusion_methods import compute_neg_log_like\n",
    "\n",
    "import numpy as np\n",
    "\n",
    "import matplotlib.pyplot as plt"
   ]
  },
  {
   "cell_type": "code",
   "execution_count": 124,
   "metadata": {},
   "outputs": [
    {
     "name": "stdout",
     "output_type": "stream",
     "text": [
      "[2 3 4]\n",
      "[2 3 4]\n"
     ]
    }
   ],
   "source": [
    "# Example function with a dynamic slice\n",
    "def example_function(x, start, length):\n",
    "    # This will fail because `start` and `length` are dynamic\n",
    "    slice_result = lax.dynamic_slice(x, (start,), (length,))\n",
    "    # slice_result = x[start:length]\n",
    "    return slice_result\n",
    "\n",
    "# Create a sample array\n",
    "x = jnp.array([1, 2, 3, 4, 5])\n",
    "\n",
    "# Call the function with dynamic slicing\n",
    "print(example_function(x, 1, 3))  # Output: [2, 3, 4]\n",
    "\n",
    "# JIT compilation will fail with dynamic sizes\n",
    "try:\n",
    "    jit_example_function = jit(example_function, \n",
    "                               static_argnames=[\"start\",\"length\"],\n",
    "                               )\n",
    "    print(jit_example_function(x, 1, 3))\n",
    "except Exception as e:\n",
    "    print(\"Error during JIT compilation:\", e)"
   ]
  },
  {
   "cell_type": "markdown",
   "metadata": {},
   "source": [
    "## Joint learning without projections"
   ]
  },
  {
   "cell_type": "code",
   "execution_count": 125,
   "metadata": {},
   "outputs": [],
   "source": [
    "\n",
    "# RBF Kernel function with length_scale as a vector\n",
    "def rbf_kernel(x1, x2, length_scale, variance):\n",
    "    sqdist = jnp.sum(((x1 - x2) / length_scale) ** 2)\n",
    "    return variance * jnp.exp(-0.5 * sqdist)\n",
    "\n",
    "# Efficient kernel matrix computation using vmap\n",
    "def kernel_matrix(X1, X2, length_scale, variance, noise, include_noise = True):\n",
    "    pairwise_dists = jnp.sum(\n",
    "        ((X1[:, None, :] - X2[None, :, :]) / jnp.broadcast_to(length_scale, X1[:, None, :].shape)) ** 2, \n",
    "        axis=-1)\n",
    "    K = variance * jnp.exp(-0.5 * pairwise_dists)\n",
    "    if include_noise:\n",
    "        K += noise * jnp.eye(X1.shape[0])\n",
    "    return K\n",
    "\n",
    "# Compute alpha and diagonal elements of the inverse of K using Cholesky\n",
    "def compute_alpha_and_diag_inv_K(K_chol, y):\n",
    "    alpha = cho_solve((K_chol, True), y)\n",
    "    \n",
    "    compute_diag = jax.vmap(lambda A, b, i: cho_solve((A, True), b)[i], in_axes=(None, 0, 0))\n",
    "    diag_inv_K = compute_diag(K_chol, jnp.eye(K_chol.shape[0]), jnp.arange(K_chol.shape[0])) \n",
    "    \n",
    "    return alpha, diag_inv_K\n",
    "\n",
    "# LOO-CV objective function (negative log-score for minimization)\n",
    "def loo_cv_objective(params, X, y, M,D, normalize_weights=False):\n",
    "    # Extract parameters\n",
    "    # D = X.shape[1]\n",
    "    # log_length_scales = params[:M * D].reshape((M, D))\n",
    "    # log_variances = params[M * D : M * (D + 1)].reshape((M,))\n",
    "    # log_noises = params[M * (D + 1):M * (D + 2)].reshape((M,))\n",
    "    # log_weights = params[M * (D + 2):].reshape((M,))\n",
    "\n",
    "    log_length_scales = lax.dynamic_slice(params, (0,), (M * D,)).reshape((M,D))\n",
    "    log_variances = lax.dynamic_slice(params, (M * D,), (M,))\n",
    "    log_noises = lax.dynamic_slice(params, (M * (D + 1),), (M,))\n",
    "    log_weights = lax.dynamic_slice(params, (M * (D + 2),), (M,))\n",
    "\n",
    "    \n",
    "    length_scales, variances, noises = jnp.exp(log_length_scales), jnp.exp(log_variances), jnp.exp(log_noises)\n",
    "    weights = jnp.exp(log_weights)\n",
    "    \n",
    "    if normalize_weights:\n",
    "        weights = weights / jnp.sum(weights)\n",
    "    \n",
    "    def gp_loops(length_scale, variance, noise):\n",
    "        K = kernel_matrix(X, X, length_scale, variance, noise)\n",
    "        K_chol = cho_factor(K, lower=True)[0]\n",
    "        alpha, diag_inv_K = compute_alpha_and_diag_inv_K(K_chol, y)\n",
    "        \n",
    "        loo_means = y - alpha / diag_inv_K\n",
    "        loo_vars = 1 / diag_inv_K\n",
    "        \n",
    "        return loo_means, loo_vars\n",
    "    \n",
    "    loo_means, loo_vars = vmap(gp_loops)(length_scales, variances, noises)\n",
    "    \n",
    "    # Fuse the means and variances using the product rule with weights\n",
    "    weighted_vars_inv = weights[:, None] / loo_vars\n",
    "    fused_vars = 1 / jnp.sum(weighted_vars_inv, axis=0)\n",
    "    fused_means = fused_vars * jnp.sum(weighted_vars_inv * loo_means, axis=0)\n",
    "\n",
    "    # print(fused_means.shape, fused_vars.shape)\n",
    "    \n",
    "    # LOO predictive log-probability\n",
    "    loo_cv_log_score = -0.5 * jnp.sum(jnp.log(fused_vars) + (y - fused_means)**2 / fused_vars)\n",
    "    \n",
    "    return -loo_cv_log_score  # Negative for minimization\n",
    "\n",
    "# JIT compile the objective function for faster optimization\n",
    "loo_cv_objective_jit = jit(loo_cv_objective, static_argnames=['M','D',\"normalize_weights\"])\n"
   ]
  },
  {
   "cell_type": "code",
   "execution_count": 126,
   "metadata": {},
   "outputs": [
    {
     "data": {
      "text/plain": [
       "(Array(9.94589579, dtype=float64),\n",
       " Array([-0.7695604 ,  2.00221878,  2.40855036, -0.36040758,  2.52558463,\n",
       "        12.08080159,  3.39312951, -3.39312951], dtype=float64))"
      ]
     },
     "execution_count": 126,
     "metadata": {},
     "output_type": "execute_result"
    }
   ],
   "source": [
    "loo_cv_objective_jit(init_params,X_train,y_train,2,1,True)\n",
    "value_and_grad(loo_cv_objective_jit)(init_params, X_train, y_train, M, D,True)"
   ]
  },
  {
   "cell_type": "code",
   "execution_count": 127,
   "metadata": {},
   "outputs": [
    {
     "data": {
      "text/plain": [
       "<matplotlib.collections.PathCollection at 0x3e900cfd0>"
      ]
     },
     "execution_count": 127,
     "metadata": {},
     "output_type": "execute_result"
    },
    {
     "data": {
      "image/png": "[encoded data removed]",
      "text/plain": [
       "<Figure size 640x480 with 1 Axes>"
      ]
     },
     "metadata": {},
     "output_type": "display_data"
    }
   ],
   "source": [
    "X_train = np.linspace(0,1,100).reshape(-1,1)\n",
    "y_train = np.sin(2*np.pi*X_train).squeeze()\n",
    "y_train = y_train + + 0.5*np.random.rand(len(y_train))\n",
    "\n",
    "X_test = jnp.linspace(0,1,100).reshape(-1,1)\n",
    "y_test = jnp.sin(2*jnp.pi*X_test).squeeze()\n",
    "y_test = y_test + + 0.5*np.random.rand(len(y_test))\n",
    "\n",
    "plt.scatter(X_train,y_train)"
   ]
  },
  {
   "cell_type": "code",
   "execution_count": 128,
   "metadata": {},
   "outputs": [],
   "source": [
    "from functools import partial\n"
   ]
  },
  {
   "cell_type": "code",
   "execution_count": 169,
   "metadata": {},
   "outputs": [
    {
     "name": "stdout",
     "output_type": "stream",
     "text": [
      "Step 0, Loss: -115.29542584341118\n",
      "Step 100, Loss: -139.6774585618083\n",
      "Step 199, Loss: -140.1707445554385\n",
      "Optimized Length Scales: [[0.23847206]\n",
      " [0.40372455]]\n",
      "Optimized Variances: [0.23856768 1.28251515]\n",
      "Optimized Noises: [0.01802478 0.02144723]\n",
      "Optimized Weights: [0.1039861 0.8960139]\n"
     ]
    }
   ],
   "source": [
    "M = 2  # Number of GPs\n",
    "D = X_train.shape[1]\n",
    "\n",
    "\n",
    "\n",
    "# Initial parameters: log(length_scale), log(variance), log(noise), log(weights)\n",
    "init_params = jnp.log( jnp.concatenate(\n",
    "(0.1*jnp.ones((D,)), \n",
    " 0.5*jnp.ones((D,)), \n",
    " 0.5*jnp.ones((M,)),\n",
    " 0.01*jnp.ones((M,)),\n",
    " jnp.ones((M,))\n",
    " )\n",
    ")\n",
    ")  \n",
    "\n",
    "# Define the optimizer\n",
    "optimizer = optax.adam(learning_rate=0.01)\n",
    "opt_state = optimizer.init(init_params)\n",
    "\n",
    "# Define the update step\n",
    "@partial(jax.jit, static_argnames=['M', 'D', 'normalize_weights'])\n",
    "def update(params, opt_state, X, y, M, D,normalize_weights):\n",
    "    loss, grads = value_and_grad(loo_cv_objective_jit)(params, X, y, M, D,normalize_weights)\n",
    "    updates, opt_state = optimizer.update(grads, opt_state, params)\n",
    "    params = optax.apply_updates(params, updates)\n",
    "    return loss, params, opt_state\n",
    "\n",
    "# Training loop\n",
    "params = init_params\n",
    "num_steps = 200\n",
    "normalize_weights = True  # Set this flag to True if weights should sum to 1\n",
    "for step in range(num_steps):\n",
    "    loss, params, opt_state = update(params, opt_state, X_train, y_train, M, D,normalize_weights)\n",
    "    if step % 100 == 0 or step == num_steps-1:\n",
    "        print(f\"Step {step}, Loss: {loss}\")\n",
    "\n",
    "# Get the optimized parameters\n",
    "optimized_params = jnp.exp(params[:-M])  # Exclude weights from exponentiation\n",
    "length_scales = optimized_params[:M * X_train.shape[1]].reshape((M, X_train.shape[1]))\n",
    "variances = optimized_params[M * X_train.shape[1]:M * (X_train.shape[1] + 1)]\n",
    "noises = optimized_params[M * (X_train.shape[1] + 1):M * (X_train.shape[1] + 2)]\n",
    "weights = jnp.exp(params[-M:])  # Get the weights as they are (log transformation has already been applied)\n",
    "if normalize_weights:\n",
    "    weights = weights / jnp.sum(weights)\n",
    "\n",
    "print(\"Optimized Length Scales:\", length_scales)\n",
    "print(\"Optimized Variances:\", variances)\n",
    "print(\"Optimized Noises:\", noises)\n",
    "print(\"Optimized Weights:\", weights)"
   ]
  },
  {
   "cell_type": "code",
   "execution_count": 170,
   "metadata": {},
   "outputs": [],
   "source": [
    "# Function to make predictions with the optimized GPs\n",
    "def predict_gp(X_train, y_train, X_test, length_scales, variances, noises, weights):\n",
    "    def gp_predict(length_scale, variance, noise):\n",
    "        K = kernel_matrix(X_train, X_train, length_scale, variance, noise)\n",
    "        K_s = kernel_matrix(X_test, X_train, length_scale, variance, noise, include_noise=False)\n",
    "        K_ss = kernel_matrix(X_test, X_test, length_scale, variance, noise)\n",
    "        \n",
    "        K_chol = cho_factor(K, lower=True)[0]\n",
    "        \n",
    "        alpha = cho_solve((K_chol, True), y_train)\n",
    "        v = cho_solve((K_chol, True), K_s.T)\n",
    "        \n",
    "        mu_s = K_s @ alpha\n",
    "        cov_s = K_ss - K_s @ v\n",
    "        \n",
    "        return mu_s, jnp.diag(cov_s)\n",
    "    \n",
    "    mus, covs = vmap(gp_predict)(length_scales, variances, noises)\n",
    "    \n",
    "    weighted_vars_inv = weights[:, None] / covs\n",
    "    fused_vars = 1 / jnp.sum(weighted_vars_inv, axis=0)\n",
    "    fused_means = fused_vars * jnp.sum(weighted_vars_inv * mus, axis=0)\n",
    "    \n",
    "    return fused_means, fused_vars\n",
    "\n",
    "\n",
    "# Make predictions\n",
    "mu_tst, var_tst = predict_gp(X_train, y_train, X_test, length_scales, variances, noises, weights)\n",
    "mu_tr, var_tr = predict_gp(X_train, y_train, X_train, length_scales, variances, noises, weights)\n"
   ]
  },
  {
   "cell_type": "code",
   "execution_count": 171,
   "metadata": {},
   "outputs": [
    {
     "name": "stdout",
     "output_type": "stream",
     "text": [
      "NLPD Train:  [-0.53175421]\n",
      "NLPD Test:  [-0.40698407]\n",
      "RMSE Train:  0.14169238017187372\n",
      "RMSE Test:  0.16049389077210746\n"
     ]
    }
   ],
   "source": [
    "print(\"NLPD Train: \", compute_neg_log_like(mus=mu_tr,stds=jnp.sqrt(var_tr),y_test=y_train))\n",
    "print(\"NLPD Test: \",  compute_neg_log_like(mus=mu_tst,stds=jnp.sqrt(var_tst),y_test=y_test))\n",
    "\n",
    "print(\"RMSE Train: \", jnp.sqrt( jnp.mean( (mu_tr.squeeze() - y_train.squeeze())**2 ) ))\n",
    "print(\"RMSE Test: \", jnp.sqrt( jnp.mean( (mu_tst.squeeze() - y_test.squeeze())**2 ) ))"
   ]
  },
  {
   "cell_type": "code",
   "execution_count": 172,
   "metadata": {},
   "outputs": [
    {
     "name": "stdout",
     "output_type": "stream",
     "text": [
      "NLPD Train:  [0.17633359]\n",
      "NLPD Test:  [0.61106939]\n",
      "RMSE Train:  0.14211790550766043\n",
      "RMSE Test:  0.15841227802681843\n"
     ]
    }
   ],
   "source": [
    "# Make predictions\n",
    "mu_tst, var_tst = predict_gp(X_train, y_train, X_test, \n",
    "                             jnp.exp(init_params[:M * D].reshape(M,D)), \n",
    "                             jnp.exp(init_params[M * D : M * (D + 1)].reshape((M,))), \n",
    "                             jnp.exp(init_params[M * (D + 1):M * (D + 2)].reshape((M,))), \n",
    "                             jnp.exp(init_params[M * (D + 2):].reshape((M,))),\n",
    "                             )\n",
    "mu_tr, var_tr = predict_gp(X_train, y_train, X_train, jnp.exp(init_params[:M * D].reshape(M,D)), \n",
    "                             jnp.exp(init_params[M * D : M * (D + 1)].reshape((M,))), \n",
    "                             jnp.exp(init_params[M * (D + 1):M * (D + 2)].reshape((M,))), \n",
    "                             jnp.exp(init_params[M * (D + 2):].reshape((M,))),\n",
    "                             )\n",
    "\n",
    "print(\"NLPD Train: \", compute_neg_log_like(mus=mu_tr,stds=jnp.sqrt(var_tr),y_test=y_train))\n",
    "print(\"NLPD Test: \",  compute_neg_log_like(mus=mu_tst,stds=jnp.sqrt(var_tst),y_test=y_test))\n",
    "\n",
    "print(\"RMSE Train: \", jnp.sqrt( jnp.mean( (mu_tr.squeeze() - y_train.squeeze())**2 ) ))\n",
    "print(\"RMSE Test: \", jnp.sqrt( jnp.mean( (mu_tst.squeeze() - y_test.squeeze())**2 ) ))"
   ]
  },
  {
   "cell_type": "code",
   "execution_count": 173,
   "metadata": {},
   "outputs": [
    {
     "data": {
      "text/plain": [
       "<matplotlib.collections.PolyCollection at 0x3ea3dd0c0>"
      ]
     },
     "execution_count": 173,
     "metadata": {},
     "output_type": "execute_result"
    },
    {
     "data": {
      "image/png": "[encoded data removed]",
      "text/plain": [
       "<Figure size 640x480 with 1 Axes>"
      ]
     },
     "metadata": {},
     "output_type": "display_data"
    }
   ],
   "source": [
    "plt.scatter(X_train, y_train)\n",
    "plt.plot(X_test,mu_tst)\n",
    "plt.fill_between(X_test.squeeze(),mu_tst + 2*jnp.sqrt(var_tst),\n",
    "                 mu_tst - 2*jnp.sqrt(var_tst), alpha=0.3)"
   ]
  },
  {
   "cell_type": "markdown",
   "metadata": {},
   "source": [
    "## UCI dataset"
   ]
  },
  {
   "cell_type": "code",
   "execution_count": 174,
   "metadata": {},
   "outputs": [
    {
     "name": "stdout",
     "output_type": "stream",
     "text": [
      "gas dataset, N=2565, d=128\n"
     ]
    }
   ],
   "source": [
    "from uci_datasets import Dataset\n",
    "dataset_names = [\"autos\", 'housing','stock','sml',\n",
    "                 'elevators','breastcancer','forest','gas',\n",
    "                 ]\n",
    "\n",
    "\n",
    "dataset_name = dataset_names[7]\n",
    "full_dataset = Dataset(dataset_name)\n",
    "N,DIM = full_dataset.x.shape\n",
    "\n",
    "from sklearn.model_selection import train_test_split\n",
    "\n",
    "X = full_dataset.x / np.std(full_dataset.x, axis=0)[None, :]\n",
    "y = full_dataset.y / np.std(full_dataset.y, axis=0)\n",
    "X_train, X_test, y_train, y_test = train_test_split(X, y, test_size=0.1)\n",
    "# # load_data uses the normalized dataset, i.e., full_dataset.x and full_dataset.y have unit variance\n",
    "# split = 0\n",
    "# X_train,y_train,X_test,y_test,_ = load_data(dataset_name,split)"
   ]
  },
  {
   "cell_type": "code",
   "execution_count": 175,
   "metadata": {},
   "outputs": [
    {
     "data": {
      "text/plain": [
       "array([1.00809721, 1.04479799, 1.00648584, 1.00372935, 1.03013427,\n",
       "       1.00645023, 0.99106266, 1.0008858 , 1.00556992, 1.01259757,\n",
       "       1.00341923, 1.0019854 , 1.00333223, 1.00438663, 1.01051998,\n",
       "       1.01141934, 0.99880568, 0.98132366, 0.99361787, 1.03752346,\n",
       "       1.05342631, 1.00110084, 1.01298642, 0.98978634, 0.99947687,\n",
       "       0.99522348, 0.98773416, 0.94528674, 0.9796416 , 1.00659416,\n",
       "       1.04580347, 1.04947355, 1.00004539, 1.05248982, 1.00034524,\n",
       "       1.01722473, 1.04996699, 1.00834944, 1.04900376, 1.05273349,\n",
       "       1.00009582, 1.05418339, 1.00023727, 1.01845495, 1.04991039,\n",
       "       1.00146651, 1.03199244, 1.04981589, 0.99843369, 1.05415521,\n",
       "       0.99809035, 0.99849151, 1.01937401, 0.99996809, 1.00452072,\n",
       "       0.9835949 , 0.99826346, 1.05417688, 0.99818044, 0.99870065,\n",
       "       1.01683153, 0.99981745, 1.00364234, 0.97541346, 1.00569334,\n",
       "       1.00224999, 1.00481971, 1.00450076, 1.00404169, 1.00477939,\n",
       "       1.00544521, 1.00737137, 1.00899557, 1.00420135, 1.00858579,\n",
       "       1.00894839, 1.00615587, 1.00815477, 1.00853356, 1.0068215 ,\n",
       "       0.99830317, 0.96685241, 0.99956413, 1.00075678, 1.01223236,\n",
       "       1.00027808, 1.00386389, 1.00361059, 0.99834392, 0.97711765,\n",
       "       0.99909843, 0.99953211, 1.01635197, 1.00028051, 1.0063796 ,\n",
       "       1.01080037, 0.99915056, 1.00382702, 0.99675626, 0.99835484,\n",
       "       1.02308895, 1.00045156, 1.01549295, 1.02548992, 0.99948343,\n",
       "       1.00329548, 0.9971451 , 0.99959482, 1.02631268, 1.00102742,\n",
       "       1.01853665, 1.0330588 , 0.99836435, 0.98093232, 0.99770636,\n",
       "       0.99817028, 1.01405283, 1.00004806, 1.00312237, 0.97234954,\n",
       "       0.99848067, 0.98246837, 0.997989  , 1.0117197 , 1.00566897,\n",
       "       0.99984537, 1.0015801 , 0.97580007])"
      ]
     },
     "execution_count": 175,
     "metadata": {},
     "output_type": "execute_result"
    }
   ],
   "source": [
    "np.std(X_train, axis=0)"
   ]
  },
  {
   "cell_type": "code",
   "execution_count": 176,
   "metadata": {},
   "outputs": [],
   "source": [
    "X_train = X_train[::3]\n",
    "y_train = y_train[::3].squeeze()\n",
    "y_test = y_test.squeeze()"
   ]
  },
  {
   "cell_type": "code",
   "execution_count": 177,
   "metadata": {},
   "outputs": [
    {
     "data": {
      "text/plain": [
       "((770, 128), (770,))"
      ]
     },
     "execution_count": 177,
     "metadata": {},
     "output_type": "execute_result"
    }
   ],
   "source": [
    "X_train.shape, y_train.shape"
   ]
  },
  {
   "cell_type": "code",
   "execution_count": 178,
   "metadata": {},
   "outputs": [],
   "source": [
    "import tqdm\n",
    "from functools import partial"
   ]
  },
  {
   "cell_type": "code",
   "execution_count": 179,
   "metadata": {},
   "outputs": [
    {
     "name": "stderr",
     "output_type": "stream",
     "text": [
      "  1%|          | 1/100 [00:03<06:00,  3.65s/it]"
     ]
    },
    {
     "name": "stdout",
     "output_type": "stream",
     "text": [
      "Step 0, Loss: -3.9061420778865354\n"
     ]
    },
    {
     "name": "stderr",
     "output_type": "stream",
     "text": [
      "100%|██████████| 100/100 [01:20<00:00,  1.24it/s]"
     ]
    },
    {
     "name": "stdout",
     "output_type": "stream",
     "text": [
      "Step 99, Loss: -1188.5910188174669\n",
      "Optimized Length Scales: [[4.94753091e+02 3.41640543e+02 7.01261628e+02 6.46688518e+02\n",
      "  4.44185296e+02 1.03774904e+03 1.20099903e+03 5.26558791e+02\n",
      "  1.04194610e+00 1.31248226e+02 3.08698056e+01 1.15305523e+02\n",
      "  1.05692500e+02 1.00549539e+01 1.96767024e+02 1.61967357e+02\n",
      "  3.12084667e+02 2.34493113e+02 1.16849505e+02 7.00300633e+01\n",
      "  5.45273419e-01 1.69303422e+02 1.53375996e+02 1.65644725e+02\n",
      "  2.48470061e+02 2.05567943e+02 1.02496580e+02 9.85687506e+01\n",
      "  1.55052633e+02 1.66127084e+02 1.64447290e+02 1.20479341e+02\n",
      "  4.92797120e+01 1.53337997e+02 3.92666889e-01 4.87980245e+01\n",
      "  6.27427865e+01 5.71376345e+01 1.40662256e+02 5.81484911e-01\n",
      "  1.03660830e+02 1.06090612e+02 1.23009143e+02 9.75669848e+01\n",
      "  5.78777001e+01 3.25841211e+01 1.08185868e+02 7.88352973e+01\n",
      "  2.74745725e+02 2.38670861e+02 8.08543273e+01 8.01252531e+01\n",
      "  9.43455848e+00 1.34983885e+02 1.66499993e+02 1.30866686e+02\n",
      "  2.36305329e+02 2.06237688e+02 1.20680630e+02 9.99139676e+01\n",
      "  6.15303131e+01 1.53193670e+02 1.83558916e+02 1.36501329e+02\n",
      "  1.23277922e+01 1.61598405e+02 5.61400020e+00 9.09422407e+00\n",
      "  7.12940384e+01 1.01407532e+02 1.17069427e+02 1.55531723e+02\n",
      "  1.26462721e+02 1.63400084e+02 5.02623948e+01 6.30155785e+01\n",
      "  1.20059027e+02 2.45569991e+02 1.79449224e+02 1.48793093e+02\n",
      "  2.88304333e+02 1.85744969e+02 1.45217625e+02 1.44342112e+02\n",
      "  1.04995137e+02 2.09539931e+02 1.42324652e+02 3.01204674e+01\n",
      "  2.63962286e+02 2.08730851e+02 1.20662923e+02 7.12525485e+01\n",
      "  4.19730404e+01 1.41564269e+02 1.33439862e+02 1.39199788e+02\n",
      "  7.25083307e+01 1.26505745e+02 5.23040616e+01 1.00485517e+02\n",
      "  8.84655748e+01 7.71064422e+01 4.14254479e+01 2.92046439e+01\n",
      "  9.29462653e+01 1.66196690e+02 2.54239382e+01 4.28650942e-02\n",
      "  1.82284701e+02 3.30495324e+01 5.52451368e+01 2.88522571e+00\n",
      "  2.56642568e+02 2.15733199e+02 1.18379491e+02 9.81678261e+01\n",
      "  2.22308118e+00 1.80685327e+02 1.82170431e+02 1.20139432e+02\n",
      "  2.85624712e+02 2.14699347e+02 9.70171645e+01 5.01916077e+01\n",
      "  6.28073933e+01 1.69124800e+02 1.59303421e+02 1.86873584e+02]\n",
      " [3.59630705e+00 5.58163675e+00 3.84211440e+00 3.91280479e+00\n",
      "  3.95589432e+00 4.31681860e+00 5.02819859e+00 4.61169458e+00\n",
      "  1.93256259e+00 5.22438003e+00 4.90502860e+00 5.70628936e+00\n",
      "  4.41705892e+00 4.86661283e+00 5.64133852e+00 4.06411269e+00\n",
      "  4.13002397e+00 4.45825285e+00 4.41736399e+00 3.49800564e+00\n",
      "  3.74832801e+00 4.29078453e+00 4.08585026e+00 4.05732458e+00\n",
      "  4.15313025e+00 4.40489215e+00 4.29045585e+00 3.79559770e+00\n",
      "  3.91686637e+00 4.12512474e+00 3.50996375e+00 3.66140664e+00\n",
      "  3.47200018e+00 3.27554166e+00 4.77466714e+00 3.36310522e+00\n",
      "  4.28388501e-01 3.66449684e+00 3.46756345e+00 2.65415198e+00\n",
      "  2.29436933e+00 2.80656046e+00 2.14229875e+00 3.91557177e+00\n",
      "  3.71254593e+00 2.36946466e+00 3.47540049e+00 3.36305770e+00\n",
      "  4.23028658e+00 3.78267540e+00 4.53224163e+00 3.71447447e+00\n",
      "  4.16901880e+00 4.34880524e+00 3.99953327e+00 3.93116746e+00\n",
      "  4.32136011e+00 3.74057598e+00 4.57080671e+00 3.83037454e+00\n",
      "  2.39625536e+00 4.21412260e+00 3.41921989e+00 3.94422636e+00\n",
      "  1.82041412e+00 6.02651305e+00 4.16480751e+00 4.43224694e+00\n",
      "  3.67843207e+00 2.57582906e+00 3.95325665e+00 4.20375760e+00\n",
      "  1.82582144e+00 6.26327542e+00 4.92226166e+00 5.08987109e+00\n",
      "  4.14378748e+00 2.51168812e+00 3.70486048e+00 4.25803788e+00\n",
      "  4.27525781e+00 4.05568212e+00 4.71162376e+00 4.24598364e+00\n",
      "  2.13167070e+00 4.61141207e+00 4.38464225e+00 2.63613376e+00\n",
      "  4.29384483e+00 4.04038059e+00 4.47645027e+00 3.53475301e+00\n",
      "  3.72775433e+00 4.27029017e+00 4.45403299e+00 4.06360575e+00\n",
      "  2.49906317e+00 3.42204457e+00 3.87372393e+00 4.17259190e+00\n",
      "  3.69385263e+00 1.72820516e+00 1.34128421e+00 3.33754401e+00\n",
      "  1.89032243e+00 2.93358797e+00 3.52411505e+00 2.94999165e+00\n",
      "  3.64522126e+00 2.48549711e+00 3.39626872e+00 2.91099852e+00\n",
      "  4.33133523e+00 3.52689810e+00 4.52872579e+00 4.02582665e+00\n",
      "  4.32919609e+00 4.65731790e+00 4.17084852e+00 4.01873964e+00\n",
      "  4.24415709e+00 3.36725296e+00 4.33265460e+00 2.77688421e+00\n",
      "  3.21888433e+00 4.51751139e+00 4.07332299e+00 3.40772164e+00]\n",
      " [1.11252061e+02 8.61615087e+01 1.19291964e+02 1.20154480e+02\n",
      "  1.07405729e+02 1.23855603e+02 1.31418991e+02 9.09858065e+01\n",
      "  1.23675130e+01 7.51583231e+01 4.12019511e+01 5.41768394e+01\n",
      "  6.41147625e+01 5.05613840e+01 9.87661615e+01 6.44661270e+01\n",
      "  4.83261709e+01 1.00682200e+02 3.12955507e+01 3.29889750e+01\n",
      "  5.75211776e+01 4.80042184e+01 5.22602819e+01 8.10513443e+01\n",
      "  4.95010065e+01 9.91444145e+01 2.80598915e+01 3.21935289e+01\n",
      "  5.79472670e+01 5.03859068e+01 5.46258583e+01 5.85581978e+01\n",
      "  1.27241514e+01 2.87599308e+01 3.16037737e-01 2.12679922e+01\n",
      "  3.47624970e-01 2.92206335e+01 2.63914736e+01 2.95582252e+00\n",
      "  1.39568965e+00 1.89028229e+01 5.00603683e-01 6.31831723e+00\n",
      "  4.90009157e+01 6.95353651e+00 4.71837486e+01 4.55844046e+01\n",
      "  4.97992138e+01 7.54726765e+01 3.16353451e+01 2.08214990e+01\n",
      "  5.60535442e+01 5.31563765e+01 5.41785386e+01 7.22946392e+01\n",
      "  5.26782790e+01 7.15987343e+01 3.39700537e+01 2.45012220e+01\n",
      "  2.90287482e+01 5.52686003e+01 4.93331275e+01 6.23754806e+01\n",
      "  2.29850126e+00 8.11821237e+01 5.59756487e+00 2.05704346e+01\n",
      "  3.78101563e+01 1.75893397e+01 4.50942732e+01 6.51895226e+01\n",
      "  7.83239980e+00 8.60425521e+01 2.39879684e+01 3.36262220e+01\n",
      "  5.77567540e+01 1.54665809e+01 3.80723476e+01 6.60105721e+01\n",
      "  4.77380593e+01 1.19417369e+02 3.73696922e+01 3.73637456e+01\n",
      "  1.58645165e+00 5.27013996e+01 5.43244579e+01 5.97221809e+01\n",
      "  4.39230837e+01 1.02911770e+02 3.13968397e+01 1.31215702e+01\n",
      "  4.88635154e+01 4.74621880e+01 5.02032687e+01 6.48293663e+01\n",
      "  8.36839924e+00 3.23155154e+01 1.04558263e+01 2.10487754e+01\n",
      "  5.66479132e+01 1.37004556e+01 7.06836660e-01 3.57136366e+01\n",
      "  4.05799955e+00 2.41928152e+01 1.93766276e-01 2.02314672e+01\n",
      "  5.36103431e+01 2.00014899e+01 3.35437598e+01 1.91029823e+01\n",
      "  5.14745594e+01 7.49928416e+01 3.51752925e+01 2.38184689e+01\n",
      "  5.50391293e+01 5.26714350e+01 5.17440553e+01 5.97960903e+01\n",
      "  4.93728841e+01 6.12151486e+01 3.08625470e+01 1.35566910e+01\n",
      "  4.45390200e+01 5.21916048e+01 4.93169880e+01 5.76224000e+01]]\n",
      "Optimized Variances: [0.1530705  0.22090802 2.5085447 ]\n",
      "Optimized Noises: [0.00034674 0.0295635  0.00611402]\n",
      "Optimized Weights: [0.03435725 0.01138801 0.95425474]\n"
     ]
    },
    {
     "name": "stderr",
     "output_type": "stream",
     "text": [
      "\n"
     ]
    }
   ],
   "source": [
    "M = 3  # Number of GPs\n",
    "D = X_train.shape[1]\n",
    "\n",
    "# Initial parameters: log(length_scale), log(variance), log(noise), log(weights)\n",
    "# init_params = jnp.log(jnp.ones(M * (X_train.shape[1] + 2) + M))  # Adjust length to match X_train.shape[1] + 2 and include weights\n",
    "\n",
    "# Initial parameters: log(length_scale), log(variance), log(noise), log(weights)\n",
    "init_params = jnp.log( jnp.concatenate(\n",
    "(0.1*jnp.ones((D,)), 0.5*jnp.ones((D,)), 1*jnp.ones((D,)),\n",
    " jnp.ones((M,)),\n",
    " 0.2*jnp.ones((M,)),\n",
    " jnp.ones((M,)))\n",
    ")\n",
    ") \n",
    "\n",
    "# Define the optimizer\n",
    "optimizer = optax.adam(learning_rate=0.1)\n",
    "opt_state = optimizer.init(init_params)\n",
    "\n",
    "# Define the update step\n",
    "@partial(jax.jit, static_argnames=['M', 'D', 'normalize_weights'])\n",
    "def update(params, opt_state, X, y, M, D,normalize_weights):\n",
    "    loss, grads = value_and_grad(loo_cv_objective_jit)(params, X, y, M, D,normalize_weights)\n",
    "    updates, opt_state = optimizer.update(grads, opt_state, params)\n",
    "    params = optax.apply_updates(params, updates)\n",
    "    return loss, params, opt_state\n",
    "\n",
    "# Training loop\n",
    "params = init_params\n",
    "num_steps = 100\n",
    "normalize_weights = True  # Set this flag to True if weights should sum to 1\n",
    "for step in tqdm.tqdm(range(num_steps)):\n",
    "    loss, params, opt_state = update(params, opt_state, X_train, y_train, M, D,normalize_weights)\n",
    "    if step % 100 == 0 or step == num_steps-1:\n",
    "        print(f\"Step {step}, Loss: {loss}\")\n",
    "\n",
    "# Get the optimized parameters\n",
    "optimized_params = jnp.exp(params[:-M])  # Exclude weights from exponentiation\n",
    "length_scales = optimized_params[:M * X_train.shape[1]].reshape((M, X_train.shape[1]))\n",
    "variances = optimized_params[M * X_train.shape[1]:M * (X_train.shape[1] + 1)]\n",
    "noises = optimized_params[M * (X_train.shape[1] + 1):M * (X_train.shape[1] + 2)]\n",
    "weights = jnp.exp(params[-M:])  # Get the weights as they are (log transformation has already been applied)\n",
    "if normalize_weights:\n",
    "    weights = weights / jnp.sum(weights)\n",
    "\n",
    "print(\"Optimized Length Scales:\", length_scales)\n",
    "print(\"Optimized Variances:\", variances)\n",
    "print(\"Optimized Noises:\", noises)\n",
    "print(\"Optimized Weights:\", weights)"
   ]
  },
  {
   "cell_type": "code",
   "execution_count": 180,
   "metadata": {},
   "outputs": [
    {
     "name": "stdout",
     "output_type": "stream",
     "text": [
      "NLPD Train:  [-1.48349936]\n",
      "NLPD Test:  [-0.63493929]\n",
      "RMSE Train:  0.0371859323491938\n",
      "RMSE Test:  0.21019968938578915\n",
      "--------  Below, using initial parameter values -------\n",
      "NLPD Train:  [-0.09793341]\n",
      "NLPD Test:  [0.56501314]\n",
      "RMSE Train:  0.12812436879292705\n",
      "RMSE Test:  0.49844122084717923\n"
     ]
    }
   ],
   "source": [
    "# Make predictions\n",
    "mu_tst, var_tst = predict_gp(X_train, y_train, X_test, length_scales, variances, noises, weights)\n",
    "mu_tr, var_tr = predict_gp(X_train, y_train, X_train, length_scales, variances, noises, weights)\n",
    "\n",
    "print(\"NLPD Train: \", compute_neg_log_like(mus=mu_tr,stds=jnp.sqrt(var_tr),y_test=y_train))\n",
    "print(\"NLPD Test: \",  compute_neg_log_like(mus=mu_tst,stds=jnp.sqrt(var_tst),y_test=y_test))\n",
    "\n",
    "print(\"RMSE Train: \", jnp.sqrt( jnp.mean( (mu_tr.squeeze() - y_train.squeeze())**2 ) ))\n",
    "print(\"RMSE Test: \", jnp.sqrt( jnp.mean( (mu_tst.squeeze() - y_test.squeeze())**2 ) ))\n",
    "\n",
    "\n",
    "print(\"--------  Below, using initial parameter values -------\")\n",
    "# Make predictions\n",
    "mu_tst, var_tst = predict_gp(X_train, y_train, X_test, \n",
    "                             jnp.exp(init_params[:M * D].reshape(M,D)), \n",
    "                             jnp.exp(init_params[M * D : M * (D + 1)].reshape((M,))), \n",
    "                             jnp.exp(init_params[M * (D + 1):M * (D + 2)].reshape((M,))), \n",
    "                             jnp.exp(init_params[M * (D + 2):].reshape((M,))),\n",
    "                             )\n",
    "mu_tr, var_tr = predict_gp(X_train, y_train, X_train, jnp.exp(init_params[:M * D].reshape(M,D)), \n",
    "                             jnp.exp(init_params[M * D : M * (D + 1)].reshape((M,))), \n",
    "                             jnp.exp(init_params[M * (D + 1):M * (D + 2)].reshape((M,))), \n",
    "                             jnp.exp(init_params[M * (D + 2):].reshape((M,))),\n",
    "                             )\n",
    "\n",
    "print(\"NLPD Train: \", compute_neg_log_like(mus=mu_tr,stds=jnp.sqrt(var_tr),y_test=y_train))\n",
    "print(\"NLPD Test: \",  compute_neg_log_like(mus=mu_tst,stds=jnp.sqrt(var_tst),y_test=y_test))\n",
    "print(\"RMSE Train: \", jnp.sqrt( jnp.mean( (mu_tr.squeeze() - y_train.squeeze())**2 ) ))\n",
    "print(\"RMSE Test: \", jnp.sqrt( jnp.mean( (mu_tst.squeeze() - y_test.squeeze())**2 ) ))"
   ]
  },
  {
   "cell_type": "markdown",
   "metadata": {},
   "source": [
    "## With projections"
   ]
  },
  {
   "cell_type": "code",
   "execution_count": 181,
   "metadata": {},
   "outputs": [],
   "source": [
    "# LOO-CV objective function (negative log-score for minimization)\n",
    "def loo_cv_objective(params, X, y, M,proj_dim, normalize_weights=False, proj_seed = 42):\n",
    "\n",
    "    N,DIM = X.shape\n",
    "\n",
    "    log_length_scales = lax.dynamic_slice(params, (0,), (M * proj_dim,)).reshape((M,proj_dim))\n",
    "    log_variances = lax.dynamic_slice(params, (M * proj_dim,), (M,))\n",
    "    log_noises = lax.dynamic_slice(params, (M * (proj_dim + 1),), (M,))\n",
    "    log_weights = lax.dynamic_slice(params, (M * (proj_dim + 2),), (M,))\n",
    "  \n",
    "    length_scales, variances, noises = jnp.exp(log_length_scales), jnp.exp(log_variances), jnp.exp(log_noises)\n",
    "    weights = jnp.exp(log_weights)\n",
    "\n",
    "\n",
    "    X_reps = jnp.tile(jnp.expand_dims(X,0), (M,1,1))\n",
    "    P_projs = jax.random.normal(jax.random.PRNGKey(proj_seed), (M,DIM, proj_dim))/jnp.sqrt(proj_dim)   \n",
    "\n",
    "    # ell = numpyro.sample(\"lengthscales\", dist.HalfNormal(1.0))\n",
    "    \n",
    "    # X_projs = matmul_vmapped(X_reps, P_projs / ell[None, :, None])\n",
    "    X_projs = jax.vmap(lambda A,B: (A @ B).squeeze(), in_axes=(0, 0))(X_reps, P_projs)\n",
    "    # assert (ell[None, :, None] * P_projs).shape == P_projs.shape\n",
    "    assert X_projs.shape == (M,N,proj_dim)\n",
    "\n",
    "    \n",
    "    if normalize_weights:\n",
    "        weights = weights / jnp.sum(weights)\n",
    "    \n",
    "    def gp_loops(X,length_scale, variance, noise):\n",
    "        K = kernel_matrix(X, X, length_scale, variance, noise)\n",
    "        K_chol = cho_factor(K, lower=True)[0]\n",
    "        alpha, diag_inv_K = compute_alpha_and_diag_inv_K(K_chol, y)\n",
    "        \n",
    "        loo_means = y - alpha / diag_inv_K\n",
    "        loo_vars = 1 / diag_inv_K\n",
    "        \n",
    "        return loo_means, loo_vars\n",
    "    \n",
    "    loo_means, loo_vars = vmap(gp_loops)(X_projs,length_scales, variances, noises)\n",
    "    \n",
    "    # Fuse the means and variances using the product rule with weights\n",
    "    weighted_vars_inv = weights[:, None] / loo_vars\n",
    "    fused_vars = 1 / jnp.sum(weighted_vars_inv, axis=0)\n",
    "    fused_means = fused_vars * jnp.sum(weighted_vars_inv * loo_means, axis=0)\n",
    "\n",
    "    # print(fused_means.shape, fused_vars.shape)\n",
    "    \n",
    "    # LOO predictive log-probability\n",
    "    loo_cv_log_score = -0.5 * jnp.sum(jnp.log(fused_vars.squeeze()) + (y.squeeze() - fused_means.squeeze())**2 / fused_vars.squeeze())\n",
    "    \n",
    "    return -loo_cv_log_score  # Negative for minimization\n",
    "\n",
    "# JIT compile the objective function for faster optimization\n",
    "loo_cv_objective_with_projs_jit = jit(loo_cv_objective, static_argnames=['M','proj_dim',\"normalize_weights\"])\n"
   ]
  },
  {
   "cell_type": "code",
   "execution_count": 182,
   "metadata": {},
   "outputs": [
    {
     "data": {
      "text/plain": [
       "Array(-2.22725274, dtype=float64)"
      ]
     },
     "execution_count": 182,
     "metadata": {},
     "output_type": "execute_result"
    }
   ],
   "source": [
    "M=5\n",
    "proj_dim = 10\n",
    "init_params = jnp.log(jnp.concatenate(\n",
    "    (0.5*jnp.ones((M * proj_dim,)),     # lengthscales\n",
    "     1.0*jnp.ones((M,)),                # variances\n",
    "     0.2*jnp.ones((M,)),                # noises\n",
    "     jnp.ones((M,))),                   # weights\n",
    ")\n",
    ")  \n",
    "loo_cv_objective_with_projs_jit(init_params,X_train,y_train,M,proj_dim,True)"
   ]
  },
  {
   "cell_type": "code",
   "execution_count": 183,
   "metadata": {},
   "outputs": [
    {
     "name": "stdout",
     "output_type": "stream",
     "text": [
      "Step 0, Loss: -12.238713671430759\n",
      "Step 100, Loss: -947.2343467817265\n",
      "Step 200, Loss: -961.7509965168252\n",
      "Step 249, Loss: -964.073372053248\n",
      "Optimized Length Scales: [[416.5217133    1.40769285 192.2445083   16.40869889   9.31382568\n",
      "    2.16427575 349.46506852  29.62107215  20.76622288 219.9376436 ]\n",
      " [  5.22439495   5.30001288   4.75766698   3.36374266   3.40322167\n",
      "    2.90081164   3.98716388   4.67781814   2.16968025   4.18168578]\n",
      " [  7.42634735  33.0604159  222.32956686  43.74014448 129.78816394\n",
      "    1.43334856   9.92452415  17.68376829  13.27235422  15.58423892]\n",
      " [ 36.39681443  16.89973978  11.32339986 136.35450204   5.99728179\n",
      "    2.23311516   7.53930113  96.25084433  14.81404379   3.42608851]\n",
      " [  2.93631237   7.55389262   3.77554935   2.74697882   4.75924598\n",
      "    7.50130886   4.54642338   4.12438779   6.3709929    0.94729674]]\n",
      "Optimized Variances: [ 1.57553208  0.25867619 19.32779337  3.34217748  0.18951251]\n",
      "Optimized Noises: [0.01422246 0.02675847 0.03375378 0.00871101 0.02639283]\n",
      "Optimized Weights: [0.27423409 0.00210323 0.64823377 0.05975174 0.01567718]\n"
     ]
    }
   ],
   "source": [
    "# Define the optimizer\n",
    "optimizer = optax.adam(learning_rate=0.1)\n",
    "opt_state = optimizer.init(init_params)\n",
    "\n",
    "# Define the update step\n",
    "@partial(jax.jit, static_argnames=['M', 'proj_dim', 'normalize_weights'])\n",
    "def update(params, opt_state, X, y, M, proj_dim,normalize_weights,proj_seed):\n",
    "    loss, grads = value_and_grad(loo_cv_objective_with_projs_jit)(params, X, y, M, proj_dim,normalize_weights,proj_seed)\n",
    "    updates, opt_state = optimizer.update(grads, opt_state, params)\n",
    "    params = optax.apply_updates(params, updates)\n",
    "    return loss, params, opt_state\n",
    "\n",
    "# Training loop\n",
    "params = init_params\n",
    "num_steps = 250\n",
    "normalize_weights = True  # Set this flag to True if weights should sum to 1\n",
    "proj_seed = 2\n",
    "losses = []\n",
    "\n",
    "for step in range(num_steps):\n",
    "    loss, params, opt_state = update(params, opt_state, X_train, y_train, M, proj_dim,normalize_weights,proj_seed)\n",
    "    losses.append(loss)\n",
    "    if step % 100 == 0 or step == num_steps-1:\n",
    "        print(f\"Step {step}, Loss: {loss}\")\n",
    "\n",
    "# Get the optimized parameters\n",
    "optimized_params = jnp.exp(params[:-M])  # Exclude weights from exponentiation\n",
    "length_scales = optimized_params[:M * proj_dim].reshape((M, proj_dim))\n",
    "variances = optimized_params[M * proj_dim:M * (proj_dim + 1)]\n",
    "noises = optimized_params[M * (proj_dim + 1):M * (proj_dim + 2)]\n",
    "weights = jnp.exp(params[-M:])  # Get the weights as they are (log transformation has already been applied)\n",
    "if normalize_weights:\n",
    "    weights = weights / jnp.sum(weights)\n",
    "\n",
    "print(\"Optimized Length Scales:\", length_scales)\n",
    "print(\"Optimized Variances:\", variances)\n",
    "print(\"Optimized Noises:\", noises)\n",
    "print(\"Optimized Weights:\", weights)"
   ]
  },
  {
   "cell_type": "code",
   "execution_count": 184,
   "metadata": {},
   "outputs": [
    {
     "data": {
      "text/plain": [
       "[<matplotlib.lines.Line2D at 0x3ea5a08e0>]"
      ]
     },
     "execution_count": 184,
     "metadata": {},
     "output_type": "execute_result"
    },
    {
     "data": {
      "image/png": "[encoded data removed]",
      "text/plain": [
       "<Figure size 640x480 with 1 Axes>"
      ]
     },
     "metadata": {},
     "output_type": "display_data"
    }
   ],
   "source": [
    "plt.plot(losses)"
   ]
  },
  {
   "cell_type": "code",
   "execution_count": 185,
   "metadata": {},
   "outputs": [],
   "source": [
    "N,DIM = X_train.shape\n",
    "\n",
    "X_reps = jnp.tile(jnp.expand_dims(X_train,0), (M,1,1))\n",
    "X_reps_test = jnp.tile(jnp.expand_dims(X_test,0), (M,1,1))\n",
    "P_projs = jax.random.normal(jax.random.PRNGKey(proj_seed), (M,DIM, proj_dim))/jnp.sqrt(proj_dim)   \n",
    "\n",
    "# ell = numpyro.sample(\"lengthscales\", dist.HalfNormal(1.0))\n",
    "\n",
    "# X_projs = matmul_vmapped(X_reps, P_projs / ell[None, :, None])\n",
    "X_projs = jax.vmap(lambda A,B: (A @ B).squeeze(), in_axes=(0, 0))(X_reps, P_projs)\n",
    "X_projs_test = jax.vmap(lambda A,B: (A @ B).squeeze(), in_axes=(0, 0))(X_reps_test, P_projs)"
   ]
  },
  {
   "cell_type": "code",
   "execution_count": 186,
   "metadata": {},
   "outputs": [
    {
     "data": {
      "text/plain": [
       "((5, 770, 10), (5, 257, 10))"
      ]
     },
     "execution_count": 186,
     "metadata": {},
     "output_type": "execute_result"
    }
   ],
   "source": [
    "X_projs.shape, X_projs_test.shape"
   ]
  },
  {
   "cell_type": "code",
   "execution_count": 187,
   "metadata": {},
   "outputs": [],
   "source": [
    "# Function to make predictions with the optimized GPs\n",
    "def predict_gp_with_projs(X_train, y_train, X_test, length_scales, variances, noises, weights):\n",
    "    def gp_predict(X_train,X_test,length_scale, variance, noise):\n",
    "        K = kernel_matrix(X_train, X_train, length_scale, variance, noise)\n",
    "        K_s = kernel_matrix(X_test, X_train, length_scale, variance, noise, include_noise=False)\n",
    "        K_ss = kernel_matrix(X_test, X_test, length_scale, variance, noise)\n",
    "        \n",
    "        K_chol = cho_factor(K, lower=True)[0]\n",
    "        \n",
    "        alpha = cho_solve((K_chol, True), y_train)\n",
    "        v = cho_solve((K_chol, True), K_s.T)\n",
    "        \n",
    "        mu_s = K_s @ alpha\n",
    "        cov_s = K_ss - K_s @ v\n",
    "        \n",
    "        return mu_s, jnp.diag(cov_s)\n",
    "    \n",
    "    mus, covs = vmap(gp_predict)(X_train,X_test,length_scales, variances, noises)\n",
    "    \n",
    "    weighted_vars_inv = weights[:, None] / covs\n",
    "    fused_vars = 1 / jnp.sum(weighted_vars_inv, axis=0)\n",
    "    fused_means = fused_vars * jnp.sum(weighted_vars_inv * mus, axis=0)\n",
    "    \n",
    "    return fused_means, fused_vars"
   ]
  },
  {
   "cell_type": "code",
   "execution_count": 188,
   "metadata": {},
   "outputs": [
    {
     "name": "stdout",
     "output_type": "stream",
     "text": [
      "NLPD Train:  [-0.48785519]\n",
      "NLPD Test:  [-0.7103514]\n",
      "RMSE Train:  0.13956573408474843\n",
      "RMSE Test:  0.1623530495626072\n",
      "--------  Below, using initial parameter values -------\n",
      "NLPD Train:  [-0.28232846]\n",
      "NLPD Test:  [0.5081966]\n",
      "RMSE Train:  0.13701830436959364\n",
      "RMSE Test:  0.5103817363795125\n"
     ]
    }
   ],
   "source": [
    "# Make predictions\n",
    "mu_tst, var_tst = predict_gp_with_projs(X_projs, y_train, X_projs_test, length_scales, variances, noises, weights)\n",
    "mu_tr, var_tr = predict_gp_with_projs(X_projs, y_train, X_projs, length_scales, variances, noises, weights)\n",
    "\n",
    "print(\"NLPD Train: \", compute_neg_log_like(mus=mu_tr,stds=jnp.sqrt(var_tr),y_test=y_train))\n",
    "print(\"NLPD Test: \",  compute_neg_log_like(mus=mu_tst,stds=jnp.sqrt(var_tst),y_test=y_test))\n",
    "\n",
    "print(\"RMSE Train: \", jnp.sqrt( jnp.mean( (mu_tr.squeeze() - y_train.squeeze())**2 ) ))\n",
    "print(\"RMSE Test: \", jnp.sqrt( jnp.mean( (mu_tst.squeeze() - y_test.squeeze())**2 ) ))\n",
    "\n",
    "\n",
    "print(\"--------  Below, using initial parameter values -------\")\n",
    "# Make predictions\n",
    "mu_tst, var_tst = predict_gp_with_projs(X_projs, y_train, X_projs_test, \n",
    "                             jnp.exp(init_params[:M * proj_dim].reshape(M,proj_dim)), \n",
    "                             jnp.exp(init_params[M * proj_dim : M * (proj_dim + 1)].reshape((M,))), \n",
    "                             jnp.exp(init_params[M * (proj_dim + 1):M * (proj_dim + 2)].reshape((M,))), \n",
    "                             jnp.exp(init_params[M * (proj_dim + 2):].reshape((M,))),\n",
    "                             )\n",
    "mu_tr, var_tr = predict_gp_with_projs(X_projs, y_train, X_projs, \n",
    "                             jnp.exp(init_params[:M * proj_dim].reshape(M,proj_dim)), \n",
    "                             jnp.exp(init_params[M * proj_dim : M * (proj_dim + 1)].reshape((M,))), \n",
    "                             jnp.exp(init_params[M * (proj_dim + 1):M * (proj_dim + 2)].reshape((M,))), \n",
    "                             jnp.exp(init_params[M * (proj_dim + 2):].reshape((M,))),\n",
    "                             )\n",
    "\n",
    "print(\"NLPD Train: \", compute_neg_log_like(mus=mu_tr,stds=jnp.sqrt(var_tr),y_test=y_train))\n",
    "print(\"NLPD Test: \",  compute_neg_log_like(mus=mu_tst,stds=jnp.sqrt(var_tst),y_test=y_test))\n",
    "print(\"RMSE Train: \", jnp.sqrt( jnp.mean( (mu_tr.squeeze() - y_train.squeeze())**2 ) ))\n",
    "print(\"RMSE Test: \", jnp.sqrt( jnp.mean( (mu_tst.squeeze() - y_test.squeeze())**2 ) ))"
   ]
  },
  {
   "cell_type": "markdown",
   "metadata": {},
   "source": [
    "# With Pre-Projection Length scales"
   ]
  },
  {
   "cell_type": "code",
   "execution_count": 189,
   "metadata": {},
   "outputs": [],
   "source": [
    "# LOO-CV objective function (negative log-score for minimization)\n",
    "def loo_cv_objective(params, X, y, M,proj_dim, dim, normalize_weights=False, proj_seed = 42):\n",
    "\n",
    "    N,DIM = X.shape\n",
    "\n",
    "    log_length_scales = lax.dynamic_slice(params, (0,), (dim,)).reshape((dim))\n",
    "    log_variances = lax.dynamic_slice(params, (dim,), (M,))\n",
    "    log_noises = lax.dynamic_slice(params, (M + dim,), (M,))\n",
    "    log_weights = lax.dynamic_slice(params, (M * 2 + dim,), (M,))\n",
    "  \n",
    "    length_scales, variances, noises = jnp.exp(log_length_scales), jnp.exp(log_variances), jnp.exp(log_noises)\n",
    "    weights = jnp.exp(log_weights)\n",
    "\n",
    "\n",
    "    X_reps = jnp.tile(jnp.expand_dims(X,0), (M,1,1))\n",
    "    P_projs = jax.random.normal(jax.random.PRNGKey(proj_seed), (M,DIM, proj_dim))/jnp.sqrt(proj_dim)   \n",
    "\n",
    "    # ell = numpyro.sample(\"lengthscales\", dist.HalfNormal(1.0))\n",
    "    \n",
    "    # X_projs = matmul_vmapped(X_reps, P_projs )\n",
    "    X_projs = jax.vmap(lambda A,B: (A @ B).squeeze(), in_axes=(0, 0))(X_reps, P_projs/ length_scales[None, :, None])\n",
    "    assert (length_scales[None, :, None] * P_projs).shape == P_projs.shape\n",
    "    assert X_projs.shape == (M,N,proj_dim)\n",
    "\n",
    "    \n",
    "    if normalize_weights:\n",
    "        weights = weights / jnp.sum(weights)\n",
    "    \n",
    "    def gp_loops(X,length_scale, variance, noise):\n",
    "        K = kernel_matrix(X, X, length_scale, variance, noise)\n",
    "        K_chol = cho_factor(K, lower=True)[0]\n",
    "        alpha, diag_inv_K = compute_alpha_and_diag_inv_K(K_chol, y)\n",
    "        \n",
    "        loo_means = y - alpha / diag_inv_K\n",
    "        loo_vars = 1 / diag_inv_K\n",
    "        \n",
    "        return loo_means, loo_vars\n",
    "    \n",
    "    loo_means, loo_vars = vmap(gp_loops)(X_projs, jnp.ones_like(variances), variances, noises)\n",
    "    \n",
    "    # Fuse the means and variances using the product rule with weights\n",
    "    weighted_vars_inv = weights[:, None] / loo_vars\n",
    "    fused_vars = 1 / jnp.sum(weighted_vars_inv, axis=0)\n",
    "    fused_means = fused_vars * jnp.sum(weighted_vars_inv * loo_means, axis=0)\n",
    "\n",
    "    # print(fused_means.shape, fused_vars.shape)\n",
    "    \n",
    "    # LOO predictive log-probability\n",
    "    loo_cv_log_score = -0.5 * jnp.sum(jnp.log(fused_vars.squeeze()) + (y.squeeze() - fused_means.squeeze())**2 / fused_vars.squeeze())\n",
    "    \n",
    "    return -loo_cv_log_score  # Negative for minimization\n",
    "\n",
    "# JIT compile the objective function for faster optimization\n",
    "loo_cv_objective_with_projs_jit = jit(loo_cv_objective, static_argnames=['M','proj_dim',\"dim\",\"normalize_weights\"])\n"
   ]
  },
  {
   "cell_type": "code",
   "execution_count": 195,
   "metadata": {},
   "outputs": [
    {
     "data": {
      "text/plain": [
       "Array(-112.61193538, dtype=float64)"
      ]
     },
     "execution_count": 195,
     "metadata": {},
     "output_type": "execute_result"
    }
   ],
   "source": [
    "M=5\n",
    "proj_dim = 10\n",
    "init_params = jnp.log(jnp.concatenate(\n",
    "    (0.5*jnp.ones((X_train.shape[1],)),     # lengthscales\n",
    "     1.0*jnp.ones((M,)),                # variances\n",
    "     0.2*jnp.ones((M,)),                # noises\n",
    "     jnp.ones((M,))),                   # weights\n",
    ")\n",
    ")  \n",
    "loo_cv_objective_with_projs_jit(init_params,X_train,y_train,M,proj_dim,X_train.shape[1], False)"
   ]
  },
  {
   "cell_type": "code",
   "execution_count": 196,
   "metadata": {},
   "outputs": [
    {
     "name": "stdout",
     "output_type": "stream",
     "text": [
      "Step 0, Loss: -139.50692586050695\n",
      "Step 100, Loss: -1347.604697390503\n",
      "Step 200, Loss: -1838.8014299736299\n",
      "Step 249, Loss: -1980.6804810374892\n",
      "Optimized Length Scales: [4.57359016e+01 3.51250698e+02 1.09740457e+00 2.57723317e+00\n",
      " 1.09355831e+02 4.97918387e+01 1.77114887e+02 3.49564015e+00\n",
      " 3.51699309e+01 1.35718344e+01 2.64998357e+00 4.94885109e+00\n",
      " 3.06303832e+00 4.17790545e+02 6.69168528e+01 2.47038891e+00\n",
      " 8.92066798e+00 5.42268860e+00 4.65690886e-01 1.79093545e+00\n",
      " 1.86528669e+02 1.26241241e+00 4.92388109e+00 1.65521430e+02\n",
      " 2.28075434e+01 8.50384202e+00 5.50376716e+00 1.78487981e+00\n",
      " 2.18441812e-01 1.69367941e+00 3.60547288e+00 4.27060833e-01\n",
      " 8.27978266e-01 4.16710730e-01 1.04583942e+02 3.20938241e+00\n",
      " 1.66113548e-01 1.45939242e+00 4.05493095e+01 6.97774267e+02\n",
      " 1.62240591e-01 1.60450392e-02 1.18976718e+00 5.72875536e+02\n",
      " 2.44837817e+02 1.32659549e+00 2.71250334e+01 2.53240865e+01\n",
      " 8.46976910e+01 2.52574520e-02 2.95139225e+00 2.67038721e+00\n",
      " 4.79755484e+02 2.32658916e+01 7.41150046e+00 9.38786081e+02\n",
      " 6.18747301e-01 7.40893680e+01 6.58403850e+01 4.71189109e+00\n",
      " 1.11448669e+01 6.04087871e+01 1.40390394e+00 3.73292542e-01\n",
      " 1.16411385e+00 8.55028082e+01 2.02104634e+01 3.39298107e+02\n",
      " 4.69325735e+02 3.27453454e+02 3.20637560e+00 7.29391202e+00\n",
      " 1.11765544e+01 2.59041583e+02 1.73020471e+00 5.32984301e+01\n",
      " 2.00987065e+00 3.74041977e+02 1.84773856e+02 3.20302578e+02\n",
      " 1.49923032e+00 2.32583056e+00 6.71554504e-01 3.41793770e+01\n",
      " 1.17146531e+00 2.16481088e+01 5.51337455e+00 5.47029834e-01\n",
      " 4.03345653e+01 9.73885521e+00 5.59145348e+01 1.74380436e+01\n",
      " 3.47777994e+00 8.94617967e-01 1.57770190e+00 1.16448305e+01\n",
      " 1.01008863e+01 1.18656570e+02 6.44407861e-01 6.82064647e-01\n",
      " 4.92675485e+02 3.67435833e+01 7.34643475e-01 6.60043537e+01\n",
      " 5.93208159e+01 1.19185511e+02 3.39759448e-01 1.28609026e+00\n",
      " 1.00614507e+01 9.01624990e+02 8.62879639e+02 1.40795132e+01\n",
      " 6.53054606e-01 1.35305913e+01 1.18533651e+00 2.59551718e+01\n",
      " 8.23041960e-01 2.55491176e+01 1.07949800e+02 1.21968246e+03\n",
      " 1.31997902e+00 1.43647859e+02 4.76169797e+00 1.47506578e+02\n",
      " 4.78287568e+00 3.09096295e+02 1.86353162e+00 4.34432912e+00]\n",
      "Optimized Variances: [ 8.07709062  8.51914295 14.16060207  8.47370141  7.57817548]\n",
      "Optimized Noises: [8.27741163e-01 8.48133634e-01 2.94885745e-05 4.33353468e-01\n",
      " 7.00477555e-01]\n",
      "Optimized Weights: [ 0.10560025  0.11429293 45.55460783  0.14615737  0.0882324 ]\n"
     ]
    }
   ],
   "source": [
    "# Define the optimizer\n",
    "optimizer = optax.adam(learning_rate=0.1)\n",
    "opt_state = optimizer.init(init_params)\n",
    "\n",
    "# Define the update step\n",
    "@partial(jax.jit, static_argnames=['M', 'proj_dim', 'dim', 'normalize_weights'])\n",
    "def update(params, opt_state, X, y, M, proj_dim, dim, normalize_weights,proj_seed):\n",
    "    loss, grads = value_and_grad(loo_cv_objective_with_projs_jit)(params, X, y, M, proj_dim,dim,normalize_weights,proj_seed)\n",
    "    updates, opt_state = optimizer.update(grads, opt_state, params)\n",
    "    params = optax.apply_updates(params, updates)\n",
    "    return loss, params, opt_state\n",
    "\n",
    "# Training loop\n",
    "params = init_params\n",
    "num_steps = 250\n",
    "normalize_weights = False  # Set this flag to True if weights should sum to 1\n",
    "proj_seed = 2\n",
    "dim = X_train.shape[1]\n",
    "losses = []\n",
    "\n",
    "for step in range(num_steps):\n",
    "    loss, params, opt_state = update(params, opt_state, X_train, y_train, M, proj_dim,dim,normalize_weights,proj_seed)\n",
    "    losses.append(loss)\n",
    "    if step % 100 == 0 or step == num_steps-1:\n",
    "        print(f\"Step {step}, Loss: {loss}\")\n",
    "\n",
    "# Get the optimized parameters\n",
    "optimized_params = jnp.exp(params[:-M])  # Exclude weights from exponentiation\n",
    "length_scales = optimized_params[:dim]\n",
    "variances = optimized_params[dim:dim+M]\n",
    "noises = optimized_params[dim+M:dim+2*M]\n",
    "weights = jnp.exp(params[-M:])  # Get the weights as they are (log transformation has already been applied)\n",
    "if normalize_weights:\n",
    "    weights = weights / jnp.sum(weights)\n",
    "\n",
    "print(\"Optimized Length Scales:\", length_scales)\n",
    "print(\"Optimized Variances:\", variances)\n",
    "print(\"Optimized Noises:\", noises)\n",
    "print(\"Optimized Weights:\", weights)"
   ]
  },
  {
   "cell_type": "code",
   "execution_count": 197,
   "metadata": {},
   "outputs": [
    {
     "data": {
      "text/plain": [
       "[<matplotlib.lines.Line2D at 0x3ec2036a0>]"
      ]
     },
     "execution_count": 197,
     "metadata": {},
     "output_type": "execute_result"
    },
    {
     "data": {
      "image/png": "[encoded data removed]",
      "text/plain": [
       "<Figure size 640x480 with 1 Axes>"
      ]
     },
     "metadata": {},
     "output_type": "display_data"
    }
   ],
   "source": [
    "plt.plot(losses)"
   ]
  },
  {
   "cell_type": "code",
   "execution_count": 198,
   "metadata": {},
   "outputs": [],
   "source": [
    "N,DIM = X_train.shape\n",
    "\n",
    "X_reps = jnp.tile(jnp.expand_dims(X_train,0), (M,1,1))\n",
    "X_reps_test = jnp.tile(jnp.expand_dims(X_test,0), (M,1,1))\n",
    "P_projs = jax.random.normal(jax.random.PRNGKey(proj_seed), (M,DIM, proj_dim))/jnp.sqrt(proj_dim)   \n",
    "\n",
    "# ell = numpyro.sample(\"lengthscales\", dist.HalfNormal(1.0))\n",
    "\n",
    "# X_projs = matmul_vmapped(X_reps, P_projs / ell[None, :, None])\n",
    "    # X_projs = jax.vmap(lambda A,B: (A @ B).squeeze(), in_axes=(0, 0))(X_reps, P_projs/ length_scales[None, :, None])\n",
    "\n",
    "X_projs = jax.vmap(lambda A,B: (A @ B).squeeze(), in_axes=(0, 0))(X_reps, P_projs/ length_scales[None, :, None])\n",
    "X_projs_test = jax.vmap(lambda A,B: (A @ B).squeeze(), in_axes=(0, 0))(X_reps_test, P_projs/ length_scales[None, :, None])"
   ]
  },
  {
   "cell_type": "code",
   "execution_count": 199,
   "metadata": {},
   "outputs": [
    {
     "name": "stdout",
     "output_type": "stream",
     "text": [
      "NLPD Train:  [-5.85930921]\n",
      "NLPD Test:  [95.03119811]\n",
      "RMSE Train:  6.315705123182933e-05\n",
      "RMSE Test:  0.23840255753324063\n",
      "--------  Below, using initial parameter values -------\n",
      "NLPD Train:  [-0.38575153]\n",
      "NLPD Test:  [-0.23131972]\n",
      "RMSE Train:  0.12145892203543718\n",
      "RMSE Test:  0.25000620193310014\n"
     ]
    }
   ],
   "source": [
    "# Make predictions\n",
    "mu_tst, var_tst = predict_gp_with_projs(X_projs, y_train, X_projs_test, jnp.ones_like(variances), variances, noises, weights)\n",
    "mu_tr, var_tr = predict_gp_with_projs(X_projs, y_train, X_projs, jnp.ones_like(variances), variances, noises, weights)\n",
    "\n",
    "print(\"NLPD Train: \", compute_neg_log_like(mus=mu_tr,stds=jnp.sqrt(var_tr),y_test=y_train))\n",
    "print(\"NLPD Test: \",  compute_neg_log_like(mus=mu_tst,stds=jnp.sqrt(var_tst),y_test=y_test))\n",
    "\n",
    "print(\"RMSE Train: \", jnp.sqrt( jnp.mean( (mu_tr.squeeze() - y_train.squeeze())**2 ) ))\n",
    "print(\"RMSE Test: \", jnp.sqrt( jnp.mean( (mu_tst.squeeze() - y_test.squeeze())**2 ) ))\n",
    "\n",
    "\n",
    "print(\"--------  Below, using initial parameter values -------\")\n",
    "# Make predictions\n",
    "mu_tst, var_tst = predict_gp_with_projs(X_projs, y_train, X_projs_test, \n",
    "                             jnp.ones_like(variances),#jnp.ones((M, proj_dim)), \n",
    "                             jnp.exp(init_params[dim:dim+M].reshape((M,))), \n",
    "                             jnp.exp(init_params[dim+M:dim+2*M].reshape((M,))), \n",
    "                             jnp.exp(init_params[dim+2*M:].reshape((M,))),\n",
    "                             )\n",
    "mu_tr, var_tr = predict_gp_with_projs(X_projs, y_train, X_projs, \n",
    "                             jnp.ones_like(variances),#jnp.ones((M, proj_dim)), \n",
    "                             jnp.exp(init_params[dim:dim+M].reshape((M,))), \n",
    "                             jnp.exp(init_params[dim+M:dim+2*M].reshape((M,))), \n",
    "                             jnp.exp(init_params[dim+2*M:].reshape((M,))),\n",
    "                             )\n",
    "\n",
    "print(\"NLPD Train: \", compute_neg_log_like(mus=mu_tr,stds=jnp.sqrt(var_tr),y_test=y_train))\n",
    "print(\"NLPD Test: \",  compute_neg_log_like(mus=mu_tst,stds=jnp.sqrt(var_tst),y_test=y_test))\n",
    "print(\"RMSE Train: \", jnp.sqrt( jnp.mean( (mu_tr.squeeze() - y_train.squeeze())**2 ) ))\n",
    "print(\"RMSE Test: \", jnp.sqrt( jnp.mean( (mu_tst.squeeze() - y_test.squeeze())**2 ) ))"
   ]
  },
  {
   "cell_type": "code",
   "execution_count": null,
   "metadata": {},
   "outputs": [],
   "source": []
  },
  {
   "cell_type": "code",
   "execution_count": null,
   "metadata": {},
   "outputs": [],
   "source": []
  },
  {
   "cell_type": "code",
   "execution_count": null,
   "metadata": {},
   "outputs": [],
   "source": []
  }
 ],
 "metadata": {
  "kernelspec": {
   "display_name": "Python 3",
   "language": "python",
   "name": "python3"
  },
  "language_info": {
   "codemirror_mode": {
    "name": "ipython",
    "version": 3
   },
   "file_extension": ".py",
   "mimetype": "text/x-python",
   "name": "python",
   "nbconvert_exporter": "python",
   "pygments_lexer": "ipython3",
   "version": "3.10.10"
  }
 },
 "nbformat": 4,
 "nbformat_minor": 2
}
