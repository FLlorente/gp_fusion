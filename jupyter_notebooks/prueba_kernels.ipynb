{
 "cells": [
  {
   "cell_type": "code",
   "execution_count": 1,
   "metadata": {},
   "outputs": [
    {
     "name": "stdout",
     "output_type": "stream",
     "text": [
      "[KeOps] Warning : omp.h header is not in the path, disabling OpenMP. To fix this, you can set the environment\n",
      "                  variable OMP_PATH to the location of the header before importing keopscore or pykeops,\n",
      "                  e.g. using os.environ: import os; os.environ['OMP_PATH'] = '/path/to/omp/header'\n",
      "[KeOps] Warning : Cuda libraries were not detected on the system or could not be loaded ; using cpu only mode\n"
     ]
    }
   ],
   "source": [
    "import torch\n",
    "torch.set_default_dtype(torch.float64)\n",
    "from torch.utils.data import TensorDataset, DataLoader\n",
    "\n",
    "import math\n",
    "import gpytorch\n",
    "from gpytorch.metrics import negative_log_predictive_density, mean_squared_error, mean_standardized_log_loss,mean_absolute_error\n",
    "\n",
    "import matplotlib\n",
    "from matplotlib import pyplot as plt\n",
    "\n",
    "from tqdm.notebook import tqdm\n",
    "import numpy as np\n",
    "from uci_datasets import Dataset\n",
    "from sklearn.model_selection import train_test_split\n",
    "from scipy.io import loadmat"
   ]
  },
  {
   "cell_type": "code",
   "execution_count": 63,
   "metadata": {},
   "outputs": [],
   "source": [
    "\n",
    "'''\n",
    "autompg (392, 7)\n",
    "concreteslump (103, 7)\n",
    "energy (768, 8)\n",
    "forest (517, 12)\n",
    "solar (1066, 10)\n",
    "stock (536, 11)\n",
    "yacht (308, 6)\n",
    "airfoil (1503, 5)\n",
    "autos (159, 25)\n",
    "breastcancer (194, 33)\n",
    "concrete (1030, 8)\n",
    "housing (506, 13)\n",
    "machine (209, 7)\n",
    "pendulum (630, 9)\n",
    "servo (167, 4)\n",
    "wine (1599, 11)\n",
    "'''\n",
    "\n",
    "\n",
    "# Parameters\n",
    "datasets = [\n",
    "    'autompg', \n",
    "    'concreteslump', \n",
    "    'energy', \n",
    "    'forest', \n",
    "    'solar', \n",
    "    'stock', \n",
    "    'yacht',\n",
    "    'airfoil', \n",
    "    'autos', \n",
    "    'breastcancer', \n",
    "    'concrete', \n",
    "    'housing', \n",
    "    'machine',\n",
    "    'pendulum', \n",
    "    'servo', \n",
    "    'wine',\n",
    "    'concrete',\n",
    "]"
   ]
  },
  {
   "cell_type": "code",
   "execution_count": 2,
   "metadata": {},
   "outputs": [
    {
     "name": "stdout",
     "output_type": "stream",
     "text": [
      "housing dataset, N=506, d=13\n"
     ]
    },
    {
     "data": {
      "text/plain": [
       "(404, 102)"
      ]
     },
     "execution_count": 2,
     "metadata": {},
     "output_type": "execute_result"
    }
   ],
   "source": [
    "dataset_name = \"housing\"\n",
    "full_dataset = Dataset(dataset_name)\n",
    "N,DIM = full_dataset.x.shape\n",
    "\n",
    "X,y = full_dataset.x, full_dataset.y\n",
    "\n",
    "if dataset_name==\"autos\":  \n",
    "    X = np.delete(X,[8],axis=1)\n",
    "\n",
    "if dataset_name == \"sml\":\n",
    "    X = np.delete(X,[2, 20, 21, 22],axis=1)\n",
    "\n",
    "\n",
    "X = X / np.std(X, axis=0)[None, :]    # standardize\n",
    "# X = X - X.min(0)[0]                   # normalize\n",
    "# X = 2 * (X / X.max(0)[0]) - 1\n",
    "y = y / np.std(y, axis=0)\n",
    "\n",
    "\n",
    "X_train, X_test, y_train, y_test = train_test_split(X, y, test_size=0.2, random_state=42, shuffle=True)\n",
    "\n",
    "y_train = y_train.squeeze()\n",
    "y_test = y_test.squeeze()\n",
    "\n",
    "len(X_train), len(X_test)"
   ]
  },
  {
   "cell_type": "code",
   "execution_count": 3,
   "metadata": {},
   "outputs": [],
   "source": [
    "X_train,y_train= torch.from_numpy(X_train),torch.from_numpy(y_train)\n",
    "X_test,y_test = torch.from_numpy(X_test),torch.from_numpy(y_test)"
   ]
  },
  {
   "cell_type": "code",
   "execution_count": 4,
   "metadata": {},
   "outputs": [],
   "source": [
    "# GP model with kernel as input\n",
    "class GP(gpytorch.models.ExactGP):\n",
    "    def __init__(self, train_x, train_y, kernel=None, mean=None):\n",
    "        likelihood = gpytorch.likelihoods.GaussianLikelihood()\n",
    "        super(GP, self).__init__(train_x, train_y, likelihood)\n",
    "        self.mean_module = mean or gpytorch.means.ConstantMean()\n",
    "        self.covar_module = kernel or gpytorch.kernels.ScaleKernel(\n",
    "            gpytorch.kernels.RBFKernel(ard_num_dims=train_x.shape[1])\n",
    "        )\n",
    "        if isinstance(kernel, gpytorch.kernels.SpectralDeltaKernel) or isinstance(kernel, gpytorch.kernels.SpectralMixtureKernel):\n",
    "            self.covar_module.initialize_from_data(train_x, train_y)\n",
    "\n",
    "    def forward(self, x):\n",
    "        mean_x = self.mean_module(x)\n",
    "        covar_x = self.covar_module(x)\n",
    "        return gpytorch.distributions.MultivariateNormal(mean_x, covar_x)"
   ]
  },
  {
   "cell_type": "code",
   "execution_count": 16,
   "metadata": {},
   "outputs": [
    {
     "data": {
      "application/vnd.jupyter.widget-view+json": {
       "model_id": "f5190be5117e4a5f8d1a416f8265fdeb",
       "version_major": 2,
       "version_minor": 0
      },
      "text/plain": [
       "  0%|          | 0/1000 [00:00<?, ?it/s]"
      ]
     },
     "metadata": {},
     "output_type": "display_data"
    }
   ],
   "source": [
    "model = GP(X_train, y_train)\n",
    "\n",
    "optimizer = torch.optim.Adam(model.parameters(),lr = 0.01)\n",
    "mll = gpytorch.mlls.ExactMarginalLogLikelihood(model.likelihood,model)\n",
    "\n",
    "\n",
    "loss_vals = []\n",
    "for i in tqdm(range(1000)):\n",
    "    optimizer.zero_grad()\n",
    "    output = model(X_train)\n",
    "    loss = - mll(output,y_train)\n",
    "    loss.backward()\n",
    "    optimizer.step()\n",
    "\n",
    "    loss_vals.append(loss.item())"
   ]
  },
  {
   "cell_type": "code",
   "execution_count": 17,
   "metadata": {},
   "outputs": [
    {
     "data": {
      "text/plain": [
       "[<matplotlib.lines.Line2D at 0x35882ca60>]"
      ]
     },
     "execution_count": 17,
     "metadata": {},
     "output_type": "execute_result"
    },
    {
     "data": {
      "image/png": "[encoded data removed]",
      "text/plain": [
       "<Figure size 640x480 with 1 Axes>"
      ]
     },
     "metadata": {},
     "output_type": "display_data"
    }
   ],
   "source": [
    "plt.plot(loss_vals)"
   ]
  },
  {
   "cell_type": "code",
   "execution_count": 18,
   "metadata": {},
   "outputs": [
    {
     "name": "stdout",
     "output_type": "stream",
     "text": [
      "MAE:  0.23363459316769516\n",
      "RMSE:  0.2996136018951724\n",
      "MSLL:  0.22039373348719554\n",
      "NLPD:  0.19846362848379218\n"
     ]
    }
   ],
   "source": [
    "model.eval()\n",
    "preds = model.likelihood(model(X_test))\n",
    "print(\"MAE: \", mean_absolute_error(preds,y_test).detach().numpy())\n",
    "print(\"RMSE: \", torch.sqrt(mean_squared_error(preds,y_test)).detach().numpy())\n",
    "print(\"MSLL: \", mean_standardized_log_loss(preds,y_test).detach().numpy())\n",
    "print(\"NLPD: \", negative_log_predictive_density(preds,y_test).detach().numpy())"
   ]
  },
  {
   "cell_type": "code",
   "execution_count": 50,
   "metadata": {},
   "outputs": [
    {
     "data": {
      "text/plain": [
       "[Parameter containing:\n",
       " tensor([[2.7862, 5.5833, 5.5698, 7.8648, 0.5768, 2.5091, 3.1187, 1.4087, 2.4451,\n",
       "          0.0332, 5.3436, 5.3319, 0.5863]], requires_grad=True)]"
      ]
     },
     "execution_count": 50,
     "metadata": {},
     "output_type": "execute_result"
    }
   ],
   "source": [
    "scale_params = [p for name,p in model.named_parameters() if 'lengthscale' in name]\n",
    "scale_params"
   ]
  },
  {
   "cell_type": "markdown",
   "metadata": {},
   "source": [
    "## Kernels"
   ]
  },
  {
   "cell_type": "code",
   "execution_count": 261,
   "metadata": {},
   "outputs": [],
   "source": [
    "def get_kernels(dim):\n",
    "\n",
    "    kernels = [\n",
    "        gpytorch.kernels.ScaleKernel(gpytorch.kernels.RBFKernel(ard_num_dims=dim)),\n",
    "        gpytorch.kernels.ScaleKernel(gpytorch.kernels.MaternKernel(nu=1.5,ard_num_dims=dim)),\n",
    "        gpytorch.kernels.ScaleKernel(gpytorch.kernels.MaternKernel(nu=2.5,ard_num_dims=dim)),\n",
    "        gpytorch.kernels.ScaleKernel(gpytorch.kernels.RQKernel(ard_num_dims=dim)),\n",
    "        gpytorch.kernels.LinearKernel(),\n",
    "        # gpytorch.kernels.ScaleKernel(gpytorch.kernels.CosineKernel()),\n",
    "        gpytorch.kernels.ScaleKernel(gpytorch.kernels.PolynomialKernel(power=2)),\n",
    "        \n",
    "        # Spectral kernels: random freqs, learned freqs and learned spectral mixture\n",
    "        gpytorch.kernels.ScaleKernel(gpytorch.kernels.RFFKernel(num_dims=dim,num_samples=150)),\n",
    "        gpytorch.kernels.ScaleKernel(gpytorch.kernels.SpectralDeltaKernel(num_dims=dim,num_deltas=150)),\n",
    "        gpytorch.kernels.SpectralMixtureKernel(num_mixtures=4),   # this kernel should not be combined with ScaleKernel \n",
    "        ]\n",
    "    \n",
    "    return kernels"
   ]
  },
  {
   "cell_type": "code",
   "execution_count": 262,
   "metadata": {},
   "outputs": [],
   "source": [
    "kernel_names = ['RBF',\n",
    "                'Matern3/2',\n",
    "                'Matern5/2',\n",
    "                'RQ',\n",
    "                'Linear',\n",
    "                # 'Cos',\n",
    "                'Poly',\n",
    "                'RFF-RBF',\n",
    "                'SpecDelta',\n",
    "                'SpecMix',\n",
    "                ]"
   ]
  },
  {
   "cell_type": "code",
   "execution_count": 263,
   "metadata": {},
   "outputs": [
    {
     "data": {
      "text/plain": [
       "array([0.1       , 0.08      , 0.064     , 0.0512    , 0.04096   ,\n",
       "       0.032768  , 0.0262144 , 0.02097152, 0.01677722, 0.01342177])"
      ]
     },
     "execution_count": 263,
     "metadata": {},
     "output_type": "execute_result"
    }
   ],
   "source": [
    "gamma=0.8\n",
    "0.1*gamma**np.arange(10)"
   ]
  },
  {
   "cell_type": "code",
   "execution_count": 264,
   "metadata": {},
   "outputs": [],
   "source": [
    "def run_gp(X_train,y_train,X_test,y_test,kernel):\n",
    "    model = GP(X_train, y_train,kernel=kernel)\n",
    "\n",
    "    optimizer = torch.optim.Adam(model.parameters(),lr = 0.1)\n",
    "    mll = gpytorch.mlls.ExactMarginalLogLikelihood(model.likelihood,model)\n",
    "    scheduler = torch.optim.lr_scheduler.ExponentialLR(optimizer, gamma=0.8)\n",
    "\n",
    "\n",
    "    loss_vals = []\n",
    "    for _ in range(10):             # epochs\n",
    "        for _ in range(100):        # iterations per epoch\n",
    "            optimizer.zero_grad()\n",
    "            output = model(X_train)\n",
    "            loss = - mll(output,y_train)\n",
    "            loss.backward()\n",
    "            optimizer.step()\n",
    "            loss_vals.append(loss.item())\n",
    "            \n",
    "        scheduler.step()    \n",
    "\n",
    "    model.eval()\n",
    "    preds = model.likelihood(model(X_test))    \n",
    "\n",
    "    mae = mean_absolute_error(preds,y_test).detach().numpy().item()\n",
    "    rmse = torch.sqrt(mean_squared_error(preds,y_test)).detach().numpy().item()\n",
    "    mlloss = mean_standardized_log_loss(preds,y_test).detach().numpy().item()\n",
    "    nlpd = negative_log_predictive_density(preds,y_test).detach().numpy().item()\n",
    "\n",
    "    results = {\"mae\": [mae],\n",
    "                'rmse': [rmse],\n",
    "                'mll': [mlloss],\n",
    "                'nlpd': [nlpd],\n",
    "                }\n",
    "\n",
    "    return results, loss_vals\n",
    "    "
   ]
  },
  {
   "cell_type": "code",
   "execution_count": 265,
   "metadata": {},
   "outputs": [
    {
     "name": "stdout",
     "output_type": "stream",
     "text": [
      "autompg dataset, N=392, d=7\n"
     ]
    },
    {
     "data": {
      "application/vnd.jupyter.widget-view+json": {
       "model_id": "475fdf5d4d184165be01586561c12fd4",
       "version_major": 2,
       "version_minor": 0
      },
      "text/plain": [
       "Progress for autompg:   0%|          | 0/18 [00:00<?, ?iteration/s]"
      ]
     },
     "metadata": {},
     "output_type": "display_data"
    },
    {
     "data": {
      "application/vnd.jupyter.widget-view+json": {
       "model_id": "9fad2c1d3cc048bead8dca3796be87f3",
       "version_major": 2,
       "version_minor": 0
      },
      "text/plain": [
       "Running kernels for autompg, split 0:   0%|          | 0/6 [00:00<?, ?it/s]"
      ]
     },
     "metadata": {},
     "output_type": "display_data"
    },
    {
     "data": {
      "application/vnd.jupyter.widget-view+json": {
       "model_id": "92e19e9570714eec87e166a88233380b",
       "version_major": 2,
       "version_minor": 0
      },
      "text/plain": [
       "Running kernels for autompg, split 1:   0%|          | 0/6 [00:00<?, ?it/s]"
      ]
     },
     "metadata": {},
     "output_type": "display_data"
    },
    {
     "data": {
      "application/vnd.jupyter.widget-view+json": {
       "model_id": "6cf958d0df2e4726a5c2c5d38e1f9ecf",
       "version_major": 2,
       "version_minor": 0
      },
      "text/plain": [
       "Running kernels for autompg, split 2:   0%|          | 0/6 [00:00<?, ?it/s]"
      ]
     },
     "metadata": {},
     "output_type": "display_data"
    },
    {
     "name": "stdout",
     "output_type": "stream",
     "text": [
      "concreteslump dataset, N=103, d=7\n"
     ]
    },
    {
     "data": {
      "application/vnd.jupyter.widget-view+json": {
       "model_id": "c9458e9e49e54ee09598774a1a18443b",
       "version_major": 2,
       "version_minor": 0
      },
      "text/plain": [
       "Progress for concreteslump:   0%|          | 0/18 [00:00<?, ?iteration/s]"
      ]
     },
     "metadata": {},
     "output_type": "display_data"
    },
    {
     "data": {
      "application/vnd.jupyter.widget-view+json": {
       "model_id": "f0fc42a18e554271bb72cc55f11553fd",
       "version_major": 2,
       "version_minor": 0
      },
      "text/plain": [
       "Running kernels for concreteslump, split 0:   0%|          | 0/6 [00:00<?, ?it/s]"
      ]
     },
     "metadata": {},
     "output_type": "display_data"
    },
    {
     "data": {
      "application/vnd.jupyter.widget-view+json": {
       "model_id": "ed9b232844e14adc98d74632eb397ffa",
       "version_major": 2,
       "version_minor": 0
      },
      "text/plain": [
       "Running kernels for concreteslump, split 1:   0%|          | 0/6 [00:00<?, ?it/s]"
      ]
     },
     "metadata": {},
     "output_type": "display_data"
    },
    {
     "data": {
      "application/vnd.jupyter.widget-view+json": {
       "model_id": "c99d546060db4202a7ec949aa91d1bda",
       "version_major": 2,
       "version_minor": 0
      },
      "text/plain": [
       "Running kernels for concreteslump, split 2:   0%|          | 0/6 [00:00<?, ?it/s]"
      ]
     },
     "metadata": {},
     "output_type": "display_data"
    },
    {
     "name": "stdout",
     "output_type": "stream",
     "text": [
      "energy dataset, N=768, d=8\n"
     ]
    },
    {
     "data": {
      "application/vnd.jupyter.widget-view+json": {
       "model_id": "ad151f4f3fc14e3facddab44e5daa29a",
       "version_major": 2,
       "version_minor": 0
      },
      "text/plain": [
       "Progress for energy:   0%|          | 0/18 [00:00<?, ?iteration/s]"
      ]
     },
     "metadata": {},
     "output_type": "display_data"
    },
    {
     "data": {
      "application/vnd.jupyter.widget-view+json": {
       "model_id": "aa0f684facb2458bbd90e007caa1d297",
       "version_major": 2,
       "version_minor": 0
      },
      "text/plain": [
       "Running kernels for energy, split 0:   0%|          | 0/6 [00:00<?, ?it/s]"
      ]
     },
     "metadata": {},
     "output_type": "display_data"
    },
    {
     "data": {
      "application/vnd.jupyter.widget-view+json": {
       "model_id": "1a1e0ed84e7f497b8fb11d7cdea352c1",
       "version_major": 2,
       "version_minor": 0
      },
      "text/plain": [
       "Running kernels for energy, split 1:   0%|          | 0/6 [00:00<?, ?it/s]"
      ]
     },
     "metadata": {},
     "output_type": "display_data"
    },
    {
     "data": {
      "application/vnd.jupyter.widget-view+json": {
       "model_id": "91d1b7f26e5141578994d20bd91e83c4",
       "version_major": 2,
       "version_minor": 0
      },
      "text/plain": [
       "Running kernels for energy, split 2:   0%|          | 0/6 [00:00<?, ?it/s]"
      ]
     },
     "metadata": {},
     "output_type": "display_data"
    },
    {
     "name": "stdout",
     "output_type": "stream",
     "text": [
      "forest dataset, N=517, d=12\n"
     ]
    },
    {
     "data": {
      "application/vnd.jupyter.widget-view+json": {
       "model_id": "0376b0e666694dcb9ca8580f320dfdb4",
       "version_major": 2,
       "version_minor": 0
      },
      "text/plain": [
       "Progress for forest:   0%|          | 0/18 [00:00<?, ?iteration/s]"
      ]
     },
     "metadata": {},
     "output_type": "display_data"
    },
    {
     "data": {
      "application/vnd.jupyter.widget-view+json": {
       "model_id": "bd6930e7b2774fb8b544eea8d7a1604d",
       "version_major": 2,
       "version_minor": 0
      },
      "text/plain": [
       "Running kernels for forest, split 0:   0%|          | 0/6 [00:00<?, ?it/s]"
      ]
     },
     "metadata": {},
     "output_type": "display_data"
    },
    {
     "data": {
      "application/vnd.jupyter.widget-view+json": {
       "model_id": "20c66dc5e2fc423d80f699237befe5b5",
       "version_major": 2,
       "version_minor": 0
      },
      "text/plain": [
       "Running kernels for forest, split 1:   0%|          | 0/6 [00:00<?, ?it/s]"
      ]
     },
     "metadata": {},
     "output_type": "display_data"
    },
    {
     "data": {
      "application/vnd.jupyter.widget-view+json": {
       "model_id": "10945f5e2aa14d488d574696043e5789",
       "version_major": 2,
       "version_minor": 0
      },
      "text/plain": [
       "Running kernels for forest, split 2:   0%|          | 0/6 [00:00<?, ?it/s]"
      ]
     },
     "metadata": {},
     "output_type": "display_data"
    },
    {
     "name": "stdout",
     "output_type": "stream",
     "text": [
      "solar dataset, N=1066, d=10\n"
     ]
    },
    {
     "data": {
      "application/vnd.jupyter.widget-view+json": {
       "model_id": "bc847f5cbfd04851bf62ef1ba8e72323",
       "version_major": 2,
       "version_minor": 0
      },
      "text/plain": [
       "Progress for solar:   0%|          | 0/18 [00:00<?, ?iteration/s]"
      ]
     },
     "metadata": {},
     "output_type": "display_data"
    },
    {
     "name": "stderr",
     "output_type": "stream",
     "text": [
      "/var/folders/b6/z4591_kn5dz7xy81wtgqr67c0000gp/T/ipykernel_6694/1036783155.py:27: RuntimeWarning: invalid value encountered in divide\n",
      "  X = X / np.std(X, axis=0)[None, :]\n"
     ]
    },
    {
     "data": {
      "application/vnd.jupyter.widget-view+json": {
       "model_id": "3fc93c641a3340d7b2f561d9cd0b6463",
       "version_major": 2,
       "version_minor": 0
      },
      "text/plain": [
       "Running kernels for solar, split 0:   0%|          | 0/6 [00:00<?, ?it/s]"
      ]
     },
     "metadata": {},
     "output_type": "display_data"
    },
    {
     "name": "stdout",
     "output_type": "stream",
     "text": [
      "Error in dataset solar, split 0, kernel ScaleKernel(\n",
      "  (base_kernel): RBFKernel(\n",
      "    (raw_lengthscale_constraint): Positive()\n",
      "  )\n",
      "  (raw_outputscale_constraint): Positive()\n",
      "): You must train on the training inputs!\n",
      "Error in dataset solar, split 0, kernel ScaleKernel(\n",
      "  (base_kernel): MaternKernel(\n",
      "    (raw_lengthscale_constraint): Positive()\n",
      "  )\n",
      "  (raw_outputscale_constraint): Positive()\n",
      "): You must train on the training inputs!\n",
      "Error in dataset solar, split 0, kernel ScaleKernel(\n",
      "  (base_kernel): MaternKernel(\n",
      "    (raw_lengthscale_constraint): Positive()\n",
      "  )\n",
      "  (raw_outputscale_constraint): Positive()\n",
      "): You must train on the training inputs!\n",
      "Error in dataset solar, split 0, kernel ScaleKernel(\n",
      "  (base_kernel): RQKernel(\n",
      "    (raw_lengthscale_constraint): Positive()\n",
      "    (raw_alpha_constraint): Positive()\n",
      "  )\n",
      "  (raw_outputscale_constraint): Positive()\n",
      "): You must train on the training inputs!\n",
      "Error in dataset solar, split 0, kernel LinearKernel(\n",
      "  (raw_variance_constraint): Positive()\n",
      "): You must train on the training inputs!\n",
      "Error in dataset solar, split 0, kernel ScaleKernel(\n",
      "  (base_kernel): PolynomialKernel(\n",
      "    (raw_offset_constraint): Positive()\n",
      "  )\n",
      "  (raw_outputscale_constraint): Positive()\n",
      "): You must train on the training inputs!\n"
     ]
    },
    {
     "data": {
      "application/vnd.jupyter.widget-view+json": {
       "model_id": "5d76f4e15f764b3cae28dfeeadae62e9",
       "version_major": 2,
       "version_minor": 0
      },
      "text/plain": [
       "Running kernels for solar, split 1:   0%|          | 0/6 [00:00<?, ?it/s]"
      ]
     },
     "metadata": {},
     "output_type": "display_data"
    },
    {
     "name": "stdout",
     "output_type": "stream",
     "text": [
      "Error in dataset solar, split 1, kernel ScaleKernel(\n",
      "  (base_kernel): RBFKernel(\n",
      "    (raw_lengthscale_constraint): Positive()\n",
      "  )\n",
      "  (raw_outputscale_constraint): Positive()\n",
      "): You must train on the training inputs!\n",
      "Error in dataset solar, split 1, kernel ScaleKernel(\n",
      "  (base_kernel): MaternKernel(\n",
      "    (raw_lengthscale_constraint): Positive()\n",
      "  )\n",
      "  (raw_outputscale_constraint): Positive()\n",
      "): You must train on the training inputs!\n",
      "Error in dataset solar, split 1, kernel ScaleKernel(\n",
      "  (base_kernel): MaternKernel(\n",
      "    (raw_lengthscale_constraint): Positive()\n",
      "  )\n",
      "  (raw_outputscale_constraint): Positive()\n",
      "): You must train on the training inputs!\n",
      "Error in dataset solar, split 1, kernel ScaleKernel(\n",
      "  (base_kernel): RQKernel(\n",
      "    (raw_lengthscale_constraint): Positive()\n",
      "    (raw_alpha_constraint): Positive()\n",
      "  )\n",
      "  (raw_outputscale_constraint): Positive()\n",
      "): You must train on the training inputs!\n",
      "Error in dataset solar, split 1, kernel LinearKernel(\n",
      "  (raw_variance_constraint): Positive()\n",
      "): You must train on the training inputs!\n",
      "Error in dataset solar, split 1, kernel ScaleKernel(\n",
      "  (base_kernel): PolynomialKernel(\n",
      "    (raw_offset_constraint): Positive()\n",
      "  )\n",
      "  (raw_outputscale_constraint): Positive()\n",
      "): You must train on the training inputs!\n"
     ]
    },
    {
     "data": {
      "application/vnd.jupyter.widget-view+json": {
       "model_id": "6fc96a90500e40288db69925cd7a7141",
       "version_major": 2,
       "version_minor": 0
      },
      "text/plain": [
       "Running kernels for solar, split 2:   0%|          | 0/6 [00:00<?, ?it/s]"
      ]
     },
     "metadata": {},
     "output_type": "display_data"
    },
    {
     "name": "stdout",
     "output_type": "stream",
     "text": [
      "Error in dataset solar, split 2, kernel ScaleKernel(\n",
      "  (base_kernel): RBFKernel(\n",
      "    (raw_lengthscale_constraint): Positive()\n",
      "  )\n",
      "  (raw_outputscale_constraint): Positive()\n",
      "): You must train on the training inputs!\n",
      "Error in dataset solar, split 2, kernel ScaleKernel(\n",
      "  (base_kernel): MaternKernel(\n",
      "    (raw_lengthscale_constraint): Positive()\n",
      "  )\n",
      "  (raw_outputscale_constraint): Positive()\n",
      "): You must train on the training inputs!\n",
      "Error in dataset solar, split 2, kernel ScaleKernel(\n",
      "  (base_kernel): MaternKernel(\n",
      "    (raw_lengthscale_constraint): Positive()\n",
      "  )\n",
      "  (raw_outputscale_constraint): Positive()\n",
      "): You must train on the training inputs!\n",
      "Error in dataset solar, split 2, kernel ScaleKernel(\n",
      "  (base_kernel): RQKernel(\n",
      "    (raw_lengthscale_constraint): Positive()\n",
      "    (raw_alpha_constraint): Positive()\n",
      "  )\n",
      "  (raw_outputscale_constraint): Positive()\n",
      "): You must train on the training inputs!\n",
      "Error in dataset solar, split 2, kernel LinearKernel(\n",
      "  (raw_variance_constraint): Positive()\n",
      "): You must train on the training inputs!\n",
      "Error in dataset solar, split 2, kernel ScaleKernel(\n",
      "  (base_kernel): PolynomialKernel(\n",
      "    (raw_offset_constraint): Positive()\n",
      "  )\n",
      "  (raw_outputscale_constraint): Positive()\n",
      "): You must train on the training inputs!\n",
      "stock dataset, N=536, d=11\n"
     ]
    },
    {
     "data": {
      "application/vnd.jupyter.widget-view+json": {
       "model_id": "162be1fce169460ab16ff82e0a2f1f58",
       "version_major": 2,
       "version_minor": 0
      },
      "text/plain": [
       "Progress for stock:   0%|          | 0/18 [00:00<?, ?iteration/s]"
      ]
     },
     "metadata": {},
     "output_type": "display_data"
    },
    {
     "data": {
      "application/vnd.jupyter.widget-view+json": {
       "model_id": "31ec58d44e6a449baddac202b282839e",
       "version_major": 2,
       "version_minor": 0
      },
      "text/plain": [
       "Running kernels for stock, split 0:   0%|          | 0/6 [00:00<?, ?it/s]"
      ]
     },
     "metadata": {},
     "output_type": "display_data"
    },
    {
     "data": {
      "application/vnd.jupyter.widget-view+json": {
       "model_id": "03422edc488e4ec9a4904819f09b9d20",
       "version_major": 2,
       "version_minor": 0
      },
      "text/plain": [
       "Running kernels for stock, split 1:   0%|          | 0/6 [00:00<?, ?it/s]"
      ]
     },
     "metadata": {},
     "output_type": "display_data"
    },
    {
     "data": {
      "application/vnd.jupyter.widget-view+json": {
       "model_id": "5d22aefe47be4f82937cec2a42ca7c4f",
       "version_major": 2,
       "version_minor": 0
      },
      "text/plain": [
       "Running kernels for stock, split 2:   0%|          | 0/6 [00:00<?, ?it/s]"
      ]
     },
     "metadata": {},
     "output_type": "display_data"
    },
    {
     "name": "stdout",
     "output_type": "stream",
     "text": [
      "yacht dataset, N=308, d=6\n"
     ]
    },
    {
     "data": {
      "application/vnd.jupyter.widget-view+json": {
       "model_id": "5790ff5ccedd4aaabdeadbddd760617c",
       "version_major": 2,
       "version_minor": 0
      },
      "text/plain": [
       "Progress for yacht:   0%|          | 0/18 [00:00<?, ?iteration/s]"
      ]
     },
     "metadata": {},
     "output_type": "display_data"
    },
    {
     "data": {
      "application/vnd.jupyter.widget-view+json": {
       "model_id": "dca97901dc9d46b496fa70e57b977e47",
       "version_major": 2,
       "version_minor": 0
      },
      "text/plain": [
       "Running kernels for yacht, split 0:   0%|          | 0/6 [00:00<?, ?it/s]"
      ]
     },
     "metadata": {},
     "output_type": "display_data"
    },
    {
     "data": {
      "application/vnd.jupyter.widget-view+json": {
       "model_id": "9a2ec5dad9704bbabe173bc68ea31b0b",
       "version_major": 2,
       "version_minor": 0
      },
      "text/plain": [
       "Running kernels for yacht, split 1:   0%|          | 0/6 [00:00<?, ?it/s]"
      ]
     },
     "metadata": {},
     "output_type": "display_data"
    },
    {
     "data": {
      "application/vnd.jupyter.widget-view+json": {
       "model_id": "af7fafc4007549b0b929760ca1782d1a",
       "version_major": 2,
       "version_minor": 0
      },
      "text/plain": [
       "Running kernels for yacht, split 2:   0%|          | 0/6 [00:00<?, ?it/s]"
      ]
     },
     "metadata": {},
     "output_type": "display_data"
    },
    {
     "name": "stdout",
     "output_type": "stream",
     "text": [
      "airfoil dataset, N=1503, d=5\n"
     ]
    },
    {
     "data": {
      "application/vnd.jupyter.widget-view+json": {
       "model_id": "75546d8250814e4a887cd9fa8f7234b9",
       "version_major": 2,
       "version_minor": 0
      },
      "text/plain": [
       "Progress for airfoil:   0%|          | 0/18 [00:00<?, ?iteration/s]"
      ]
     },
     "metadata": {},
     "output_type": "display_data"
    },
    {
     "data": {
      "application/vnd.jupyter.widget-view+json": {
       "model_id": "2f7708ee4e724efa943ce6792a4ead50",
       "version_major": 2,
       "version_minor": 0
      },
      "text/plain": [
       "Running kernels for airfoil, split 0:   0%|          | 0/6 [00:00<?, ?it/s]"
      ]
     },
     "metadata": {},
     "output_type": "display_data"
    },
    {
     "name": "stdout",
     "output_type": "stream",
     "text": [
      "Error in dataset airfoil, split 0, kernel ScaleKernel(\n",
      "  (base_kernel): RBFKernel(\n",
      "    (raw_lengthscale_constraint): Positive()\n",
      "  )\n",
      "  (raw_outputscale_constraint): Positive()\n",
      "): Matrix not positive definite after repeatedly adding jitter up to 1.0e-06.\n",
      "Error in dataset airfoil, split 0, kernel ScaleKernel(\n",
      "  (base_kernel): MaternKernel(\n",
      "    (raw_lengthscale_constraint): Positive()\n",
      "  )\n",
      "  (raw_outputscale_constraint): Positive()\n",
      "): Matrix not positive definite after repeatedly adding jitter up to 1.0e-06.\n",
      "Error in dataset airfoil, split 0, kernel ScaleKernel(\n",
      "  (base_kernel): MaternKernel(\n",
      "    (raw_lengthscale_constraint): Positive()\n",
      "  )\n",
      "  (raw_outputscale_constraint): Positive()\n",
      "): Matrix not positive definite after repeatedly adding jitter up to 1.0e-06.\n",
      "Error in dataset airfoil, split 0, kernel ScaleKernel(\n",
      "  (base_kernel): RQKernel(\n",
      "    (raw_lengthscale_constraint): Positive()\n",
      "    (raw_alpha_constraint): Positive()\n",
      "  )\n",
      "  (raw_outputscale_constraint): Positive()\n",
      "): Matrix not positive definite after repeatedly adding jitter up to 1.0e-06.\n"
     ]
    },
    {
     "data": {
      "application/vnd.jupyter.widget-view+json": {
       "model_id": "6c7cf01912684b1dad8c17fcb53cfba8",
       "version_major": 2,
       "version_minor": 0
      },
      "text/plain": [
       "Running kernels for airfoil, split 1:   0%|          | 0/6 [00:00<?, ?it/s]"
      ]
     },
     "metadata": {},
     "output_type": "display_data"
    },
    {
     "name": "stdout",
     "output_type": "stream",
     "text": [
      "Error in dataset airfoil, split 1, kernel ScaleKernel(\n",
      "  (base_kernel): RBFKernel(\n",
      "    (raw_lengthscale_constraint): Positive()\n",
      "  )\n",
      "  (raw_outputscale_constraint): Positive()\n",
      "): Matrix not positive definite after repeatedly adding jitter up to 1.0e-06.\n",
      "Error in dataset airfoil, split 1, kernel ScaleKernel(\n",
      "  (base_kernel): MaternKernel(\n",
      "    (raw_lengthscale_constraint): Positive()\n",
      "  )\n",
      "  (raw_outputscale_constraint): Positive()\n",
      "): Matrix not positive definite after repeatedly adding jitter up to 1.0e-06.\n",
      "Error in dataset airfoil, split 1, kernel ScaleKernel(\n",
      "  (base_kernel): MaternKernel(\n",
      "    (raw_lengthscale_constraint): Positive()\n",
      "  )\n",
      "  (raw_outputscale_constraint): Positive()\n",
      "): Matrix not positive definite after repeatedly adding jitter up to 1.0e-06.\n",
      "Error in dataset airfoil, split 1, kernel ScaleKernel(\n",
      "  (base_kernel): RQKernel(\n",
      "    (raw_lengthscale_constraint): Positive()\n",
      "    (raw_alpha_constraint): Positive()\n",
      "  )\n",
      "  (raw_outputscale_constraint): Positive()\n",
      "): Matrix not positive definite after repeatedly adding jitter up to 1.0e-06.\n",
      "Error in dataset airfoil, split 1, kernel ScaleKernel(\n",
      "  (base_kernel): PolynomialKernel(\n",
      "    (raw_offset_constraint): Positive()\n",
      "  )\n",
      "  (raw_outputscale_constraint): Positive()\n",
      "): Matrix not positive definite after repeatedly adding jitter up to 1.0e-06.\n"
     ]
    },
    {
     "data": {
      "application/vnd.jupyter.widget-view+json": {
       "model_id": "009c49ad31464eef975ad8459b7ebb86",
       "version_major": 2,
       "version_minor": 0
      },
      "text/plain": [
       "Running kernels for airfoil, split 2:   0%|          | 0/6 [00:00<?, ?it/s]"
      ]
     },
     "metadata": {},
     "output_type": "display_data"
    },
    {
     "name": "stdout",
     "output_type": "stream",
     "text": [
      "Error in dataset airfoil, split 2, kernel ScaleKernel(\n",
      "  (base_kernel): RBFKernel(\n",
      "    (raw_lengthscale_constraint): Positive()\n",
      "  )\n",
      "  (raw_outputscale_constraint): Positive()\n",
      "): Matrix not positive definite after repeatedly adding jitter up to 1.0e-06.\n",
      "Error in dataset airfoil, split 2, kernel ScaleKernel(\n",
      "  (base_kernel): MaternKernel(\n",
      "    (raw_lengthscale_constraint): Positive()\n",
      "  )\n",
      "  (raw_outputscale_constraint): Positive()\n",
      "): Matrix not positive definite after repeatedly adding jitter up to 1.0e-06.\n",
      "Error in dataset airfoil, split 2, kernel ScaleKernel(\n",
      "  (base_kernel): MaternKernel(\n",
      "    (raw_lengthscale_constraint): Positive()\n",
      "  )\n",
      "  (raw_outputscale_constraint): Positive()\n",
      "): Matrix not positive definite after repeatedly adding jitter up to 1.0e-06.\n",
      "Error in dataset airfoil, split 2, kernel ScaleKernel(\n",
      "  (base_kernel): RQKernel(\n",
      "    (raw_lengthscale_constraint): Positive()\n",
      "    (raw_alpha_constraint): Positive()\n",
      "  )\n",
      "  (raw_outputscale_constraint): Positive()\n",
      "): Matrix not positive definite after repeatedly adding jitter up to 1.0e-06.\n",
      "Error in dataset airfoil, split 2, kernel ScaleKernel(\n",
      "  (base_kernel): PolynomialKernel(\n",
      "    (raw_offset_constraint): Positive()\n",
      "  )\n",
      "  (raw_outputscale_constraint): Positive()\n",
      "): Matrix not positive definite after repeatedly adding jitter up to 1.0e-06.\n",
      "autos dataset, N=159, d=25\n"
     ]
    },
    {
     "data": {
      "application/vnd.jupyter.widget-view+json": {
       "model_id": "b0a1ee3183b445d9a1cb54388d2a2f4e",
       "version_major": 2,
       "version_minor": 0
      },
      "text/plain": [
       "Progress for autos:   0%|          | 0/18 [00:00<?, ?iteration/s]"
      ]
     },
     "metadata": {},
     "output_type": "display_data"
    },
    {
     "data": {
      "application/vnd.jupyter.widget-view+json": {
       "model_id": "74536f4de53048bf999bcb9ee74a38fc",
       "version_major": 2,
       "version_minor": 0
      },
      "text/plain": [
       "Running kernels for autos, split 0:   0%|          | 0/6 [00:00<?, ?it/s]"
      ]
     },
     "metadata": {},
     "output_type": "display_data"
    },
    {
     "data": {
      "application/vnd.jupyter.widget-view+json": {
       "model_id": "3d9b9951ede8476e8696150a7141dbc6",
       "version_major": 2,
       "version_minor": 0
      },
      "text/plain": [
       "Running kernels for autos, split 1:   0%|          | 0/6 [00:00<?, ?it/s]"
      ]
     },
     "metadata": {},
     "output_type": "display_data"
    },
    {
     "data": {
      "application/vnd.jupyter.widget-view+json": {
       "model_id": "145f84133d87490bbebc9fa28adb2770",
       "version_major": 2,
       "version_minor": 0
      },
      "text/plain": [
       "Running kernels for autos, split 2:   0%|          | 0/6 [00:00<?, ?it/s]"
      ]
     },
     "metadata": {},
     "output_type": "display_data"
    },
    {
     "name": "stdout",
     "output_type": "stream",
     "text": [
      "breastcancer dataset, N=194, d=33\n"
     ]
    },
    {
     "data": {
      "application/vnd.jupyter.widget-view+json": {
       "model_id": "6cc18aef272f4740a7d6731dffc607c4",
       "version_major": 2,
       "version_minor": 0
      },
      "text/plain": [
       "Progress for breastcancer:   0%|          | 0/18 [00:00<?, ?iteration/s]"
      ]
     },
     "metadata": {},
     "output_type": "display_data"
    },
    {
     "data": {
      "application/vnd.jupyter.widget-view+json": {
       "model_id": "cea826e628c64e68a570992b9f35285a",
       "version_major": 2,
       "version_minor": 0
      },
      "text/plain": [
       "Running kernels for breastcancer, split 0:   0%|          | 0/6 [00:00<?, ?it/s]"
      ]
     },
     "metadata": {},
     "output_type": "display_data"
    },
    {
     "data": {
      "application/vnd.jupyter.widget-view+json": {
       "model_id": "b3d985eb41c449f19bf1dd8c94aa2b7d",
       "version_major": 2,
       "version_minor": 0
      },
      "text/plain": [
       "Running kernels for breastcancer, split 1:   0%|          | 0/6 [00:00<?, ?it/s]"
      ]
     },
     "metadata": {},
     "output_type": "display_data"
    },
    {
     "data": {
      "application/vnd.jupyter.widget-view+json": {
       "model_id": "915bcf4424ab4d84ad7fa971179f57e6",
       "version_major": 2,
       "version_minor": 0
      },
      "text/plain": [
       "Running kernels for breastcancer, split 2:   0%|          | 0/6 [00:00<?, ?it/s]"
      ]
     },
     "metadata": {},
     "output_type": "display_data"
    },
    {
     "name": "stdout",
     "output_type": "stream",
     "text": [
      "concrete dataset, N=1030, d=8\n"
     ]
    },
    {
     "data": {
      "application/vnd.jupyter.widget-view+json": {
       "model_id": "1062cde697bb489fae950b0baf55d7cc",
       "version_major": 2,
       "version_minor": 0
      },
      "text/plain": [
       "Progress for concrete:   0%|          | 0/18 [00:00<?, ?iteration/s]"
      ]
     },
     "metadata": {},
     "output_type": "display_data"
    },
    {
     "data": {
      "application/vnd.jupyter.widget-view+json": {
       "model_id": "9518f98ccb4e41248373c4829f0f148f",
       "version_major": 2,
       "version_minor": 0
      },
      "text/plain": [
       "Running kernels for concrete, split 0:   0%|          | 0/6 [00:00<?, ?it/s]"
      ]
     },
     "metadata": {},
     "output_type": "display_data"
    },
    {
     "name": "stdout",
     "output_type": "stream",
     "text": [
      "Error in dataset concrete, split 0, kernel ScaleKernel(\n",
      "  (base_kernel): RBFKernel(\n",
      "    (raw_lengthscale_constraint): Positive()\n",
      "  )\n",
      "  (raw_outputscale_constraint): Positive()\n",
      "): Matrix not positive definite after repeatedly adding jitter up to 1.0e-06.\n",
      "Error in dataset concrete, split 0, kernel ScaleKernel(\n",
      "  (base_kernel): MaternKernel(\n",
      "    (raw_lengthscale_constraint): Positive()\n",
      "  )\n",
      "  (raw_outputscale_constraint): Positive()\n",
      "): Matrix not positive definite after repeatedly adding jitter up to 1.0e-06.\n",
      "Error in dataset concrete, split 0, kernel ScaleKernel(\n",
      "  (base_kernel): MaternKernel(\n",
      "    (raw_lengthscale_constraint): Positive()\n",
      "  )\n",
      "  (raw_outputscale_constraint): Positive()\n",
      "): Matrix not positive definite after repeatedly adding jitter up to 1.0e-06.\n",
      "Error in dataset concrete, split 0, kernel ScaleKernel(\n",
      "  (base_kernel): RQKernel(\n",
      "    (raw_lengthscale_constraint): Positive()\n",
      "    (raw_alpha_constraint): Positive()\n",
      "  )\n",
      "  (raw_outputscale_constraint): Positive()\n",
      "): Matrix not positive definite after repeatedly adding jitter up to 1.0e-06.\n",
      "Error in dataset concrete, split 0, kernel ScaleKernel(\n",
      "  (base_kernel): PolynomialKernel(\n",
      "    (raw_offset_constraint): Positive()\n",
      "  )\n",
      "  (raw_outputscale_constraint): Positive()\n",
      "): Matrix not positive definite after repeatedly adding jitter up to 1.0e-06.\n"
     ]
    },
    {
     "data": {
      "application/vnd.jupyter.widget-view+json": {
       "model_id": "f7a9fe411280408fb40e869ed7178082",
       "version_major": 2,
       "version_minor": 0
      },
      "text/plain": [
       "Running kernels for concrete, split 1:   0%|          | 0/6 [00:00<?, ?it/s]"
      ]
     },
     "metadata": {},
     "output_type": "display_data"
    },
    {
     "name": "stdout",
     "output_type": "stream",
     "text": [
      "Error in dataset concrete, split 1, kernel ScaleKernel(\n",
      "  (base_kernel): MaternKernel(\n",
      "    (raw_lengthscale_constraint): Positive()\n",
      "  )\n",
      "  (raw_outputscale_constraint): Positive()\n",
      "): Matrix not positive definite after repeatedly adding jitter up to 1.0e-06.\n",
      "Error in dataset concrete, split 1, kernel ScaleKernel(\n",
      "  (base_kernel): MaternKernel(\n",
      "    (raw_lengthscale_constraint): Positive()\n",
      "  )\n",
      "  (raw_outputscale_constraint): Positive()\n",
      "): Matrix not positive definite after repeatedly adding jitter up to 1.0e-06.\n",
      "Error in dataset concrete, split 1, kernel ScaleKernel(\n",
      "  (base_kernel): RQKernel(\n",
      "    (raw_lengthscale_constraint): Positive()\n",
      "    (raw_alpha_constraint): Positive()\n",
      "  )\n",
      "  (raw_outputscale_constraint): Positive()\n",
      "): Matrix not positive definite after repeatedly adding jitter up to 1.0e-06.\n",
      "Error in dataset concrete, split 1, kernel ScaleKernel(\n",
      "  (base_kernel): PolynomialKernel(\n",
      "    (raw_offset_constraint): Positive()\n",
      "  )\n",
      "  (raw_outputscale_constraint): Positive()\n",
      "): Matrix not positive definite after repeatedly adding jitter up to 1.0e-06.\n"
     ]
    },
    {
     "data": {
      "application/vnd.jupyter.widget-view+json": {
       "model_id": "da397e1e0aae4a18a48e5ba7909ded7b",
       "version_major": 2,
       "version_minor": 0
      },
      "text/plain": [
       "Running kernels for concrete, split 2:   0%|          | 0/6 [00:00<?, ?it/s]"
      ]
     },
     "metadata": {},
     "output_type": "display_data"
    },
    {
     "name": "stdout",
     "output_type": "stream",
     "text": [
      "Error in dataset concrete, split 2, kernel ScaleKernel(\n",
      "  (base_kernel): RBFKernel(\n",
      "    (raw_lengthscale_constraint): Positive()\n",
      "  )\n",
      "  (raw_outputscale_constraint): Positive()\n",
      "): Matrix not positive definite after repeatedly adding jitter up to 1.0e-06.\n",
      "Error in dataset concrete, split 2, kernel ScaleKernel(\n",
      "  (base_kernel): MaternKernel(\n",
      "    (raw_lengthscale_constraint): Positive()\n",
      "  )\n",
      "  (raw_outputscale_constraint): Positive()\n",
      "): Matrix not positive definite after repeatedly adding jitter up to 1.0e-06.\n",
      "Error in dataset concrete, split 2, kernel ScaleKernel(\n",
      "  (base_kernel): MaternKernel(\n",
      "    (raw_lengthscale_constraint): Positive()\n",
      "  )\n",
      "  (raw_outputscale_constraint): Positive()\n",
      "): Matrix not positive definite after repeatedly adding jitter up to 1.0e-06.\n",
      "Error in dataset concrete, split 2, kernel ScaleKernel(\n",
      "  (base_kernel): RQKernel(\n",
      "    (raw_lengthscale_constraint): Positive()\n",
      "    (raw_alpha_constraint): Positive()\n",
      "  )\n",
      "  (raw_outputscale_constraint): Positive()\n",
      "): Matrix not positive definite after repeatedly adding jitter up to 1.0e-06.\n",
      "Error in dataset concrete, split 2, kernel ScaleKernel(\n",
      "  (base_kernel): PolynomialKernel(\n",
      "    (raw_offset_constraint): Positive()\n",
      "  )\n",
      "  (raw_outputscale_constraint): Positive()\n",
      "): Matrix not positive definite after repeatedly adding jitter up to 1.0e-06.\n",
      "housing dataset, N=506, d=13\n"
     ]
    },
    {
     "data": {
      "application/vnd.jupyter.widget-view+json": {
       "model_id": "db41891a796d46f0bfe1f133b1c73240",
       "version_major": 2,
       "version_minor": 0
      },
      "text/plain": [
       "Progress for housing:   0%|          | 0/18 [00:00<?, ?iteration/s]"
      ]
     },
     "metadata": {},
     "output_type": "display_data"
    },
    {
     "data": {
      "application/vnd.jupyter.widget-view+json": {
       "model_id": "51744752a2c24e048a60fcec7a39b28d",
       "version_major": 2,
       "version_minor": 0
      },
      "text/plain": [
       "Running kernels for housing, split 0:   0%|          | 0/6 [00:00<?, ?it/s]"
      ]
     },
     "metadata": {},
     "output_type": "display_data"
    },
    {
     "data": {
      "application/vnd.jupyter.widget-view+json": {
       "model_id": "e6e6e68f1f20434882dc4ce3b6799627",
       "version_major": 2,
       "version_minor": 0
      },
      "text/plain": [
       "Running kernels for housing, split 1:   0%|          | 0/6 [00:00<?, ?it/s]"
      ]
     },
     "metadata": {},
     "output_type": "display_data"
    },
    {
     "data": {
      "application/vnd.jupyter.widget-view+json": {
       "model_id": "f4e2a0262fea4b749be683279b8b13d6",
       "version_major": 2,
       "version_minor": 0
      },
      "text/plain": [
       "Running kernels for housing, split 2:   0%|          | 0/6 [00:00<?, ?it/s]"
      ]
     },
     "metadata": {},
     "output_type": "display_data"
    },
    {
     "name": "stdout",
     "output_type": "stream",
     "text": [
      "machine dataset, N=209, d=7\n"
     ]
    },
    {
     "data": {
      "application/vnd.jupyter.widget-view+json": {
       "model_id": "13752f87363b4ca0a320699fbaca2a51",
       "version_major": 2,
       "version_minor": 0
      },
      "text/plain": [
       "Progress for machine:   0%|          | 0/18 [00:00<?, ?iteration/s]"
      ]
     },
     "metadata": {},
     "output_type": "display_data"
    },
    {
     "data": {
      "application/vnd.jupyter.widget-view+json": {
       "model_id": "d8e6fc3db1e24792a74ae519cce81076",
       "version_major": 2,
       "version_minor": 0
      },
      "text/plain": [
       "Running kernels for machine, split 0:   0%|          | 0/6 [00:00<?, ?it/s]"
      ]
     },
     "metadata": {},
     "output_type": "display_data"
    },
    {
     "data": {
      "application/vnd.jupyter.widget-view+json": {
       "model_id": "fbeef58852824d7da409f7d8472fe0b2",
       "version_major": 2,
       "version_minor": 0
      },
      "text/plain": [
       "Running kernels for machine, split 1:   0%|          | 0/6 [00:00<?, ?it/s]"
      ]
     },
     "metadata": {},
     "output_type": "display_data"
    },
    {
     "data": {
      "application/vnd.jupyter.widget-view+json": {
       "model_id": "ddfb447deabf476b9ca88d74441f39a7",
       "version_major": 2,
       "version_minor": 0
      },
      "text/plain": [
       "Running kernels for machine, split 2:   0%|          | 0/6 [00:00<?, ?it/s]"
      ]
     },
     "metadata": {},
     "output_type": "display_data"
    },
    {
     "name": "stdout",
     "output_type": "stream",
     "text": [
      "pendulum dataset, N=630, d=9\n"
     ]
    },
    {
     "data": {
      "application/vnd.jupyter.widget-view+json": {
       "model_id": "de55e65aa340423a805d86fea0f3349a",
       "version_major": 2,
       "version_minor": 0
      },
      "text/plain": [
       "Progress for pendulum:   0%|          | 0/18 [00:00<?, ?iteration/s]"
      ]
     },
     "metadata": {},
     "output_type": "display_data"
    },
    {
     "data": {
      "application/vnd.jupyter.widget-view+json": {
       "model_id": "950edf3b7bd64dccbbe8f440985a27e0",
       "version_major": 2,
       "version_minor": 0
      },
      "text/plain": [
       "Running kernels for pendulum, split 0:   0%|          | 0/6 [00:00<?, ?it/s]"
      ]
     },
     "metadata": {},
     "output_type": "display_data"
    },
    {
     "data": {
      "application/vnd.jupyter.widget-view+json": {
       "model_id": "48b940d8f46843588a172378b051a31b",
       "version_major": 2,
       "version_minor": 0
      },
      "text/plain": [
       "Running kernels for pendulum, split 1:   0%|          | 0/6 [00:00<?, ?it/s]"
      ]
     },
     "metadata": {},
     "output_type": "display_data"
    },
    {
     "data": {
      "application/vnd.jupyter.widget-view+json": {
       "model_id": "47358fdd437a44b7b93982277ea7f373",
       "version_major": 2,
       "version_minor": 0
      },
      "text/plain": [
       "Running kernels for pendulum, split 2:   0%|          | 0/6 [00:00<?, ?it/s]"
      ]
     },
     "metadata": {},
     "output_type": "display_data"
    },
    {
     "name": "stdout",
     "output_type": "stream",
     "text": [
      "servo dataset, N=167, d=4\n"
     ]
    },
    {
     "data": {
      "application/vnd.jupyter.widget-view+json": {
       "model_id": "f3f35ebcaf7140fdae89977bc3d5a03f",
       "version_major": 2,
       "version_minor": 0
      },
      "text/plain": [
       "Progress for servo:   0%|          | 0/18 [00:00<?, ?iteration/s]"
      ]
     },
     "metadata": {},
     "output_type": "display_data"
    },
    {
     "data": {
      "application/vnd.jupyter.widget-view+json": {
       "model_id": "bebcefeb38624d12a4dee30dd274a9df",
       "version_major": 2,
       "version_minor": 0
      },
      "text/plain": [
       "Running kernels for servo, split 0:   0%|          | 0/6 [00:00<?, ?it/s]"
      ]
     },
     "metadata": {},
     "output_type": "display_data"
    },
    {
     "data": {
      "application/vnd.jupyter.widget-view+json": {
       "model_id": "7e296044e00647cfb8c57530d6326593",
       "version_major": 2,
       "version_minor": 0
      },
      "text/plain": [
       "Running kernels for servo, split 1:   0%|          | 0/6 [00:00<?, ?it/s]"
      ]
     },
     "metadata": {},
     "output_type": "display_data"
    },
    {
     "data": {
      "application/vnd.jupyter.widget-view+json": {
       "model_id": "ca3b27ee596444eca3f386c383e86a89",
       "version_major": 2,
       "version_minor": 0
      },
      "text/plain": [
       "Running kernels for servo, split 2:   0%|          | 0/6 [00:00<?, ?it/s]"
      ]
     },
     "metadata": {},
     "output_type": "display_data"
    },
    {
     "name": "stdout",
     "output_type": "stream",
     "text": [
      "wine dataset, N=1599, d=11\n"
     ]
    },
    {
     "data": {
      "application/vnd.jupyter.widget-view+json": {
       "model_id": "0b2773f397a649689a58acf21fe5c2e0",
       "version_major": 2,
       "version_minor": 0
      },
      "text/plain": [
       "Progress for wine:   0%|          | 0/18 [00:00<?, ?iteration/s]"
      ]
     },
     "metadata": {},
     "output_type": "display_data"
    },
    {
     "data": {
      "application/vnd.jupyter.widget-view+json": {
       "model_id": "e858cd85f03342eb81210080dea8bd43",
       "version_major": 2,
       "version_minor": 0
      },
      "text/plain": [
       "Running kernels for wine, split 0:   0%|          | 0/6 [00:00<?, ?it/s]"
      ]
     },
     "metadata": {},
     "output_type": "display_data"
    },
    {
     "name": "stdout",
     "output_type": "stream",
     "text": [
      "Error in dataset wine, split 0, kernel ScaleKernel(\n",
      "  (base_kernel): RBFKernel(\n",
      "    (raw_lengthscale_constraint): Positive()\n",
      "  )\n",
      "  (raw_outputscale_constraint): Positive()\n",
      "): Matrix not positive definite after repeatedly adding jitter up to 1.0e-06.\n",
      "Error in dataset wine, split 0, kernel ScaleKernel(\n",
      "  (base_kernel): MaternKernel(\n",
      "    (raw_lengthscale_constraint): Positive()\n",
      "  )\n",
      "  (raw_outputscale_constraint): Positive()\n",
      "): Matrix not positive definite after repeatedly adding jitter up to 1.0e-06.\n",
      "Error in dataset wine, split 0, kernel ScaleKernel(\n",
      "  (base_kernel): MaternKernel(\n",
      "    (raw_lengthscale_constraint): Positive()\n",
      "  )\n",
      "  (raw_outputscale_constraint): Positive()\n",
      "): Matrix not positive definite after repeatedly adding jitter up to 1.0e-06.\n",
      "Error in dataset wine, split 0, kernel ScaleKernel(\n",
      "  (base_kernel): RQKernel(\n",
      "    (raw_lengthscale_constraint): Positive()\n",
      "    (raw_alpha_constraint): Positive()\n",
      "  )\n",
      "  (raw_outputscale_constraint): Positive()\n",
      "): Matrix not positive definite after repeatedly adding jitter up to 1.0e-06.\n",
      "Error in dataset wine, split 0, kernel ScaleKernel(\n",
      "  (base_kernel): PolynomialKernel(\n",
      "    (raw_offset_constraint): Positive()\n",
      "  )\n",
      "  (raw_outputscale_constraint): Positive()\n",
      "): Matrix not positive definite after repeatedly adding jitter up to 1.0e-06.\n"
     ]
    },
    {
     "data": {
      "application/vnd.jupyter.widget-view+json": {
       "model_id": "f216428a8f8a4e6ebbe7f0fb56cc5277",
       "version_major": 2,
       "version_minor": 0
      },
      "text/plain": [
       "Running kernels for wine, split 1:   0%|          | 0/6 [00:00<?, ?it/s]"
      ]
     },
     "metadata": {},
     "output_type": "display_data"
    },
    {
     "name": "stdout",
     "output_type": "stream",
     "text": [
      "Error in dataset wine, split 1, kernel ScaleKernel(\n",
      "  (base_kernel): RBFKernel(\n",
      "    (raw_lengthscale_constraint): Positive()\n",
      "  )\n",
      "  (raw_outputscale_constraint): Positive()\n",
      "): Matrix not positive definite after repeatedly adding jitter up to 1.0e-06.\n",
      "Error in dataset wine, split 1, kernel ScaleKernel(\n",
      "  (base_kernel): MaternKernel(\n",
      "    (raw_lengthscale_constraint): Positive()\n",
      "  )\n",
      "  (raw_outputscale_constraint): Positive()\n",
      "): Matrix not positive definite after repeatedly adding jitter up to 1.0e-06.\n",
      "Error in dataset wine, split 1, kernel ScaleKernel(\n",
      "  (base_kernel): MaternKernel(\n",
      "    (raw_lengthscale_constraint): Positive()\n",
      "  )\n",
      "  (raw_outputscale_constraint): Positive()\n",
      "): Matrix not positive definite after repeatedly adding jitter up to 1.0e-06.\n",
      "Error in dataset wine, split 1, kernel ScaleKernel(\n",
      "  (base_kernel): RQKernel(\n",
      "    (raw_lengthscale_constraint): Positive()\n",
      "    (raw_alpha_constraint): Positive()\n",
      "  )\n",
      "  (raw_outputscale_constraint): Positive()\n",
      "): Matrix not positive definite after repeatedly adding jitter up to 1.0e-06.\n",
      "Error in dataset wine, split 1, kernel ScaleKernel(\n",
      "  (base_kernel): PolynomialKernel(\n",
      "    (raw_offset_constraint): Positive()\n",
      "  )\n",
      "  (raw_outputscale_constraint): Positive()\n",
      "): Matrix not positive definite after repeatedly adding jitter up to 1.0e-06.\n"
     ]
    },
    {
     "data": {
      "application/vnd.jupyter.widget-view+json": {
       "model_id": "04c5de14422e49ecbf2a62b2c27bb4a6",
       "version_major": 2,
       "version_minor": 0
      },
      "text/plain": [
       "Running kernels for wine, split 2:   0%|          | 0/6 [00:00<?, ?it/s]"
      ]
     },
     "metadata": {},
     "output_type": "display_data"
    },
    {
     "name": "stdout",
     "output_type": "stream",
     "text": [
      "Error in dataset wine, split 2, kernel ScaleKernel(\n",
      "  (base_kernel): RBFKernel(\n",
      "    (raw_lengthscale_constraint): Positive()\n",
      "  )\n",
      "  (raw_outputscale_constraint): Positive()\n",
      "): Matrix not positive definite after repeatedly adding jitter up to 1.0e-06.\n",
      "Error in dataset wine, split 2, kernel ScaleKernel(\n",
      "  (base_kernel): MaternKernel(\n",
      "    (raw_lengthscale_constraint): Positive()\n",
      "  )\n",
      "  (raw_outputscale_constraint): Positive()\n",
      "): Matrix not positive definite after repeatedly adding jitter up to 1.0e-06.\n"
     ]
    },
    {
     "name": "stderr",
     "output_type": "stream",
     "text": [
      "/Library/Frameworks/Python.framework/Versions/3.10/lib/python3.10/site-packages/gpytorch/distributions/multivariate_normal.py:319: NumericalWarning: Negative variance values detected. This is likely due to numerical instabilities. Rounding negative variances up to 1e-10.\n",
      "  warnings.warn(\n"
     ]
    },
    {
     "name": "stdout",
     "output_type": "stream",
     "text": [
      "Error in dataset wine, split 2, kernel ScaleKernel(\n",
      "  (base_kernel): MaternKernel(\n",
      "    (raw_lengthscale_constraint): Positive()\n",
      "  )\n",
      "  (raw_outputscale_constraint): Positive()\n",
      "): Matrix not positive definite after repeatedly adding jitter up to 1.0e-06.\n",
      "Error in dataset wine, split 2, kernel ScaleKernel(\n",
      "  (base_kernel): RQKernel(\n",
      "    (raw_lengthscale_constraint): Positive()\n",
      "    (raw_alpha_constraint): Positive()\n",
      "  )\n",
      "  (raw_outputscale_constraint): Positive()\n",
      "): Matrix not positive definite after repeatedly adding jitter up to 1.0e-06.\n",
      "Error in dataset wine, split 2, kernel ScaleKernel(\n",
      "  (base_kernel): PolynomialKernel(\n",
      "    (raw_offset_constraint): Positive()\n",
      "  )\n",
      "  (raw_outputscale_constraint): Positive()\n",
      "): Matrix not positive definite after repeatedly adding jitter up to 1.0e-06.\n",
      "concrete dataset, N=1030, d=8\n"
     ]
    },
    {
     "data": {
      "application/vnd.jupyter.widget-view+json": {
       "model_id": "9aa292f1e364417a9e7956059c3d6d6f",
       "version_major": 2,
       "version_minor": 0
      },
      "text/plain": [
       "Progress for concrete:   0%|          | 0/18 [00:00<?, ?iteration/s]"
      ]
     },
     "metadata": {},
     "output_type": "display_data"
    },
    {
     "data": {
      "application/vnd.jupyter.widget-view+json": {
       "model_id": "1d09eb91f9d3470db2293bec50949b29",
       "version_major": 2,
       "version_minor": 0
      },
      "text/plain": [
       "Running kernels for concrete, split 0:   0%|          | 0/6 [00:00<?, ?it/s]"
      ]
     },
     "metadata": {},
     "output_type": "display_data"
    },
    {
     "name": "stdout",
     "output_type": "stream",
     "text": [
      "Error in dataset concrete, split 0, kernel ScaleKernel(\n",
      "  (base_kernel): RBFKernel(\n",
      "    (raw_lengthscale_constraint): Positive()\n",
      "  )\n",
      "  (raw_outputscale_constraint): Positive()\n",
      "): Matrix not positive definite after repeatedly adding jitter up to 1.0e-06.\n",
      "Error in dataset concrete, split 0, kernel ScaleKernel(\n",
      "  (base_kernel): MaternKernel(\n",
      "    (raw_lengthscale_constraint): Positive()\n",
      "  )\n",
      "  (raw_outputscale_constraint): Positive()\n",
      "): Matrix not positive definite after repeatedly adding jitter up to 1.0e-06.\n",
      "Error in dataset concrete, split 0, kernel ScaleKernel(\n",
      "  (base_kernel): MaternKernel(\n",
      "    (raw_lengthscale_constraint): Positive()\n",
      "  )\n",
      "  (raw_outputscale_constraint): Positive()\n",
      "): Matrix not positive definite after repeatedly adding jitter up to 1.0e-06.\n",
      "Error in dataset concrete, split 0, kernel ScaleKernel(\n",
      "  (base_kernel): RQKernel(\n",
      "    (raw_lengthscale_constraint): Positive()\n",
      "    (raw_alpha_constraint): Positive()\n",
      "  )\n",
      "  (raw_outputscale_constraint): Positive()\n",
      "): Matrix not positive definite after repeatedly adding jitter up to 1.0e-06.\n",
      "Error in dataset concrete, split 0, kernel ScaleKernel(\n",
      "  (base_kernel): PolynomialKernel(\n",
      "    (raw_offset_constraint): Positive()\n",
      "  )\n",
      "  (raw_outputscale_constraint): Positive()\n",
      "): Matrix not positive definite after repeatedly adding jitter up to 1.0e-06.\n"
     ]
    },
    {
     "data": {
      "application/vnd.jupyter.widget-view+json": {
       "model_id": "a73e6736d770456fade6c619411632c8",
       "version_major": 2,
       "version_minor": 0
      },
      "text/plain": [
       "Running kernels for concrete, split 1:   0%|          | 0/6 [00:00<?, ?it/s]"
      ]
     },
     "metadata": {},
     "output_type": "display_data"
    },
    {
     "name": "stdout",
     "output_type": "stream",
     "text": [
      "Error in dataset concrete, split 1, kernel ScaleKernel(\n",
      "  (base_kernel): MaternKernel(\n",
      "    (raw_lengthscale_constraint): Positive()\n",
      "  )\n",
      "  (raw_outputscale_constraint): Positive()\n",
      "): Matrix not positive definite after repeatedly adding jitter up to 1.0e-06.\n",
      "Error in dataset concrete, split 1, kernel ScaleKernel(\n",
      "  (base_kernel): MaternKernel(\n",
      "    (raw_lengthscale_constraint): Positive()\n",
      "  )\n",
      "  (raw_outputscale_constraint): Positive()\n",
      "): Matrix not positive definite after repeatedly adding jitter up to 1.0e-06.\n",
      "Error in dataset concrete, split 1, kernel ScaleKernel(\n",
      "  (base_kernel): RQKernel(\n",
      "    (raw_lengthscale_constraint): Positive()\n",
      "    (raw_alpha_constraint): Positive()\n",
      "  )\n",
      "  (raw_outputscale_constraint): Positive()\n",
      "): Matrix not positive definite after repeatedly adding jitter up to 1.0e-06.\n",
      "Error in dataset concrete, split 1, kernel ScaleKernel(\n",
      "  (base_kernel): PolynomialKernel(\n",
      "    (raw_offset_constraint): Positive()\n",
      "  )\n",
      "  (raw_outputscale_constraint): Positive()\n",
      "): Matrix not positive definite after repeatedly adding jitter up to 1.0e-06.\n"
     ]
    },
    {
     "data": {
      "application/vnd.jupyter.widget-view+json": {
       "model_id": "9e5a4bd0731a4494b551a847bf5afcd1",
       "version_major": 2,
       "version_minor": 0
      },
      "text/plain": [
       "Running kernels for concrete, split 2:   0%|          | 0/6 [00:00<?, ?it/s]"
      ]
     },
     "metadata": {},
     "output_type": "display_data"
    },
    {
     "name": "stdout",
     "output_type": "stream",
     "text": [
      "Error in dataset concrete, split 2, kernel ScaleKernel(\n",
      "  (base_kernel): RBFKernel(\n",
      "    (raw_lengthscale_constraint): Positive()\n",
      "  )\n",
      "  (raw_outputscale_constraint): Positive()\n",
      "): Matrix not positive definite after repeatedly adding jitter up to 1.0e-06.\n",
      "Error in dataset concrete, split 2, kernel ScaleKernel(\n",
      "  (base_kernel): MaternKernel(\n",
      "    (raw_lengthscale_constraint): Positive()\n",
      "  )\n",
      "  (raw_outputscale_constraint): Positive()\n",
      "): Matrix not positive definite after repeatedly adding jitter up to 1.0e-06.\n",
      "Error in dataset concrete, split 2, kernel ScaleKernel(\n",
      "  (base_kernel): MaternKernel(\n",
      "    (raw_lengthscale_constraint): Positive()\n",
      "  )\n",
      "  (raw_outputscale_constraint): Positive()\n",
      "): Matrix not positive definite after repeatedly adding jitter up to 1.0e-06.\n",
      "Error in dataset concrete, split 2, kernel ScaleKernel(\n",
      "  (base_kernel): RQKernel(\n",
      "    (raw_lengthscale_constraint): Positive()\n",
      "    (raw_alpha_constraint): Positive()\n",
      "  )\n",
      "  (raw_outputscale_constraint): Positive()\n",
      "): Matrix not positive definite after repeatedly adding jitter up to 1.0e-06.\n",
      "Error in dataset concrete, split 2, kernel ScaleKernel(\n",
      "  (base_kernel): PolynomialKernel(\n",
      "    (raw_offset_constraint): Positive()\n",
      "  )\n",
      "  (raw_outputscale_constraint): Positive()\n",
      "): Matrix not positive definite after repeatedly adding jitter up to 1.0e-06.\n"
     ]
    }
   ],
   "source": [
    "from tqdm.notebook import tqdm  \n",
    "\n",
    "num_datasets = len(datasets)\n",
    "num_kernels = 6\n",
    "num_seeds = 3\n",
    "\n",
    "test_datasets = datasets[:num_datasets]\n",
    "all_results = dict()\n",
    "for name in test_datasets:\n",
    "    all_results.update({name: dict()})\n",
    "\n",
    "\n",
    "for dataset_name in test_datasets:\n",
    "    full_dataset = Dataset(dataset_name)\n",
    "\n",
    "    progress_bar = tqdm(total=num_kernels * num_seeds, desc=f\"Progress for {dataset_name}\", unit=\"iteration\")\n",
    "\n",
    "    X,y = full_dataset.x, full_dataset.y\n",
    "\n",
    "    if dataset_name==\"autos\":  \n",
    "        X = np.delete(X,[8],axis=1)\n",
    "\n",
    "    if dataset_name == \"sml\":\n",
    "        X = np.delete(X,[2, 20, 21, 22],axis=1)\n",
    "\n",
    "    # standardize\n",
    "    X = X / np.std(X, axis=0)[None, :]    \n",
    "    y = y / np.std(y, axis=0)\n",
    "    for split in range(num_seeds):\n",
    "        X_train, X_test, y_train, y_test = train_test_split(X,y,test_size=0.1,random_state=split+50,shuffle=True)\n",
    "\n",
    "        y_train = y_train.squeeze()\n",
    "        y_test = y_test.squeeze()\n",
    "\n",
    "        X_train,y_train,X_test,y_test= torch.from_numpy(X_train),torch.from_numpy(y_train),torch.from_numpy(X_test),torch.from_numpy(y_test)\n",
    "\n",
    "        kernels = get_kernels(X_train.shape[1])\n",
    "        kernel_bar = tqdm(total=num_kernels, desc=f\"Running kernels for {dataset_name}, split {split}\", leave=False)\n",
    "\n",
    "        for k,kernel in enumerate(kernels[:num_kernels]):\n",
    "            if kernel_names[k] not in all_results[dataset_name]:\n",
    "                all_results[dataset_name][kernel_names[k]] = {\n",
    "                    \"rmse\": [],\n",
    "                    \"nlpd\": [],\n",
    "                    \"mae\": [],\n",
    "                    \"mll\": []\n",
    "                }\n",
    "            try:\n",
    "                results,_ = run_gp(X_train,y_train,X_test,y_test,kernel)\n",
    "                # save the results\n",
    "                all_results[dataset_name][kernel_names[k]][\"rmse\"].extend(results[\"rmse\"])\n",
    "                all_results[dataset_name][kernel_names[k]][\"nlpd\"].extend(results[\"nlpd\"])\n",
    "                all_results[dataset_name][kernel_names[k]][\"mae\"].extend(results[\"mae\"])\n",
    "                all_results[dataset_name][kernel_names[k]][\"mll\"].extend(results[\"mll\"])\n",
    "            except Exception as e:\n",
    "                print(f\"Error in dataset {dataset_name}, split {split}, kernel {kernel}: {str(e)}\")\n",
    "            \n",
    "            progress_bar.update(1) \n",
    "            kernel_bar.update(1)\n",
    "            \n",
    "        # kernel_bar.close()\n",
    "        \n"
   ]
  },
  {
   "cell_type": "code",
   "execution_count": 266,
   "metadata": {},
   "outputs": [
    {
     "data": {
      "text/plain": [
       "{'autompg': {'RBF': {'rmse': [0.27893952760342544,\n",
       "    0.386024522404839,\n",
       "    0.34286234669615534],\n",
       "   'nlpd': [0.16388867700403614, 0.49967445146653466, 0.36629143358628885],\n",
       "   'mae': [0.2344874192217934, 0.2699779001192001, 0.240963447168902],\n",
       "   'mll': [0.1673445290618615, 0.506897835896849, 0.324053273016779]},\n",
       "  'Matern3/2': {'rmse': [0.2635195977645296,\n",
       "    0.37912991546159447,\n",
       "    0.3397192972908951],\n",
       "   'nlpd': [0.12756964726805436, 0.4805549587785606, 0.3515153795988611],\n",
       "   'mae': [0.22057871385734504, 0.260549768663385, 0.24173571704800195],\n",
       "   'mll': [0.12707020711310468, 0.4880006545422317, 0.30315962829473436]},\n",
       "  'Matern5/2': {'rmse': [0.27020318234248303,\n",
       "    0.3850417508230856,\n",
       "    0.34145650017356355],\n",
       "   'nlpd': [0.14517324793409675, 0.5001834932257757, 0.3602095178063179],\n",
       "   'mae': [0.22747706779035726, 0.26625237643365296, 0.2427747340750157],\n",
       "   'mll': [0.14618155099179125, 0.508288597404764, 0.3144763084914433]},\n",
       "  'RQ': {'rmse': [0.2728347826965921, 0.3847850037399066, 0.34342785126274294],\n",
       "   'nlpd': [0.15050472755553335, 0.4969722649538384, 0.36602225277557177],\n",
       "   'mae': [0.22931282768526975, 0.2670339377194948, 0.2435641052357978],\n",
       "   'mll': [0.15244128743751456, 0.5056724286067499, 0.3206345537251248]},\n",
       "  'Linear': {'rmse': [0.36995496712372655,\n",
       "    0.43765068105322336,\n",
       "    0.4792068160943997],\n",
       "   'nlpd': [0.44931664831779206, 0.5923404740573804, 0.6938256999394393],\n",
       "   'mae': [0.284361020003831, 0.3281212303576521, 0.37337158898118333],\n",
       "   'mll': [0.4468463030830726, 0.5914825004571849, 0.694151842295544]},\n",
       "  'Poly': {'rmse': [0.3226471260288142,\n",
       "    0.4023466003839652,\n",
       "    0.3526128106705251],\n",
       "   'nlpd': [0.30225706589941187, 0.5349064545674478, 0.3816438509241126],\n",
       "   'mae': [0.26376273307339976, 0.29272311544939045, 0.2502574411167574],\n",
       "   'mll': [0.301099690465631, 0.5354300826593484, 0.36891663072855463]}},\n",
       " 'concreteslump': {'RBF': {'rmse': [0.10722147254196658,\n",
       "    0.06597210131683483,\n",
       "    0.042114973714554846],\n",
       "   'nlpd': [-1.5238206235990297, -1.246271147122204, -1.9361101576408783],\n",
       "   'mae': [0.05766008983733744, 0.04427540023269828, 0.030922601061946987],\n",
       "   'mll': [-1.5286963546455814, -1.4867056579539761, -1.9094055575456033]},\n",
       "  'Matern3/2': {'rmse': [0.05244862560696049,\n",
       "    0.047114058226667845,\n",
       "    0.04816443687496527],\n",
       "   'nlpd': [-1.6272237149846063, -1.7778011080545069, -1.5370329038920543],\n",
       "   'mae': [0.03214957616236235, 0.0303854824204159, 0.034639757381686946],\n",
       "   'mll': [-1.6011383642956825, -1.7097882380438592, -1.523758341564723]},\n",
       "  'Matern5/2': {'rmse': [0.05207834295497173,\n",
       "    0.04584942641474729,\n",
       "    0.04078947875560177],\n",
       "   'nlpd': [-2.046416139862824, -2.0338346032454067, -2.0762605988746157],\n",
       "   'mae': [0.03546950961549177, 0.03384890850258812, 0.028397887898585907],\n",
       "   'mll': [-1.941359162852777, -1.9455730520538659, -2.0607041286199244]},\n",
       "  'RQ': {'rmse': [0.10590027087177765,\n",
       "    0.06990641033454296,\n",
       "    0.04719244280188946],\n",
       "   'nlpd': [-1.5532431877534016, -1.204117754650467, -1.9061319548502418],\n",
       "   'mae': [0.05742473642192966, 0.043130996700560635, 0.033140804015844696],\n",
       "   'mll': [-1.5532510155921424, -1.4776013029418953, -1.8992952787389825]},\n",
       "  'Linear': {'rmse': [0.11290475206225135,\n",
       "    0.12647829168113095,\n",
       "    0.12460536764398189],\n",
       "   'nlpd': [-0.7906587480495766, -0.6622107318394544, -0.6361990558329615],\n",
       "   'mae': [0.09399103807337433, 0.10930769935649187, 0.09662875631544923],\n",
       "   'mll': [-0.7632415333532259, -0.6473982776874775, -0.6579363883830157]},\n",
       "  'Poly': {'rmse': [0.07427844148328162,\n",
       "    0.05552504085332518,\n",
       "    0.06952085259369777],\n",
       "   'nlpd': [-1.4344388009858255, -1.4381655859635118, -1.2561564214677965],\n",
       "   'mae': [0.053418344854545774, 0.039364650066712206, 0.05707008243170709],\n",
       "   'mll': [-1.3550410089559397, -1.4722877752208208, -1.284621420589325]}},\n",
       " 'energy': {'RBF': {'rmse': [0.03872881664019569,\n",
       "    0.04271753299966877,\n",
       "    0.04977838578117908],\n",
       "   'nlpd': [-1.8509647341545286, -1.7232453528579446, -1.581532015132364],\n",
       "   'mae': [0.027372441898320915, 0.0333413687681552, 0.03037679371838331],\n",
       "   'mll': [-1.8398551176178595, -1.7253627135595506, -1.6177484378893345]},\n",
       "  'Matern3/2': {'rmse': [0.03807338084323242,\n",
       "    0.029983535241200423,\n",
       "    0.04056750555786567],\n",
       "   'nlpd': [-2.110722698147744, -2.1146612928885493, -1.9667402363054194],\n",
       "   'mae': [0.024406154964214676, 0.021926243454974147, 0.020638472776775205],\n",
       "   'mll': [-2.0327283249161883, -2.078036876571167, -1.9330762081425608]},\n",
       "  'Matern5/2': {'rmse': [0.03646126087266329,\n",
       "    0.0361451436293661,\n",
       "    0.042369470336049694],\n",
       "   'nlpd': [-2.005300519174905, -1.9023511988639947, -1.7896653791821573],\n",
       "   'mae': [0.025361186261457305, 0.02703513235922443, 0.02270182134867206],\n",
       "   'mll': [-1.9635339593305605, -1.870697576112234, -1.8044175730743413]},\n",
       "  'RQ': {'rmse': [0.03818654402267124,\n",
       "    0.03916121554819028,\n",
       "    0.04915623202018802],\n",
       "   'nlpd': [-1.8644083251280565, -1.8071423755688742, -1.6101840299960457],\n",
       "   'mae': [0.02722559971850432, 0.02895360731104287, 0.029293831993152084],\n",
       "   'mll': [-1.8549986350389007, -1.7833614352716236, -1.6452751797746568]},\n",
       "  'Linear': {'rmse': [0.26457084114848944,\n",
       "    0.32751585344079776,\n",
       "    0.2848775944861453],\n",
       "   'nlpd': [0.09746496586520517, 0.32467221866035695, 0.15958036024161915],\n",
       "   'mae': [0.1899481222613567, 0.24529349863423694, 0.19350425562763127],\n",
       "   'mll': [0.10038116345160088, 0.3210785478775447, 0.16403095617348337]},\n",
       "  'Poly': {'rmse': [0.10831460501141238,\n",
       "    0.09734004979271835,\n",
       "    0.10746001170056699],\n",
       "   'nlpd': [-0.7988684777493702, -0.9174368617472147, -0.8081872931753186],\n",
       "   'mae': [0.0872535566199802, 0.07498110901481193, 0.08261559941618413],\n",
       "   'mll': [-0.7983600662890081, -0.909139837614129, -0.8048920099012881]}},\n",
       " 'forest': {'RBF': {'rmse': [1.1358540733558695,\n",
       "    0.8543819483922255,\n",
       "    1.152356501097357],\n",
       "   'nlpd': [1.5850794515758482, 1.2746887991266502, 1.5693704067269159],\n",
       "   'mae': [0.9483041941812274, 0.7632023064493191, 0.8884651913289295],\n",
       "   'mll': [1.585079451553309, 1.274688749986589, 1.580364222791849]},\n",
       "  'Matern3/2': {'rmse': [1.1526527248551655,\n",
       "    0.8532312823106141,\n",
       "    1.180685407419005],\n",
       "   'nlpd': [1.6278802833076396, 1.2735102017363578, 1.630674111424994],\n",
       "   'mae': [0.9485101273413711, 0.761272204990378, 0.9100471608066785],\n",
       "   'mll': [1.627879583289694, 1.2734885743766104, 1.6420780233280345]},\n",
       "  'Matern5/2': {'rmse': [1.153848842877092,\n",
       "    0.8541407596407841,\n",
       "    1.1805759112626335],\n",
       "   'nlpd': [1.631403574663777, 1.2745069852278164, 1.6306602031096067],\n",
       "   'mae': [0.9491296940119176, 0.7627117193127065, 0.9119461593529578],\n",
       "   'mll': [1.6314035123716588, 1.274505160231685, 1.6427194424890923]},\n",
       "  'RQ': {'rmse': [1.140600835086374, 0.8882842274337495, 1.1605087719704472],\n",
       "   'nlpd': [1.5958363383025582, 1.3111522132898525, 1.5798341722997156],\n",
       "   'mae': [0.9491954668574853, 0.7642169730162528, 0.8872344745898999],\n",
       "   'mll': [1.5956593473522842, 1.310313764854572, 1.5959794058678392]},\n",
       "  'Linear': {'rmse': [1.1206181256291485,\n",
       "    0.8625630777960639,\n",
       "    1.1631014498361032],\n",
       "   'nlpd': [1.5515554000312028, 1.2936509326521117, 1.608630043219935],\n",
       "   'mae': [0.9439730896140166, 0.7709620545825229, 0.9150248914280262],\n",
       "   'mll': [1.5512950738834907, 1.2941381895370465, 1.6059679893518675]},\n",
       "  'Poly': {'rmse': [1.123497786856488, 0.8642249137471547, 1.152326885213002],\n",
       "   'nlpd': [1.554901258912936, 1.2954428290435573, 1.5905107740720732],\n",
       "   'mae': [0.9438974006940664, 0.7719225750633126, 0.8944697796290242],\n",
       "   'mll': [1.5553289506751313, 1.2958723017412448, 1.5909667835123733]}},\n",
       " 'solar': {'RBF': {'rmse': [], 'nlpd': [], 'mae': [], 'mll': []},\n",
       "  'Matern3/2': {'rmse': [], 'nlpd': [], 'mae': [], 'mll': []},\n",
       "  'Matern5/2': {'rmse': [], 'nlpd': [], 'mae': [], 'mll': []},\n",
       "  'RQ': {'rmse': [], 'nlpd': [], 'mae': [], 'mll': []},\n",
       "  'Linear': {'rmse': [], 'nlpd': [], 'mae': [], 'mll': []},\n",
       "  'Poly': {'rmse': [], 'nlpd': [], 'mae': [], 'mll': []}},\n",
       " 'stock': {'RBF': {'rmse': [0.3386049326507431,\n",
       "    0.26766210070438595,\n",
       "    0.31444842882261514],\n",
       "   'nlpd': [0.2627032735647861, 0.11032665068582022, 0.26428882868195885],\n",
       "   'mae': [0.25170376694053265, 0.20829678169920457, 0.2408423268786429],\n",
       "   'mll': [0.262993288533166, 0.10423234166520613, 0.2678384194746419]},\n",
       "  'Matern3/2': {'rmse': [0.3708660917259978,\n",
       "    0.277156899783704,\n",
       "    0.31296497690597674],\n",
       "   'nlpd': [0.28435722308726913, 0.11344530383003215, 0.2729874372486673],\n",
       "   'mae': [0.25291254213516, 0.22202398803938386, 0.2411776609614479],\n",
       "   'mll': [0.27559978690708026, 0.11855047707568354, 0.27145055671764645]},\n",
       "  'Matern5/2': {'rmse': [0.3535791321080996,\n",
       "    0.2705376903679,\n",
       "    0.31140523786402124],\n",
       "   'nlpd': [0.2710000740556616, 0.1030861517081534, 0.2625705821095786],\n",
       "   'mae': [0.25122593101590024, 0.21434948991577862, 0.23919854918654163],\n",
       "   'mll': [0.2648812492259219, 0.10521245069225474, 0.26273990625026916]},\n",
       "  'RQ': {'rmse': [0.3276224451118313, 0.2670955617178754, 0.3130988879855825],\n",
       "   'nlpd': [0.25660068834428845, 0.10765817899321194, 0.2601553802103823],\n",
       "   'mae': [0.24812120778737284, 0.20795527069447212, 0.24068457338544091],\n",
       "   'mll': [0.25537493330644984, 0.10230098422947338, 0.26382260700862636]},\n",
       "  'Linear': {'rmse': [0.3153446155260923,\n",
       "    0.26285595019792873,\n",
       "    0.3213782509576589],\n",
       "   'nlpd': [0.26706567528564595, 0.10933241063110655, 0.2758390505871086],\n",
       "   'mae': [0.24281407680331685, 0.21197111464388396, 0.24721062621118006],\n",
       "   'mll': [0.2628491520758167, 0.10872122644236172, 0.2835765367861122]},\n",
       "  'Poly': {'rmse': [0.30629634938904055,\n",
       "    0.27033733406562943,\n",
       "    0.29242903799140557],\n",
       "   'nlpd': [0.2396346998949231, 0.13071333244991307, 0.207445803192418],\n",
       "   'mae': [0.23715691901809, 0.2133744465680603, 0.22393923992528328],\n",
       "   'mll': [0.23899162252469613, 0.1166367165680238, 0.20145169675479938]}},\n",
       " 'yacht': {'RBF': {'rmse': [0.07309396027405114,\n",
       "    0.18976593544591078,\n",
       "    0.07974828210121288],\n",
       "   'nlpd': [-0.8993973336399926, 10.28985187279491, -1.5983076361348574],\n",
       "   'mae': [0.038460240916245926, 0.06934063663115418, 0.030863891456727535],\n",
       "   'mll': [-0.8423652183319967, 7.4653687510098825, -1.5632444863667236]},\n",
       "  'Matern3/2': {'rmse': [0.07004125260338077,\n",
       "    0.1992760924891972,\n",
       "    0.06722506571772173],\n",
       "   'nlpd': [-1.0209588941667234, 5.028307191464819, -1.667706023648174],\n",
       "   'mae': [0.031891943755046746, 0.0710249145338889, 0.02651632873442212],\n",
       "   'mll': [-1.039464965655195, 4.598083939028721, -1.6246146674832356]},\n",
       "  'Matern5/2': {'rmse': [0.06946578092880766,\n",
       "    0.18623649004689866,\n",
       "    0.07496435466364265],\n",
       "   'nlpd': [-0.43857207306781065, 7.507965549365202, -1.5239002093967147],\n",
       "   'mae': [0.033524088527517364, 0.06530575692574933, 0.029311997174683843],\n",
       "   'mll': [-0.4364856660727555, 6.607238531441349, -1.4764920026791493]},\n",
       "  'RQ': {'rmse': [0.07492149019961962,\n",
       "    0.1860464328442647,\n",
       "    0.08867614991867516],\n",
       "   'nlpd': [-0.3471224911297991, 9.243758496539568, -1.2266508580917383],\n",
       "   'mae': [0.03902692272994534, 0.06586014449636289, 0.03553999003750858],\n",
       "   'mll': [-0.20335534845767275, 7.387442001499091, -1.1787157740587784]},\n",
       "  'Linear': {'rmse': [0.12013395085370744,\n",
       "    0.34101219513456976,\n",
       "    0.19491667069366056],\n",
       "   'nlpd': [-0.5831763317986172, 1.8654219202099624, -0.19122107244354497],\n",
       "   'mae': [0.0995888019607432, 0.16241900297822862, 0.10821475119979469],\n",
       "   'mll': [-0.5804029410194532, 1.862772625826279, -0.19826247476042813]},\n",
       "  'Poly': {'rmse': [0.11002011279131325,\n",
       "    0.3271401710877353,\n",
       "    0.18359621018473565],\n",
       "   'nlpd': [-0.6632689236658643, 1.9271638118447125, -0.2645664655688886],\n",
       "   'mae': [0.09131699564848762, 0.16150399006979027, 0.11430135645594995],\n",
       "   'mll': [-0.6551486603113204, 1.9005240744548755, -0.2733266820382352]}},\n",
       " 'airfoil': {'RBF': {'rmse': [], 'nlpd': [], 'mae': [], 'mll': []},\n",
       "  'Matern3/2': {'rmse': [], 'nlpd': [], 'mae': [], 'mll': []},\n",
       "  'Matern5/2': {'rmse': [], 'nlpd': [], 'mae': [], 'mll': []},\n",
       "  'RQ': {'rmse': [], 'nlpd': [], 'mae': [], 'mll': []},\n",
       "  'Linear': {'rmse': [0.6779568548580153,\n",
       "    0.6218105310824023,\n",
       "    0.621188429868547],\n",
       "   'nlpd': [1.0321911652591331, 0.9590909337260144, 0.9547609754484881],\n",
       "   'mae': [0.5481964892946836, 0.49019924054818964, 0.5021736217844743],\n",
       "   'mll': [1.0314265310261401, 0.9588862897722747, 0.957295811695773]},\n",
       "  'Poly': {'rmse': [0.5908233339276538],\n",
       "   'nlpd': [0.8952036944523798],\n",
       "   'mae': [0.47109624941981704],\n",
       "   'mll': [0.8934730618610593]}},\n",
       " 'autos': {'RBF': {'rmse': [0.24385669427695963,\n",
       "    0.3590443778161499,\n",
       "    0.2632514940573606],\n",
       "   'nlpd': [0.005445285455525362, 0.2878821929690619, 0.05761973698948797],\n",
       "   'mae': [0.20226425769134698, 0.2834881039622252, 0.2370849958033067],\n",
       "   'mll': [0.011272788929291802, 0.2881234820001432, 0.05918099036410511]},\n",
       "  'Matern3/2': {'rmse': [0.20863915997729587,\n",
       "    0.33730389677845246,\n",
       "    0.2983822614544524],\n",
       "   'nlpd': [-0.04181928255420264, 0.21376167571507998, 0.09482506330777818],\n",
       "   'mae': [0.17801426400380596, 0.26924287571775446, 0.23918586245946524],\n",
       "   'mll': [-0.0361108469897012, 0.2268981812546009, 0.12245093787660773]},\n",
       "  'Matern5/2': {'rmse': [0.21845587237587966,\n",
       "    0.3525817504043379,\n",
       "    0.3089291630318695],\n",
       "   'nlpd': [-0.039903722813960596, 0.2512434517670361, 0.10719280650600493],\n",
       "   'mae': [0.18216276590155944, 0.2796722576333831, 0.2486665173035023],\n",
       "   'mll': [-0.029300020946785132, 0.2660456609193779, 0.1236614660845948]},\n",
       "  'RQ': {'rmse': [0.18215070739864223, 0.3048957665474461, 0.2849056196127505],\n",
       "   'nlpd': [-0.06083034338560345, 0.06566818420219644, 0.08054272774407079],\n",
       "   'mae': [0.14392677314157012, 0.20404349933455712, 0.22252321053707033],\n",
       "   'mll': [-0.0675532877105823, 0.09273543969961812, 0.11844968656632095]},\n",
       "  'Linear': {'rmse': [0.2838129605811337,\n",
       "    0.3455913985996305,\n",
       "    0.3037368665531135],\n",
       "   'nlpd': [0.17743942069340568, 0.3099813066420364, 0.23951171852374586],\n",
       "   'mae': [0.21162420056817058, 0.24643013129632732, 0.24282388799495802],\n",
       "   'mll': [0.1721972237071574, 0.27847226478209, 0.23884993771163654]},\n",
       "  'Poly': {'rmse': [0.23893997163868133,\n",
       "    0.25571666110505753,\n",
       "    0.29875814864634337],\n",
       "   'nlpd': [0.03816472899747991, 0.10104595485381929, 0.23888313012200402],\n",
       "   'mae': [0.1948663283957488, 0.2202487886510877, 0.2537801915396795],\n",
       "   'mll': [0.03565530958967042, 0.10511405886651662, 0.23392667702606265]}},\n",
       " 'breastcancer': {'RBF': {'rmse': [0.8948898657079289,\n",
       "    0.9816725430808854,\n",
       "    0.9191428555951412],\n",
       "   'nlpd': [1.3798167255157439, 1.4184918877060597, 1.340694443595782],\n",
       "   'mae': [0.796200730998107, 0.8175123593535172, 0.8575016682797812],\n",
       "   'mll': [1.4091353331690282, 1.4627467298345738, 1.352535314602102]},\n",
       "  'Matern3/2': {'rmse': [0.8777491652823831,\n",
       "    0.9024148219745627,\n",
       "    0.9299474938119099],\n",
       "   'nlpd': [1.3367259320518, 1.3024662873495143, 1.4195103854732571],\n",
       "   'mae': [0.7697307215795197, 0.7617106776769711, 0.8641334056089276],\n",
       "   'mll': [1.358135456097792, 1.3183962485841105, 1.4480083530127643]},\n",
       "  'Matern5/2': {'rmse': [0.8879586197024346,\n",
       "    0.9484822310426723,\n",
       "    0.9402986049044547],\n",
       "   'nlpd': [1.3742304242047378, 1.35989380275184, 1.3621787236608225],\n",
       "   'mae': [0.7838632805661606, 0.7827128473359919, 0.8659492408144001],\n",
       "   'mll': [1.4034334325463937, 1.394152121920623, 1.3856370275833982]},\n",
       "  'RQ': {'rmse': [0.7911988305204465, 0.902411341573186, 0.9349310424754567],\n",
       "   'nlpd': [1.2214202192202153, 1.2951935920690614, 1.374914860602755],\n",
       "   'mae': [0.6777575152928694, 0.7263274088950757, 0.8365193550442853],\n",
       "   'mll': [1.2022836396304646, 1.2977259213809358, 1.3954358246268712]},\n",
       "  'Linear': {'rmse': [0.8585225503376612,\n",
       "    0.9387648230086825,\n",
       "    1.0584316880519842],\n",
       "   'nlpd': [1.2666282797946735, 1.3451875233250874, 1.5545525356265788],\n",
       "   'mae': [0.6794189202748347, 0.7552699137716503, 0.9619434533961041],\n",
       "   'mll': [1.2740550129973598, 1.3604012230546505, 1.5509253264053804]},\n",
       "  'Poly': {'rmse': [0.9214340754500361, 0.9311213659493183, 1.110727394682047],\n",
       "   'nlpd': [1.3557716984281893, 1.3254794620782733, 1.6388892082392963],\n",
       "   'mae': [0.7174856971245289, 0.7694788933478981, 1.0097224643569647],\n",
       "   'mll': [1.3573224794460526, 1.3312631014592344, 1.631309536666259]}},\n",
       " 'concrete': {'RBF': {'rmse': [0.2877122500598325, 0.28535513831360154],\n",
       "   'nlpd': [-0.112154883533565, 0.010981996772775473],\n",
       "   'mae': [0.1695044228651355, 0.17145707056726403],\n",
       "   'mll': [-0.04434086065483624, -0.037815527542424655]},\n",
       "  'Matern3/2': {'rmse': [], 'nlpd': [], 'mae': [], 'mll': []},\n",
       "  'Matern5/2': {'rmse': [], 'nlpd': [], 'mae': [], 'mll': []},\n",
       "  'RQ': {'rmse': [], 'nlpd': [], 'mae': [], 'mll': []},\n",
       "  'Linear': {'rmse': [0.5409837889343455,\n",
       "    0.620963116089731,\n",
       "    0.648022524834731,\n",
       "    0.540924401042373,\n",
       "    0.6209576384321106,\n",
       "    0.6479676540035393],\n",
       "   'nlpd': [0.8295674758532209,\n",
       "    0.9374374847109884,\n",
       "    0.9863122984829791,\n",
       "    0.8286868564767228,\n",
       "    0.9374557344343517,\n",
       "    0.9858529484861894],\n",
       "   'mae': [0.4370660135382695,\n",
       "    0.5021639623823465,\n",
       "    0.53244143286035,\n",
       "    0.436985912043417,\n",
       "    0.5022438115877595,\n",
       "    0.5324651206471133],\n",
       "   'mll': [0.8279368674390098,\n",
       "    0.9405360355005543,\n",
       "    0.9856673459672214,\n",
       "    0.8270359617494233,\n",
       "    0.9405528741312273,\n",
       "    0.9852081346981599]},\n",
       "  'Poly': {'rmse': [], 'nlpd': [], 'mae': [], 'mll': []}},\n",
       " 'housing': {'RBF': {'rmse': [0.28831758863094825,\n",
       "    0.3054496875044342,\n",
       "    0.38313307863961954],\n",
       "   'nlpd': [0.21631672112343786, 0.16883929471567008, 0.6505009124255313],\n",
       "   'mae': [0.2262565704744855, 0.21476841704282662, 0.22018383335800595],\n",
       "   'mll': [0.23792349615317288, 0.20542027440325716, 0.6493307392150517]},\n",
       "  'Matern3/2': {'rmse': [0.2647061917795881,\n",
       "    0.2830708525292233,\n",
       "    0.38561467131116955],\n",
       "   'nlpd': [0.10979667209929303, 0.131450819629196, 0.5591876538415366],\n",
       "   'mae': [0.21362524933407137, 0.20452010378307345, 0.21502426916560038],\n",
       "   'mll': [0.10687647304720033, 0.18172852889319854, 0.5720239296623076]},\n",
       "  'Matern5/2': {'rmse': [0.2720195921986186,\n",
       "    0.2880596765127164,\n",
       "    0.38383573328678594],\n",
       "   'nlpd': [0.139205711196578, 0.12631598496584037, 0.5912725865452816],\n",
       "   'mae': [0.21668954307432822, 0.2032360324787449, 0.2157206877035711],\n",
       "   'mll': [0.1507802554869845, 0.17761765548923186, 0.5993334990237661]},\n",
       "  'RQ': {'rmse': [0.2655384611883282,\n",
       "    0.28483250406244903,\n",
       "    0.38441422658644553],\n",
       "   'nlpd': [0.10428553950991155, 0.11975794019294377, 0.6110630109290534],\n",
       "   'mae': [0.2124436041161676, 0.20328978972184633, 0.21657753865813517],\n",
       "   'mll': [0.10604464506215135, 0.16916123697157137, 0.6171923495574685]},\n",
       "  'Linear': {'rmse': [0.4310867412480596,\n",
       "    0.4867413582823877,\n",
       "    0.5621214680407828],\n",
       "   'nlpd': [0.607903495312436, 0.6931630006223861, 0.8590470616007465],\n",
       "   'mae': [0.36489342644706635, 0.3737804496072475, 0.3740614337721613],\n",
       "   'mll': [0.6165832940591238, 0.70189931161543, 0.8507455545318752]},\n",
       "  'Poly': {'rmse': [0.2881222275618808,\n",
       "    0.3060047697403461,\n",
       "    0.48456795830678495],\n",
       "   'nlpd': [0.21129159832237088, 0.23979744926819285, 0.9343524821011707],\n",
       "   'mae': [0.22803196131031514, 0.23298783669031034, 0.2938456845863652],\n",
       "   'mll': [0.20756229668486637, 0.23464966336072574, 0.9239313946115192]}},\n",
       " 'machine': {'RBF': {'rmse': [0.36284107118188114,\n",
       "    0.33177679261639464,\n",
       "    0.4479333338748717],\n",
       "   'nlpd': [0.42262947583637195, 0.34437528436413123, 0.5887148740399646],\n",
       "   'mae': [0.2943892831832476, 0.3044107220346122, 0.3657745645651998],\n",
       "   'mll': [0.42143086980173483, 0.33788735510046175, 0.6060593788689361]},\n",
       "  'Matern3/2': {'rmse': [0.32602617486259516,\n",
       "    0.29631540998855627,\n",
       "    0.40682574134275973],\n",
       "   'nlpd': [0.3333081804866129, 0.29358072911526323, 0.5178214104306761],\n",
       "   'mae': [0.2576674752010574, 0.25285775676119926, 0.31811211693704294],\n",
       "   'mll': [0.34054701984696983, 0.2914188866173671, 0.5260531064777132]},\n",
       "  'Matern5/2': {'rmse': [0.34231911323685765,\n",
       "    0.3136363835134829,\n",
       "    0.39552849279627605],\n",
       "   'nlpd': [0.3747440023035561, 0.30239438326912244, 0.5200038645982397],\n",
       "   'mae': [0.2793196803327198, 0.2899954493721869, 0.3184878769832974],\n",
       "   'mll': [0.37254232921268704, 0.30099232943177756, 0.5300403362402423]},\n",
       "  'RQ': {'rmse': [0.3464810018970607, 0.3071720763977188, 0.38411298546844824],\n",
       "   'nlpd': [0.38725718473968407, 0.2880419796280598, 0.5183435375665794],\n",
       "   'mae': [0.2818980902579193, 0.2853174318621266, 0.3020723286295477],\n",
       "   'mll': [0.38468989327874437, 0.2861285519940822, 0.5262539959532683]},\n",
       "  'Linear': {'rmse': [0.4414963808152124,\n",
       "    0.41697390720010413,\n",
       "    0.46646099275668457],\n",
       "   'nlpd': [0.598012707886667, 0.5591838886592465, 0.6249572466058547],\n",
       "   'mae': [0.34484973649412476, 0.3130433115466612, 0.353758222176278],\n",
       "   'mll': [0.6048644103070251, 0.5599187268682293, 0.6431459317398668]},\n",
       "  'Poly': {'rmse': [0.36126391520902784,\n",
       "    0.3461954843512532,\n",
       "    0.5382252813791699],\n",
       "   'nlpd': [0.4247059379487389, 0.4366391646180511, 0.6965331025113306],\n",
       "   'mae': [0.2709204466296396, 0.30020129286675, 0.3975493888830344],\n",
       "   'mll': [0.4238454278912313, 0.4298109948535109, 0.6889471705006643]}},\n",
       " 'pendulum': {'RBF': {'rmse': [0.36678314662541717,\n",
       "    0.15995264798986641,\n",
       "    0.3205179464105353],\n",
       "   'nlpd': [-0.7530128048425893, -1.740378544883974, -0.5692781142099398],\n",
       "   'mae': [0.18527562768877104, 0.0782901624468852, 0.2008184614351284],\n",
       "   'mll': [-0.686331672314056, -1.6543787365415636, -0.5681583631785895]},\n",
       "  'Matern3/2': {'rmse': [0.42461052208293276,\n",
       "    0.20946397535049605,\n",
       "    0.3228324950811058],\n",
       "   'nlpd': [-0.2481166364794957, -1.0797876324648366, -0.4405864375651985],\n",
       "   'mae': [0.20678941634067868, 0.09553561604102113, 0.17039958601853458],\n",
       "   'mll': [-0.20447103734423133, -1.0532541316327104, -0.42255732077482766]},\n",
       "  'Matern5/2': {'rmse': [0.3844265291051043,\n",
       "    0.18957340330837008,\n",
       "    0.2842513883392905],\n",
       "   'nlpd': [-0.5385009193515452, -1.519680502320093, -0.7903588633489435],\n",
       "   'mae': [0.18992601957021868, 0.07484172485313262, 0.16177542538316914],\n",
       "   'mll': [-0.4751150444600367, -1.4814583330081619, -0.7730174452220818]},\n",
       "  'RQ': {'rmse': [0.3680312344908028,\n",
       "    0.16024550120941533,\n",
       "    0.30081565489084494],\n",
       "   'nlpd': [-0.7341468125162894, -1.7509451225581552, -0.6733159392373216],\n",
       "   'mae': [0.18139214642875703, 0.07372021032983629, 0.1879994971542195],\n",
       "   'mll': [-0.6666116981813301, -1.680146589549149, -0.6654924673729948]},\n",
       "  'Linear': {'rmse': [0.9674711098853097,\n",
       "    0.5479050820899594,\n",
       "    1.116365152670429],\n",
       "   'nlpd': [1.3937720926198789, 0.9999217143690138, 1.622932050150174],\n",
       "   'mae': [0.6391666574122727, 0.4147585836629507, 0.6783865581523],\n",
       "   'mll': [1.396990620547821, 0.999769173782338, 1.614972802688664]},\n",
       "  'Poly': {'rmse': [0.8275228039993978,\n",
       "    0.42328901777454153,\n",
       "    1.0160879317879132],\n",
       "   'nlpd': [1.2154584153389003, 0.7794957703226167, 1.5466735093561623],\n",
       "   'mae': [0.5284459359451482, 0.341366294353283, 0.6351238888031457],\n",
       "   'mll': [1.2350518830750061, 0.7832264384153806, 1.5087529463261276]}},\n",
       " 'servo': {'RBF': {'rmse': [0.24495628687813506,\n",
       "    0.3677069114236301,\n",
       "    0.19594164677891296],\n",
       "   'nlpd': [0.043418167216994666, 0.41693105917790885, -0.033635366742289965],\n",
       "   'mae': [0.18863820098905962, 0.2061551608460753, 0.15848116404332216],\n",
       "   'mll': [0.05507361806662271, 0.4168674812110969, -0.06407794163427924]},\n",
       "  'Matern3/2': {'rmse': [0.20705281196237413,\n",
       "    0.3706598947509511,\n",
       "    0.2356097135757255],\n",
       "   'nlpd': [-0.039815429119379596, 0.4288619463072944, 0.005553418569641559],\n",
       "   'mae': [0.1549830966780999, 0.20700740511012622, 0.16963106080845392],\n",
       "   'mll': [-0.015334021660952506, 0.4272146428897392, -0.010048775301917974]},\n",
       "  'Matern5/2': {'rmse': [0.2192560539284824,\n",
       "    0.37436579763001454,\n",
       "    0.21153378692210026],\n",
       "   'nlpd': [-0.014403040945246496, 0.44835442127401043, -0.019926233003441474],\n",
       "   'mae': [0.16799276042633954, 0.2070984202245894, 0.16219825721519154],\n",
       "   'mll': [0.0044963648280833875, 0.44730000644483203, -0.04819507148945975]},\n",
       "  'RQ': {'rmse': [0.2290595821206515, 0.372940274555957, 0.30162214484033045],\n",
       "   'nlpd': [0.006850067462155518, 0.44214287593248863, 0.09604493108197927],\n",
       "   'mae': [0.1762027380900709, 0.20755575941444415, 0.19928549251110672],\n",
       "   'mll': [0.022900569455877106, 0.44144211674757455, 0.1406070088017564]},\n",
       "  'Linear': {'rmse': [0.5863306435742485,\n",
       "    0.5368428201975814,\n",
       "    0.4896243810361906],\n",
       "   'nlpd': [0.8991164123150167, 0.8275707754349718, 0.778110737836279],\n",
       "   'mae': [0.4891431019786928, 0.42769390749591807, 0.4163150249089103],\n",
       "   'mll': [0.8935832624795452, 0.828302598153635, 0.7759352383323268]},\n",
       "  'Poly': {'rmse': [0.36558845429096704,\n",
       "    0.4399753788957094,\n",
       "    0.19850561224378807],\n",
       "   'nlpd': [0.4187716701931856, 0.5754632836503323, 0.1607569585878086],\n",
       "   'mae': [0.28686785779407353, 0.3163730210742354, 0.13954034839279097],\n",
       "   'mll': [0.4239708643493813, 0.5812176909148056, 0.1623067962792344]}},\n",
       " 'wine': {'RBF': {'rmse': [], 'nlpd': [], 'mae': [], 'mll': []},\n",
       "  'Matern3/2': {'rmse': [], 'nlpd': [], 'mae': [], 'mll': []},\n",
       "  'Matern5/2': {'rmse': [], 'nlpd': [], 'mae': [], 'mll': []},\n",
       "  'RQ': {'rmse': [], 'nlpd': [], 'mae': [], 'mll': []},\n",
       "  'Linear': {'rmse': [0.5900750615857383,\n",
       "    0.5523018655045361,\n",
       "    0.5373718440345756],\n",
       "   'nlpd': [0.8957985658392877, 0.8247860606259831, 0.8003479643174444],\n",
       "   'mae': [0.4415172302416434, 0.4317569828936487, 0.41734537205543],\n",
       "   'mll': [0.8934761245358838, 0.8249052540769451, 0.7995131182194306]},\n",
       "  'Poly': {'rmse': [], 'nlpd': [], 'mae': [], 'mll': []}}}"
      ]
     },
     "execution_count": 266,
     "metadata": {},
     "output_type": "execute_result"
    }
   ],
   "source": [
    "all_results"
   ]
  },
  {
   "cell_type": "code",
   "execution_count": 267,
   "metadata": {},
   "outputs": [],
   "source": [
    "import pickle"
   ]
  },
  {
   "cell_type": "code",
   "execution_count": 268,
   "metadata": {},
   "outputs": [],
   "source": [
    "with open('all_results.pickle', 'wb') as handle:\n",
    "    pickle.dump(all_results, handle, protocol=pickle.HIGHEST_PROTOCOL)"
   ]
  },
  {
   "cell_type": "code",
   "execution_count": 274,
   "metadata": {},
   "outputs": [
    {
     "data": {
      "text/plain": [
       "array([0.32264713, 0.4023466 , 0.35261281])"
      ]
     },
     "execution_count": 274,
     "metadata": {},
     "output_type": "execute_result"
    }
   ],
   "source": [
    "aqui"
   ]
  },
  {
   "cell_type": "code",
   "execution_count": 292,
   "metadata": {},
   "outputs": [
    {
     "data": {
      "text/plain": [
       "{'RBF': {'rmse': [0.2877122500598325, 0.28535513831360154],\n",
       "  'nlpd': [-0.112154883533565, 0.010981996772775473],\n",
       "  'mae': [0.1695044228651355, 0.17145707056726403],\n",
       "  'mll': [-0.04434086065483624, -0.037815527542424655]},\n",
       " 'Matern3/2': {'rmse': [], 'nlpd': [], 'mae': [], 'mll': []},\n",
       " 'Matern5/2': {'rmse': [], 'nlpd': [], 'mae': [], 'mll': []},\n",
       " 'RQ': {'rmse': [], 'nlpd': [], 'mae': [], 'mll': []},\n",
       " 'Linear': {'rmse': [0.5409837889343455,\n",
       "   0.620963116089731,\n",
       "   0.648022524834731,\n",
       "   0.540924401042373,\n",
       "   0.6209576384321106,\n",
       "   0.6479676540035393],\n",
       "  'nlpd': [0.8295674758532209,\n",
       "   0.9374374847109884,\n",
       "   0.9863122984829791,\n",
       "   0.8286868564767228,\n",
       "   0.9374557344343517,\n",
       "   0.9858529484861894],\n",
       "  'mae': [0.4370660135382695,\n",
       "   0.5021639623823465,\n",
       "   0.53244143286035,\n",
       "   0.436985912043417,\n",
       "   0.5022438115877595,\n",
       "   0.5324651206471133],\n",
       "  'mll': [0.8279368674390098,\n",
       "   0.9405360355005543,\n",
       "   0.9856673459672214,\n",
       "   0.8270359617494233,\n",
       "   0.9405528741312273,\n",
       "   0.9852081346981599]},\n",
       " 'Poly': {'rmse': [], 'nlpd': [], 'mae': [], 'mll': []}}"
      ]
     },
     "execution_count": 292,
     "metadata": {},
     "output_type": "execute_result"
    }
   ],
   "source": [
    "all_results[\"concrete\"]"
   ]
  },
  {
   "cell_type": "code",
   "execution_count": 294,
   "metadata": {},
   "outputs": [
    {
     "data": {
      "text/plain": [
       "array([], dtype=bool)"
      ]
     },
     "execution_count": 294,
     "metadata": {},
     "output_type": "execute_result"
    }
   ],
   "source": [
    "np.isnan(aqui)"
   ]
  },
  {
   "cell_type": "code",
   "execution_count": 293,
   "metadata": {},
   "outputs": [
    {
     "data": {
      "text/plain": [
       "0"
      ]
     },
     "execution_count": 293,
     "metadata": {},
     "output_type": "execute_result"
    }
   ],
   "source": [
    "np.sum(1-np.isnan(aqui))"
   ]
  },
  {
   "cell_type": "code",
   "execution_count": 296,
   "metadata": {},
   "outputs": [
    {
     "name": "stderr",
     "output_type": "stream",
     "text": [
      "/var/folders/b6/z4591_kn5dz7xy81wtgqr67c0000gp/T/ipykernel_6694/4098823993.py:6: RuntimeWarning: Mean of empty slice\n",
      "  plt.scatter(i,np.nanmean(aqui))\n",
      "/var/folders/b6/z4591_kn5dz7xy81wtgqr67c0000gp/T/ipykernel_6694/4098823993.py:7: RuntimeWarning: Mean of empty slice\n",
      "  plt.errorbar(i,np.nanmean(aqui),np.nanstd(aqui)/np.sqrt(np.sum(1-np.isnan(aqui))))\n",
      "/Library/Frameworks/Python.framework/Versions/3.10/lib/python3.10/site-packages/numpy/lib/nanfunctions.py:1872: RuntimeWarning: Degrees of freedom <= 0 for slice.\n",
      "  var = nanvar(a, axis=axis, dtype=dtype, out=out, ddof=ddof,\n",
      "/Library/Frameworks/Python.framework/Versions/3.10/lib/python3.10/site-packages/matplotlib/axes/_axes.py:1185: RuntimeWarning: All-NaN axis encountered\n",
      "  miny = np.nanmin(masked_verts[..., 1])\n",
      "/Library/Frameworks/Python.framework/Versions/3.10/lib/python3.10/site-packages/matplotlib/axes/_axes.py:1186: RuntimeWarning: All-NaN axis encountered\n",
      "  maxy = np.nanmax(masked_verts[..., 1])\n"
     ]
    },
    {
     "data": {
      "image/png": "[encoded data removed]",
      "text/plain": [
       "<Figure size 640x480 with 1 Axes>"
      ]
     },
     "metadata": {},
     "output_type": "display_data"
    },
    {
     "data": {
      "image/png": "[encoded data removed]",
      "text/plain": [
       "<Figure size 640x480 with 1 Axes>"
      ]
     },
     "metadata": {},
     "output_type": "display_data"
    },
    {
     "data": {
      "image/png": "[encoded data removed]",
      "text/plain": [
       "<Figure size 640x480 with 1 Axes>"
      ]
     },
     "metadata": {},
     "output_type": "display_data"
    },
    {
     "data": {
      "image/png": "[encoded data removed]",
      "text/plain": [
       "<Figure size 640x480 with 1 Axes>"
      ]
     },
     "metadata": {},
     "output_type": "display_data"
    },
    {
     "data": {
      "image/png": "[encoded data removed]",
      "text/plain": [
       "<Figure size 640x480 with 1 Axes>"
      ]
     },
     "metadata": {},
     "output_type": "display_data"
    },
    {
     "data": {
      "image/png": "[encoded data removed]",
      "text/plain": [
       "<Figure size 640x480 with 1 Axes>"
      ]
     },
     "metadata": {},
     "output_type": "display_data"
    },
    {
     "data": {
      "image/png": "[encoded data removed]",
      "text/plain": [
       "<Figure size 640x480 with 1 Axes>"
      ]
     },
     "metadata": {},
     "output_type": "display_data"
    },
    {
     "data": {
      "image/png": "[encoded data removed]",
      "text/plain": [
       "<Figure size 640x480 with 1 Axes>"
      ]
     },
     "metadata": {},
     "output_type": "display_data"
    },
    {
     "data": {
      "image/png": "[encoded data removed]",
      "text/plain": [
       "<Figure size 640x480 with 1 Axes>"
      ]
     },
     "metadata": {},
     "output_type": "display_data"
    },
    {
     "data": {
      "image/png": "[encoded data removed]",
      "text/plain": [
       "<Figure size 640x480 with 1 Axes>"
      ]
     },
     "metadata": {},
     "output_type": "display_data"
    },
    {
     "data": {
      "image/png": "[encoded data removed]",
      "text/plain": [
       "<Figure size 640x480 with 1 Axes>"
      ]
     },
     "metadata": {},
     "output_type": "display_data"
    },
    {
     "data": {
      "image/png": "[encoded data removed]",
      "text/plain": [
       "<Figure size 640x480 with 1 Axes>"
      ]
     },
     "metadata": {},
     "output_type": "display_data"
    },
    {
     "data": {
      "image/png": "[encoded data removed]",
      "text/plain": [
       "<Figure size 640x480 with 1 Axes>"
      ]
     },
     "metadata": {},
     "output_type": "display_data"
    },
    {
     "data": {
      "image/png": "[encoded data removed]",
      "text/plain": [
       "<Figure size 640x480 with 1 Axes>"
      ]
     },
     "metadata": {},
     "output_type": "display_data"
    },
    {
     "data": {
      "image/png": "[encoded data removed]",
      "text/plain": [
       "<Figure size 640x480 with 1 Axes>"
      ]
     },
     "metadata": {},
     "output_type": "display_data"
    },
    {
     "data": {
      "image/png": "[encoded data removed]",
      "text/plain": [
       "<Figure size 640x480 with 1 Axes>"
      ]
     },
     "metadata": {},
     "output_type": "display_data"
    },
    {
     "data": {
      "image/png": "[encoded data removed]",
      "text/plain": [
       "<Figure size 640x480 with 1 Axes>"
      ]
     },
     "metadata": {},
     "output_type": "display_data"
    }
   ],
   "source": [
    "error_measure = \"rmse\"\n",
    "for dataset_name in test_datasets:\n",
    "    plt.figure()\n",
    "    for i, kernel_name in enumerate(kernel_names[:num_kernels]):\n",
    "        aqui = np.array(all_results[dataset_name][kernel_name][error_measure])\n",
    "        plt.scatter(i,np.nanmean(aqui))\n",
    "        plt.errorbar(i,np.nanmean(aqui),np.nanstd(aqui)/np.sqrt(np.sum(1-np.isnan(aqui))))\n",
    "    plt.xticks(range(num_kernels),kernel_names[:num_kernels])  \n",
    "    # plt.ylim((0,1)) \n",
    "    plt.ylabel(error_measure) \n",
    "    plt.title(dataset_name)\n",
    "\n",
    "# error_measure = \"mae\"\n",
    "# for dataset_name in test_datasets[:1]:\n",
    "#     plt.figure()\n",
    "#     for i, kernel_name in enumerate(kernel_names[:num_kernels]):\n",
    "#         aqui = np.array(all_results[dataset_name][kernel_name][error_measure])\n",
    "#         plt.scatter(i,aqui.mean())\n",
    "#         plt.errorbar(i,aqui.mean(),aqui.std()/np.sqrt(3))\n",
    "#     plt.xticks(range(num_kernels),kernel_names[:num_kernels])   \n",
    "#     plt.ylabel(error_measure)   \n",
    "#     plt.title(dataset_name) \n",
    "\n",
    "\n",
    "# error_measure = \"nlpd\"\n",
    "# for dataset_name in test_datasets[:1]:\n",
    "#     plt.figure()\n",
    "#     for i, kernel_name in enumerate(kernel_names[:num_kernels]):\n",
    "#         aqui = np.array(all_results[dataset_name][kernel_name][error_measure])\n",
    "#         plt.scatter(i,aqui.mean())\n",
    "#         plt.errorbar(i,aqui.mean(),aqui.std()/np.sqrt(3))\n",
    "#     plt.xticks(range(num_kernels),kernel_names[:num_kernels])   \n",
    "#     plt.ylabel(error_measure)    \n",
    "#     plt.title(dataset_name)  "
   ]
  },
  {
   "cell_type": "code",
   "execution_count": null,
   "metadata": {},
   "outputs": [],
   "source": []
  }
 ],
 "metadata": {
  "kernelspec": {
   "display_name": "Python 3",
   "language": "python",
   "name": "python3"
  },
  "language_info": {
   "codemirror_mode": {
    "name": "ipython",
    "version": 3
   },
   "file_extension": ".py",
   "mimetype": "text/x-python",
   "name": "python",
   "nbconvert_exporter": "python",
   "pygments_lexer": "ipython3",
   "version": "3.10.10"
  }
 },
 "nbformat": 4,
 "nbformat_minor": 2
}
