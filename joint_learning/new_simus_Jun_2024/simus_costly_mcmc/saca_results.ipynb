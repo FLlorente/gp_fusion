{
 "cells": [
  {
   "cell_type": "code",
   "execution_count": 2,
   "metadata": {},
   "outputs": [
    {
     "name": "stdout",
     "output_type": "stream",
     "text": [
      "['lpd_pogpe_mcmc_train', 'lpd_pogpe_mcmc_test', 'mse_pogpe_mcmc_train', 'mse_pogpe_mcmc_test', 'lpd_mogpe_mcmc_train', 'lpd_mogpe_mcmc_test', 'mse_mogpe_mcmc_train', 'mse_mogpe_mcmc_test']\n"
     ]
    }
   ],
   "source": [
    "import numpy\n",
    "b = numpy.load(\"results_yacht_M_2_S_50_i_0.npz\")\n",
    "print(b.files)\n"
   ]
  },
  {
   "cell_type": "code",
   "execution_count": 4,
   "metadata": {},
   "outputs": [
    {
     "name": "stdout",
     "output_type": "stream",
     "text": [
      "0.9786695202012777 0.06786466594819651\n",
      "0.9123808083989197 0.1418139440969423\n"
     ]
    }
   ],
   "source": [
    "print(b[\"lpd_pogpe_mcmc_test\"], b[\"mse_pogpe_mcmc_test\"])\n",
    "print(b[\"lpd_mogpe_mcmc_test\"], b[\"mse_mogpe_mcmc_test\"])"
   ]
  },
  {
   "cell_type": "code",
   "execution_count": null,
   "metadata": {},
   "outputs": [],
   "source": []
  }
 ],
 "metadata": {
  "kernelspec": {
   "display_name": "Python 3",
   "language": "python",
   "name": "python3"
  },
  "language_info": {
   "codemirror_mode": {
    "name": "ipython",
    "version": 3
   },
   "file_extension": ".py",
   "mimetype": "text/x-python",
   "name": "python",
   "nbconvert_exporter": "python",
   "pygments_lexer": "ipython3",
   "version": "3.10.10"
  }
 },
 "nbformat": 4,
 "nbformat_minor": 2
}
